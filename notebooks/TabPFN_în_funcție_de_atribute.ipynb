{
  "nbformat": 4,
  "nbformat_minor": 0,
  "metadata": {
    "colab": {
      "provenance": [],
      "collapsed_sections": [
        "dTOp2wFdhi8j",
        "7Np2mk8si6QP",
        "hfgpb7M0B8Uu",
        "EwT9_YXTGDKa",
        "QAeiJ4fNEttC",
        "QhUiTJHVORwp",
        "OYs-glDDSYg_",
        "U5n9bc4xVQoq",
        "iic73Gy8XMs7",
        "nD1Oao-qY0FH"
      ]
    },
    "kernelspec": {
      "name": "python3",
      "display_name": "Python 3"
    },
    "language_info": {
      "name": "python"
    },
    "accelerator": "GPU",
    "gpuClass": "standard"
  },
  "cells": [
    {
      "cell_type": "markdown",
      "source": [
        "**DESPRE**: Se aplică TabPFN pentru toate vocalele, luând în considerare seturi de atribute diferite: doar MFDFA, doar Surfboard și ambele împreună (MFDFA+Surfboard)."
      ],
      "metadata": {
        "id": "733IbNybHSJ2"
      }
    },
    {
      "cell_type": "markdown",
      "metadata": {
        "id": "dTOp2wFdhi8j"
      },
      "source": [
        "# **Installs**"
      ]
    },
    {
      "cell_type": "code",
      "source": [
        "pip install pingouin"
      ],
      "metadata": {
        "colab": {
          "base_uri": "https://localhost:8080/"
        },
        "id": "5aHg-mdp5_TB",
        "outputId": "71af8660-4753-4661-90f5-e7d060d7bb71"
      },
      "execution_count": 1,
      "outputs": [
        {
          "output_type": "stream",
          "name": "stdout",
          "text": [
            "Looking in indexes: https://pypi.org/simple, https://us-python.pkg.dev/colab-wheels/public/simple/\n",
            "Collecting pingouin\n",
            "  Downloading pingouin-0.5.3-py3-none-any.whl (198 kB)\n",
            "\u001b[2K     \u001b[90m━━━━━━━━━━━━━━━━━━━━━━━━━━━━━━━━━━━━━━\u001b[0m \u001b[32m198.6/198.6 kB\u001b[0m \u001b[31m12.7 MB/s\u001b[0m eta \u001b[36m0:00:00\u001b[0m\n",
            "\u001b[?25hRequirement already satisfied: numpy>=1.19 in /usr/local/lib/python3.10/dist-packages (from pingouin) (1.22.4)\n",
            "Requirement already satisfied: scipy>=1.7 in /usr/local/lib/python3.10/dist-packages (from pingouin) (1.10.1)\n",
            "Requirement already satisfied: pandas>=1.0 in /usr/local/lib/python3.10/dist-packages (from pingouin) (1.5.3)\n",
            "Requirement already satisfied: matplotlib>=3.0.2 in /usr/local/lib/python3.10/dist-packages (from pingouin) (3.7.1)\n",
            "Requirement already satisfied: seaborn>=0.11 in /usr/local/lib/python3.10/dist-packages (from pingouin) (0.12.2)\n",
            "Requirement already satisfied: statsmodels>=0.13 in /usr/local/lib/python3.10/dist-packages (from pingouin) (0.13.5)\n",
            "Requirement already satisfied: scikit-learn in /usr/local/lib/python3.10/dist-packages (from pingouin) (1.2.2)\n",
            "Collecting pandas-flavor>=0.2.0 (from pingouin)\n",
            "  Downloading pandas_flavor-0.5.0-py3-none-any.whl (7.1 kB)\n",
            "Collecting outdated (from pingouin)\n",
            "  Downloading outdated-0.2.2-py2.py3-none-any.whl (7.5 kB)\n",
            "Requirement already satisfied: tabulate in /usr/local/lib/python3.10/dist-packages (from pingouin) (0.8.10)\n",
            "Requirement already satisfied: contourpy>=1.0.1 in /usr/local/lib/python3.10/dist-packages (from matplotlib>=3.0.2->pingouin) (1.1.0)\n",
            "Requirement already satisfied: cycler>=0.10 in /usr/local/lib/python3.10/dist-packages (from matplotlib>=3.0.2->pingouin) (0.11.0)\n",
            "Requirement already satisfied: fonttools>=4.22.0 in /usr/local/lib/python3.10/dist-packages (from matplotlib>=3.0.2->pingouin) (4.40.0)\n",
            "Requirement already satisfied: kiwisolver>=1.0.1 in /usr/local/lib/python3.10/dist-packages (from matplotlib>=3.0.2->pingouin) (1.4.4)\n",
            "Requirement already satisfied: packaging>=20.0 in /usr/local/lib/python3.10/dist-packages (from matplotlib>=3.0.2->pingouin) (23.1)\n",
            "Requirement already satisfied: pillow>=6.2.0 in /usr/local/lib/python3.10/dist-packages (from matplotlib>=3.0.2->pingouin) (8.4.0)\n",
            "Requirement already satisfied: pyparsing>=2.3.1 in /usr/local/lib/python3.10/dist-packages (from matplotlib>=3.0.2->pingouin) (3.1.0)\n",
            "Requirement already satisfied: python-dateutil>=2.7 in /usr/local/lib/python3.10/dist-packages (from matplotlib>=3.0.2->pingouin) (2.8.2)\n",
            "Requirement already satisfied: pytz>=2020.1 in /usr/local/lib/python3.10/dist-packages (from pandas>=1.0->pingouin) (2022.7.1)\n",
            "Requirement already satisfied: xarray in /usr/local/lib/python3.10/dist-packages (from pandas-flavor>=0.2.0->pingouin) (2022.12.0)\n",
            "Requirement already satisfied: lazy-loader>=0.1 in /usr/local/lib/python3.10/dist-packages (from pandas-flavor>=0.2.0->pingouin) (0.2)\n",
            "Requirement already satisfied: patsy>=0.5.2 in /usr/local/lib/python3.10/dist-packages (from statsmodels>=0.13->pingouin) (0.5.3)\n",
            "Requirement already satisfied: setuptools>=44 in /usr/local/lib/python3.10/dist-packages (from outdated->pingouin) (67.7.2)\n",
            "Collecting littleutils (from outdated->pingouin)\n",
            "  Downloading littleutils-0.2.2.tar.gz (6.6 kB)\n",
            "  Preparing metadata (setup.py) ... \u001b[?25l\u001b[?25hdone\n",
            "Requirement already satisfied: requests in /usr/local/lib/python3.10/dist-packages (from outdated->pingouin) (2.27.1)\n",
            "Requirement already satisfied: joblib>=1.1.1 in /usr/local/lib/python3.10/dist-packages (from scikit-learn->pingouin) (1.2.0)\n",
            "Requirement already satisfied: threadpoolctl>=2.0.0 in /usr/local/lib/python3.10/dist-packages (from scikit-learn->pingouin) (3.1.0)\n",
            "Requirement already satisfied: six in /usr/local/lib/python3.10/dist-packages (from patsy>=0.5.2->statsmodels>=0.13->pingouin) (1.16.0)\n",
            "Requirement already satisfied: urllib3<1.27,>=1.21.1 in /usr/local/lib/python3.10/dist-packages (from requests->outdated->pingouin) (1.26.16)\n",
            "Requirement already satisfied: certifi>=2017.4.17 in /usr/local/lib/python3.10/dist-packages (from requests->outdated->pingouin) (2023.5.7)\n",
            "Requirement already satisfied: charset-normalizer~=2.0.0 in /usr/local/lib/python3.10/dist-packages (from requests->outdated->pingouin) (2.0.12)\n",
            "Requirement already satisfied: idna<4,>=2.5 in /usr/local/lib/python3.10/dist-packages (from requests->outdated->pingouin) (3.4)\n",
            "Building wheels for collected packages: littleutils\n",
            "  Building wheel for littleutils (setup.py) ... \u001b[?25l\u001b[?25hdone\n",
            "  Created wheel for littleutils: filename=littleutils-0.2.2-py3-none-any.whl size=7029 sha256=48ac17199cce656b724e59b6b9e0a36d70f2d2939385b175276ce383795b6448\n",
            "  Stored in directory: /root/.cache/pip/wheels/3d/fe/b0/27a9892da57472e538c7452a721a9cf463cc03cf7379889266\n",
            "Successfully built littleutils\n",
            "Installing collected packages: littleutils, outdated, pandas-flavor, pingouin\n",
            "Successfully installed littleutils-0.2.2 outdated-0.2.2 pandas-flavor-0.5.0 pingouin-0.5.3\n"
          ]
        }
      ]
    },
    {
      "cell_type": "markdown",
      "source": [
        "----Installs for FSM used for Relief feature selection.---------"
      ],
      "metadata": {
        "id": "3NVR_83yMfDG"
      }
    },
    {
      "cell_type": "code",
      "source": [
        "pip install skrebate"
      ],
      "metadata": {
        "id": "CSax5acZ7-Ju",
        "colab": {
          "base_uri": "https://localhost:8080/"
        },
        "outputId": "321134ad-1f69-40b3-c199-10124da3cf05"
      },
      "execution_count": 2,
      "outputs": [
        {
          "output_type": "stream",
          "name": "stdout",
          "text": [
            "Looking in indexes: https://pypi.org/simple, https://us-python.pkg.dev/colab-wheels/public/simple/\n",
            "Collecting skrebate\n",
            "  Downloading skrebate-0.62.tar.gz (19 kB)\n",
            "  Preparing metadata (setup.py) ... \u001b[?25l\u001b[?25hdone\n",
            "Requirement already satisfied: numpy in /usr/local/lib/python3.10/dist-packages (from skrebate) (1.22.4)\n",
            "Requirement already satisfied: scipy in /usr/local/lib/python3.10/dist-packages (from skrebate) (1.10.1)\n",
            "Requirement already satisfied: scikit-learn in /usr/local/lib/python3.10/dist-packages (from skrebate) (1.2.2)\n",
            "Requirement already satisfied: joblib>=1.1.1 in /usr/local/lib/python3.10/dist-packages (from scikit-learn->skrebate) (1.2.0)\n",
            "Requirement already satisfied: threadpoolctl>=2.0.0 in /usr/local/lib/python3.10/dist-packages (from scikit-learn->skrebate) (3.1.0)\n",
            "Building wheels for collected packages: skrebate\n",
            "  Building wheel for skrebate (setup.py) ... \u001b[?25l\u001b[?25hdone\n",
            "  Created wheel for skrebate: filename=skrebate-0.62-py3-none-any.whl size=29253 sha256=17ec8424a110f5dc5170cb8d016559321b00afc30a7d23c8c89c217ddb8e66c1\n",
            "  Stored in directory: /root/.cache/pip/wheels/dd/67/40/683074a684607162bd0e34dcf7ccdfcab5861c3b2a83286f3a\n",
            "Successfully built skrebate\n",
            "Installing collected packages: skrebate\n",
            "Successfully installed skrebate-0.62\n"
          ]
        }
      ]
    },
    {
      "cell_type": "code",
      "source": [
        "pip install mrmr_selection"
      ],
      "metadata": {
        "id": "nmdZEQCitY-R",
        "colab": {
          "base_uri": "https://localhost:8080/"
        },
        "outputId": "22c4a464-3015-4401-e62a-53d31f76145c"
      },
      "execution_count": 3,
      "outputs": [
        {
          "output_type": "stream",
          "name": "stdout",
          "text": [
            "Looking in indexes: https://pypi.org/simple, https://us-python.pkg.dev/colab-wheels/public/simple/\n",
            "Collecting mrmr_selection\n",
            "  Downloading mrmr_selection-0.2.7-py3-none-any.whl (15 kB)\n",
            "Collecting category-encoders (from mrmr_selection)\n",
            "  Downloading category_encoders-2.6.1-py2.py3-none-any.whl (81 kB)\n",
            "\u001b[2K     \u001b[90m━━━━━━━━━━━━━━━━━━━━━━━━━━━━━━━━━━━━━━━━\u001b[0m \u001b[32m81.9/81.9 kB\u001b[0m \u001b[31m8.9 MB/s\u001b[0m eta \u001b[36m0:00:00\u001b[0m\n",
            "\u001b[?25hRequirement already satisfied: jinja2 in /usr/local/lib/python3.10/dist-packages (from mrmr_selection) (3.1.2)\n",
            "Requirement already satisfied: tqdm in /usr/local/lib/python3.10/dist-packages (from mrmr_selection) (4.65.0)\n",
            "Requirement already satisfied: joblib in /usr/local/lib/python3.10/dist-packages (from mrmr_selection) (1.2.0)\n",
            "Requirement already satisfied: pandas>=1.0.3 in /usr/local/lib/python3.10/dist-packages (from mrmr_selection) (1.5.3)\n",
            "Requirement already satisfied: numpy>=1.18.1 in /usr/local/lib/python3.10/dist-packages (from mrmr_selection) (1.22.4)\n",
            "Requirement already satisfied: scikit-learn in /usr/local/lib/python3.10/dist-packages (from mrmr_selection) (1.2.2)\n",
            "Requirement already satisfied: scipy in /usr/local/lib/python3.10/dist-packages (from mrmr_selection) (1.10.1)\n",
            "Requirement already satisfied: python-dateutil>=2.8.1 in /usr/local/lib/python3.10/dist-packages (from pandas>=1.0.3->mrmr_selection) (2.8.2)\n",
            "Requirement already satisfied: pytz>=2020.1 in /usr/local/lib/python3.10/dist-packages (from pandas>=1.0.3->mrmr_selection) (2022.7.1)\n",
            "Requirement already satisfied: statsmodels>=0.9.0 in /usr/local/lib/python3.10/dist-packages (from category-encoders->mrmr_selection) (0.13.5)\n",
            "Requirement already satisfied: patsy>=0.5.1 in /usr/local/lib/python3.10/dist-packages (from category-encoders->mrmr_selection) (0.5.3)\n",
            "Requirement already satisfied: threadpoolctl>=2.0.0 in /usr/local/lib/python3.10/dist-packages (from scikit-learn->mrmr_selection) (3.1.0)\n",
            "Requirement already satisfied: MarkupSafe>=2.0 in /usr/local/lib/python3.10/dist-packages (from jinja2->mrmr_selection) (2.1.3)\n",
            "Requirement already satisfied: six in /usr/local/lib/python3.10/dist-packages (from patsy>=0.5.1->category-encoders->mrmr_selection) (1.16.0)\n",
            "Requirement already satisfied: packaging>=21.3 in /usr/local/lib/python3.10/dist-packages (from statsmodels>=0.9.0->category-encoders->mrmr_selection) (23.1)\n",
            "Installing collected packages: category-encoders, mrmr_selection\n",
            "Successfully installed category-encoders-2.6.1 mrmr_selection-0.2.7\n"
          ]
        }
      ]
    },
    {
      "cell_type": "code",
      "source": [
        "pip install bottleneck"
      ],
      "metadata": {
        "id": "wgDPHoXi74uT",
        "colab": {
          "base_uri": "https://localhost:8080/"
        },
        "outputId": "5108ff09-ec3d-442c-abc7-09cfcdd3fb44"
      },
      "execution_count": 4,
      "outputs": [
        {
          "output_type": "stream",
          "name": "stdout",
          "text": [
            "Looking in indexes: https://pypi.org/simple, https://us-python.pkg.dev/colab-wheels/public/simple/\n",
            "Collecting bottleneck\n",
            "  Downloading Bottleneck-1.3.7-cp310-cp310-manylinux_2_5_x86_64.manylinux1_x86_64.manylinux_2_17_x86_64.manylinux2014_x86_64.whl (354 kB)\n",
            "\u001b[2K     \u001b[90m━━━━━━━━━━━━━━━━━━━━━━━━━━━━━━━━━━━━━━\u001b[0m \u001b[32m354.0/354.0 kB\u001b[0m \u001b[31m29.6 MB/s\u001b[0m eta \u001b[36m0:00:00\u001b[0m\n",
            "\u001b[?25hRequirement already satisfied: numpy in /usr/local/lib/python3.10/dist-packages (from bottleneck) (1.22.4)\n",
            "Installing collected packages: bottleneck\n",
            "Successfully installed bottleneck-1.3.7\n"
          ]
        }
      ]
    },
    {
      "cell_type": "code",
      "source": [
        "pip install sklearn\n"
      ],
      "metadata": {
        "id": "lcsQDbx-7IfJ",
        "colab": {
          "base_uri": "https://localhost:8080/"
        },
        "outputId": "769af556-21b1-4d3e-950c-12ef5a84aa4c"
      },
      "execution_count": 5,
      "outputs": [
        {
          "output_type": "stream",
          "name": "stdout",
          "text": [
            "Looking in indexes: https://pypi.org/simple, https://us-python.pkg.dev/colab-wheels/public/simple/\n",
            "Collecting sklearn\n",
            "  Downloading sklearn-0.0.post5.tar.gz (3.7 kB)\n",
            "  Preparing metadata (setup.py) ... \u001b[?25l\u001b[?25hdone\n",
            "Building wheels for collected packages: sklearn\n",
            "  Building wheel for sklearn (setup.py) ... \u001b[?25l\u001b[?25hdone\n",
            "  Created wheel for sklearn: filename=sklearn-0.0.post5-py3-none-any.whl size=2950 sha256=4d5829ffb67465538334df1eb97959dc5fe67c7e79984e7677ac2ab4ad501194\n",
            "  Stored in directory: /root/.cache/pip/wheels/38/1f/8d/4f812c590e074c1e928f5cec67bf5053b71f38e2648739403a\n",
            "Successfully built sklearn\n",
            "Installing collected packages: sklearn\n",
            "Successfully installed sklearn-0.0.post5\n"
          ]
        }
      ]
    },
    {
      "cell_type": "code",
      "source": [
        "pip install mifs"
      ],
      "metadata": {
        "id": "ZeoM07kCuxpo",
        "colab": {
          "base_uri": "https://localhost:8080/"
        },
        "outputId": "9657adce-f195-4128-a965-a0de232ffe28"
      },
      "execution_count": 6,
      "outputs": [
        {
          "output_type": "stream",
          "name": "stdout",
          "text": [
            "Looking in indexes: https://pypi.org/simple, https://us-python.pkg.dev/colab-wheels/public/simple/\n",
            "\u001b[31mERROR: Could not find a version that satisfies the requirement mifs (from versions: none)\u001b[0m\u001b[31m\n",
            "\u001b[0m\u001b[31mERROR: No matching distribution found for mifs\u001b[0m\u001b[31m\n",
            "\u001b[0m"
          ]
        }
      ]
    },
    {
      "cell_type": "code",
      "source": [],
      "metadata": {
        "id": "CcsPVm0hMuMM"
      },
      "execution_count": 6,
      "outputs": []
    },
    {
      "cell_type": "markdown",
      "source": [
        "^^^^----------------------Installs for FSM used for Relief feature selection.----------------------^^^^"
      ],
      "metadata": {
        "id": "smBN_WtoMpi9"
      }
    },
    {
      "cell_type": "markdown",
      "metadata": {
        "id": "fmleCF8Vbv0x"
      },
      "source": [
        "Installing surfboard...more info: https://surfboard.readthedocs.io/en/latest/installation.html"
      ]
    },
    {
      "cell_type": "code",
      "execution_count": 7,
      "metadata": {
        "id": "xdoFeR78bpLy",
        "colab": {
          "base_uri": "https://localhost:8080/"
        },
        "outputId": "e396ccad-730a-400d-e2f1-34dd9fbafd81"
      },
      "outputs": [
        {
          "output_type": "stream",
          "name": "stdout",
          "text": [
            "Looking in indexes: https://pypi.org/simple, https://us-python.pkg.dev/colab-wheels/public/simple/\n",
            "Collecting surfboard\n",
            "  Downloading surfboard-0.2.0.tar.gz (30 kB)\n",
            "  Preparing metadata (setup.py) ... \u001b[?25l\u001b[?25hdone\n",
            "Requirement already satisfied: librosa>=0.7.2 in /usr/local/lib/python3.10/dist-packages (from surfboard) (0.10.0.post2)\n",
            "Collecting numba==0.48.0 (from surfboard)\n",
            "  Downloading numba-0.48.0.tar.gz (2.0 MB)\n",
            "\u001b[2K     \u001b[90m━━━━━━━━━━━━━━━━━━━━━━━━━━━━━━━━━━━━━━━━\u001b[0m \u001b[32m2.0/2.0 MB\u001b[0m \u001b[31m46.4 MB/s\u001b[0m eta \u001b[36m0:00:00\u001b[0m\n",
            "\u001b[?25h  Preparing metadata (setup.py) ... \u001b[?25l\u001b[?25hdone\n",
            "Collecting pysptk>=0.1.18 (from surfboard)\n",
            "  Downloading pysptk-0.2.0.tar.gz (276 kB)\n",
            "\u001b[2K     \u001b[90m━━━━━━━━━━━━━━━━━━━━━━━━━━━━━━━━━━━━━━\u001b[0m \u001b[32m276.8/276.8 kB\u001b[0m \u001b[31m34.0 MB/s\u001b[0m eta \u001b[36m0:00:00\u001b[0m\n",
            "\u001b[?25h  Installing build dependencies ... \u001b[?25l\u001b[?25hdone\n",
            "  Getting requirements to build wheel ... \u001b[?25l\u001b[?25hdone\n",
            "  Preparing metadata (pyproject.toml) ... \u001b[?25l\u001b[?25hdone\n",
            "Collecting PeakUtils>=1.3.3 (from surfboard)\n",
            "  Downloading PeakUtils-1.3.4-py3-none-any.whl (7.7 kB)\n",
            "Collecting pyloudnorm==0.1.0 (from surfboard)\n",
            "  Downloading pyloudnorm-0.1.0-py3-none-any.whl (9.3 kB)\n",
            "Requirement already satisfied: pandas>=1.0.1 in /usr/local/lib/python3.10/dist-packages (from surfboard) (1.5.3)\n",
            "Requirement already satisfied: tqdm>=4.42.1 in /usr/local/lib/python3.10/dist-packages (from surfboard) (4.65.0)\n",
            "Requirement already satisfied: pyyaml>=5.3 in /usr/local/lib/python3.10/dist-packages (from surfboard) (6.0)\n",
            "Requirement already satisfied: Cython>=0.29.15 in /usr/local/lib/python3.10/dist-packages (from surfboard) (0.29.35)\n",
            "Requirement already satisfied: pytest>=5.4.1 in /usr/local/lib/python3.10/dist-packages (from surfboard) (7.2.2)\n",
            "Requirement already satisfied: SoundFile>=0.10.3.post1 in /usr/local/lib/python3.10/dist-packages (from surfboard) (0.12.1)\n",
            "Collecting llvmlite<0.32.0,>=0.31.0dev0 (from numba==0.48.0->surfboard)\n",
            "  Downloading llvmlite-0.31.0.tar.gz (110 kB)\n",
            "\u001b[2K     \u001b[90m━━━━━━━━━━━━━━━━━━━━━━━━━━━━━━━━━━━━━━\u001b[0m \u001b[32m110.8/110.8 kB\u001b[0m \u001b[31m17.0 MB/s\u001b[0m eta \u001b[36m0:00:00\u001b[0m\n",
            "\u001b[?25h  Preparing metadata (setup.py) ... \u001b[?25l\u001b[?25hdone\n",
            "Requirement already satisfied: numpy>=1.15 in /usr/local/lib/python3.10/dist-packages (from numba==0.48.0->surfboard) (1.22.4)\n",
            "Requirement already satisfied: setuptools in /usr/local/lib/python3.10/dist-packages (from numba==0.48.0->surfboard) (67.7.2)\n",
            "Requirement already satisfied: scipy>=1.0.1 in /usr/local/lib/python3.10/dist-packages (from pyloudnorm==0.1.0->surfboard) (1.10.1)\n",
            "Requirement already satisfied: future>=0.16.0 in /usr/local/lib/python3.10/dist-packages (from pyloudnorm==0.1.0->surfboard) (0.18.3)\n",
            "Requirement already satisfied: audioread>=2.1.9 in /usr/local/lib/python3.10/dist-packages (from librosa>=0.7.2->surfboard) (3.0.0)\n",
            "Requirement already satisfied: scikit-learn>=0.20.0 in /usr/local/lib/python3.10/dist-packages (from librosa>=0.7.2->surfboard) (1.2.2)\n",
            "Requirement already satisfied: joblib>=0.14 in /usr/local/lib/python3.10/dist-packages (from librosa>=0.7.2->surfboard) (1.2.0)\n",
            "Requirement already satisfied: decorator>=4.3.0 in /usr/local/lib/python3.10/dist-packages (from librosa>=0.7.2->surfboard) (4.4.2)\n",
            "INFO: pip is looking at multiple versions of librosa to determine which version is compatible with other requirements. This could take a while.\n",
            "Collecting librosa>=0.7.2 (from surfboard)\n",
            "  Downloading librosa-0.10.0.post1-py3-none-any.whl (252 kB)\n",
            "\u001b[2K     \u001b[90m━━━━━━━━━━━━━━━━━━━━━━━━━━━━━━━━━━━━━━\u001b[0m \u001b[32m253.0/253.0 kB\u001b[0m \u001b[31m34.0 MB/s\u001b[0m eta \u001b[36m0:00:00\u001b[0m\n",
            "\u001b[?25h  Downloading librosa-0.10.0-py3-none-any.whl (252 kB)\n",
            "\u001b[2K     \u001b[90m━━━━━━━━━━━━━━━━━━━━━━━━━━━━━━━━━━━━━━\u001b[0m \u001b[32m252.9/252.9 kB\u001b[0m \u001b[31m32.0 MB/s\u001b[0m eta \u001b[36m0:00:00\u001b[0m\n",
            "\u001b[?25h  Downloading librosa-0.9.2-py3-none-any.whl (214 kB)\n",
            "\u001b[2K     \u001b[90m━━━━━━━━━━━━━━━━━━━━━━━━━━━━━━━━━━━━━━\u001b[0m \u001b[32m214.3/214.3 kB\u001b[0m \u001b[31m30.4 MB/s\u001b[0m eta \u001b[36m0:00:00\u001b[0m\n",
            "\u001b[?25hCollecting resampy>=0.2.2 (from librosa>=0.7.2->surfboard)\n",
            "  Downloading resampy-0.4.2-py3-none-any.whl (3.1 MB)\n",
            "\u001b[2K     \u001b[90m━━━━━━━━━━━━━━━━━━━━━━━━━━━━━━━━━━━━━━━━\u001b[0m \u001b[32m3.1/3.1 MB\u001b[0m \u001b[31m102.8 MB/s\u001b[0m eta \u001b[36m0:00:00\u001b[0m\n",
            "\u001b[?25hRequirement already satisfied: pooch>=1.0 in /usr/local/lib/python3.10/dist-packages (from librosa>=0.7.2->surfboard) (1.6.0)\n",
            "Requirement already satisfied: packaging>=20.0 in /usr/local/lib/python3.10/dist-packages (from librosa>=0.7.2->surfboard) (23.1)\n",
            "Requirement already satisfied: python-dateutil>=2.8.1 in /usr/local/lib/python3.10/dist-packages (from pandas>=1.0.1->surfboard) (2.8.2)\n",
            "Requirement already satisfied: pytz>=2020.1 in /usr/local/lib/python3.10/dist-packages (from pandas>=1.0.1->surfboard) (2022.7.1)\n",
            "Requirement already satisfied: attrs>=19.2.0 in /usr/local/lib/python3.10/dist-packages (from pytest>=5.4.1->surfboard) (23.1.0)\n",
            "Requirement already satisfied: iniconfig in /usr/local/lib/python3.10/dist-packages (from pytest>=5.4.1->surfboard) (2.0.0)\n",
            "Requirement already satisfied: pluggy<2.0,>=0.12 in /usr/local/lib/python3.10/dist-packages (from pytest>=5.4.1->surfboard) (1.2.0)\n",
            "Requirement already satisfied: exceptiongroup>=1.0.0rc8 in /usr/local/lib/python3.10/dist-packages (from pytest>=5.4.1->surfboard) (1.1.1)\n",
            "Requirement already satisfied: tomli>=1.0.0 in /usr/local/lib/python3.10/dist-packages (from pytest>=5.4.1->surfboard) (2.0.1)\n",
            "Requirement already satisfied: cffi>=1.0 in /usr/local/lib/python3.10/dist-packages (from SoundFile>=0.10.3.post1->surfboard) (1.15.1)\n",
            "Requirement already satisfied: pycparser in /usr/local/lib/python3.10/dist-packages (from cffi>=1.0->SoundFile>=0.10.3.post1->surfboard) (2.21)\n",
            "Requirement already satisfied: appdirs>=1.3.0 in /usr/local/lib/python3.10/dist-packages (from pooch>=1.0->librosa>=0.7.2->surfboard) (1.4.4)\n",
            "Requirement already satisfied: requests>=2.19.0 in /usr/local/lib/python3.10/dist-packages (from pooch>=1.0->librosa>=0.7.2->surfboard) (2.27.1)\n",
            "Requirement already satisfied: six>=1.5 in /usr/local/lib/python3.10/dist-packages (from python-dateutil>=2.8.1->pandas>=1.0.1->surfboard) (1.16.0)\n",
            "INFO: pip is looking at multiple versions of resampy to determine which version is compatible with other requirements. This could take a while.\n",
            "  Downloading resampy-0.4.1-py3-none-any.whl (3.1 MB)\n",
            "\u001b[2K     \u001b[90m━━━━━━━━━━━━━━━━━━━━━━━━━━━━━━━━━━━━━━━━\u001b[0m \u001b[32m3.1/3.1 MB\u001b[0m \u001b[31m102.2 MB/s\u001b[0m eta \u001b[36m0:00:00\u001b[0m\n",
            "\u001b[?25h  Downloading resampy-0.4.0-py3-none-any.whl (3.1 MB)\n",
            "\u001b[2K     \u001b[90m━━━━━━━━━━━━━━━━━━━━━━━━━━━━━━━━━━━━━━━━\u001b[0m \u001b[32m3.1/3.1 MB\u001b[0m \u001b[31m112.6 MB/s\u001b[0m eta \u001b[36m0:00:00\u001b[0m\n",
            "\u001b[?25h  Downloading resampy-0.3.1-py3-none-any.whl (3.1 MB)\n",
            "\u001b[2K     \u001b[90m━━━━━━━━━━━━━━━━━━━━━━━━━━━━━━━━━━━━━━━━\u001b[0m \u001b[32m3.1/3.1 MB\u001b[0m \u001b[31m85.6 MB/s\u001b[0m eta \u001b[36m0:00:00\u001b[0m\n",
            "\u001b[?25hRequirement already satisfied: threadpoolctl>=2.0.0 in /usr/local/lib/python3.10/dist-packages (from scikit-learn>=0.20.0->librosa>=0.7.2->surfboard) (3.1.0)\n",
            "Requirement already satisfied: urllib3<1.27,>=1.21.1 in /usr/local/lib/python3.10/dist-packages (from requests>=2.19.0->pooch>=1.0->librosa>=0.7.2->surfboard) (1.26.16)\n",
            "Requirement already satisfied: certifi>=2017.4.17 in /usr/local/lib/python3.10/dist-packages (from requests>=2.19.0->pooch>=1.0->librosa>=0.7.2->surfboard) (2023.5.7)\n",
            "Requirement already satisfied: charset-normalizer~=2.0.0 in /usr/local/lib/python3.10/dist-packages (from requests>=2.19.0->pooch>=1.0->librosa>=0.7.2->surfboard) (2.0.12)\n",
            "Requirement already satisfied: idna<4,>=2.5 in /usr/local/lib/python3.10/dist-packages (from requests>=2.19.0->pooch>=1.0->librosa>=0.7.2->surfboard) (3.4)\n",
            "Building wheels for collected packages: surfboard, numba, pysptk, llvmlite\n",
            "  Building wheel for surfboard (setup.py) ... \u001b[?25l\u001b[?25hdone\n",
            "  Created wheel for surfboard: filename=surfboard-0.2.0-py3-none-any.whl size=33206 sha256=9508db6509da15d01e1ef2b0edbbc0a8de990445b09ed47603be25a3bd777f8e\n",
            "  Stored in directory: /root/.cache/pip/wheels/46/52/d5/b74d60f732630c174c3ea05d583e91cb599d11bfd48c35b732\n",
            "  \u001b[1;31merror\u001b[0m: \u001b[1msubprocess-exited-with-error\u001b[0m\n",
            "  \n",
            "  \u001b[31m×\u001b[0m \u001b[32mpython setup.py bdist_wheel\u001b[0m did not run successfully.\n",
            "  \u001b[31m│\u001b[0m exit code: \u001b[1;36m1\u001b[0m\n",
            "  \u001b[31m╰─>\u001b[0m See above for output.\n",
            "  \n",
            "  \u001b[1;35mnote\u001b[0m: This error originates from a subprocess, and is likely not a problem with pip.\n",
            "  Building wheel for numba (setup.py) ... \u001b[?25lerror\n",
            "\u001b[31m  ERROR: Failed building wheel for numba\u001b[0m\u001b[31m\n",
            "\u001b[0m\u001b[?25h  Running setup.py clean for numba\n",
            "  Building wheel for pysptk (pyproject.toml) ... \u001b[?25l\u001b[?25hdone\n",
            "  Created wheel for pysptk: filename=pysptk-0.2.0-cp310-cp310-linux_x86_64.whl size=1282453 sha256=48e7fc0d9c768ee44009976b7164e0d5c3727521f41a2bd3c3cca4a54d51a912\n",
            "  Stored in directory: /root/.cache/pip/wheels/a7/2a/ed/6a829dcdfd2a67af80144fcdfc9c3f31eac108fafba4fceb59\n",
            "  \u001b[1;31merror\u001b[0m: \u001b[1msubprocess-exited-with-error\u001b[0m\n",
            "  \n",
            "  \u001b[31m×\u001b[0m \u001b[32mpython setup.py bdist_wheel\u001b[0m did not run successfully.\n",
            "  \u001b[31m│\u001b[0m exit code: \u001b[1;36m1\u001b[0m\n",
            "  \u001b[31m╰─>\u001b[0m See above for output.\n",
            "  \n",
            "  \u001b[1;35mnote\u001b[0m: This error originates from a subprocess, and is likely not a problem with pip.\n",
            "  Building wheel for llvmlite (setup.py) ... \u001b[?25lerror\n",
            "\u001b[31m  ERROR: Failed building wheel for llvmlite\u001b[0m\u001b[31m\n",
            "\u001b[0m\u001b[?25h  Running setup.py clean for llvmlite\n",
            "Successfully built surfboard pysptk\n",
            "Failed to build numba llvmlite\n",
            "\u001b[31mERROR: Could not build wheels for numba, llvmlite, which is required to install pyproject.toml-based projects\u001b[0m\u001b[31m\n",
            "\u001b[0m"
          ]
        }
      ],
      "source": [
        "pip install surfboard"
      ]
    },
    {
      "cell_type": "code",
      "execution_count": 8,
      "metadata": {
        "id": "br68aMvhmw8z",
        "colab": {
          "base_uri": "https://localhost:8080/"
        },
        "outputId": "f2a997c8-bfbf-4e3d-b1e8-4a4a8fad1501"
      },
      "outputs": [
        {
          "output_type": "stream",
          "name": "stdout",
          "text": [
            "Looking in indexes: https://pypi.org/simple, https://us-python.pkg.dev/colab-wheels/public/simple/\n",
            "\u001b[31mERROR: Ignored the following versions that require a different python version: 0.52.0 Requires-Python >=3.6,<3.9; 0.52.0rc3 Requires-Python >=3.6,<3.9; 0.53.0 Requires-Python >=3.6,<3.10; 0.53.0rc1.post1 Requires-Python >=3.6,<3.10; 0.53.0rc2 Requires-Python >=3.6,<3.10; 0.53.0rc3 Requires-Python >=3.6,<3.10; 0.53.1 Requires-Python >=3.6,<3.10; 0.54.0 Requires-Python >=3.7,<3.10; 0.54.0rc2 Requires-Python >=3.7,<3.10; 0.54.0rc3 Requires-Python >=3.7,<3.10; 0.54.1 Requires-Python >=3.7,<3.10\u001b[0m\u001b[31m\n",
            "\u001b[0m\u001b[31mERROR: Could not find a version that satisfies the requirement numba==0.53.0 (from versions: 0.1, 0.2, 0.3, 0.5.0, 0.6.0, 0.7.0, 0.7.1, 0.7.2, 0.8.0, 0.8.1, 0.9.0, 0.10.0, 0.10.1, 0.11.0, 0.12.0, 0.12.1, 0.12.2, 0.13.0, 0.13.2, 0.13.3, 0.13.4, 0.14.0, 0.15.1, 0.16.0, 0.17.0, 0.18.1, 0.18.2, 0.19.1, 0.19.2, 0.20.0, 0.21.0, 0.22.0, 0.22.1, 0.23.0, 0.23.1, 0.24.0, 0.25.0, 0.26.0, 0.27.0, 0.28.1, 0.29.0, 0.30.0, 0.30.1, 0.31.0, 0.32.0, 0.33.0, 0.34.0, 0.35.0, 0.36.1, 0.36.2, 0.37.0, 0.38.0, 0.38.1, 0.39.0, 0.40.0, 0.40.1, 0.41.0, 0.42.0, 0.42.1, 0.43.0, 0.43.1, 0.44.0, 0.44.1, 0.45.0, 0.45.1, 0.46.0, 0.47.0, 0.48.0, 0.49.0, 0.49.1rc1, 0.49.1, 0.50.0rc1, 0.50.0, 0.50.1, 0.51.0rc1, 0.51.0, 0.51.1, 0.51.2, 0.52.0rc2, 0.55.0rc1, 0.55.0, 0.55.1, 0.55.2, 0.56.0rc1, 0.56.0, 0.56.2, 0.56.3, 0.56.4, 0.57.0rc1, 0.57.0, 0.57.1rc1, 0.57.1)\u001b[0m\u001b[31m\n",
            "\u001b[0m\u001b[31mERROR: No matching distribution found for numba==0.53.0\u001b[0m\u001b[31m\n",
            "\u001b[0m"
          ]
        }
      ],
      "source": [
        "pip install numba==0.53.0"
      ]
    },
    {
      "cell_type": "code",
      "execution_count": 9,
      "metadata": {
        "id": "tSjFsMIwm1DX",
        "colab": {
          "base_uri": "https://localhost:8080/"
        },
        "outputId": "4beb741f-bf70-4363-d8b3-2f7542e579bb"
      },
      "outputs": [
        {
          "output_type": "stream",
          "name": "stdout",
          "text": [
            "Looking in indexes: https://pypi.org/simple, https://us-python.pkg.dev/colab-wheels/public/simple/\n",
            "Collecting llvmlite\n",
            "  Downloading llvmlite-0.40.1-cp310-cp310-manylinux_2_17_x86_64.manylinux2014_x86_64.whl (42.1 MB)\n",
            "\u001b[2K     \u001b[90m━━━━━━━━━━━━━━━━━━━━━━━━━━━━━━━━━━━━━━━━\u001b[0m \u001b[32m42.1/42.1 MB\u001b[0m \u001b[31m25.5 MB/s\u001b[0m eta \u001b[36m0:00:00\u001b[0m\n",
            "\u001b[?25hInstalling collected packages: llvmlite\n",
            "\u001b[31mERROR: pip's dependency resolver does not currently take into account all the packages that are installed. This behaviour is the source of the following dependency conflicts.\n",
            "numba 0.56.4 requires llvmlite<0.40,>=0.39.0dev0, but you have llvmlite 0.40.1 which is incompatible.\u001b[0m\u001b[31m\n",
            "\u001b[0mSuccessfully installed llvmlite-0.39.1\n"
          ]
        }
      ],
      "source": [
        "pip install --ignore-installed llvmlite"
      ]
    },
    {
      "cell_type": "code",
      "execution_count": 10,
      "metadata": {
        "id": "jFSDrZ5dDBu5",
        "colab": {
          "base_uri": "https://localhost:8080/"
        },
        "outputId": "52913103-9a4f-4bef-a437-07061fc22846"
      },
      "outputs": [
        {
          "output_type": "stream",
          "name": "stdout",
          "text": [
            "Looking in indexes: https://pypi.org/simple, https://us-python.pkg.dev/colab-wheels/public/simple/\n",
            "Collecting pyrpde\n",
            "  Downloading pyrpde-0.1.3-py3-none-any.whl (9.9 kB)\n",
            "Requirement already satisfied: numba>=0.49.1 in /usr/local/lib/python3.10/dist-packages (from pyrpde) (0.56.4)\n",
            "Requirement already satisfied: numpy>=1.18.4 in /usr/local/lib/python3.10/dist-packages (from pyrpde) (1.22.4)\n",
            "Requirement already satisfied: scipy>=1.4.1 in /usr/local/lib/python3.10/dist-packages (from pyrpde) (1.10.1)\n",
            "Requirement already satisfied: llvmlite<0.40,>=0.39.0dev0 in /usr/local/lib/python3.10/dist-packages (from numba>=0.49.1->pyrpde) (0.39.1)\n",
            "Requirement already satisfied: setuptools in /usr/local/lib/python3.10/dist-packages (from numba>=0.49.1->pyrpde) (67.7.2)\n",
            "Installing collected packages: pyrpde\n",
            "Successfully installed pyrpde-0.1.3\n"
          ]
        }
      ],
      "source": [
        "pip install pyrpde"
      ]
    },
    {
      "cell_type": "code",
      "execution_count": 11,
      "metadata": {
        "id": "ooR-zTFMFwmY",
        "colab": {
          "base_uri": "https://localhost:8080/"
        },
        "outputId": "18727bf6-2db5-44c6-984c-800a6ea37e61"
      },
      "outputs": [
        {
          "output_type": "stream",
          "name": "stdout",
          "text": [
            "Looking in indexes: https://pypi.org/simple, https://us-python.pkg.dev/colab-wheels/public/simple/\n",
            "Collecting praat-parselmouth\n",
            "  Downloading praat_parselmouth-0.4.3-cp310-cp310-manylinux_2_12_x86_64.manylinux2010_x86_64.whl (10.7 MB)\n",
            "\u001b[2K     \u001b[90m━━━━━━━━━━━━━━━━━━━━━━━━━━━━━━━━━━━━━━━━\u001b[0m \u001b[32m10.7/10.7 MB\u001b[0m \u001b[31m75.5 MB/s\u001b[0m eta \u001b[36m0:00:00\u001b[0m\n",
            "\u001b[?25hRequirement already satisfied: numpy>=1.7.0 in /usr/local/lib/python3.10/dist-packages (from praat-parselmouth) (1.22.4)\n",
            "Installing collected packages: praat-parselmouth\n",
            "Successfully installed praat-parselmouth-0.4.3\n"
          ]
        }
      ],
      "source": [
        "pip install praat-parselmouth"
      ]
    },
    {
      "cell_type": "markdown",
      "metadata": {
        "id": "7Np2mk8si6QP"
      },
      "source": [
        "# **Imports**"
      ]
    },
    {
      "cell_type": "code",
      "execution_count": 16,
      "metadata": {
        "id": "AvtS7JNsjSvP"
      },
      "outputs": [],
      "source": [
        "\n",
        "import parselmouth\n",
        "from parselmouth.praat import call\n",
        "import numpy as np\n",
        "import pandas as pd\n",
        "import librosa\n",
        "import librosa.display\n",
        "import IPython.display as ipd\n",
        "import matplotlib.pyplot as plt\n",
        "import sklearn\n",
        "import pathlib\n",
        "import csv\n",
        "import os\n",
        "import math\n",
        "from PIL import Image\n",
        "import warnings\n",
        "warnings.filterwarnings('ignore')\n",
        "from scipy.optimize import curve_fit\n",
        "\n",
        "\n",
        "\n",
        "\n",
        "from sklearn.model_selection import train_test_split"
      ]
    },
    {
      "cell_type": "markdown",
      "source": [
        "Importing libraries for FSM (Relief)."
      ],
      "metadata": {
        "id": "QKI7l0STM5e2"
      }
    },
    {
      "cell_type": "code",
      "source": [
        "import sys\n",
        "sys.path.append('/content/drive/MyDrive/python scripts/FSM-main')\n",
        "sys.path.append('/content/drive/MyDrive/python scripts/mifs-master')\n",
        "sys.path.append('/content/drive/MyDrive/python scripts/RRCT-main')\n",
        "import sklearn.feature_selection._base\n",
        "sys.modules['sklearn.feature_selection.base'] = sklearn.feature_selection._base\n"
      ],
      "metadata": {
        "id": "D7WIx7vQs8vS"
      },
      "execution_count": 17,
      "outputs": []
    },
    {
      "cell_type": "code",
      "source": [
        "from mrmr import mrmr_classif\n",
        "from datetime import datetime\n",
        "from multiprocessing import cpu_count\n",
        "\n"
      ],
      "metadata": {
        "id": "xIGIl1a2tFZ5"
      },
      "execution_count": 18,
      "outputs": []
    },
    {
      "cell_type": "markdown",
      "source": [
        "# CSV"
      ],
      "metadata": {
        "id": "5oU-5-6YeJWF"
      }
    },
    {
      "cell_type": "markdown",
      "source": [
        "The csv file considered:"
      ],
      "metadata": {
        "id": "mYNa8funyeVI"
      }
    },
    {
      "cell_type": "code",
      "source": [
        "#audios of no condition\n",
        "csv_file = 'features_mfdfa_and_surfboard.csv'\n"
      ],
      "metadata": {
        "id": "LXrWLcSveLfG"
      },
      "execution_count": 29,
      "outputs": []
    },
    {
      "cell_type": "markdown",
      "source": [
        "# Creating the dataframes"
      ],
      "metadata": {
        "id": "vYYTOs6bhjTM"
      }
    },
    {
      "cell_type": "markdown",
      "source": [
        "Here I will create 3 separate dataframes from the csv file: one containing only MFDFA, one with Surfboard features and one with MFDFA + Surfboard."
      ],
      "metadata": {
        "id": "xc528D-sjHOW"
      }
    },
    {
      "cell_type": "code",
      "source": [
        "# Read in data and display first 5 rows\n",
        "features = pd.read_csv(f'/content/drive/MyDrive/Parkinson CSV files/{csv_file}', index_col = 0)\n",
        "features.head(5)\n"
      ],
      "metadata": {
        "colab": {
          "base_uri": "https://localhost:8080/",
          "height": 236
        },
        "id": "7JqdRGYLDcIa",
        "outputId": "12673302-873c-456d-97c2-5445fac687df"
      },
      "execution_count": 30,
      "outputs": [
        {
          "output_type": "execute_result",
          "data": {
            "text/plain": [
              "               filename       a_A       b_A        c_A       d_A       g_A  \\\n",
              "0  AVPEPUDEAC0001a1.wav  0.005134  2.773804  14.464413  0.239951  0.438907   \n",
              "1  AVPEPUDEAC0001a2.wav  0.004287  2.786766  12.529315  0.228076  0.363295   \n",
              "2  AVPEPUDEAC0001a3.wav  0.003158  2.556353  14.310374  0.237569  0.358898   \n",
              "3  AVPEPUDEAC0003a1.wav -0.023849  1.425489  40.734144  0.501434  1.056339   \n",
              "4  AVPEPUDEAC0003a3.wav -0.005259  1.808647  44.468063  0.677819  1.073030   \n",
              "\n",
              "        a_E       b_E        c_E       d_E  ...         f2_U         f3_U  \\\n",
              "0  0.008326  2.786644  37.006651  0.358826  ...   855.923600  2691.467349   \n",
              "1  0.008697  2.842495  33.157190  0.324737  ...   773.168390  2650.082362   \n",
              "2  0.009720  3.256971  27.910551  0.321402  ...  2802.277666  3767.566577   \n",
              "3  0.002281  2.183830  37.554326  0.604607  ...  2192.993042  3346.745084   \n",
              "4  0.002380  2.212522  40.705040  0.588844  ...  2181.058987  3110.540368   \n",
              "\n",
              "          f4_U      hnr_U  LPC_0_U   LPC_1_U   LPC_2_U   LPC_3_U   LPC_4_U  \\\n",
              "0  3799.771303  25.690630      1.0 -1.621395  0.552271 -0.207879  0.282346   \n",
              "1  3589.815036  23.842138      1.0 -1.545521  0.431359 -0.192440  0.311552   \n",
              "2  5145.967325  31.139092      1.0 -2.009604  1.339565 -0.627501  0.301435   \n",
              "3  5069.993537  16.921561      1.0 -1.657522  0.385750  0.235394  0.039457   \n",
              "4  5115.181137   9.182765      1.0 -1.827665  0.620723  0.272772 -0.063501   \n",
              "\n",
              "   label  \n",
              "0      0  \n",
              "1      0  \n",
              "2      0  \n",
              "3      0  \n",
              "4      0  \n",
              "\n",
              "[5 rows x 237 columns]"
            ],
            "text/html": [
              "\n",
              "  <div id=\"df-f12d0084-c51f-4f2f-935c-2440205d4015\">\n",
              "    <div class=\"colab-df-container\">\n",
              "      <div>\n",
              "<style scoped>\n",
              "    .dataframe tbody tr th:only-of-type {\n",
              "        vertical-align: middle;\n",
              "    }\n",
              "\n",
              "    .dataframe tbody tr th {\n",
              "        vertical-align: top;\n",
              "    }\n",
              "\n",
              "    .dataframe thead th {\n",
              "        text-align: right;\n",
              "    }\n",
              "</style>\n",
              "<table border=\"1\" class=\"dataframe\">\n",
              "  <thead>\n",
              "    <tr style=\"text-align: right;\">\n",
              "      <th></th>\n",
              "      <th>filename</th>\n",
              "      <th>a_A</th>\n",
              "      <th>b_A</th>\n",
              "      <th>c_A</th>\n",
              "      <th>d_A</th>\n",
              "      <th>g_A</th>\n",
              "      <th>a_E</th>\n",
              "      <th>b_E</th>\n",
              "      <th>c_E</th>\n",
              "      <th>d_E</th>\n",
              "      <th>...</th>\n",
              "      <th>f2_U</th>\n",
              "      <th>f3_U</th>\n",
              "      <th>f4_U</th>\n",
              "      <th>hnr_U</th>\n",
              "      <th>LPC_0_U</th>\n",
              "      <th>LPC_1_U</th>\n",
              "      <th>LPC_2_U</th>\n",
              "      <th>LPC_3_U</th>\n",
              "      <th>LPC_4_U</th>\n",
              "      <th>label</th>\n",
              "    </tr>\n",
              "  </thead>\n",
              "  <tbody>\n",
              "    <tr>\n",
              "      <th>0</th>\n",
              "      <td>AVPEPUDEAC0001a1.wav</td>\n",
              "      <td>0.005134</td>\n",
              "      <td>2.773804</td>\n",
              "      <td>14.464413</td>\n",
              "      <td>0.239951</td>\n",
              "      <td>0.438907</td>\n",
              "      <td>0.008326</td>\n",
              "      <td>2.786644</td>\n",
              "      <td>37.006651</td>\n",
              "      <td>0.358826</td>\n",
              "      <td>...</td>\n",
              "      <td>855.923600</td>\n",
              "      <td>2691.467349</td>\n",
              "      <td>3799.771303</td>\n",
              "      <td>25.690630</td>\n",
              "      <td>1.0</td>\n",
              "      <td>-1.621395</td>\n",
              "      <td>0.552271</td>\n",
              "      <td>-0.207879</td>\n",
              "      <td>0.282346</td>\n",
              "      <td>0</td>\n",
              "    </tr>\n",
              "    <tr>\n",
              "      <th>1</th>\n",
              "      <td>AVPEPUDEAC0001a2.wav</td>\n",
              "      <td>0.004287</td>\n",
              "      <td>2.786766</td>\n",
              "      <td>12.529315</td>\n",
              "      <td>0.228076</td>\n",
              "      <td>0.363295</td>\n",
              "      <td>0.008697</td>\n",
              "      <td>2.842495</td>\n",
              "      <td>33.157190</td>\n",
              "      <td>0.324737</td>\n",
              "      <td>...</td>\n",
              "      <td>773.168390</td>\n",
              "      <td>2650.082362</td>\n",
              "      <td>3589.815036</td>\n",
              "      <td>23.842138</td>\n",
              "      <td>1.0</td>\n",
              "      <td>-1.545521</td>\n",
              "      <td>0.431359</td>\n",
              "      <td>-0.192440</td>\n",
              "      <td>0.311552</td>\n",
              "      <td>0</td>\n",
              "    </tr>\n",
              "    <tr>\n",
              "      <th>2</th>\n",
              "      <td>AVPEPUDEAC0001a3.wav</td>\n",
              "      <td>0.003158</td>\n",
              "      <td>2.556353</td>\n",
              "      <td>14.310374</td>\n",
              "      <td>0.237569</td>\n",
              "      <td>0.358898</td>\n",
              "      <td>0.009720</td>\n",
              "      <td>3.256971</td>\n",
              "      <td>27.910551</td>\n",
              "      <td>0.321402</td>\n",
              "      <td>...</td>\n",
              "      <td>2802.277666</td>\n",
              "      <td>3767.566577</td>\n",
              "      <td>5145.967325</td>\n",
              "      <td>31.139092</td>\n",
              "      <td>1.0</td>\n",
              "      <td>-2.009604</td>\n",
              "      <td>1.339565</td>\n",
              "      <td>-0.627501</td>\n",
              "      <td>0.301435</td>\n",
              "      <td>0</td>\n",
              "    </tr>\n",
              "    <tr>\n",
              "      <th>3</th>\n",
              "      <td>AVPEPUDEAC0003a1.wav</td>\n",
              "      <td>-0.023849</td>\n",
              "      <td>1.425489</td>\n",
              "      <td>40.734144</td>\n",
              "      <td>0.501434</td>\n",
              "      <td>1.056339</td>\n",
              "      <td>0.002281</td>\n",
              "      <td>2.183830</td>\n",
              "      <td>37.554326</td>\n",
              "      <td>0.604607</td>\n",
              "      <td>...</td>\n",
              "      <td>2192.993042</td>\n",
              "      <td>3346.745084</td>\n",
              "      <td>5069.993537</td>\n",
              "      <td>16.921561</td>\n",
              "      <td>1.0</td>\n",
              "      <td>-1.657522</td>\n",
              "      <td>0.385750</td>\n",
              "      <td>0.235394</td>\n",
              "      <td>0.039457</td>\n",
              "      <td>0</td>\n",
              "    </tr>\n",
              "    <tr>\n",
              "      <th>4</th>\n",
              "      <td>AVPEPUDEAC0003a3.wav</td>\n",
              "      <td>-0.005259</td>\n",
              "      <td>1.808647</td>\n",
              "      <td>44.468063</td>\n",
              "      <td>0.677819</td>\n",
              "      <td>1.073030</td>\n",
              "      <td>0.002380</td>\n",
              "      <td>2.212522</td>\n",
              "      <td>40.705040</td>\n",
              "      <td>0.588844</td>\n",
              "      <td>...</td>\n",
              "      <td>2181.058987</td>\n",
              "      <td>3110.540368</td>\n",
              "      <td>5115.181137</td>\n",
              "      <td>9.182765</td>\n",
              "      <td>1.0</td>\n",
              "      <td>-1.827665</td>\n",
              "      <td>0.620723</td>\n",
              "      <td>0.272772</td>\n",
              "      <td>-0.063501</td>\n",
              "      <td>0</td>\n",
              "    </tr>\n",
              "  </tbody>\n",
              "</table>\n",
              "<p>5 rows × 237 columns</p>\n",
              "</div>\n",
              "      <button class=\"colab-df-convert\" onclick=\"convertToInteractive('df-f12d0084-c51f-4f2f-935c-2440205d4015')\"\n",
              "              title=\"Convert this dataframe to an interactive table.\"\n",
              "              style=\"display:none;\">\n",
              "        \n",
              "  <svg xmlns=\"http://www.w3.org/2000/svg\" height=\"24px\"viewBox=\"0 0 24 24\"\n",
              "       width=\"24px\">\n",
              "    <path d=\"M0 0h24v24H0V0z\" fill=\"none\"/>\n",
              "    <path d=\"M18.56 5.44l.94 2.06.94-2.06 2.06-.94-2.06-.94-.94-2.06-.94 2.06-2.06.94zm-11 1L8.5 8.5l.94-2.06 2.06-.94-2.06-.94L8.5 2.5l-.94 2.06-2.06.94zm10 10l.94 2.06.94-2.06 2.06-.94-2.06-.94-.94-2.06-.94 2.06-2.06.94z\"/><path d=\"M17.41 7.96l-1.37-1.37c-.4-.4-.92-.59-1.43-.59-.52 0-1.04.2-1.43.59L10.3 9.45l-7.72 7.72c-.78.78-.78 2.05 0 2.83L4 21.41c.39.39.9.59 1.41.59.51 0 1.02-.2 1.41-.59l7.78-7.78 2.81-2.81c.8-.78.8-2.07 0-2.86zM5.41 20L4 18.59l7.72-7.72 1.47 1.35L5.41 20z\"/>\n",
              "  </svg>\n",
              "      </button>\n",
              "      \n",
              "  <style>\n",
              "    .colab-df-container {\n",
              "      display:flex;\n",
              "      flex-wrap:wrap;\n",
              "      gap: 12px;\n",
              "    }\n",
              "\n",
              "    .colab-df-convert {\n",
              "      background-color: #E8F0FE;\n",
              "      border: none;\n",
              "      border-radius: 50%;\n",
              "      cursor: pointer;\n",
              "      display: none;\n",
              "      fill: #1967D2;\n",
              "      height: 32px;\n",
              "      padding: 0 0 0 0;\n",
              "      width: 32px;\n",
              "    }\n",
              "\n",
              "    .colab-df-convert:hover {\n",
              "      background-color: #E2EBFA;\n",
              "      box-shadow: 0px 1px 2px rgba(60, 64, 67, 0.3), 0px 1px 3px 1px rgba(60, 64, 67, 0.15);\n",
              "      fill: #174EA6;\n",
              "    }\n",
              "\n",
              "    [theme=dark] .colab-df-convert {\n",
              "      background-color: #3B4455;\n",
              "      fill: #D2E3FC;\n",
              "    }\n",
              "\n",
              "    [theme=dark] .colab-df-convert:hover {\n",
              "      background-color: #434B5C;\n",
              "      box-shadow: 0px 1px 3px 1px rgba(0, 0, 0, 0.15);\n",
              "      filter: drop-shadow(0px 1px 2px rgba(0, 0, 0, 0.3));\n",
              "      fill: #FFFFFF;\n",
              "    }\n",
              "  </style>\n",
              "\n",
              "      <script>\n",
              "        const buttonEl =\n",
              "          document.querySelector('#df-f12d0084-c51f-4f2f-935c-2440205d4015 button.colab-df-convert');\n",
              "        buttonEl.style.display =\n",
              "          google.colab.kernel.accessAllowed ? 'block' : 'none';\n",
              "\n",
              "        async function convertToInteractive(key) {\n",
              "          const element = document.querySelector('#df-f12d0084-c51f-4f2f-935c-2440205d4015');\n",
              "          const dataTable =\n",
              "            await google.colab.kernel.invokeFunction('convertToInteractive',\n",
              "                                                     [key], {});\n",
              "          if (!dataTable) return;\n",
              "\n",
              "          const docLinkHtml = 'Like what you see? Visit the ' +\n",
              "            '<a target=\"_blank\" href=https://colab.research.google.com/notebooks/data_table.ipynb>data table notebook</a>'\n",
              "            + ' to learn more about interactive tables.';\n",
              "          element.innerHTML = '';\n",
              "          dataTable['output_type'] = 'display_data';\n",
              "          await google.colab.output.renderOutput(dataTable, element);\n",
              "          const docLink = document.createElement('div');\n",
              "          docLink.innerHTML = docLinkHtml;\n",
              "          element.appendChild(docLink);\n",
              "        }\n",
              "      </script>\n",
              "    </div>\n",
              "  </div>\n",
              "  "
            ]
          },
          "metadata": {},
          "execution_count": 30
        }
      ]
    },
    {
      "cell_type": "code",
      "source": [
        "features.shape"
      ],
      "metadata": {
        "colab": {
          "base_uri": "https://localhost:8080/"
        },
        "id": "5PXUv8oMDns1",
        "outputId": "450d657a-7212-44e2-a6c4-f03cfc844e6c"
      },
      "execution_count": 31,
      "outputs": [
        {
          "output_type": "execute_result",
          "data": {
            "text/plain": [
              "(300, 237)"
            ]
          },
          "metadata": {},
          "execution_count": 31
        }
      ]
    },
    {
      "cell_type": "code",
      "source": [
        "labels = np.array(features['label'])\n"
      ],
      "metadata": {
        "id": "hab33Pc3FMr3"
      },
      "execution_count": 32,
      "outputs": []
    },
    {
      "cell_type": "markdown",
      "source": [
        "## MFDFA only dataframe"
      ],
      "metadata": {
        "id": "hfgpb7M0B8Uu"
      }
    },
    {
      "cell_type": "code",
      "source": [
        "features_mfdfa = features[['a_A','b_A','c_A','d_A','g_A','a_E','b_E','c_E','d_E','g_E','a_I','b_I','c_I','d_I','g_I','a_O','b_O','c_O','d_O','g_O','a_U','b_U','c_U','d_U','g_U']]\n"
      ],
      "metadata": {
        "id": "5gRHoollCCbW"
      },
      "execution_count": 33,
      "outputs": []
    },
    {
      "cell_type": "code",
      "source": [
        "features_mfdfa.shape"
      ],
      "metadata": {
        "colab": {
          "base_uri": "https://localhost:8080/"
        },
        "id": "ewoyeACxCCkn",
        "outputId": "add23b65-3145-425b-8d38-6fd36a8be30d"
      },
      "execution_count": 34,
      "outputs": [
        {
          "output_type": "execute_result",
          "data": {
            "text/plain": [
              "(300, 25)"
            ]
          },
          "metadata": {},
          "execution_count": 34
        }
      ]
    },
    {
      "cell_type": "code",
      "source": [
        "# Convert to numpy array\n",
        "features_mfdfa = np.array(features_mfdfa)\n"
      ],
      "metadata": {
        "id": "Fr-Yw40aCCmk"
      },
      "execution_count": 35,
      "outputs": []
    },
    {
      "cell_type": "markdown",
      "source": [
        "## Surfboard only dataframe"
      ],
      "metadata": {
        "id": "EwT9_YXTGDKa"
      }
    },
    {
      "cell_type": "markdown",
      "source": [
        "### Surfboard Features"
      ],
      "metadata": {
        "id": "QhUiTJHVORwp"
      }
    },
    {
      "cell_type": "code",
      "source": [
        "features_surfboard = features[['mfcc_mean_1_A', 'mfcc_mean_2_A', 'mfcc_mean_4_A', 'mfcc_mean_9_A',\n",
        "       'mfcc_mean_10_A', 'mfcc_mean_12_A', 'mfcc_mean_13_A',\n",
        "       'loudness_slidingwindow_mean_A', 'hnr_A', 'LPC_2_A', 'LPC_3_A',\n",
        "       'mfcc_mean_1_E', 'mfcc_mean_3_E', 'mfcc_mean_5_E', 'mfcc_mean_6_E',\n",
        "       'mfcc_mean_7_E', 'mfcc_mean_10_E', 'mfcc_mean_11_E', 'mfcc_mean_12_E',\n",
        "       'mfcc_mean_13_E', 'f0_contour_mean_E', 'f0_mean_E', 'hnr_E', 'LPC_2_E',\n",
        "       'LPC_3_E', 'mfcc_mean_1_I', 'mfcc_mean_3_I', 'mfcc_mean_5_I',\n",
        "       'mfcc_mean_6_I', 'mfcc_mean_7_I', 'mfcc_mean_9_I', 'mfcc_mean_11_I',\n",
        "       'mfcc_mean_12_I', 'mfcc_mean_13_I', 'f0_contour_mean_I', 'hnr_I',\n",
        "       'LPC_2_I', 'LPC_3_I', 'LPC_4_I', 'mfcc_mean_3_O', 'mfcc_mean_4_O',\n",
        "       'mfcc_mean_6_O', 'mfcc_mean_8_O', 'mfcc_mean_9_O', 'mfcc_mean_13_O',\n",
        "       'f0_contour_mean_O', 'f0_std_O', 'log_energy_O',\n",
        "       'loudness_slidingwindow_mean_O', 'mfcc_mean_2_U', 'mfcc_mean_3_U',\n",
        "       'mfcc_mean_5_U', 'mfcc_mean_6_U', 'mfcc_mean_7_U', 'mfcc_mean_8_U',\n",
        "       'mfcc_mean_10_U', 'mfcc_mean_11_U', 'hnr_U']]\n",
        "\n"
      ],
      "metadata": {
        "id": "V0jMPFtmOVAK"
      },
      "execution_count": 36,
      "outputs": []
    },
    {
      "cell_type": "code",
      "source": [
        "features_surfboard.shape"
      ],
      "metadata": {
        "colab": {
          "base_uri": "https://localhost:8080/"
        },
        "id": "vxIsdyy_OVCS",
        "outputId": "6c99d7a8-fa72-4141-b41a-db5dce03f0f0"
      },
      "execution_count": 37,
      "outputs": [
        {
          "output_type": "execute_result",
          "data": {
            "text/plain": [
              "(300, 58)"
            ]
          },
          "metadata": {},
          "execution_count": 37
        }
      ]
    },
    {
      "cell_type": "code",
      "source": [
        "features_surfboard.shape"
      ],
      "metadata": {
        "colab": {
          "base_uri": "https://localhost:8080/"
        },
        "id": "8g3OT8qbclU7",
        "outputId": "86f27c85-bc1a-4662-b350-16b406573804"
      },
      "execution_count": 38,
      "outputs": [
        {
          "output_type": "execute_result",
          "data": {
            "text/plain": [
              "(300, 58)"
            ]
          },
          "metadata": {},
          "execution_count": 38
        }
      ]
    },
    {
      "cell_type": "code",
      "source": [
        "# Convert to numpy array\n",
        "features_surfboard = np.array(features_surfboard)\n"
      ],
      "metadata": {
        "id": "QpDwMi1XOVFX"
      },
      "execution_count": 39,
      "outputs": []
    },
    {
      "cell_type": "markdown",
      "source": [
        "## MFDFA + Surfboard dataframe"
      ],
      "metadata": {
        "id": "OYs-glDDSYg_"
      }
    },
    {
      "cell_type": "code",
      "source": [
        "features_mfdfa_surfboard = features[['a_A','b_A','c_A','d_A','g_A','a_E','b_E','c_E','d_E','g_E','a_I','b_I','c_I','d_I','g_I','a_O','b_O','c_O','d_O','g_O','a_U','b_U','c_U','d_U','g_U',\n",
        "                                     'mfcc_mean_1_A', 'mfcc_mean_2_A', 'mfcc_mean_4_A', 'mfcc_mean_9_A',\n",
        "       'mfcc_mean_10_A', 'mfcc_mean_12_A', 'mfcc_mean_13_A',\n",
        "       'loudness_slidingwindow_mean_A', 'hnr_A', 'LPC_2_A', 'LPC_3_A',\n",
        "       'mfcc_mean_1_E', 'mfcc_mean_3_E', 'mfcc_mean_5_E', 'mfcc_mean_6_E',\n",
        "       'mfcc_mean_7_E', 'mfcc_mean_10_E', 'mfcc_mean_11_E', 'mfcc_mean_12_E',\n",
        "       'mfcc_mean_13_E', 'f0_contour_mean_E', 'f0_mean_E', 'hnr_E', 'LPC_2_E',\n",
        "       'LPC_3_E', 'mfcc_mean_1_I', 'mfcc_mean_3_I', 'mfcc_mean_5_I',\n",
        "       'mfcc_mean_6_I', 'mfcc_mean_7_I', 'mfcc_mean_9_I', 'mfcc_mean_11_I',\n",
        "       'mfcc_mean_12_I', 'mfcc_mean_13_I', 'f0_contour_mean_I', 'hnr_I',\n",
        "       'LPC_2_I', 'LPC_3_I', 'LPC_4_I', 'mfcc_mean_3_O', 'mfcc_mean_4_O',\n",
        "       'mfcc_mean_6_O', 'mfcc_mean_8_O', 'mfcc_mean_9_O', 'mfcc_mean_13_O',\n",
        "       'f0_contour_mean_O', 'f0_std_O', 'log_energy_O',\n",
        "       'loudness_slidingwindow_mean_O', 'mfcc_mean_2_U', 'mfcc_mean_3_U',\n",
        "       'mfcc_mean_5_U', 'mfcc_mean_6_U', 'mfcc_mean_7_U', 'mfcc_mean_8_U',\n",
        "       'mfcc_mean_10_U', 'mfcc_mean_11_U', 'hnr_U']]\n",
        "\n"
      ],
      "metadata": {
        "id": "P3YrQdZYSaUc"
      },
      "execution_count": 40,
      "outputs": []
    },
    {
      "cell_type": "code",
      "source": [
        "features_mfdfa_surfboard.shape"
      ],
      "metadata": {
        "colab": {
          "base_uri": "https://localhost:8080/"
        },
        "id": "2TZmPaIYSd5t",
        "outputId": "22da25f0-30cf-48a4-d0e7-30884fa539e4"
      },
      "execution_count": 41,
      "outputs": [
        {
          "output_type": "execute_result",
          "data": {
            "text/plain": [
              "(300, 83)"
            ]
          },
          "metadata": {},
          "execution_count": 41
        }
      ]
    },
    {
      "cell_type": "code",
      "source": [
        "# Convert to numpy array\n",
        "features_mfdfa_surfboard = np.array(features_mfdfa_surfboard)\n"
      ],
      "metadata": {
        "id": "lS2GC1vuSd71"
      },
      "execution_count": 42,
      "outputs": []
    },
    {
      "cell_type": "markdown",
      "source": [
        "# TabPFN"
      ],
      "metadata": {
        "id": "43Q1AbygisY6"
      }
    },
    {
      "cell_type": "markdown",
      "source": [
        "## Install and imports"
      ],
      "metadata": {
        "id": "U5n9bc4xVQoq"
      }
    },
    {
      "cell_type": "markdown",
      "source": [
        "**In order to get the fastest predictions you need to enable GPUs for the notebook:**\n",
        "* Navigate to Edit→Notebook Settings\n",
        "* select GPU from the Hardware Accelerator drop-down\n",
        "(https://colab.research.google.com/notebooks/gpu.ipynb#scrollTo=oM_8ELnJq_wd)"
      ],
      "metadata": {
        "id": "x1ScIqM1yzoK"
      }
    },
    {
      "cell_type": "code",
      "source": [
        "!pip install tabpfn"
      ],
      "metadata": {
        "colab": {
          "base_uri": "https://localhost:8080/"
        },
        "id": "mw_4F4RRTfrG",
        "outputId": "21b85aff-b3c7-4434-c5c0-0a3b1602cec6"
      },
      "execution_count": 46,
      "outputs": [
        {
          "output_type": "stream",
          "name": "stdout",
          "text": [
            "Looking in indexes: https://pypi.org/simple, https://us-python.pkg.dev/colab-wheels/public/simple/\n",
            "Requirement already satisfied: tabpfn in /usr/local/lib/python3.10/dist-packages (0.1.9)\n",
            "Requirement already satisfied: numpy>=1.21.2 in /usr/local/lib/python3.10/dist-packages (from tabpfn) (1.22.4)\n",
            "Requirement already satisfied: pyyaml>=5.4.1 in /usr/local/lib/python3.10/dist-packages (from tabpfn) (6.0)\n",
            "Requirement already satisfied: requests>=2.23.0 in /usr/local/lib/python3.10/dist-packages (from tabpfn) (2.27.1)\n",
            "Requirement already satisfied: scikit-learn>=0.24.2 in /usr/local/lib/python3.10/dist-packages (from tabpfn) (1.2.2)\n",
            "Requirement already satisfied: torch>=1.9.0 in /usr/local/lib/python3.10/dist-packages (from tabpfn) (2.0.1+cu118)\n",
            "Requirement already satisfied: urllib3<1.27,>=1.21.1 in /usr/local/lib/python3.10/dist-packages (from requests>=2.23.0->tabpfn) (1.26.16)\n",
            "Requirement already satisfied: certifi>=2017.4.17 in /usr/local/lib/python3.10/dist-packages (from requests>=2.23.0->tabpfn) (2023.5.7)\n",
            "Requirement already satisfied: charset-normalizer~=2.0.0 in /usr/local/lib/python3.10/dist-packages (from requests>=2.23.0->tabpfn) (2.0.12)\n",
            "Requirement already satisfied: idna<4,>=2.5 in /usr/local/lib/python3.10/dist-packages (from requests>=2.23.0->tabpfn) (3.4)\n",
            "Requirement already satisfied: scipy>=1.3.2 in /usr/local/lib/python3.10/dist-packages (from scikit-learn>=0.24.2->tabpfn) (1.10.1)\n",
            "Requirement already satisfied: joblib>=1.1.1 in /usr/local/lib/python3.10/dist-packages (from scikit-learn>=0.24.2->tabpfn) (1.2.0)\n",
            "Requirement already satisfied: threadpoolctl>=2.0.0 in /usr/local/lib/python3.10/dist-packages (from scikit-learn>=0.24.2->tabpfn) (3.1.0)\n",
            "Requirement already satisfied: filelock in /usr/local/lib/python3.10/dist-packages (from torch>=1.9.0->tabpfn) (3.12.2)\n",
            "Requirement already satisfied: typing-extensions in /usr/local/lib/python3.10/dist-packages (from torch>=1.9.0->tabpfn) (4.6.3)\n",
            "Requirement already satisfied: sympy in /usr/local/lib/python3.10/dist-packages (from torch>=1.9.0->tabpfn) (1.11.1)\n",
            "Requirement already satisfied: networkx in /usr/local/lib/python3.10/dist-packages (from torch>=1.9.0->tabpfn) (3.1)\n",
            "Requirement already satisfied: jinja2 in /usr/local/lib/python3.10/dist-packages (from torch>=1.9.0->tabpfn) (3.1.2)\n",
            "Requirement already satisfied: triton==2.0.0 in /usr/local/lib/python3.10/dist-packages (from torch>=1.9.0->tabpfn) (2.0.0)\n",
            "Requirement already satisfied: cmake in /usr/local/lib/python3.10/dist-packages (from triton==2.0.0->torch>=1.9.0->tabpfn) (3.25.2)\n",
            "Requirement already satisfied: lit in /usr/local/lib/python3.10/dist-packages (from triton==2.0.0->torch>=1.9.0->tabpfn) (16.0.6)\n",
            "Requirement already satisfied: MarkupSafe>=2.0 in /usr/local/lib/python3.10/dist-packages (from jinja2->torch>=1.9.0->tabpfn) (2.1.3)\n",
            "Requirement already satisfied: mpmath>=0.19 in /usr/local/lib/python3.10/dist-packages (from sympy->torch>=1.9.0->tabpfn) (1.3.0)\n"
          ]
        }
      ]
    },
    {
      "cell_type": "code",
      "source": [
        "import sys\n",
        "from pathlib import Path\n",
        "import numpy as np\n",
        "import seaborn as sns\n",
        "import pandas as pd\n",
        "import torch\n",
        "import os\n",
        "import time\n",
        "import matplotlib.pyplot as plt\n",
        "from matplotlib.colors import ListedColormap\n",
        "from pathlib import Path\n",
        "\n",
        "from sklearn.metrics import accuracy_score\n",
        "from sklearn.metrics import confusion_matrix\n",
        "from sklearn.metrics import classification_report\n",
        "from sklearn.model_selection import train_test_split\n",
        "from sklearn.model_selection import StratifiedShuffleSplit\n",
        "from sklearn import metrics\n",
        "\n",
        "\n",
        "from tabpfn.scripts.transformer_prediction_interface import TabPFNClassifier\n",
        "from tabpfn.scripts.decision_boundary import DecisionBoundaryDisplay\n"
      ],
      "metadata": {
        "id": "iHX-lreLTfwb"
      },
      "execution_count": 47,
      "outputs": []
    },
    {
      "cell_type": "markdown",
      "source": [
        "## Model - MFDFA"
      ],
      "metadata": {
        "id": "iic73Gy8XMs7"
      }
    },
    {
      "cell_type": "code",
      "source": [
        "X = features_mfdfa\n",
        "y = labels\n",
        "\n",
        "skf=StratifiedShuffleSplit(n_splits=2,test_size=0.33)\n",
        "skf.get_n_splits(X, y)\n",
        "for train_index, test_index in skf.split(X, y):\n",
        "    print(\"TRAIN:\", train_index, \"TEST:\", test_index)\n",
        "    X_train, X_test = X[train_index], X[test_index]\n",
        "    y_train, y_test = y[train_index], y[test_index]\n"
      ],
      "metadata": {
        "id": "FskLdTiZV3tE",
        "colab": {
          "base_uri": "https://localhost:8080/"
        },
        "outputId": "ff58df2a-fe67-4448-a81c-8d140197c675"
      },
      "execution_count": 48,
      "outputs": [
        {
          "output_type": "stream",
          "name": "stdout",
          "text": [
            "TRAIN: [  7 290  12  65 168  51  85 133 149 231 218 153 132 160 130 269 244  77\n",
            " 291 253 147 230  39  71  70  48 157 299 293 223 229 216 186  80  92 128\n",
            " 258  78  88 114 179 192 162 268  60  38  76  27  69  29  96 194 208   8\n",
            " 240  59 205   1 181  57 120 126 129 201 136 182 270 111 261 109 296 262\n",
            "  17 122 226 243 115 116  32  20 228   2 113  44  31  47  81 102 107  98\n",
            " 251 202 213 117 106 279 246  21 140  46 118 235  42  83  86 152 276 266\n",
            " 165 287 188 259 103 211 199 217 247 255 298  52  91 280  93 200 286  75\n",
            " 267 191   6 224   3   0  72 263  40 166 121 177 221 249 104  95  54 185\n",
            "   4 282 158 242 148 297  55 150 173 222 278 252  13 164  15  45 180 112\n",
            " 292 138  35   9 176 110 214 156  36  74 135 178 167 127  23 206  99  66\n",
            " 232 215 141 256 277 203 271 295 250  18 123  94  89 239 288 225  33 210\n",
            " 260 212  97] TEST: [264  26  68 151 220  50 131 272 105  10 142 187  87 254  19 241  37  64\n",
            " 190 275  28 248  49  43 159  41 172 237 170  14  24  61 108  16 155 171\n",
            " 198 145   5 137 195 257 189 100 233 294 144  79 234 283  84 101 197 219\n",
            " 238 236 227 289 204 196 273 119 284 209  30 134  25 285  22 183 265  63\n",
            " 154  56 193 163 274 161  67 169 281 125  82 207  90 184  53 245 175  58\n",
            " 143 139  11 146  73  34 174 124  62]\n",
            "TRAIN: [228 146 170 295  79 127 236  59 129   0 276 294 246 280 266 157 130 221\n",
            " 118  48  45 238 271 264 142  86 123  36 182 248 201 298 168  47  90  83\n",
            "  35 256 108  81  60 133 151  98  31 161  76 251 174  89 269 211 219 218\n",
            "  34 291 249  78 160 299  63 243 194 255  27  55 126  28 260  91  64  80\n",
            " 197 285 275 102 226  66  51  33 242  67 169 203 233 239 116 273 115 292\n",
            " 224 117 252  72  15  44  74 261 135   2 230  18 136 184  53 208  77 220\n",
            "   6 283   1 191  85 177 189 153  16 223 214 240  12 281 245 124  39  56\n",
            " 125  50 290  29 104 155 175 148 181 162 107  11 216 254 257 215 259  20\n",
            " 287 165 128 270  97 111 204   7  92  30  73  87  58 258  71 288 272 152\n",
            " 250 277  95 147 227  19  54  82 187  13 132  41 120 190  69 222 176 196\n",
            " 286 109 267 268 134 131  23  61 105 297   8  62 231 163 200 172   3 265\n",
            " 225 154   4] TEST: [ 21 144 284 278 234 195 178  99 183  70 212 185  37 100  42  17 198 140\n",
            " 119 139 113 263 199 192  14  52 106  46 244 137  65  40   5 207  75 122\n",
            "  94 188 112  84 103 213 210 235 110 247 205 149 202 193 150 143 156 282\n",
            " 180 262 289 141 166   9 237 206  22  93 241 179 186  38 293 171  10 232\n",
            " 101 173 114 138 274  49  25  57  96 279  26 164 145 217  43  88 296  68\n",
            " 209 167 158  24 121 159  32 229 253]\n"
          ]
        }
      ]
    },
    {
      "cell_type": "code",
      "source": [
        "# N_ensemble_configurations defines how many estimators are averaged, it is bounded by #features * #classes\n",
        "# more ensemble members are slower, but more accurate\n",
        "classifier = TabPFNClassifier(device='cuda', N_ensemble_configurations=4)"
      ],
      "metadata": {
        "colab": {
          "base_uri": "https://localhost:8080/"
        },
        "id": "bkiz21heWXCC",
        "outputId": "617b0f38-2848-463a-ea1f-126899c86cd7"
      },
      "execution_count": 49,
      "outputs": [
        {
          "output_type": "stream",
          "name": "stdout",
          "text": [
            "We have to download the TabPFN, as there is no checkpoint at  /usr/local/lib/python3.10/dist-packages/tabpfn/models_diff/prior_diff_real_checkpoint_n_0_epoch_100.cpkt\n",
            "It has about 100MB, so this might take a moment.\n",
            "Loading model that can be used for inference only\n",
            "Using a Transformer with 25.82 M parameters\n"
          ]
        }
      ]
    },
    {
      "cell_type": "code",
      "source": [
        "start = time.time()\n",
        "classifier.fit(X_train, y_train)\n",
        "y_eval, p_eval = classifier.predict(X_test, return_winning_probability=True)\n",
        "print('Prediction time: ', time.time() - start, 'Accuracy', accuracy_score(y_test, y_eval))"
      ],
      "metadata": {
        "colab": {
          "base_uri": "https://localhost:8080/"
        },
        "id": "PD5N3pAPWaoK",
        "outputId": "cad01741-b136-4625-d269-38abfa1765ea"
      },
      "execution_count": 50,
      "outputs": [
        {
          "output_type": "stream",
          "name": "stdout",
          "text": [
            "Prediction time:  3.560373544692993 Accuracy 0.7777777777777778\n"
          ]
        }
      ]
    },
    {
      "cell_type": "code",
      "source": [
        "# print(file, type(file))\n",
        "out_table = pd.DataFrame(X_test.copy().astype(str))\n",
        "out_table['prediction'] = [f\"{y_e} (p={p_e:.2f})\" for y_e, p_e in zip(y_eval, p_eval)]\n",
        "out_table"
      ],
      "metadata": {
        "colab": {
          "base_uri": "https://localhost:8080/",
          "height": 522
        },
        "id": "D5XO-oCUWaqj",
        "outputId": "5e93f9fa-633e-422c-ca26-7cb5554aecbd"
      },
      "execution_count": 51,
      "outputs": [
        {
          "output_type": "stream",
          "name": "stderr",
          "text": [
            "/usr/local/lib/python3.10/dist-packages/ipykernel/ipkernel.py:283: DeprecationWarning: `should_run_async` will not call `transform_cell` automatically in the future. Please pass the result to `transformed_cell` argument and any exception that happen during thetransform in `preprocessing_exc_tuple` in IPython 7.17 and above.\n",
            "  and should_run_async(code)\n"
          ]
        },
        {
          "output_type": "execute_result",
          "data": {
            "text/plain": [
              "                      0                   1                   2  \\\n",
              "0   -0.0030339605358863  1.6787383990072515   21.48983439187723   \n",
              "1   -0.0042121500294008  0.3709992855221067   61938246740.91307   \n",
              "2   -0.0370505245971184  0.7870681237100506   3181386.194367592   \n",
              "3    0.0025166510006913   3.206368026872238  29.604657548398286   \n",
              "4   -0.0097502104074826  1.1334724684488569   1135.840999527289   \n",
              "..                  ...                 ...                 ...   \n",
              "94   0.0008302965574225   2.634603330455464  10.083088531699854   \n",
              "95  -0.0074251947182183  1.0496879569750557  347953.41525744094   \n",
              "96   0.0115362245706572   4.378279613960598   9.969109796502254   \n",
              "97  -0.0126807031235817   1.138990313120282   95619.71690683358   \n",
              "98   0.0031699911583676  1.1731643314811038  224704.84149864028   \n",
              "\n",
              "                     3                   4                    5  \\\n",
              "0    0.162299323466994  0.6103057974817241   0.0122624165498913   \n",
              "1   0.0181541327271301  1331.5555638020592   0.0008246886253257   \n",
              "2   0.3572831270436178   4378.978256579372  -0.0001182342022771   \n",
              "3    0.210431175785632  0.0952481927731026   0.0026637715343038   \n",
              "4   0.3164311083601032  28.570762170928685   0.0078964929417784   \n",
              "..                 ...                 ...                  ...   \n",
              "94  0.1801906747262822  0.2877886277385025   0.0161049802888144   \n",
              "95  0.2308204986466978   7234.430642921521   0.0016658779852606   \n",
              "96  0.2147479642575023  0.2642208492037191   0.0098526491768706   \n",
              "97  0.3102561794565922   4391.973565985573   0.0010600093155292   \n",
              "98  0.6060130507651442   7440.472010125694  -0.0016420384389282   \n",
              "\n",
              "                     6                   7                   8  \\\n",
              "0   2.7774661596027364   39.18101219702758  0.2845541430192575   \n",
              "1    4.989731516149149   20.29548227113867  0.0195241263561549   \n",
              "2   1.3376625158714184   303.7756391643444   0.352862524270628   \n",
              "3   3.7137697873623754   48.60565842537747  0.1956760931907806   \n",
              "4    2.427266260329932   37.85792267208152  0.2855470906881648   \n",
              "..                 ...                 ...                 ...   \n",
              "94   2.991162584699056  26.845052842230583  0.2471685286116194   \n",
              "95  2.1460280933229905   41.93478307878213  0.3454630347512751   \n",
              "96  1.5989654125323318  134.15859740340983  0.1477262212162829   \n",
              "97  1.9212266242947995   74.68776901279593  0.3763414136867886   \n",
              "98   1.356391392245799   63668.08785793566  0.6413253303201466   \n",
              "\n",
              "                     9  ...                  16                  17  \\\n",
              "0   0.9590776420648384  ...  2.5785591027793444    33.2466374112312   \n",
              "1   0.1143213232429432  ...   4.568273983122359  19.879484390859503   \n",
              "2    5.265911804194959  ...  1.3042734058881622   97.31046127219724   \n",
              "3   0.1406622477091808  ...   3.435760261863694  36.299558588652914   \n",
              "4   0.7858343968820324  ...   2.009778026199049     46.427183588825   \n",
              "..                 ...  ...                 ...                 ...   \n",
              "94  0.7385841434086851  ...   2.452185688392307  37.490785067567245   \n",
              "95  1.0009396725019195  ...   2.124836212696529  30.458396164110216   \n",
              "96   5.457857870330837  ...   2.583672281239778  19.903015258977828   \n",
              "97  1.9551921568203603  ...   1.978364907398136   46.57975735921115   \n",
              "98   5291.973311233931  ...   3.404913703827833   20.34969643094028   \n",
              "\n",
              "                    18                  19                   20  \\\n",
              "0   0.2626108654310453  0.8556056915069686   0.0042579742911846   \n",
              "1   0.0281580563795326  0.1515776435278965   0.0002883208322794   \n",
              "2   0.4534047077036461  1.9749573018364184   0.0006050575067874   \n",
              "3   0.2064026359982501  0.1010486220724405   0.0017355388212198   \n",
              "4   0.4073847117076913  1.2629842882591844   0.0055815911603309   \n",
              "..                 ...                 ...                  ...   \n",
              "94  0.2283260116446152  1.0410645205795357   0.0067608664189961   \n",
              "95  0.4309732631033693  0.8553621577894058   0.0002404226635991   \n",
              "96  0.2055985282814283  0.7736953164903471  -0.0025683170341027   \n",
              "97  0.2764438139148902  1.2560020954255215   0.0012098255705695   \n",
              "98  0.7033005088723698  0.3554902804701447  -0.0009399987385225   \n",
              "\n",
              "                    21                  22                  23  \\\n",
              "0   2.6520552499012497   42.66083498988001  0.3019511614505203   \n",
              "1    2.512266135295663   44.00407611811836  0.0313494452230337   \n",
              "2    2.019949706226179    75.5105277286625  0.5965107229462173   \n",
              "3    3.992484014295061   48.16744342921951  0.1473365673553511   \n",
              "4   2.5306255814271528   41.62105398851974  0.4320822514199891   \n",
              "..                 ...                 ...                 ...   \n",
              "94  2.7055392971334244   45.92827516939874  0.4075467193352424   \n",
              "95   2.062980350969971   64.13770949155199  0.4304791571166603   \n",
              "96  1.6251738621247782     120.20289261389  0.1712324499615464   \n",
              "97  2.2266790253972744   49.73896267582012  0.3205503584271459   \n",
              "98   1.604129951452243  22771.711094665287  0.6748547010241339   \n",
              "\n",
              "                    24  prediction  \n",
              "0   1.1084894684440338  0 (p=0.54)  \n",
              "1   0.6656627569186343  0 (p=0.81)  \n",
              "2   1.2177670847009707  1 (p=0.87)  \n",
              "3   0.1419710298528025  1 (p=0.87)  \n",
              "4   0.9335519318256208  1 (p=0.66)  \n",
              "..                 ...         ...  \n",
              "94  1.2567620449428984  0 (p=0.57)  \n",
              "95  1.7085752795947953  1 (p=0.88)  \n",
              "96   4.012924012933471  0 (p=0.69)  \n",
              "97  1.1262436645338691  1 (p=0.85)  \n",
              "98   4501.485141632255  1 (p=0.84)  \n",
              "\n",
              "[99 rows x 26 columns]"
            ],
            "text/html": [
              "\n",
              "  <div id=\"df-645d00d2-e4c4-41f8-ae41-40733ca38aa0\">\n",
              "    <div class=\"colab-df-container\">\n",
              "      <div>\n",
              "<style scoped>\n",
              "    .dataframe tbody tr th:only-of-type {\n",
              "        vertical-align: middle;\n",
              "    }\n",
              "\n",
              "    .dataframe tbody tr th {\n",
              "        vertical-align: top;\n",
              "    }\n",
              "\n",
              "    .dataframe thead th {\n",
              "        text-align: right;\n",
              "    }\n",
              "</style>\n",
              "<table border=\"1\" class=\"dataframe\">\n",
              "  <thead>\n",
              "    <tr style=\"text-align: right;\">\n",
              "      <th></th>\n",
              "      <th>0</th>\n",
              "      <th>1</th>\n",
              "      <th>2</th>\n",
              "      <th>3</th>\n",
              "      <th>4</th>\n",
              "      <th>5</th>\n",
              "      <th>6</th>\n",
              "      <th>7</th>\n",
              "      <th>8</th>\n",
              "      <th>9</th>\n",
              "      <th>...</th>\n",
              "      <th>16</th>\n",
              "      <th>17</th>\n",
              "      <th>18</th>\n",
              "      <th>19</th>\n",
              "      <th>20</th>\n",
              "      <th>21</th>\n",
              "      <th>22</th>\n",
              "      <th>23</th>\n",
              "      <th>24</th>\n",
              "      <th>prediction</th>\n",
              "    </tr>\n",
              "  </thead>\n",
              "  <tbody>\n",
              "    <tr>\n",
              "      <th>0</th>\n",
              "      <td>-0.0030339605358863</td>\n",
              "      <td>1.6787383990072515</td>\n",
              "      <td>21.48983439187723</td>\n",
              "      <td>0.162299323466994</td>\n",
              "      <td>0.6103057974817241</td>\n",
              "      <td>0.0122624165498913</td>\n",
              "      <td>2.7774661596027364</td>\n",
              "      <td>39.18101219702758</td>\n",
              "      <td>0.2845541430192575</td>\n",
              "      <td>0.9590776420648384</td>\n",
              "      <td>...</td>\n",
              "      <td>2.5785591027793444</td>\n",
              "      <td>33.2466374112312</td>\n",
              "      <td>0.2626108654310453</td>\n",
              "      <td>0.8556056915069686</td>\n",
              "      <td>0.0042579742911846</td>\n",
              "      <td>2.6520552499012497</td>\n",
              "      <td>42.66083498988001</td>\n",
              "      <td>0.3019511614505203</td>\n",
              "      <td>1.1084894684440338</td>\n",
              "      <td>0 (p=0.54)</td>\n",
              "    </tr>\n",
              "    <tr>\n",
              "      <th>1</th>\n",
              "      <td>-0.0042121500294008</td>\n",
              "      <td>0.3709992855221067</td>\n",
              "      <td>61938246740.91307</td>\n",
              "      <td>0.0181541327271301</td>\n",
              "      <td>1331.5555638020592</td>\n",
              "      <td>0.0008246886253257</td>\n",
              "      <td>4.989731516149149</td>\n",
              "      <td>20.29548227113867</td>\n",
              "      <td>0.0195241263561549</td>\n",
              "      <td>0.1143213232429432</td>\n",
              "      <td>...</td>\n",
              "      <td>4.568273983122359</td>\n",
              "      <td>19.879484390859503</td>\n",
              "      <td>0.0281580563795326</td>\n",
              "      <td>0.1515776435278965</td>\n",
              "      <td>0.0002883208322794</td>\n",
              "      <td>2.512266135295663</td>\n",
              "      <td>44.00407611811836</td>\n",
              "      <td>0.0313494452230337</td>\n",
              "      <td>0.6656627569186343</td>\n",
              "      <td>0 (p=0.81)</td>\n",
              "    </tr>\n",
              "    <tr>\n",
              "      <th>2</th>\n",
              "      <td>-0.0370505245971184</td>\n",
              "      <td>0.7870681237100506</td>\n",
              "      <td>3181386.194367592</td>\n",
              "      <td>0.3572831270436178</td>\n",
              "      <td>4378.978256579372</td>\n",
              "      <td>-0.0001182342022771</td>\n",
              "      <td>1.3376625158714184</td>\n",
              "      <td>303.7756391643444</td>\n",
              "      <td>0.352862524270628</td>\n",
              "      <td>5.265911804194959</td>\n",
              "      <td>...</td>\n",
              "      <td>1.3042734058881622</td>\n",
              "      <td>97.31046127219724</td>\n",
              "      <td>0.4534047077036461</td>\n",
              "      <td>1.9749573018364184</td>\n",
              "      <td>0.0006050575067874</td>\n",
              "      <td>2.019949706226179</td>\n",
              "      <td>75.5105277286625</td>\n",
              "      <td>0.5965107229462173</td>\n",
              "      <td>1.2177670847009707</td>\n",
              "      <td>1 (p=0.87)</td>\n",
              "    </tr>\n",
              "    <tr>\n",
              "      <th>3</th>\n",
              "      <td>0.0025166510006913</td>\n",
              "      <td>3.206368026872238</td>\n",
              "      <td>29.604657548398286</td>\n",
              "      <td>0.210431175785632</td>\n",
              "      <td>0.0952481927731026</td>\n",
              "      <td>0.0026637715343038</td>\n",
              "      <td>3.7137697873623754</td>\n",
              "      <td>48.60565842537747</td>\n",
              "      <td>0.1956760931907806</td>\n",
              "      <td>0.1406622477091808</td>\n",
              "      <td>...</td>\n",
              "      <td>3.435760261863694</td>\n",
              "      <td>36.299558588652914</td>\n",
              "      <td>0.2064026359982501</td>\n",
              "      <td>0.1010486220724405</td>\n",
              "      <td>0.0017355388212198</td>\n",
              "      <td>3.992484014295061</td>\n",
              "      <td>48.16744342921951</td>\n",
              "      <td>0.1473365673553511</td>\n",
              "      <td>0.1419710298528025</td>\n",
              "      <td>1 (p=0.87)</td>\n",
              "    </tr>\n",
              "    <tr>\n",
              "      <th>4</th>\n",
              "      <td>-0.0097502104074826</td>\n",
              "      <td>1.1334724684488569</td>\n",
              "      <td>1135.840999527289</td>\n",
              "      <td>0.3164311083601032</td>\n",
              "      <td>28.570762170928685</td>\n",
              "      <td>0.0078964929417784</td>\n",
              "      <td>2.427266260329932</td>\n",
              "      <td>37.85792267208152</td>\n",
              "      <td>0.2855470906881648</td>\n",
              "      <td>0.7858343968820324</td>\n",
              "      <td>...</td>\n",
              "      <td>2.009778026199049</td>\n",
              "      <td>46.427183588825</td>\n",
              "      <td>0.4073847117076913</td>\n",
              "      <td>1.2629842882591844</td>\n",
              "      <td>0.0055815911603309</td>\n",
              "      <td>2.5306255814271528</td>\n",
              "      <td>41.62105398851974</td>\n",
              "      <td>0.4320822514199891</td>\n",
              "      <td>0.9335519318256208</td>\n",
              "      <td>1 (p=0.66)</td>\n",
              "    </tr>\n",
              "    <tr>\n",
              "      <th>...</th>\n",
              "      <td>...</td>\n",
              "      <td>...</td>\n",
              "      <td>...</td>\n",
              "      <td>...</td>\n",
              "      <td>...</td>\n",
              "      <td>...</td>\n",
              "      <td>...</td>\n",
              "      <td>...</td>\n",
              "      <td>...</td>\n",
              "      <td>...</td>\n",
              "      <td>...</td>\n",
              "      <td>...</td>\n",
              "      <td>...</td>\n",
              "      <td>...</td>\n",
              "      <td>...</td>\n",
              "      <td>...</td>\n",
              "      <td>...</td>\n",
              "      <td>...</td>\n",
              "      <td>...</td>\n",
              "      <td>...</td>\n",
              "      <td>...</td>\n",
              "    </tr>\n",
              "    <tr>\n",
              "      <th>94</th>\n",
              "      <td>0.0008302965574225</td>\n",
              "      <td>2.634603330455464</td>\n",
              "      <td>10.083088531699854</td>\n",
              "      <td>0.1801906747262822</td>\n",
              "      <td>0.2877886277385025</td>\n",
              "      <td>0.0161049802888144</td>\n",
              "      <td>2.991162584699056</td>\n",
              "      <td>26.845052842230583</td>\n",
              "      <td>0.2471685286116194</td>\n",
              "      <td>0.7385841434086851</td>\n",
              "      <td>...</td>\n",
              "      <td>2.452185688392307</td>\n",
              "      <td>37.490785067567245</td>\n",
              "      <td>0.2283260116446152</td>\n",
              "      <td>1.0410645205795357</td>\n",
              "      <td>0.0067608664189961</td>\n",
              "      <td>2.7055392971334244</td>\n",
              "      <td>45.92827516939874</td>\n",
              "      <td>0.4075467193352424</td>\n",
              "      <td>1.2567620449428984</td>\n",
              "      <td>0 (p=0.57)</td>\n",
              "    </tr>\n",
              "    <tr>\n",
              "      <th>95</th>\n",
              "      <td>-0.0074251947182183</td>\n",
              "      <td>1.0496879569750557</td>\n",
              "      <td>347953.41525744094</td>\n",
              "      <td>0.2308204986466978</td>\n",
              "      <td>7234.430642921521</td>\n",
              "      <td>0.0016658779852606</td>\n",
              "      <td>2.1460280933229905</td>\n",
              "      <td>41.93478307878213</td>\n",
              "      <td>0.3454630347512751</td>\n",
              "      <td>1.0009396725019195</td>\n",
              "      <td>...</td>\n",
              "      <td>2.124836212696529</td>\n",
              "      <td>30.458396164110216</td>\n",
              "      <td>0.4309732631033693</td>\n",
              "      <td>0.8553621577894058</td>\n",
              "      <td>0.0002404226635991</td>\n",
              "      <td>2.062980350969971</td>\n",
              "      <td>64.13770949155199</td>\n",
              "      <td>0.4304791571166603</td>\n",
              "      <td>1.7085752795947953</td>\n",
              "      <td>1 (p=0.88)</td>\n",
              "    </tr>\n",
              "    <tr>\n",
              "      <th>96</th>\n",
              "      <td>0.0115362245706572</td>\n",
              "      <td>4.378279613960598</td>\n",
              "      <td>9.969109796502254</td>\n",
              "      <td>0.2147479642575023</td>\n",
              "      <td>0.2642208492037191</td>\n",
              "      <td>0.0098526491768706</td>\n",
              "      <td>1.5989654125323318</td>\n",
              "      <td>134.15859740340983</td>\n",
              "      <td>0.1477262212162829</td>\n",
              "      <td>5.457857870330837</td>\n",
              "      <td>...</td>\n",
              "      <td>2.583672281239778</td>\n",
              "      <td>19.903015258977828</td>\n",
              "      <td>0.2055985282814283</td>\n",
              "      <td>0.7736953164903471</td>\n",
              "      <td>-0.0025683170341027</td>\n",
              "      <td>1.6251738621247782</td>\n",
              "      <td>120.20289261389</td>\n",
              "      <td>0.1712324499615464</td>\n",
              "      <td>4.012924012933471</td>\n",
              "      <td>0 (p=0.69)</td>\n",
              "    </tr>\n",
              "    <tr>\n",
              "      <th>97</th>\n",
              "      <td>-0.0126807031235817</td>\n",
              "      <td>1.138990313120282</td>\n",
              "      <td>95619.71690683358</td>\n",
              "      <td>0.3102561794565922</td>\n",
              "      <td>4391.973565985573</td>\n",
              "      <td>0.0010600093155292</td>\n",
              "      <td>1.9212266242947995</td>\n",
              "      <td>74.68776901279593</td>\n",
              "      <td>0.3763414136867886</td>\n",
              "      <td>1.9551921568203603</td>\n",
              "      <td>...</td>\n",
              "      <td>1.978364907398136</td>\n",
              "      <td>46.57975735921115</td>\n",
              "      <td>0.2764438139148902</td>\n",
              "      <td>1.2560020954255215</td>\n",
              "      <td>0.0012098255705695</td>\n",
              "      <td>2.2266790253972744</td>\n",
              "      <td>49.73896267582012</td>\n",
              "      <td>0.3205503584271459</td>\n",
              "      <td>1.1262436645338691</td>\n",
              "      <td>1 (p=0.85)</td>\n",
              "    </tr>\n",
              "    <tr>\n",
              "      <th>98</th>\n",
              "      <td>0.0031699911583676</td>\n",
              "      <td>1.1731643314811038</td>\n",
              "      <td>224704.84149864028</td>\n",
              "      <td>0.6060130507651442</td>\n",
              "      <td>7440.472010125694</td>\n",
              "      <td>-0.0016420384389282</td>\n",
              "      <td>1.356391392245799</td>\n",
              "      <td>63668.08785793566</td>\n",
              "      <td>0.6413253303201466</td>\n",
              "      <td>5291.973311233931</td>\n",
              "      <td>...</td>\n",
              "      <td>3.404913703827833</td>\n",
              "      <td>20.34969643094028</td>\n",
              "      <td>0.7033005088723698</td>\n",
              "      <td>0.3554902804701447</td>\n",
              "      <td>-0.0009399987385225</td>\n",
              "      <td>1.604129951452243</td>\n",
              "      <td>22771.711094665287</td>\n",
              "      <td>0.6748547010241339</td>\n",
              "      <td>4501.485141632255</td>\n",
              "      <td>1 (p=0.84)</td>\n",
              "    </tr>\n",
              "  </tbody>\n",
              "</table>\n",
              "<p>99 rows × 26 columns</p>\n",
              "</div>\n",
              "      <button class=\"colab-df-convert\" onclick=\"convertToInteractive('df-645d00d2-e4c4-41f8-ae41-40733ca38aa0')\"\n",
              "              title=\"Convert this dataframe to an interactive table.\"\n",
              "              style=\"display:none;\">\n",
              "        \n",
              "  <svg xmlns=\"http://www.w3.org/2000/svg\" height=\"24px\"viewBox=\"0 0 24 24\"\n",
              "       width=\"24px\">\n",
              "    <path d=\"M0 0h24v24H0V0z\" fill=\"none\"/>\n",
              "    <path d=\"M18.56 5.44l.94 2.06.94-2.06 2.06-.94-2.06-.94-.94-2.06-.94 2.06-2.06.94zm-11 1L8.5 8.5l.94-2.06 2.06-.94-2.06-.94L8.5 2.5l-.94 2.06-2.06.94zm10 10l.94 2.06.94-2.06 2.06-.94-2.06-.94-.94-2.06-.94 2.06-2.06.94z\"/><path d=\"M17.41 7.96l-1.37-1.37c-.4-.4-.92-.59-1.43-.59-.52 0-1.04.2-1.43.59L10.3 9.45l-7.72 7.72c-.78.78-.78 2.05 0 2.83L4 21.41c.39.39.9.59 1.41.59.51 0 1.02-.2 1.41-.59l7.78-7.78 2.81-2.81c.8-.78.8-2.07 0-2.86zM5.41 20L4 18.59l7.72-7.72 1.47 1.35L5.41 20z\"/>\n",
              "  </svg>\n",
              "      </button>\n",
              "      \n",
              "  <style>\n",
              "    .colab-df-container {\n",
              "      display:flex;\n",
              "      flex-wrap:wrap;\n",
              "      gap: 12px;\n",
              "    }\n",
              "\n",
              "    .colab-df-convert {\n",
              "      background-color: #E8F0FE;\n",
              "      border: none;\n",
              "      border-radius: 50%;\n",
              "      cursor: pointer;\n",
              "      display: none;\n",
              "      fill: #1967D2;\n",
              "      height: 32px;\n",
              "      padding: 0 0 0 0;\n",
              "      width: 32px;\n",
              "    }\n",
              "\n",
              "    .colab-df-convert:hover {\n",
              "      background-color: #E2EBFA;\n",
              "      box-shadow: 0px 1px 2px rgba(60, 64, 67, 0.3), 0px 1px 3px 1px rgba(60, 64, 67, 0.15);\n",
              "      fill: #174EA6;\n",
              "    }\n",
              "\n",
              "    [theme=dark] .colab-df-convert {\n",
              "      background-color: #3B4455;\n",
              "      fill: #D2E3FC;\n",
              "    }\n",
              "\n",
              "    [theme=dark] .colab-df-convert:hover {\n",
              "      background-color: #434B5C;\n",
              "      box-shadow: 0px 1px 3px 1px rgba(0, 0, 0, 0.15);\n",
              "      filter: drop-shadow(0px 1px 2px rgba(0, 0, 0, 0.3));\n",
              "      fill: #FFFFFF;\n",
              "    }\n",
              "  </style>\n",
              "\n",
              "      <script>\n",
              "        const buttonEl =\n",
              "          document.querySelector('#df-645d00d2-e4c4-41f8-ae41-40733ca38aa0 button.colab-df-convert');\n",
              "        buttonEl.style.display =\n",
              "          google.colab.kernel.accessAllowed ? 'block' : 'none';\n",
              "\n",
              "        async function convertToInteractive(key) {\n",
              "          const element = document.querySelector('#df-645d00d2-e4c4-41f8-ae41-40733ca38aa0');\n",
              "          const dataTable =\n",
              "            await google.colab.kernel.invokeFunction('convertToInteractive',\n",
              "                                                     [key], {});\n",
              "          if (!dataTable) return;\n",
              "\n",
              "          const docLinkHtml = 'Like what you see? Visit the ' +\n",
              "            '<a target=\"_blank\" href=https://colab.research.google.com/notebooks/data_table.ipynb>data table notebook</a>'\n",
              "            + ' to learn more about interactive tables.';\n",
              "          element.innerHTML = '';\n",
              "          dataTable['output_type'] = 'display_data';\n",
              "          await google.colab.output.renderOutput(dataTable, element);\n",
              "          const docLink = document.createElement('div');\n",
              "          docLink.innerHTML = docLinkHtml;\n",
              "          element.appendChild(docLink);\n",
              "        }\n",
              "      </script>\n",
              "    </div>\n",
              "  </div>\n",
              "  "
            ]
          },
          "metadata": {},
          "execution_count": 51
        }
      ]
    },
    {
      "cell_type": "code",
      "source": [
        "# PLOTTING\n",
        "fig = plt.figure(figsize=(10,10))\n",
        "ax = fig.add_subplot(111)\n",
        "cm = plt.cm.RdBu\n",
        "cm_bright = ListedColormap([\"#FF0000\", \"#0000FF\"])\n",
        "\n",
        "# Plot the training points\n",
        "vfunc = np.vectorize(lambda x : np.where(classifier.classes_ == x)[0])\n",
        "y_train_index = vfunc(y_train)\n",
        "y_train_index = y_train_index == 0\n",
        "\n",
        "ax.scatter(X_train[:, 0], X_train[:, 1], c=y_train_index, cmap=cm_bright)\n",
        "\n",
        "classifier.fit(X_train[:, 0:2], y_train_index)\n",
        "\n",
        "DecisionBoundaryDisplay.from_estimator(\n",
        "    classifier, X_train[:, 0:2], alpha=0.6, ax=ax, eps=2.0, grid_resolution=25, response_method=\"predict_proba\"\n",
        ")"
      ],
      "metadata": {
        "colab": {
          "base_uri": "https://localhost:8080/",
          "height": 989
        },
        "id": "C4JFs87dWatJ",
        "outputId": "5193156a-5183-4981-949f-04da48bd4c04"
      },
      "execution_count": 52,
      "outputs": [
        {
          "output_type": "stream",
          "name": "stderr",
          "text": [
            "/usr/local/lib/python3.10/dist-packages/ipykernel/ipkernel.py:283: DeprecationWarning: `should_run_async` will not call `transform_cell` automatically in the future. Please pass the result to `transformed_cell` argument and any exception that happen during thetransform in `preprocessing_exc_tuple` in IPython 7.17 and above.\n",
            "  and should_run_async(code)\n",
            "<frozen importlib._bootstrap>:914: ImportWarning: APICoreClientInfoImportHook.find_spec() not found; falling back to find_module()\n",
            "<frozen importlib._bootstrap>:914: ImportWarning: _PyDriveImportHook.find_spec() not found; falling back to find_module()\n",
            "<frozen importlib._bootstrap>:914: ImportWarning: _OpenCVImportHook.find_spec() not found; falling back to find_module()\n",
            "<frozen importlib._bootstrap>:914: ImportWarning: _BokehImportHook.find_spec() not found; falling back to find_module()\n",
            "<frozen importlib._bootstrap>:914: ImportWarning: _AltairImportHook.find_spec() not found; falling back to find_module()\n"
          ]
        },
        {
          "output_type": "execute_result",
          "data": {
            "text/plain": [
              "<tabpfn.scripts.decision_boundary.DecisionBoundaryDisplay at 0x7f8efdaafee0>"
            ]
          },
          "metadata": {},
          "execution_count": 52
        },
        {
          "output_type": "display_data",
          "data": {
            "text/plain": [
              "<Figure size 1000x1000 with 1 Axes>"
            ],
            "image/png": "[encoded data removed]"
          },
          "metadata": {}
        }
      ]
    },
    {
      "cell_type": "code",
      "source": [],
      "metadata": {
        "id": "EoruhR3cIIeI",
        "colab": {
          "base_uri": "https://localhost:8080/"
        },
        "outputId": "6442b146-89ee-49f4-d544-3e51ce084f7e"
      },
      "execution_count": 52,
      "outputs": [
        {
          "output_type": "stream",
          "name": "stderr",
          "text": [
            "/usr/local/lib/python3.10/dist-packages/ipykernel/ipkernel.py:283: DeprecationWarning: `should_run_async` will not call `transform_cell` automatically in the future. Please pass the result to `transformed_cell` argument and any exception that happen during thetransform in `preprocessing_exc_tuple` in IPython 7.17 and above.\n",
            "  and should_run_async(code)\n"
          ]
        }
      ]
    },
    {
      "cell_type": "markdown",
      "source": [
        "## Model - SURFBOARD"
      ],
      "metadata": {
        "id": "Vz7r5qkTYy5w"
      }
    },
    {
      "cell_type": "code",
      "source": [
        "X = features_surfboard\n",
        "y = labels\n",
        "\n",
        "skf=StratifiedShuffleSplit(n_splits=2,test_size=0.33)\n",
        "skf.get_n_splits(X, y)\n",
        "for train_index, test_index in skf.split(X, y):\n",
        "    print(\"TRAIN:\", train_index, \"TEST:\", test_index)\n",
        "    X_train, X_test = X[train_index], X[test_index]\n",
        "    y_train, y_test = y[train_index], y[test_index]"
      ],
      "metadata": {
        "id": "_0cGeHHHYy5w",
        "colab": {
          "base_uri": "https://localhost:8080/"
        },
        "outputId": "de334021-ec03-4bdb-9c37-860c754364c4"
      },
      "execution_count": 93,
      "outputs": [
        {
          "output_type": "stream",
          "name": "stdout",
          "text": [
            "TRAIN: [299  52 112 282 273 199 183 208  21 223  74 135  78 253 258 141 274  75\n",
            "  38 242  56 153 257 211  46  47 186 235 285  37  53  31 275 232 254   3\n",
            "   7  68 203  54 132 288  41 207  39 104   0 146 265 237 179  26 239 107\n",
            " 154 139 243 103  51 162  43  81 272 113  80 151 166 277 281  55 158 230\n",
            " 263 231   6 227 185  79 152 105  57 256 142 204 225  24 111 278  44 164\n",
            "  27 291 296 181 234 198 221  66 173  48 298 193 233 147 100 269 224  70\n",
            " 251  85  91 140  76  32 238 123 236  23  17 177 219  96  89 245 261 168\n",
            "  25 216 149  64  40 229  93  99 228 117 218 240  87 160 191 287  10 270\n",
            " 118  20  69 144 176 163 194  29 131  61 145 133 260 209 192  72  94 148\n",
            "  49   2 197 259 250 213 255 157 293 169  92 283  84 143 268  14 174 292\n",
            " 190   5  88 127   9 178  12 244 280 217 214 122  86  83  45  50 134  36\n",
            " 137  42 279] TEST: [ 22 120 294 187  62 159 201  34 128 290 102 155  97 249 115 195  65 130\n",
            "  16   8 289  77 252  15 212  11 196 184 114  35 129   1 110 182 226   4\n",
            " 286  60  71 247 109 189 126 121 172 116  98 138 266  90 284 248 101 125\n",
            " 175 262 156 180 264 246 108 222  58  95  33  18  13 106 171 124 215 267\n",
            " 276 150 295 136  30 241 161 188 170 202 220 165 271 297 210  63  59 119\n",
            "  73 200 205 206 167  28  67  82  19]\n",
            "TRAIN: [100  15 107 284 239  52  75 179  45   4 274 158  68 145  17 129  62  18\n",
            " 117 191  85 168  93 200  44 144 184 244 253  41  64 237  16   0 218 140\n",
            "  71 261   7 224 114  77 263 270  47  66 242 298 195  10  27  23 192  83\n",
            " 137 163 262 113  31 157 174 147 171 231  35  95 268 185 212 291  19 240\n",
            " 227  87 153 235 102 277 288  81 186 155 108 120  30 281  34 154 248 125\n",
            " 204  56 273 152 205  94 272 182 275 175 166 278  88 289  25 220 127 290\n",
            " 197 222 103  37 294 226  86 232  73  80 126  43  99 104 245 229 206 141\n",
            " 215 122 257   1 109 286 201 269 264 164  33 170 128 146  90  72 282 110\n",
            "  21  38 292  55 247 254 178 233  14 172 131   2 202 214 230 159  51  58\n",
            " 181  98  57 199 149 187  50 150 194 162 258 138 132 156 211 198 219  60\n",
            " 203 297 246 101 208 180 267  70  46 279  82 119  29 134 161 124  26  79\n",
            "   8  48 148] TEST: [ 42  63 210 236 243  76  53 142   3  49 283 280 265  28 216  54 165  39\n",
            " 259 249 121 271 173 225   6 135 276 167 295 228 136 293  96 112  69 169\n",
            "  32  65 207 196  13 130  40 296  22 255 260 183 177 115 151   9 118  61\n",
            " 213 133 256 252 106 234 160 105 217 299  74 250 176  11 287  89 143  20\n",
            " 238 266  67  12   5 188 190  91 241 221  97  59 223 209  78 123 189 251\n",
            "  92 285  36  24  84 139 116 111 193]\n"
          ]
        }
      ]
    },
    {
      "cell_type": "code",
      "source": [
        "# N_ensemble_configurations defines how many estimators are averaged, it is bounded by #features * #classes\n",
        "# more ensemble members are slower, but more accurate\n",
        "classifier = TabPFNClassifier(device='cuda', N_ensemble_configurations=4)"
      ],
      "metadata": {
        "colab": {
          "base_uri": "https://localhost:8080/"
        },
        "outputId": "5fa741a6-8b90-4ae5-a6b4-e78a54b7557a",
        "id": "d4cspyFBYy5x"
      },
      "execution_count": 94,
      "outputs": [
        {
          "output_type": "stream",
          "name": "stderr",
          "text": [
            "/usr/local/lib/python3.10/dist-packages/ipykernel/ipkernel.py:283: DeprecationWarning: `should_run_async` will not call `transform_cell` automatically in the future. Please pass the result to `transformed_cell` argument and any exception that happen during thetransform in `preprocessing_exc_tuple` in IPython 7.17 and above.\n",
            "  and should_run_async(code)\n"
          ]
        },
        {
          "output_type": "stream",
          "name": "stdout",
          "text": [
            "Loading model that can be used for inference only\n",
            "Using a Transformer with 25.82 M parameters\n"
          ]
        }
      ]
    },
    {
      "cell_type": "code",
      "source": [
        "start = time.time()\n",
        "classifier.fit(X_train, y_train)\n",
        "y_eval, p_eval = classifier.predict(X_test, return_winning_probability=True)\n",
        "print('Prediction time: ', time.time() - start, 'Accuracy', accuracy_score(y_test, y_eval))"
      ],
      "metadata": {
        "colab": {
          "base_uri": "https://localhost:8080/"
        },
        "outputId": "7a419c15-90bd-4f3b-eeb9-dd2c85963795",
        "id": "-Co_hTRaYy5x"
      },
      "execution_count": 95,
      "outputs": [
        {
          "output_type": "stream",
          "name": "stdout",
          "text": [
            "Prediction time:  0.35117387771606445 Accuracy 0.9292929292929293\n"
          ]
        }
      ]
    },
    {
      "cell_type": "code",
      "source": [
        "# print(file, type(file))\n",
        "out_table = pd.DataFrame(X_test.copy().astype(str))\n",
        "out_table['prediction'] = [f\"{y_e} (p={p_e:.2f})\" for y_e, p_e in zip(y_eval, p_eval)]\n",
        "out_table"
      ],
      "metadata": {
        "colab": {
          "base_uri": "https://localhost:8080/",
          "height": 522
        },
        "outputId": "20bc72ab-ec22-4def-b5d8-52115c2911d7",
        "id": "H9xlFIJqYy5x"
      },
      "execution_count": 96,
      "outputs": [
        {
          "output_type": "stream",
          "name": "stderr",
          "text": [
            "/usr/local/lib/python3.10/dist-packages/ipykernel/ipkernel.py:283: DeprecationWarning: `should_run_async` will not call `transform_cell` automatically in the future. Please pass the result to `transformed_cell` argument and any exception that happen during thetransform in `preprocessing_exc_tuple` in IPython 7.17 and above.\n",
            "  and should_run_async(code)\n"
          ]
        },
        {
          "output_type": "execute_result",
          "data": {
            "text/plain": [
              "             0          1           2           3           4            5  \\\n",
              "0   -389.96725  173.08925  -23.397747   -7.033869  -12.179902   -1.3216443   \n",
              "1   -407.29227  189.51756  -7.1781077   4.6714387  -18.152048     8.825323   \n",
              "2   -449.85632  218.71352   -35.23539    8.786652   -9.931949    5.1847825   \n",
              "3   -284.76666    175.359  -25.403389  -23.800772   -4.687356    -5.834054   \n",
              "4   -396.98355  194.12018  -7.2452393  -3.9313507  -18.225883    14.842001   \n",
              "..         ...        ...         ...         ...         ...          ...   \n",
              "94   -636.6619  177.32437   -2.891049   20.717958  -3.1091294    11.020821   \n",
              "95  -614.54846  181.38278  -15.022883  -2.4204514   2.2711918  -0.61222655   \n",
              "96  -467.89523  179.28506  -2.3041742  -3.5265412   11.970174    -16.91969   \n",
              "97   -484.6904   205.4088  -30.984093   -8.069575    9.728664    2.9180937   \n",
              "98  -312.29672  107.54585  -3.7522583  -7.1718655  -15.024854  -0.58251685   \n",
              "\n",
              "               6                    7                   8           9  ...  \\\n",
              "0     -1.7724363   -32.72616593763643  16.855289148589346   1.9708587  ...   \n",
              "1      -8.715303   -34.09813628806678  17.791046392336963    2.253645  ...   \n",
              "2      16.758387   -35.14270619015785  18.399646775228547   1.6876936  ...   \n",
              "3      6.3964515  -24.021015452228752   9.480668838430788   1.7301054  ...   \n",
              "4       9.465294   -30.38671651153079  13.540724158013786   2.0438018  ...   \n",
              "..           ...                  ...                 ...         ...  ...   \n",
              "94     12.262531   -59.47295143675222   11.14723029754747  0.47234994  ...   \n",
              "95     -9.894431   -49.98363208783536   21.71206845530756   1.0865927  ...   \n",
              "96  -0.020664888   -38.39027522069757  17.900874122523625    1.724115  ...   \n",
              "97    -4.3010845  -38.750474119230496  17.792107217616838   1.4105923  ...   \n",
              "98    -2.3188655  -21.903955833379733   17.37347435612994     2.08371  ...   \n",
              "\n",
              "            49         50          51          52           53           54  \\\n",
              "0    166.80658   61.01615    6.507155  -3.0319393   -20.628756   -13.208178   \n",
              "1   114.907585   62.71888  -13.768102   2.8909757   -39.559315   -23.812899   \n",
              "2    180.62392   29.06069   20.777254   15.494036   -11.727503   -19.667347   \n",
              "3    176.21257   30.95747  -6.6335435   -17.78278     -25.9077  -13.3453045   \n",
              "4    151.93222   51.59963   2.4421828  -17.598387   -3.9334302   -14.747112   \n",
              "..         ...        ...         ...         ...          ...          ...   \n",
              "94   132.48546   97.24253   31.909134   1.5595394   -3.0858047   -21.096077   \n",
              "95   121.24879   68.03701   14.268895   -3.584215   -22.855211   -17.974335   \n",
              "96   145.53972   87.53728  -3.9992208     2.15434   -14.989022    -20.22355   \n",
              "97    177.6421    76.2815  -7.1659446   3.1119401    -9.991588    -38.74843   \n",
              "98   112.17846  39.527878   -7.038567  -3.0073428  -15.4070835    -17.04858   \n",
              "\n",
              "              55          56                  57  prediction  \n",
              "0     -12.545431  -6.6882973   24.45432300994203  0 (p=0.95)  \n",
              "1     -25.229977  -29.284222   23.12402066195748  1 (p=0.67)  \n",
              "2      -9.635166  -4.8293695   22.89190881814189  1 (p=1.00)  \n",
              "3       9.132959  -13.506291  12.490237117802575  1 (p=0.96)  \n",
              "4      6.9696507   5.8438025  13.338254729757317  1 (p=1.00)  \n",
              "..           ...         ...                 ...         ...  \n",
              "94    -5.4527383  -11.901666    22.6097996315182  0 (p=0.98)  \n",
              "95    -12.237368    7.269744  27.869237010223618  0 (p=1.00)  \n",
              "96  0.0011808715  -2.7118526   26.13311437095132  0 (p=0.93)  \n",
              "97   -10.4913845   -2.174562   29.50257427041013  0 (p=0.95)  \n",
              "98   -0.19486633  -19.643944   24.84102168815703  1 (p=0.99)  \n",
              "\n",
              "[99 rows x 59 columns]"
            ],
            "text/html": [
              "\n",
              "  <div id=\"df-24ab8483-c873-4fee-9875-ca77f3d8504e\">\n",
              "    <div class=\"colab-df-container\">\n",
              "      <div>\n",
              "<style scoped>\n",
              "    .dataframe tbody tr th:only-of-type {\n",
              "        vertical-align: middle;\n",
              "    }\n",
              "\n",
              "    .dataframe tbody tr th {\n",
              "        vertical-align: top;\n",
              "    }\n",
              "\n",
              "    .dataframe thead th {\n",
              "        text-align: right;\n",
              "    }\n",
              "</style>\n",
              "<table border=\"1\" class=\"dataframe\">\n",
              "  <thead>\n",
              "    <tr style=\"text-align: right;\">\n",
              "      <th></th>\n",
              "      <th>0</th>\n",
              "      <th>1</th>\n",
              "      <th>2</th>\n",
              "      <th>3</th>\n",
              "      <th>4</th>\n",
              "      <th>5</th>\n",
              "      <th>6</th>\n",
              "      <th>7</th>\n",
              "      <th>8</th>\n",
              "      <th>9</th>\n",
              "      <th>...</th>\n",
              "      <th>49</th>\n",
              "      <th>50</th>\n",
              "      <th>51</th>\n",
              "      <th>52</th>\n",
              "      <th>53</th>\n",
              "      <th>54</th>\n",
              "      <th>55</th>\n",
              "      <th>56</th>\n",
              "      <th>57</th>\n",
              "      <th>prediction</th>\n",
              "    </tr>\n",
              "  </thead>\n",
              "  <tbody>\n",
              "    <tr>\n",
              "      <th>0</th>\n",
              "      <td>-389.96725</td>\n",
              "      <td>173.08925</td>\n",
              "      <td>-23.397747</td>\n",
              "      <td>-7.033869</td>\n",
              "      <td>-12.179902</td>\n",
              "      <td>-1.3216443</td>\n",
              "      <td>-1.7724363</td>\n",
              "      <td>-32.72616593763643</td>\n",
              "      <td>16.855289148589346</td>\n",
              "      <td>1.9708587</td>\n",
              "      <td>...</td>\n",
              "      <td>166.80658</td>\n",
              "      <td>61.01615</td>\n",
              "      <td>6.507155</td>\n",
              "      <td>-3.0319393</td>\n",
              "      <td>-20.628756</td>\n",
              "      <td>-13.208178</td>\n",
              "      <td>-12.545431</td>\n",
              "      <td>-6.6882973</td>\n",
              "      <td>24.45432300994203</td>\n",
              "      <td>0 (p=0.95)</td>\n",
              "    </tr>\n",
              "    <tr>\n",
              "      <th>1</th>\n",
              "      <td>-407.29227</td>\n",
              "      <td>189.51756</td>\n",
              "      <td>-7.1781077</td>\n",
              "      <td>4.6714387</td>\n",
              "      <td>-18.152048</td>\n",
              "      <td>8.825323</td>\n",
              "      <td>-8.715303</td>\n",
              "      <td>-34.09813628806678</td>\n",
              "      <td>17.791046392336963</td>\n",
              "      <td>2.253645</td>\n",
              "      <td>...</td>\n",
              "      <td>114.907585</td>\n",
              "      <td>62.71888</td>\n",
              "      <td>-13.768102</td>\n",
              "      <td>2.8909757</td>\n",
              "      <td>-39.559315</td>\n",
              "      <td>-23.812899</td>\n",
              "      <td>-25.229977</td>\n",
              "      <td>-29.284222</td>\n",
              "      <td>23.12402066195748</td>\n",
              "      <td>1 (p=0.67)</td>\n",
              "    </tr>\n",
              "    <tr>\n",
              "      <th>2</th>\n",
              "      <td>-449.85632</td>\n",
              "      <td>218.71352</td>\n",
              "      <td>-35.23539</td>\n",
              "      <td>8.786652</td>\n",
              "      <td>-9.931949</td>\n",
              "      <td>5.1847825</td>\n",
              "      <td>16.758387</td>\n",
              "      <td>-35.14270619015785</td>\n",
              "      <td>18.399646775228547</td>\n",
              "      <td>1.6876936</td>\n",
              "      <td>...</td>\n",
              "      <td>180.62392</td>\n",
              "      <td>29.06069</td>\n",
              "      <td>20.777254</td>\n",
              "      <td>15.494036</td>\n",
              "      <td>-11.727503</td>\n",
              "      <td>-19.667347</td>\n",
              "      <td>-9.635166</td>\n",
              "      <td>-4.8293695</td>\n",
              "      <td>22.89190881814189</td>\n",
              "      <td>1 (p=1.00)</td>\n",
              "    </tr>\n",
              "    <tr>\n",
              "      <th>3</th>\n",
              "      <td>-284.76666</td>\n",
              "      <td>175.359</td>\n",
              "      <td>-25.403389</td>\n",
              "      <td>-23.800772</td>\n",
              "      <td>-4.687356</td>\n",
              "      <td>-5.834054</td>\n",
              "      <td>6.3964515</td>\n",
              "      <td>-24.021015452228752</td>\n",
              "      <td>9.480668838430788</td>\n",
              "      <td>1.7301054</td>\n",
              "      <td>...</td>\n",
              "      <td>176.21257</td>\n",
              "      <td>30.95747</td>\n",
              "      <td>-6.6335435</td>\n",
              "      <td>-17.78278</td>\n",
              "      <td>-25.9077</td>\n",
              "      <td>-13.3453045</td>\n",
              "      <td>9.132959</td>\n",
              "      <td>-13.506291</td>\n",
              "      <td>12.490237117802575</td>\n",
              "      <td>1 (p=0.96)</td>\n",
              "    </tr>\n",
              "    <tr>\n",
              "      <th>4</th>\n",
              "      <td>-396.98355</td>\n",
              "      <td>194.12018</td>\n",
              "      <td>-7.2452393</td>\n",
              "      <td>-3.9313507</td>\n",
              "      <td>-18.225883</td>\n",
              "      <td>14.842001</td>\n",
              "      <td>9.465294</td>\n",
              "      <td>-30.38671651153079</td>\n",
              "      <td>13.540724158013786</td>\n",
              "      <td>2.0438018</td>\n",
              "      <td>...</td>\n",
              "      <td>151.93222</td>\n",
              "      <td>51.59963</td>\n",
              "      <td>2.4421828</td>\n",
              "      <td>-17.598387</td>\n",
              "      <td>-3.9334302</td>\n",
              "      <td>-14.747112</td>\n",
              "      <td>6.9696507</td>\n",
              "      <td>5.8438025</td>\n",
              "      <td>13.338254729757317</td>\n",
              "      <td>1 (p=1.00)</td>\n",
              "    </tr>\n",
              "    <tr>\n",
              "      <th>...</th>\n",
              "      <td>...</td>\n",
              "      <td>...</td>\n",
              "      <td>...</td>\n",
              "      <td>...</td>\n",
              "      <td>...</td>\n",
              "      <td>...</td>\n",
              "      <td>...</td>\n",
              "      <td>...</td>\n",
              "      <td>...</td>\n",
              "      <td>...</td>\n",
              "      <td>...</td>\n",
              "      <td>...</td>\n",
              "      <td>...</td>\n",
              "      <td>...</td>\n",
              "      <td>...</td>\n",
              "      <td>...</td>\n",
              "      <td>...</td>\n",
              "      <td>...</td>\n",
              "      <td>...</td>\n",
              "      <td>...</td>\n",
              "      <td>...</td>\n",
              "    </tr>\n",
              "    <tr>\n",
              "      <th>94</th>\n",
              "      <td>-636.6619</td>\n",
              "      <td>177.32437</td>\n",
              "      <td>-2.891049</td>\n",
              "      <td>20.717958</td>\n",
              "      <td>-3.1091294</td>\n",
              "      <td>11.020821</td>\n",
              "      <td>12.262531</td>\n",
              "      <td>-59.47295143675222</td>\n",
              "      <td>11.14723029754747</td>\n",
              "      <td>0.47234994</td>\n",
              "      <td>...</td>\n",
              "      <td>132.48546</td>\n",
              "      <td>97.24253</td>\n",
              "      <td>31.909134</td>\n",
              "      <td>1.5595394</td>\n",
              "      <td>-3.0858047</td>\n",
              "      <td>-21.096077</td>\n",
              "      <td>-5.4527383</td>\n",
              "      <td>-11.901666</td>\n",
              "      <td>22.6097996315182</td>\n",
              "      <td>0 (p=0.98)</td>\n",
              "    </tr>\n",
              "    <tr>\n",
              "      <th>95</th>\n",
              "      <td>-614.54846</td>\n",
              "      <td>181.38278</td>\n",
              "      <td>-15.022883</td>\n",
              "      <td>-2.4204514</td>\n",
              "      <td>2.2711918</td>\n",
              "      <td>-0.61222655</td>\n",
              "      <td>-9.894431</td>\n",
              "      <td>-49.98363208783536</td>\n",
              "      <td>21.71206845530756</td>\n",
              "      <td>1.0865927</td>\n",
              "      <td>...</td>\n",
              "      <td>121.24879</td>\n",
              "      <td>68.03701</td>\n",
              "      <td>14.268895</td>\n",
              "      <td>-3.584215</td>\n",
              "      <td>-22.855211</td>\n",
              "      <td>-17.974335</td>\n",
              "      <td>-12.237368</td>\n",
              "      <td>7.269744</td>\n",
              "      <td>27.869237010223618</td>\n",
              "      <td>0 (p=1.00)</td>\n",
              "    </tr>\n",
              "    <tr>\n",
              "      <th>96</th>\n",
              "      <td>-467.89523</td>\n",
              "      <td>179.28506</td>\n",
              "      <td>-2.3041742</td>\n",
              "      <td>-3.5265412</td>\n",
              "      <td>11.970174</td>\n",
              "      <td>-16.91969</td>\n",
              "      <td>-0.020664888</td>\n",
              "      <td>-38.39027522069757</td>\n",
              "      <td>17.900874122523625</td>\n",
              "      <td>1.724115</td>\n",
              "      <td>...</td>\n",
              "      <td>145.53972</td>\n",
              "      <td>87.53728</td>\n",
              "      <td>-3.9992208</td>\n",
              "      <td>2.15434</td>\n",
              "      <td>-14.989022</td>\n",
              "      <td>-20.22355</td>\n",
              "      <td>0.0011808715</td>\n",
              "      <td>-2.7118526</td>\n",
              "      <td>26.13311437095132</td>\n",
              "      <td>0 (p=0.93)</td>\n",
              "    </tr>\n",
              "    <tr>\n",
              "      <th>97</th>\n",
              "      <td>-484.6904</td>\n",
              "      <td>205.4088</td>\n",
              "      <td>-30.984093</td>\n",
              "      <td>-8.069575</td>\n",
              "      <td>9.728664</td>\n",
              "      <td>2.9180937</td>\n",
              "      <td>-4.3010845</td>\n",
              "      <td>-38.750474119230496</td>\n",
              "      <td>17.792107217616838</td>\n",
              "      <td>1.4105923</td>\n",
              "      <td>...</td>\n",
              "      <td>177.6421</td>\n",
              "      <td>76.2815</td>\n",
              "      <td>-7.1659446</td>\n",
              "      <td>3.1119401</td>\n",
              "      <td>-9.991588</td>\n",
              "      <td>-38.74843</td>\n",
              "      <td>-10.4913845</td>\n",
              "      <td>-2.174562</td>\n",
              "      <td>29.50257427041013</td>\n",
              "      <td>0 (p=0.95)</td>\n",
              "    </tr>\n",
              "    <tr>\n",
              "      <th>98</th>\n",
              "      <td>-312.29672</td>\n",
              "      <td>107.54585</td>\n",
              "      <td>-3.7522583</td>\n",
              "      <td>-7.1718655</td>\n",
              "      <td>-15.024854</td>\n",
              "      <td>-0.58251685</td>\n",
              "      <td>-2.3188655</td>\n",
              "      <td>-21.903955833379733</td>\n",
              "      <td>17.37347435612994</td>\n",
              "      <td>2.08371</td>\n",
              "      <td>...</td>\n",
              "      <td>112.17846</td>\n",
              "      <td>39.527878</td>\n",
              "      <td>-7.038567</td>\n",
              "      <td>-3.0073428</td>\n",
              "      <td>-15.4070835</td>\n",
              "      <td>-17.04858</td>\n",
              "      <td>-0.19486633</td>\n",
              "      <td>-19.643944</td>\n",
              "      <td>24.84102168815703</td>\n",
              "      <td>1 (p=0.99)</td>\n",
              "    </tr>\n",
              "  </tbody>\n",
              "</table>\n",
              "<p>99 rows × 59 columns</p>\n",
              "</div>\n",
              "      <button class=\"colab-df-convert\" onclick=\"convertToInteractive('df-24ab8483-c873-4fee-9875-ca77f3d8504e')\"\n",
              "              title=\"Convert this dataframe to an interactive table.\"\n",
              "              style=\"display:none;\">\n",
              "        \n",
              "  <svg xmlns=\"http://www.w3.org/2000/svg\" height=\"24px\"viewBox=\"0 0 24 24\"\n",
              "       width=\"24px\">\n",
              "    <path d=\"M0 0h24v24H0V0z\" fill=\"none\"/>\n",
              "    <path d=\"M18.56 5.44l.94 2.06.94-2.06 2.06-.94-2.06-.94-.94-2.06-.94 2.06-2.06.94zm-11 1L8.5 8.5l.94-2.06 2.06-.94-2.06-.94L8.5 2.5l-.94 2.06-2.06.94zm10 10l.94 2.06.94-2.06 2.06-.94-2.06-.94-.94-2.06-.94 2.06-2.06.94z\"/><path d=\"M17.41 7.96l-1.37-1.37c-.4-.4-.92-.59-1.43-.59-.52 0-1.04.2-1.43.59L10.3 9.45l-7.72 7.72c-.78.78-.78 2.05 0 2.83L4 21.41c.39.39.9.59 1.41.59.51 0 1.02-.2 1.41-.59l7.78-7.78 2.81-2.81c.8-.78.8-2.07 0-2.86zM5.41 20L4 18.59l7.72-7.72 1.47 1.35L5.41 20z\"/>\n",
              "  </svg>\n",
              "      </button>\n",
              "      \n",
              "  <style>\n",
              "    .colab-df-container {\n",
              "      display:flex;\n",
              "      flex-wrap:wrap;\n",
              "      gap: 12px;\n",
              "    }\n",
              "\n",
              "    .colab-df-convert {\n",
              "      background-color: #E8F0FE;\n",
              "      border: none;\n",
              "      border-radius: 50%;\n",
              "      cursor: pointer;\n",
              "      display: none;\n",
              "      fill: #1967D2;\n",
              "      height: 32px;\n",
              "      padding: 0 0 0 0;\n",
              "      width: 32px;\n",
              "    }\n",
              "\n",
              "    .colab-df-convert:hover {\n",
              "      background-color: #E2EBFA;\n",
              "      box-shadow: 0px 1px 2px rgba(60, 64, 67, 0.3), 0px 1px 3px 1px rgba(60, 64, 67, 0.15);\n",
              "      fill: #174EA6;\n",
              "    }\n",
              "\n",
              "    [theme=dark] .colab-df-convert {\n",
              "      background-color: #3B4455;\n",
              "      fill: #D2E3FC;\n",
              "    }\n",
              "\n",
              "    [theme=dark] .colab-df-convert:hover {\n",
              "      background-color: #434B5C;\n",
              "      box-shadow: 0px 1px 3px 1px rgba(0, 0, 0, 0.15);\n",
              "      filter: drop-shadow(0px 1px 2px rgba(0, 0, 0, 0.3));\n",
              "      fill: #FFFFFF;\n",
              "    }\n",
              "  </style>\n",
              "\n",
              "      <script>\n",
              "        const buttonEl =\n",
              "          document.querySelector('#df-24ab8483-c873-4fee-9875-ca77f3d8504e button.colab-df-convert');\n",
              "        buttonEl.style.display =\n",
              "          google.colab.kernel.accessAllowed ? 'block' : 'none';\n",
              "\n",
              "        async function convertToInteractive(key) {\n",
              "          const element = document.querySelector('#df-24ab8483-c873-4fee-9875-ca77f3d8504e');\n",
              "          const dataTable =\n",
              "            await google.colab.kernel.invokeFunction('convertToInteractive',\n",
              "                                                     [key], {});\n",
              "          if (!dataTable) return;\n",
              "\n",
              "          const docLinkHtml = 'Like what you see? Visit the ' +\n",
              "            '<a target=\"_blank\" href=https://colab.research.google.com/notebooks/data_table.ipynb>data table notebook</a>'\n",
              "            + ' to learn more about interactive tables.';\n",
              "          element.innerHTML = '';\n",
              "          dataTable['output_type'] = 'display_data';\n",
              "          await google.colab.output.renderOutput(dataTable, element);\n",
              "          const docLink = document.createElement('div');\n",
              "          docLink.innerHTML = docLinkHtml;\n",
              "          element.appendChild(docLink);\n",
              "        }\n",
              "      </script>\n",
              "    </div>\n",
              "  </div>\n",
              "  "
            ]
          },
          "metadata": {},
          "execution_count": 96
        }
      ]
    },
    {
      "cell_type": "code",
      "source": [
        "# PLOTTING\n",
        "fig = plt.figure(figsize=(10,10))\n",
        "ax = fig.add_subplot(111)\n",
        "cm = plt.cm.RdBu\n",
        "cm_bright = ListedColormap([\"#FF0000\", \"#0000FF\"])\n",
        "\n",
        "# Plot the training points\n",
        "vfunc = np.vectorize(lambda x : np.where(classifier.classes_ == x)[0])\n",
        "y_train_index = vfunc(y_train)\n",
        "y_train_index = y_train_index == 0\n",
        "\n",
        "ax.scatter(X_train[:, 0], X_train[:, 1], c=y_train_index, cmap=cm_bright)\n",
        "\n",
        "classifier.fit(X_train[:, 0:2], y_train_index)\n",
        "\n",
        "DecisionBoundaryDisplay.from_estimator(\n",
        "    classifier, X_train[:, 0:2], alpha=0.6, ax=ax, eps=2.0, grid_resolution=25, response_method=\"predict_proba\"\n",
        ")"
      ],
      "metadata": {
        "colab": {
          "base_uri": "https://localhost:8080/",
          "height": 902
        },
        "outputId": "a673db22-4288-46bb-cf7d-28b38776b1db",
        "id": "MbVtYn5oYy5x"
      },
      "execution_count": 97,
      "outputs": [
        {
          "output_type": "stream",
          "name": "stderr",
          "text": [
            "/usr/local/lib/python3.10/dist-packages/ipykernel/ipkernel.py:283: DeprecationWarning: `should_run_async` will not call `transform_cell` automatically in the future. Please pass the result to `transformed_cell` argument and any exception that happen during thetransform in `preprocessing_exc_tuple` in IPython 7.17 and above.\n",
            "  and should_run_async(code)\n"
          ]
        },
        {
          "output_type": "execute_result",
          "data": {
            "text/plain": [
              "<tabpfn.scripts.decision_boundary.DecisionBoundaryDisplay at 0x7f8ef5418e20>"
            ]
          },
          "metadata": {},
          "execution_count": 97
        },
        {
          "output_type": "display_data",
          "data": {
            "text/plain": [
              "<Figure size 1000x1000 with 1 Axes>"
            ],
            "image/png": "[encoded data removed]"
          },
          "metadata": {}
        }
      ]
    },
    {
      "cell_type": "markdown",
      "source": [
        "## Model - MFDFA + SURFBOARD"
      ],
      "metadata": {
        "id": "nD1Oao-qY0FH"
      }
    },
    {
      "cell_type": "code",
      "source": [
        "X = features_mfdfa_surfboard\n",
        "y = labels\n",
        "\n",
        "skf=StratifiedShuffleSplit(n_splits=2,test_size=0.33)\n",
        "skf.get_n_splits(X, y)\n",
        "for train_index, test_index in skf.split(X, y):\n",
        "    print(\"TRAIN:\", train_index, \"TEST:\", test_index)\n",
        "    X_train, X_test = X[train_index], X[test_index]\n",
        "    y_train, y_test = y[train_index], y[test_index]\n"
      ],
      "metadata": {
        "id": "22ZqeEDPY0FH",
        "colab": {
          "base_uri": "https://localhost:8080/"
        },
        "outputId": "59a2251a-ad9d-4563-cddb-2418ba21491a"
      },
      "execution_count": 88,
      "outputs": [
        {
          "output_type": "stream",
          "name": "stdout",
          "text": [
            "TRAIN: [129  29  43 229  89 265 111  13  57 201 286 243 137 228 150  67   6 205\n",
            " 220  49  26  99 107 240 120 170  42  25 180  65 179 285 184 155   3  98\n",
            " 232 278 276  20 256  76 250 171  59 239  17 102 272  50  51  81  94 124\n",
            "  22 236 221 248  88 196 212 172  37 122  95 214  16 140 262 270 246 113\n",
            " 149  72 185  35 225 148  46 121  10 252 289  62 226 268 176 146 244 115\n",
            " 206 156 108  48 210 192  38   5  70 279 294 157  54  71  68 291 281 169\n",
            " 241 266  78 126 188 133  63 199 207 218 280 162 195   4 222  34 238 164\n",
            " 282 112 217 234 142 264 127 237 141 263 216 119  60  30 173 297  85 117\n",
            " 100  55 130 203  14  15 135  83 165   8 255 151  32 215  97 247  41 209\n",
            " 245 134  18  45 116 273  66 118 249 288 230 106 103 198  79  58 287 136\n",
            "  24 153 177  56 269 290 190 257 158 128  44 271 109 299 267 160  64   1\n",
            " 227 159 224] TEST: [175 231 292 208 242   0 251 163 178 114 161  86   9  82 202  92  21  33\n",
            " 204 144  84 275  93  11  87 168  75 293 145 258 194  73 211  74 105 131\n",
            "  90 147 181 253  91 104   7 235   2 123 277 189 223 183  77 132  69 186\n",
            " 167  12 154 193  28 296  23  80 125 166 187 197 298  27  96  52 174 101\n",
            "  47  31 295 152 213 260 143  19  36  53 139 254 261 200 233 274  61  39\n",
            " 259 182  40 191 219 110 284 138 283]\n",
            "TRAIN: [201 223 299 298 160  25 281 254 185 274 236  48 152  26 119 260  31   1\n",
            " 110  97 212  24 197 210 173 293  56  78  30 279  55  23 143  13  98 159\n",
            "  57 186  99  22  58  33 112 296 103 193 294 202 163 230 218 148  41 297\n",
            "  82 172 292 138 191 100 101 256   9 215 245  63 108  53  60 242 114  74\n",
            " 140 253 162  75 178 130  29 123 120  52 118 252  11  20 164 237 249 282\n",
            "  40 102 132 187 105 276 144 261  66 104  80  50 180  91 181 259 278  61\n",
            "  59 106 115 248  73 231  76  70  93 222 204  49  54  95  62 135 194 221\n",
            "  47 239 125 264 233 126 277  28  86   6 203  10 209 284 122 211 158 157\n",
            " 169  92 177  18 214 189 190 154 269 109 208 149 295 175 275   7  19 192\n",
            " 267  72  87 136 213  36 244 184 225 205 195   0  83 200  81 131  46 234\n",
            " 270 262 167  37 232  68 271 226 290 133 145 268  79 166 229  51  77  35\n",
            " 243 174 287] TEST: [ 90   2   5 156 257  84 196 240 198 227  42  27 206  15 168   8 134 199\n",
            " 113 121 127 116 128  12  14 235 141 117 241 129 228 238  89 146  71 258\n",
            " 111 188   4  16 151 170  94 176 155 220 182 161 291  34 183  39  17 224\n",
            " 124 107 153 283  67 246  45 273 286 247 147 272 266 207  96 285  64 150\n",
            "  85 217  88 137  65 250  32 263  21 216 265 165 171   3 179 288 219  44\n",
            " 142 289 139 280 255  38  43 251  69]\n"
          ]
        }
      ]
    },
    {
      "cell_type": "code",
      "source": [
        "# N_ensemble_configurations defines how many estimators are averaged, it is bounded by #features * #classes\n",
        "# more ensemble members are slower, but more accurate\n",
        "classifier = TabPFNClassifier(device='cuda', N_ensemble_configurations=4)"
      ],
      "metadata": {
        "colab": {
          "base_uri": "https://localhost:8080/"
        },
        "outputId": "a55db94d-322c-48ca-ed34-f0644a2490f6",
        "id": "z2EhenV1Y0FI"
      },
      "execution_count": 89,
      "outputs": [
        {
          "output_type": "stream",
          "name": "stderr",
          "text": [
            "/usr/local/lib/python3.10/dist-packages/ipykernel/ipkernel.py:283: DeprecationWarning: `should_run_async` will not call `transform_cell` automatically in the future. Please pass the result to `transformed_cell` argument and any exception that happen during thetransform in `preprocessing_exc_tuple` in IPython 7.17 and above.\n",
            "  and should_run_async(code)\n"
          ]
        },
        {
          "output_type": "stream",
          "name": "stdout",
          "text": [
            "Loading model that can be used for inference only\n",
            "Using a Transformer with 25.82 M parameters\n"
          ]
        }
      ]
    },
    {
      "cell_type": "code",
      "source": [
        "start = time.time()\n",
        "classifier.fit(X_train, y_train)\n",
        "y_eval, p_eval = classifier.predict(X_test, return_winning_probability=True)\n",
        "print('Prediction time: ', time.time() - start, 'Accuracy', accuracy_score(y_test, y_eval))"
      ],
      "metadata": {
        "colab": {
          "base_uri": "https://localhost:8080/"
        },
        "outputId": "4793766a-321d-4b25-e4b1-0738561685ae",
        "id": "Y-F4YnYLY0FI"
      },
      "execution_count": 90,
      "outputs": [
        {
          "output_type": "stream",
          "name": "stdout",
          "text": [
            "Prediction time:  0.5165519714355469 Accuracy 0.8787878787878788\n"
          ]
        }
      ]
    },
    {
      "cell_type": "code",
      "source": [
        "# print(file, type(file))\n",
        "out_table = pd.DataFrame(X_test.copy().astype(str))\n",
        "out_table['prediction'] = [f\"{y_e} (p={p_e:.2f})\" for y_e, p_e in zip(y_eval, p_eval)]\n",
        "out_table"
      ],
      "metadata": {
        "colab": {
          "base_uri": "https://localhost:8080/",
          "height": 522
        },
        "outputId": "d47c7ebe-9f73-4346-f373-648bcdf8f0cf",
        "id": "Ou64Xu5fY0FI"
      },
      "execution_count": 91,
      "outputs": [
        {
          "output_type": "stream",
          "name": "stderr",
          "text": [
            "/usr/local/lib/python3.10/dist-packages/ipykernel/ipkernel.py:283: DeprecationWarning: `should_run_async` will not call `transform_cell` automatically in the future. Please pass the result to `transformed_cell` argument and any exception that happen during thetransform in `preprocessing_exc_tuple` in IPython 7.17 and above.\n",
            "  and should_run_async(code)\n"
          ]
        },
        {
          "output_type": "execute_result",
          "data": {
            "text/plain": [
              "                      0                   1                   2  \\\n",
              "0   -0.0052280662784608  0.7926488100103348  1798.6473379947315   \n",
              "1    0.0031579277459704   2.556352956590609   14.31037386446546   \n",
              "2    0.0031105822715246  1.7868413269673753   43.23617632488653   \n",
              "3    0.0051541480633668  1.5741893508239753  15251.066741531971   \n",
              "4    0.0059377418566766   3.687481804056217  13.888133906260368   \n",
              "..                  ...                 ...                 ...   \n",
              "94   0.0053583009725793   3.342542679200497   12.46539045995726   \n",
              "95  -0.0024277807253651  2.0685721966537223  13.847073243250776   \n",
              "96   0.0078922399649748  2.0421209160351315   37.82343834805847   \n",
              "97  -0.0190748010486522  0.8785189588252893    842901.840780545   \n",
              "98   -0.026298320636815   1.354683312589749   28.27235922720086   \n",
              "\n",
              "                     3                   4                    5  \\\n",
              "0   0.0323009893920245   15.28737561516111  -0.0008965122199494   \n",
              "1   0.2375687305027609  0.3588977022172109   0.0097200433468615   \n",
              "2   0.1864166697030183  0.7296457982335567   0.0055870551680725   \n",
              "3   0.2727316967344356   4158.890933108821   0.0046526158450072   \n",
              "4    0.155700616408897  0.3508490547677081      0.0059172024828   \n",
              "..                 ...                 ...                  ...   \n",
              "94  0.1442433249042162  0.3391529087305199   0.0056489064535318   \n",
              "95  0.1868353609141923  0.5574839235036816   0.0069388113731992   \n",
              "96  0.2604456105464135  0.4551091078347602   0.0047620404626194   \n",
              "97  0.2072460029186773   3860.916070622652  -0.0064189661476641   \n",
              "98  0.3359384910093384  1.1742089202009909   0.0134712366646444   \n",
              "\n",
              "                     6                   7                   8  \\\n",
              "0   1.3576477275529544   25663.53698606768  0.0475857317271059   \n",
              "1    3.256970977240187  27.910551383721195  0.3214022254659098   \n",
              "2   2.2086792079606807  41.474667232599856  0.7655385398671626   \n",
              "3    2.135526844832553  132.01497356695424  0.6020383719114057   \n",
              "4    2.125200390738644   44.75652140346836  0.1915756692971278   \n",
              "..                 ...                 ...                 ...   \n",
              "94  2.1358334230256264    49.7078410017844  0.1639735080747307   \n",
              "95   2.680971656093766   26.45021322562004  0.2529760119364599   \n",
              "96   2.404391143957933   43.17628210197661  0.3204501098869952   \n",
              "97  1.5468288996855497   268.6248041659061   0.462409609527633   \n",
              "98   2.845071706188878   25.87344610800041  0.4545407507324913   \n",
              "\n",
              "                     9  ...         74         75           76           77  \\\n",
              "0   2207.9471671208817  ...  168.19597   78.06367    31.566425   -12.581858   \n",
              "1   0.5666550565317904  ...  152.82129  61.418854    3.2919927   -11.224258   \n",
              "2   0.7923544084895254  ...   206.0899   70.93346    34.560955    2.5768442   \n",
              "3    4.453630811413848  ...  148.87384   68.51472   -3.7477858   -11.921853   \n",
              "4   1.1157513308570868  ...  131.21683    64.3344    15.007211  -0.59047586   \n",
              "..                 ...  ...        ...        ...          ...          ...   \n",
              "94  1.2281708767887656  ...  136.35388   63.95777     9.156302   -9.6053295   \n",
              "95  0.7862693555174873  ...  119.30997   78.13479  -10.6820755    10.143462   \n",
              "96  0.8532822497518223  ...  166.87497  62.948013    13.699723   -12.458992   \n",
              "97   6.838135408778393  ...   160.0054    76.5607     4.783092   -14.142595   \n",
              "98  0.6827834530342521  ...  151.09293  36.792873     9.232296   -32.630424   \n",
              "\n",
              "            78          79          80          81                  82  \\\n",
              "0   -31.108322  -18.126457  -4.8414907  -10.207604  29.224229495164423   \n",
              "1   -40.076305  -12.155783  -22.643847   -7.754123  31.139092350242336   \n",
              "2   -18.915766  -24.060505   5.0183716  -12.366157  21.656542707682988   \n",
              "3   -34.850143   3.1217668  -16.362951   -18.37633   18.83382896276277   \n",
              "4   -20.207382   -26.93807    2.087081   -7.607217   32.63714930731061   \n",
              "..         ...         ...         ...         ...                 ...   \n",
              "94  -17.619669  -15.297843   -8.627658  -3.0607295  33.735003132364454   \n",
              "95   -36.65781  -14.038828  -46.092506  -2.0435326  27.494139619471063   \n",
              "96  -23.437721    -13.9955   -4.293966   -6.102663   24.52467770008463   \n",
              "97   -8.923712   -11.32309   11.058452   -8.383166  31.779772600115592   \n",
              "98   -42.76315  -1.9541111  -11.796114   -16.49319   23.93253976020635   \n",
              "\n",
              "    prediction  \n",
              "0   0 (p=1.00)  \n",
              "1   1 (p=0.53)  \n",
              "2   1 (p=0.96)  \n",
              "3   1 (p=0.96)  \n",
              "4   1 (p=0.64)  \n",
              "..         ...  \n",
              "94  1 (p=0.99)  \n",
              "95  0 (p=0.99)  \n",
              "96  1 (p=0.81)  \n",
              "97  1 (p=0.79)  \n",
              "98  0 (p=0.73)  \n",
              "\n",
              "[99 rows x 84 columns]"
            ],
            "text/html": [
              "\n",
              "  <div id=\"df-d97ba26f-3427-4515-aa62-a7abec477e65\">\n",
              "    <div class=\"colab-df-container\">\n",
              "      <div>\n",
              "<style scoped>\n",
              "    .dataframe tbody tr th:only-of-type {\n",
              "        vertical-align: middle;\n",
              "    }\n",
              "\n",
              "    .dataframe tbody tr th {\n",
              "        vertical-align: top;\n",
              "    }\n",
              "\n",
              "    .dataframe thead th {\n",
              "        text-align: right;\n",
              "    }\n",
              "</style>\n",
              "<table border=\"1\" class=\"dataframe\">\n",
              "  <thead>\n",
              "    <tr style=\"text-align: right;\">\n",
              "      <th></th>\n",
              "      <th>0</th>\n",
              "      <th>1</th>\n",
              "      <th>2</th>\n",
              "      <th>3</th>\n",
              "      <th>4</th>\n",
              "      <th>5</th>\n",
              "      <th>6</th>\n",
              "      <th>7</th>\n",
              "      <th>8</th>\n",
              "      <th>9</th>\n",
              "      <th>...</th>\n",
              "      <th>74</th>\n",
              "      <th>75</th>\n",
              "      <th>76</th>\n",
              "      <th>77</th>\n",
              "      <th>78</th>\n",
              "      <th>79</th>\n",
              "      <th>80</th>\n",
              "      <th>81</th>\n",
              "      <th>82</th>\n",
              "      <th>prediction</th>\n",
              "    </tr>\n",
              "  </thead>\n",
              "  <tbody>\n",
              "    <tr>\n",
              "      <th>0</th>\n",
              "      <td>-0.0052280662784608</td>\n",
              "      <td>0.7926488100103348</td>\n",
              "      <td>1798.6473379947315</td>\n",
              "      <td>0.0323009893920245</td>\n",
              "      <td>15.28737561516111</td>\n",
              "      <td>-0.0008965122199494</td>\n",
              "      <td>1.3576477275529544</td>\n",
              "      <td>25663.53698606768</td>\n",
              "      <td>0.0475857317271059</td>\n",
              "      <td>2207.9471671208817</td>\n",
              "      <td>...</td>\n",
              "      <td>168.19597</td>\n",
              "      <td>78.06367</td>\n",
              "      <td>31.566425</td>\n",
              "      <td>-12.581858</td>\n",
              "      <td>-31.108322</td>\n",
              "      <td>-18.126457</td>\n",
              "      <td>-4.8414907</td>\n",
              "      <td>-10.207604</td>\n",
              "      <td>29.224229495164423</td>\n",
              "      <td>0 (p=1.00)</td>\n",
              "    </tr>\n",
              "    <tr>\n",
              "      <th>1</th>\n",
              "      <td>0.0031579277459704</td>\n",
              "      <td>2.556352956590609</td>\n",
              "      <td>14.31037386446546</td>\n",
              "      <td>0.2375687305027609</td>\n",
              "      <td>0.3588977022172109</td>\n",
              "      <td>0.0097200433468615</td>\n",
              "      <td>3.256970977240187</td>\n",
              "      <td>27.910551383721195</td>\n",
              "      <td>0.3214022254659098</td>\n",
              "      <td>0.5666550565317904</td>\n",
              "      <td>...</td>\n",
              "      <td>152.82129</td>\n",
              "      <td>61.418854</td>\n",
              "      <td>3.2919927</td>\n",
              "      <td>-11.224258</td>\n",
              "      <td>-40.076305</td>\n",
              "      <td>-12.155783</td>\n",
              "      <td>-22.643847</td>\n",
              "      <td>-7.754123</td>\n",
              "      <td>31.139092350242336</td>\n",
              "      <td>1 (p=0.53)</td>\n",
              "    </tr>\n",
              "    <tr>\n",
              "      <th>2</th>\n",
              "      <td>0.0031105822715246</td>\n",
              "      <td>1.7868413269673753</td>\n",
              "      <td>43.23617632488653</td>\n",
              "      <td>0.1864166697030183</td>\n",
              "      <td>0.7296457982335567</td>\n",
              "      <td>0.0055870551680725</td>\n",
              "      <td>2.2086792079606807</td>\n",
              "      <td>41.474667232599856</td>\n",
              "      <td>0.7655385398671626</td>\n",
              "      <td>0.7923544084895254</td>\n",
              "      <td>...</td>\n",
              "      <td>206.0899</td>\n",
              "      <td>70.93346</td>\n",
              "      <td>34.560955</td>\n",
              "      <td>2.5768442</td>\n",
              "      <td>-18.915766</td>\n",
              "      <td>-24.060505</td>\n",
              "      <td>5.0183716</td>\n",
              "      <td>-12.366157</td>\n",
              "      <td>21.656542707682988</td>\n",
              "      <td>1 (p=0.96)</td>\n",
              "    </tr>\n",
              "    <tr>\n",
              "      <th>3</th>\n",
              "      <td>0.0051541480633668</td>\n",
              "      <td>1.5741893508239753</td>\n",
              "      <td>15251.066741531971</td>\n",
              "      <td>0.2727316967344356</td>\n",
              "      <td>4158.890933108821</td>\n",
              "      <td>0.0046526158450072</td>\n",
              "      <td>2.135526844832553</td>\n",
              "      <td>132.01497356695424</td>\n",
              "      <td>0.6020383719114057</td>\n",
              "      <td>4.453630811413848</td>\n",
              "      <td>...</td>\n",
              "      <td>148.87384</td>\n",
              "      <td>68.51472</td>\n",
              "      <td>-3.7477858</td>\n",
              "      <td>-11.921853</td>\n",
              "      <td>-34.850143</td>\n",
              "      <td>3.1217668</td>\n",
              "      <td>-16.362951</td>\n",
              "      <td>-18.37633</td>\n",
              "      <td>18.83382896276277</td>\n",
              "      <td>1 (p=0.96)</td>\n",
              "    </tr>\n",
              "    <tr>\n",
              "      <th>4</th>\n",
              "      <td>0.0059377418566766</td>\n",
              "      <td>3.687481804056217</td>\n",
              "      <td>13.888133906260368</td>\n",
              "      <td>0.155700616408897</td>\n",
              "      <td>0.3508490547677081</td>\n",
              "      <td>0.0059172024828</td>\n",
              "      <td>2.125200390738644</td>\n",
              "      <td>44.75652140346836</td>\n",
              "      <td>0.1915756692971278</td>\n",
              "      <td>1.1157513308570868</td>\n",
              "      <td>...</td>\n",
              "      <td>131.21683</td>\n",
              "      <td>64.3344</td>\n",
              "      <td>15.007211</td>\n",
              "      <td>-0.59047586</td>\n",
              "      <td>-20.207382</td>\n",
              "      <td>-26.93807</td>\n",
              "      <td>2.087081</td>\n",
              "      <td>-7.607217</td>\n",
              "      <td>32.63714930731061</td>\n",
              "      <td>1 (p=0.64)</td>\n",
              "    </tr>\n",
              "    <tr>\n",
              "      <th>...</th>\n",
              "      <td>...</td>\n",
              "      <td>...</td>\n",
              "      <td>...</td>\n",
              "      <td>...</td>\n",
              "      <td>...</td>\n",
              "      <td>...</td>\n",
              "      <td>...</td>\n",
              "      <td>...</td>\n",
              "      <td>...</td>\n",
              "      <td>...</td>\n",
              "      <td>...</td>\n",
              "      <td>...</td>\n",
              "      <td>...</td>\n",
              "      <td>...</td>\n",
              "      <td>...</td>\n",
              "      <td>...</td>\n",
              "      <td>...</td>\n",
              "      <td>...</td>\n",
              "      <td>...</td>\n",
              "      <td>...</td>\n",
              "      <td>...</td>\n",
              "    </tr>\n",
              "    <tr>\n",
              "      <th>94</th>\n",
              "      <td>0.0053583009725793</td>\n",
              "      <td>3.342542679200497</td>\n",
              "      <td>12.46539045995726</td>\n",
              "      <td>0.1442433249042162</td>\n",
              "      <td>0.3391529087305199</td>\n",
              "      <td>0.0056489064535318</td>\n",
              "      <td>2.1358334230256264</td>\n",
              "      <td>49.7078410017844</td>\n",
              "      <td>0.1639735080747307</td>\n",
              "      <td>1.2281708767887656</td>\n",
              "      <td>...</td>\n",
              "      <td>136.35388</td>\n",
              "      <td>63.95777</td>\n",
              "      <td>9.156302</td>\n",
              "      <td>-9.6053295</td>\n",
              "      <td>-17.619669</td>\n",
              "      <td>-15.297843</td>\n",
              "      <td>-8.627658</td>\n",
              "      <td>-3.0607295</td>\n",
              "      <td>33.735003132364454</td>\n",
              "      <td>1 (p=0.99)</td>\n",
              "    </tr>\n",
              "    <tr>\n",
              "      <th>95</th>\n",
              "      <td>-0.0024277807253651</td>\n",
              "      <td>2.0685721966537223</td>\n",
              "      <td>13.847073243250776</td>\n",
              "      <td>0.1868353609141923</td>\n",
              "      <td>0.5574839235036816</td>\n",
              "      <td>0.0069388113731992</td>\n",
              "      <td>2.680971656093766</td>\n",
              "      <td>26.45021322562004</td>\n",
              "      <td>0.2529760119364599</td>\n",
              "      <td>0.7862693555174873</td>\n",
              "      <td>...</td>\n",
              "      <td>119.30997</td>\n",
              "      <td>78.13479</td>\n",
              "      <td>-10.6820755</td>\n",
              "      <td>10.143462</td>\n",
              "      <td>-36.65781</td>\n",
              "      <td>-14.038828</td>\n",
              "      <td>-46.092506</td>\n",
              "      <td>-2.0435326</td>\n",
              "      <td>27.494139619471063</td>\n",
              "      <td>0 (p=0.99)</td>\n",
              "    </tr>\n",
              "    <tr>\n",
              "      <th>96</th>\n",
              "      <td>0.0078922399649748</td>\n",
              "      <td>2.0421209160351315</td>\n",
              "      <td>37.82343834805847</td>\n",
              "      <td>0.2604456105464135</td>\n",
              "      <td>0.4551091078347602</td>\n",
              "      <td>0.0047620404626194</td>\n",
              "      <td>2.404391143957933</td>\n",
              "      <td>43.17628210197661</td>\n",
              "      <td>0.3204501098869952</td>\n",
              "      <td>0.8532822497518223</td>\n",
              "      <td>...</td>\n",
              "      <td>166.87497</td>\n",
              "      <td>62.948013</td>\n",
              "      <td>13.699723</td>\n",
              "      <td>-12.458992</td>\n",
              "      <td>-23.437721</td>\n",
              "      <td>-13.9955</td>\n",
              "      <td>-4.293966</td>\n",
              "      <td>-6.102663</td>\n",
              "      <td>24.52467770008463</td>\n",
              "      <td>1 (p=0.81)</td>\n",
              "    </tr>\n",
              "    <tr>\n",
              "      <th>97</th>\n",
              "      <td>-0.0190748010486522</td>\n",
              "      <td>0.8785189588252893</td>\n",
              "      <td>842901.840780545</td>\n",
              "      <td>0.2072460029186773</td>\n",
              "      <td>3860.916070622652</td>\n",
              "      <td>-0.0064189661476641</td>\n",
              "      <td>1.5468288996855497</td>\n",
              "      <td>268.6248041659061</td>\n",
              "      <td>0.462409609527633</td>\n",
              "      <td>6.838135408778393</td>\n",
              "      <td>...</td>\n",
              "      <td>160.0054</td>\n",
              "      <td>76.5607</td>\n",
              "      <td>4.783092</td>\n",
              "      <td>-14.142595</td>\n",
              "      <td>-8.923712</td>\n",
              "      <td>-11.32309</td>\n",
              "      <td>11.058452</td>\n",
              "      <td>-8.383166</td>\n",
              "      <td>31.779772600115592</td>\n",
              "      <td>1 (p=0.79)</td>\n",
              "    </tr>\n",
              "    <tr>\n",
              "      <th>98</th>\n",
              "      <td>-0.026298320636815</td>\n",
              "      <td>1.354683312589749</td>\n",
              "      <td>28.27235922720086</td>\n",
              "      <td>0.3359384910093384</td>\n",
              "      <td>1.1742089202009909</td>\n",
              "      <td>0.0134712366646444</td>\n",
              "      <td>2.845071706188878</td>\n",
              "      <td>25.87344610800041</td>\n",
              "      <td>0.4545407507324913</td>\n",
              "      <td>0.6827834530342521</td>\n",
              "      <td>...</td>\n",
              "      <td>151.09293</td>\n",
              "      <td>36.792873</td>\n",
              "      <td>9.232296</td>\n",
              "      <td>-32.630424</td>\n",
              "      <td>-42.76315</td>\n",
              "      <td>-1.9541111</td>\n",
              "      <td>-11.796114</td>\n",
              "      <td>-16.49319</td>\n",
              "      <td>23.93253976020635</td>\n",
              "      <td>0 (p=0.73)</td>\n",
              "    </tr>\n",
              "  </tbody>\n",
              "</table>\n",
              "<p>99 rows × 84 columns</p>\n",
              "</div>\n",
              "      <button class=\"colab-df-convert\" onclick=\"convertToInteractive('df-d97ba26f-3427-4515-aa62-a7abec477e65')\"\n",
              "              title=\"Convert this dataframe to an interactive table.\"\n",
              "              style=\"display:none;\">\n",
              "        \n",
              "  <svg xmlns=\"http://www.w3.org/2000/svg\" height=\"24px\"viewBox=\"0 0 24 24\"\n",
              "       width=\"24px\">\n",
              "    <path d=\"M0 0h24v24H0V0z\" fill=\"none\"/>\n",
              "    <path d=\"M18.56 5.44l.94 2.06.94-2.06 2.06-.94-2.06-.94-.94-2.06-.94 2.06-2.06.94zm-11 1L8.5 8.5l.94-2.06 2.06-.94-2.06-.94L8.5 2.5l-.94 2.06-2.06.94zm10 10l.94 2.06.94-2.06 2.06-.94-2.06-.94-.94-2.06-.94 2.06-2.06.94z\"/><path d=\"M17.41 7.96l-1.37-1.37c-.4-.4-.92-.59-1.43-.59-.52 0-1.04.2-1.43.59L10.3 9.45l-7.72 7.72c-.78.78-.78 2.05 0 2.83L4 21.41c.39.39.9.59 1.41.59.51 0 1.02-.2 1.41-.59l7.78-7.78 2.81-2.81c.8-.78.8-2.07 0-2.86zM5.41 20L4 18.59l7.72-7.72 1.47 1.35L5.41 20z\"/>\n",
              "  </svg>\n",
              "      </button>\n",
              "      \n",
              "  <style>\n",
              "    .colab-df-container {\n",
              "      display:flex;\n",
              "      flex-wrap:wrap;\n",
              "      gap: 12px;\n",
              "    }\n",
              "\n",
              "    .colab-df-convert {\n",
              "      background-color: #E8F0FE;\n",
              "      border: none;\n",
              "      border-radius: 50%;\n",
              "      cursor: pointer;\n",
              "      display: none;\n",
              "      fill: #1967D2;\n",
              "      height: 32px;\n",
              "      padding: 0 0 0 0;\n",
              "      width: 32px;\n",
              "    }\n",
              "\n",
              "    .colab-df-convert:hover {\n",
              "      background-color: #E2EBFA;\n",
              "      box-shadow: 0px 1px 2px rgba(60, 64, 67, 0.3), 0px 1px 3px 1px rgba(60, 64, 67, 0.15);\n",
              "      fill: #174EA6;\n",
              "    }\n",
              "\n",
              "    [theme=dark] .colab-df-convert {\n",
              "      background-color: #3B4455;\n",
              "      fill: #D2E3FC;\n",
              "    }\n",
              "\n",
              "    [theme=dark] .colab-df-convert:hover {\n",
              "      background-color: #434B5C;\n",
              "      box-shadow: 0px 1px 3px 1px rgba(0, 0, 0, 0.15);\n",
              "      filter: drop-shadow(0px 1px 2px rgba(0, 0, 0, 0.3));\n",
              "      fill: #FFFFFF;\n",
              "    }\n",
              "  </style>\n",
              "\n",
              "      <script>\n",
              "        const buttonEl =\n",
              "          document.querySelector('#df-d97ba26f-3427-4515-aa62-a7abec477e65 button.colab-df-convert');\n",
              "        buttonEl.style.display =\n",
              "          google.colab.kernel.accessAllowed ? 'block' : 'none';\n",
              "\n",
              "        async function convertToInteractive(key) {\n",
              "          const element = document.querySelector('#df-d97ba26f-3427-4515-aa62-a7abec477e65');\n",
              "          const dataTable =\n",
              "            await google.colab.kernel.invokeFunction('convertToInteractive',\n",
              "                                                     [key], {});\n",
              "          if (!dataTable) return;\n",
              "\n",
              "          const docLinkHtml = 'Like what you see? Visit the ' +\n",
              "            '<a target=\"_blank\" href=https://colab.research.google.com/notebooks/data_table.ipynb>data table notebook</a>'\n",
              "            + ' to learn more about interactive tables.';\n",
              "          element.innerHTML = '';\n",
              "          dataTable['output_type'] = 'display_data';\n",
              "          await google.colab.output.renderOutput(dataTable, element);\n",
              "          const docLink = document.createElement('div');\n",
              "          docLink.innerHTML = docLinkHtml;\n",
              "          element.appendChild(docLink);\n",
              "        }\n",
              "      </script>\n",
              "    </div>\n",
              "  </div>\n",
              "  "
            ]
          },
          "metadata": {},
          "execution_count": 91
        }
      ]
    },
    {
      "cell_type": "code",
      "source": [
        "# PLOTTING\n",
        "fig = plt.figure(figsize=(10,10))\n",
        "ax = fig.add_subplot(111)\n",
        "cm = plt.cm.RdBu\n",
        "cm_bright = ListedColormap([\"#FF0000\", \"#0000FF\"])\n",
        "\n",
        "# Plot the training points\n",
        "vfunc = np.vectorize(lambda x : np.where(classifier.classes_ == x)[0])\n",
        "y_train_index = vfunc(y_train)\n",
        "y_train_index = y_train_index == 0\n",
        "\n",
        "ax.scatter(X_train[:, 0], X_train[:, 1], c=y_train_index, cmap=cm_bright)\n",
        "\n",
        "classifier.fit(X_train[:, 0:2], y_train_index)\n",
        "\n",
        "DecisionBoundaryDisplay.from_estimator(\n",
        "    classifier, X_train[:, 0:2], alpha=0.6, ax=ax, eps=2.0, grid_resolution=25, response_method=\"predict_proba\"\n",
        ")"
      ],
      "metadata": {
        "colab": {
          "base_uri": "https://localhost:8080/",
          "height": 902
        },
        "outputId": "5897f34c-abd4-41c9-e655-680aa658fb07",
        "id": "xW5eiF-5Y0FJ"
      },
      "execution_count": 92,
      "outputs": [
        {
          "output_type": "stream",
          "name": "stderr",
          "text": [
            "/usr/local/lib/python3.10/dist-packages/ipykernel/ipkernel.py:283: DeprecationWarning: `should_run_async` will not call `transform_cell` automatically in the future. Please pass the result to `transformed_cell` argument and any exception that happen during thetransform in `preprocessing_exc_tuple` in IPython 7.17 and above.\n",
            "  and should_run_async(code)\n"
          ]
        },
        {
          "output_type": "execute_result",
          "data": {
            "text/plain": [
              "<tabpfn.scripts.decision_boundary.DecisionBoundaryDisplay at 0x7f8ef554a710>"
            ]
          },
          "metadata": {},
          "execution_count": 92
        },
        {
          "output_type": "display_data",
          "data": {
            "text/plain": [
              "<Figure size 1000x1000 with 1 Axes>"
            ],
            "image/png": "[encoded data removed]"
          },
          "metadata": {}
        }
      ]
    }
  ]
}