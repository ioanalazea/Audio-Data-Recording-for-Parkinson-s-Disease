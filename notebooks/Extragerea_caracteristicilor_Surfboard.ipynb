{
  "cells": [
    {
      "attachments": {},
      "cell_type": "markdown",
      "metadata": {
        "id": "dTOp2wFdhi8j"
      },
      "source": [
        "# **Installs**"
      ]
    },
    {
      "cell_type": "code",
      "execution_count": null,
      "metadata": {
        "colab": {
          "base_uri": "https://localhost:8080/"
        },
        "id": "5aHg-mdp5_TB",
        "outputId": "4d12a1da-ff98-4242-e335-93938aeff36f"
      },
      "outputs": [
        {
          "name": "stdout",
          "output_type": "stream",
          "text": [
            "Looking in indexes: https://pypi.org/simple, https://us-python.pkg.dev/colab-wheels/public/simple/\n",
            "Collecting pingouin\n",
            "  Downloading pingouin-0.5.2.tar.gz (185 kB)\n",
            "\u001b[K     |████████████████████████████████| 185 kB 14.3 MB/s \n",
            "\u001b[?25hRequirement already satisfied: numpy>=1.19 in /usr/local/lib/python3.7/dist-packages (from pingouin) (1.21.6)\n",
            "Requirement already satisfied: scipy>=1.7 in /usr/local/lib/python3.7/dist-packages (from pingouin) (1.7.3)\n",
            "Requirement already satisfied: pandas>=1.0 in /usr/local/lib/python3.7/dist-packages (from pingouin) (1.3.5)\n",
            "Requirement already satisfied: matplotlib>=3.0.2 in /usr/local/lib/python3.7/dist-packages (from pingouin) (3.2.2)\n",
            "Requirement already satisfied: seaborn>=0.11 in /usr/local/lib/python3.7/dist-packages (from pingouin) (0.11.2)\n",
            "Collecting statsmodels>=0.13\n",
            "  Downloading statsmodels-0.13.5-cp37-cp37m-manylinux_2_17_x86_64.manylinux2014_x86_64.whl (9.9 MB)\n",
            "\u001b[K     |████████████████████████████████| 9.9 MB 54.8 MB/s \n",
            "\u001b[?25hRequirement already satisfied: scikit-learn<1.1.0 in /usr/local/lib/python3.7/dist-packages (from pingouin) (1.0.2)\n",
            "Collecting pandas_flavor>=0.2.0\n",
            "  Downloading pandas_flavor-0.3.0-py3-none-any.whl (6.3 kB)\n",
            "Collecting outdated\n",
            "  Downloading outdated-0.2.2-py2.py3-none-any.whl (7.5 kB)\n",
            "Requirement already satisfied: tabulate in /usr/local/lib/python3.7/dist-packages (from pingouin) (0.8.10)\n",
            "Requirement already satisfied: python-dateutil>=2.1 in /usr/local/lib/python3.7/dist-packages (from matplotlib>=3.0.2->pingouin) (2.8.2)\n",
            "Requirement already satisfied: pyparsing!=2.0.4,!=2.1.2,!=2.1.6,>=2.0.1 in /usr/local/lib/python3.7/dist-packages (from matplotlib>=3.0.2->pingouin) (3.0.9)\n",
            "Requirement already satisfied: kiwisolver>=1.0.1 in /usr/local/lib/python3.7/dist-packages (from matplotlib>=3.0.2->pingouin) (1.4.4)\n",
            "Requirement already satisfied: cycler>=0.10 in /usr/local/lib/python3.7/dist-packages (from matplotlib>=3.0.2->pingouin) (0.11.0)\n",
            "Requirement already satisfied: typing-extensions in /usr/local/lib/python3.7/dist-packages (from kiwisolver>=1.0.1->matplotlib>=3.0.2->pingouin) (4.1.1)\n",
            "Requirement already satisfied: pytz>=2017.3 in /usr/local/lib/python3.7/dist-packages (from pandas>=1.0->pingouin) (2022.6)\n",
            "Collecting pandas_flavor>=0.2.0\n",
            "  Downloading pandas_flavor-0.2.0-py2.py3-none-any.whl (6.6 kB)\n",
            "Requirement already satisfied: xarray in /usr/local/lib/python3.7/dist-packages (from pandas_flavor>=0.2.0->pingouin) (0.20.2)\n",
            "Requirement already satisfied: six>=1.5 in /usr/local/lib/python3.7/dist-packages (from python-dateutil>=2.1->matplotlib>=3.0.2->pingouin) (1.15.0)\n",
            "Requirement already satisfied: threadpoolctl>=2.0.0 in /usr/local/lib/python3.7/dist-packages (from scikit-learn<1.1.0->pingouin) (3.1.0)\n",
            "Requirement already satisfied: joblib>=0.11 in /usr/local/lib/python3.7/dist-packages (from scikit-learn<1.1.0->pingouin) (1.2.0)\n",
            "Requirement already satisfied: packaging>=21.3 in /usr/local/lib/python3.7/dist-packages (from statsmodels>=0.13->pingouin) (21.3)\n",
            "Requirement already satisfied: patsy>=0.5.2 in /usr/local/lib/python3.7/dist-packages (from statsmodels>=0.13->pingouin) (0.5.3)\n",
            "Requirement already satisfied: setuptools>=44 in /usr/local/lib/python3.7/dist-packages (from outdated->pingouin) (57.4.0)\n",
            "Collecting littleutils\n",
            "  Downloading littleutils-0.2.2.tar.gz (6.6 kB)\n",
            "Requirement already satisfied: requests in /usr/local/lib/python3.7/dist-packages (from outdated->pingouin) (2.23.0)\n",
            "Requirement already satisfied: urllib3!=1.25.0,!=1.25.1,<1.26,>=1.21.1 in /usr/local/lib/python3.7/dist-packages (from requests->outdated->pingouin) (1.24.3)\n",
            "Requirement already satisfied: certifi>=2017.4.17 in /usr/local/lib/python3.7/dist-packages (from requests->outdated->pingouin) (2022.9.24)\n",
            "Requirement already satisfied: idna<3,>=2.5 in /usr/local/lib/python3.7/dist-packages (from requests->outdated->pingouin) (2.10)\n",
            "Requirement already satisfied: chardet<4,>=3.0.2 in /usr/local/lib/python3.7/dist-packages (from requests->outdated->pingouin) (3.0.4)\n",
            "Requirement already satisfied: importlib-metadata in /usr/local/lib/python3.7/dist-packages (from xarray->pandas_flavor>=0.2.0->pingouin) (4.13.0)\n",
            "Requirement already satisfied: zipp>=0.5 in /usr/local/lib/python3.7/dist-packages (from importlib-metadata->xarray->pandas_flavor>=0.2.0->pingouin) (3.10.0)\n",
            "Building wheels for collected packages: pingouin, littleutils\n",
            "  Building wheel for pingouin (setup.py) ... \u001b[?25l\u001b[?25hdone\n",
            "  Created wheel for pingouin: filename=pingouin-0.5.2-py3-none-any.whl size=196208 sha256=bb1d9314ce4cae79997598fee0660349e2739f8b7474555f5fbb928e2750151c\n",
            "  Stored in directory: /root/.cache/pip/wheels/11/5a/63/a6d32fc26fa462c731f65480bfb98ff7bd39b8ebcb4bc6c2fe\n",
            "  Building wheel for littleutils (setup.py) ... \u001b[?25l\u001b[?25hdone\n",
            "  Created wheel for littleutils: filename=littleutils-0.2.2-py3-none-any.whl size=7047 sha256=3f5caa5e3c4fe780f975ff96b37b44d4419bf42465330b83a4734901a71c5929\n",
            "  Stored in directory: /root/.cache/pip/wheels/d6/64/cd/32819b511a488e4993f2fab909a95330289c3f4e0f6ef4676d\n",
            "Successfully built pingouin littleutils\n",
            "Installing collected packages: littleutils, statsmodels, pandas-flavor, outdated, pingouin\n",
            "  Attempting uninstall: statsmodels\n",
            "    Found existing installation: statsmodels 0.12.2\n",
            "    Uninstalling statsmodels-0.12.2:\n",
            "      Successfully uninstalled statsmodels-0.12.2\n",
            "Successfully installed littleutils-0.2.2 outdated-0.2.2 pandas-flavor-0.2.0 pingouin-0.5.2 statsmodels-0.13.5\n"
          ]
        }
      ],
      "source": [
        "pip install pingouin"
      ]
    },
    {
      "attachments": {},
      "cell_type": "markdown",
      "metadata": {
        "id": "3NVR_83yMfDG"
      },
      "source": [
        "----Installs for FSM used for Relief feature selection.---------"
      ]
    },
    {
      "cell_type": "code",
      "execution_count": null,
      "metadata": {
        "colab": {
          "base_uri": "https://localhost:8080/"
        },
        "id": "CSax5acZ7-Ju",
        "outputId": "8edf7dd9-4bda-4455-954b-a9efb935550e"
      },
      "outputs": [
        {
          "name": "stdout",
          "output_type": "stream",
          "text": [
            "Looking in indexes: https://pypi.org/simple, https://us-python.pkg.dev/colab-wheels/public/simple/\n",
            "Collecting skrebate\n",
            "  Downloading skrebate-0.62.tar.gz (19 kB)\n",
            "Requirement already satisfied: numpy in /usr/local/lib/python3.7/dist-packages (from skrebate) (1.21.6)\n",
            "Requirement already satisfied: scipy in /usr/local/lib/python3.7/dist-packages (from skrebate) (1.7.3)\n",
            "Requirement already satisfied: scikit-learn in /usr/local/lib/python3.7/dist-packages (from skrebate) (1.0.2)\n",
            "Requirement already satisfied: threadpoolctl>=2.0.0 in /usr/local/lib/python3.7/dist-packages (from scikit-learn->skrebate) (3.1.0)\n",
            "Requirement already satisfied: joblib>=0.11 in /usr/local/lib/python3.7/dist-packages (from scikit-learn->skrebate) (1.2.0)\n",
            "Building wheels for collected packages: skrebate\n",
            "  Building wheel for skrebate (setup.py) ... \u001b[?25l\u001b[?25hdone\n",
            "  Created wheel for skrebate: filename=skrebate-0.62-py3-none-any.whl size=29269 sha256=d7a0d0c67878923ee3717b68b1685e01b646bd863585022f6e5db61b8bcc1a1b\n",
            "  Stored in directory: /root/.cache/pip/wheels/4f/3b/07/22a9a01f3f25cd376122b5ef526737a44993b4c312e50916ed\n",
            "Successfully built skrebate\n",
            "Installing collected packages: skrebate\n",
            "Successfully installed skrebate-0.62\n"
          ]
        }
      ],
      "source": [
        "pip install skrebate"
      ]
    },
    {
      "cell_type": "code",
      "execution_count": null,
      "metadata": {
        "colab": {
          "base_uri": "https://localhost:8080/"
        },
        "id": "nmdZEQCitY-R",
        "outputId": "e0c0bc50-057b-431a-a66d-421d982eb417"
      },
      "outputs": [
        {
          "name": "stdout",
          "output_type": "stream",
          "text": [
            "Looking in indexes: https://pypi.org/simple, https://us-python.pkg.dev/colab-wheels/public/simple/\n",
            "Collecting mrmr_selection\n",
            "  Downloading mrmr_selection-0.2.5-py3-none-any.whl (24 kB)\n",
            "Collecting category-encoders\n",
            "  Downloading category_encoders-2.5.1.post0-py2.py3-none-any.whl (72 kB)\n",
            "\u001b[K     |████████████████████████████████| 72 kB 769 kB/s \n",
            "\u001b[?25hRequirement already satisfied: pandas>=1.0.3 in /usr/local/lib/python3.7/dist-packages (from mrmr_selection) (1.3.5)\n",
            "Requirement already satisfied: tqdm in /usr/local/lib/python3.7/dist-packages (from mrmr_selection) (4.64.1)\n",
            "Collecting sklearn\n",
            "  Downloading sklearn-0.0.post1.tar.gz (3.6 kB)\n",
            "Requirement already satisfied: jinja2 in /usr/local/lib/python3.7/dist-packages (from mrmr_selection) (2.11.3)\n",
            "Requirement already satisfied: scipy in /usr/local/lib/python3.7/dist-packages (from mrmr_selection) (1.7.3)\n",
            "Requirement already satisfied: joblib in /usr/local/lib/python3.7/dist-packages (from mrmr_selection) (1.2.0)\n",
            "Requirement already satisfied: numpy>=1.18.1 in /usr/local/lib/python3.7/dist-packages (from mrmr_selection) (1.21.6)\n",
            "Requirement already satisfied: pytz>=2017.3 in /usr/local/lib/python3.7/dist-packages (from pandas>=1.0.3->mrmr_selection) (2022.6)\n",
            "Requirement already satisfied: python-dateutil>=2.7.3 in /usr/local/lib/python3.7/dist-packages (from pandas>=1.0.3->mrmr_selection) (2.8.2)\n",
            "Requirement already satisfied: six>=1.5 in /usr/local/lib/python3.7/dist-packages (from python-dateutil>=2.7.3->pandas>=1.0.3->mrmr_selection) (1.15.0)\n",
            "Requirement already satisfied: statsmodels>=0.9.0 in /usr/local/lib/python3.7/dist-packages (from category-encoders->mrmr_selection) (0.13.5)\n",
            "Requirement already satisfied: patsy>=0.5.1 in /usr/local/lib/python3.7/dist-packages (from category-encoders->mrmr_selection) (0.5.3)\n",
            "Requirement already satisfied: scikit-learn>=0.20.0 in /usr/local/lib/python3.7/dist-packages (from category-encoders->mrmr_selection) (1.0.2)\n",
            "Requirement already satisfied: threadpoolctl>=2.0.0 in /usr/local/lib/python3.7/dist-packages (from scikit-learn>=0.20.0->category-encoders->mrmr_selection) (3.1.0)\n",
            "Requirement already satisfied: packaging>=21.3 in /usr/local/lib/python3.7/dist-packages (from statsmodels>=0.9.0->category-encoders->mrmr_selection) (21.3)\n",
            "Requirement already satisfied: pyparsing!=3.0.5,>=2.0.2 in /usr/local/lib/python3.7/dist-packages (from packaging>=21.3->statsmodels>=0.9.0->category-encoders->mrmr_selection) (3.0.9)\n",
            "Requirement already satisfied: MarkupSafe>=0.23 in /usr/local/lib/python3.7/dist-packages (from jinja2->mrmr_selection) (2.0.1)\n",
            "Building wheels for collected packages: sklearn\n",
            "  Building wheel for sklearn (setup.py) ... \u001b[?25l\u001b[?25hdone\n",
            "  Created wheel for sklearn: filename=sklearn-0.0.post1-py3-none-any.whl size=2344 sha256=23cee34bb85579c5f46f4244d1e84b1fb5ce8164ea1e521064910d2c83e22a3b\n",
            "  Stored in directory: /root/.cache/pip/wheels/42/56/cc/4a8bf86613aafd5b7f1b310477667c1fca5c51c3ae4124a003\n",
            "Successfully built sklearn\n",
            "Installing collected packages: sklearn, category-encoders, mrmr-selection\n",
            "Successfully installed category-encoders-2.5.1.post0 mrmr-selection-0.2.5 sklearn-0.0.post1\n"
          ]
        }
      ],
      "source": [
        "pip install mrmr_selection"
      ]
    },
    {
      "cell_type": "code",
      "execution_count": null,
      "metadata": {
        "colab": {
          "base_uri": "https://localhost:8080/"
        },
        "id": "wgDPHoXi74uT",
        "outputId": "c01d2a1f-9f4a-4fdc-94c6-17544b8840c8"
      },
      "outputs": [
        {
          "name": "stdout",
          "output_type": "stream",
          "text": [
            "Looking in indexes: https://pypi.org/simple, https://us-python.pkg.dev/colab-wheels/public/simple/\n",
            "Collecting bottleneck\n",
            "  Downloading Bottleneck-1.3.5-cp37-cp37m-manylinux_2_5_x86_64.manylinux1_x86_64.manylinux_2_17_x86_64.manylinux2014_x86_64.whl (355 kB)\n",
            "\u001b[K     |████████████████████████████████| 355 kB 15.3 MB/s \n",
            "\u001b[?25hRequirement already satisfied: numpy in /usr/local/lib/python3.7/dist-packages (from bottleneck) (1.21.6)\n",
            "Installing collected packages: bottleneck\n",
            "Successfully installed bottleneck-1.3.5\n"
          ]
        }
      ],
      "source": [
        "pip install bottleneck"
      ]
    },
    {
      "cell_type": "code",
      "execution_count": null,
      "metadata": {
        "colab": {
          "base_uri": "https://localhost:8080/"
        },
        "id": "lcsQDbx-7IfJ",
        "outputId": "ad5b9280-1e7b-4797-ead8-9b7efaf8adf6"
      },
      "outputs": [
        {
          "name": "stdout",
          "output_type": "stream",
          "text": [
            "Looking in indexes: https://pypi.org/simple, https://us-python.pkg.dev/colab-wheels/public/simple/\n",
            "Requirement already satisfied: sklearn in /usr/local/lib/python3.7/dist-packages (0.0.post1)\n"
          ]
        }
      ],
      "source": [
        "pip install sklearn\n"
      ]
    },
    {
      "cell_type": "code",
      "execution_count": null,
      "metadata": {
        "colab": {
          "base_uri": "https://localhost:8080/"
        },
        "id": "ZeoM07kCuxpo",
        "outputId": "3b6bccd9-ac9a-4a97-d3e4-2bf304f44dfe"
      },
      "outputs": [
        {
          "name": "stdout",
          "output_type": "stream",
          "text": [
            "Looking in indexes: https://pypi.org/simple, https://us-python.pkg.dev/colab-wheels/public/simple/\n",
            "\u001b[31mERROR: Could not find a version that satisfies the requirement mifs (from versions: none)\u001b[0m\n",
            "\u001b[31mERROR: No matching distribution found for mifs\u001b[0m\n"
          ]
        }
      ],
      "source": [
        "pip install mifs"
      ]
    },
    {
      "cell_type": "code",
      "execution_count": null,
      "metadata": {
        "id": "CcsPVm0hMuMM"
      },
      "outputs": [],
      "source": []
    },
    {
      "attachments": {},
      "cell_type": "markdown",
      "metadata": {
        "id": "smBN_WtoMpi9"
      },
      "source": [
        "^^^^----------------------Installs for FSM used for Relief feature selection.----------------------^^^^"
      ]
    },
    {
      "attachments": {},
      "cell_type": "markdown",
      "metadata": {
        "id": "fmleCF8Vbv0x"
      },
      "source": [
        "Installing surfboard...more info: https://surfboard.readthedocs.io/en/latest/installation.html"
      ]
    },
    {
      "cell_type": "code",
      "execution_count": null,
      "metadata": {
        "colab": {
          "base_uri": "https://localhost:8080/"
        },
        "id": "xdoFeR78bpLy",
        "outputId": "b9dc637d-a4d0-47ae-d794-a0e304862e74"
      },
      "outputs": [
        {
          "name": "stdout",
          "output_type": "stream",
          "text": [
            "Looking in indexes: https://pypi.org/simple, https://us-python.pkg.dev/colab-wheels/public/simple/\n",
            "Collecting surfboard\n",
            "  Downloading surfboard-0.2.0.tar.gz (30 kB)\n",
            "Requirement already satisfied: librosa>=0.7.2 in /usr/local/lib/python3.7/dist-packages (from surfboard) (0.8.1)\n",
            "Collecting numba==0.48.0\n",
            "  Downloading numba-0.48.0-1-cp37-cp37m-manylinux2014_x86_64.whl (3.5 MB)\n",
            "\u001b[K     |████████████████████████████████| 3.5 MB 21.5 MB/s \n",
            "\u001b[?25hCollecting pysptk>=0.1.18\n",
            "  Downloading pysptk-0.2.0.tar.gz (276 kB)\n",
            "\u001b[K     |████████████████████████████████| 276 kB 67.9 MB/s \n",
            "\u001b[?25h  Installing build dependencies ... \u001b[?25l\u001b[?25hdone\n",
            "  Getting requirements to build wheel ... \u001b[?25l\u001b[?25hdone\n",
            "    Preparing wheel metadata ... \u001b[?25l\u001b[?25hdone\n",
            "Collecting PeakUtils>=1.3.3\n",
            "  Downloading PeakUtils-1.3.4-py3-none-any.whl (7.7 kB)\n",
            "Collecting pyloudnorm==0.1.0\n",
            "  Downloading pyloudnorm-0.1.0-py3-none-any.whl (9.3 kB)\n",
            "Requirement already satisfied: pandas>=1.0.1 in /usr/local/lib/python3.7/dist-packages (from surfboard) (1.3.5)\n",
            "Requirement already satisfied: tqdm>=4.42.1 in /usr/local/lib/python3.7/dist-packages (from surfboard) (4.64.1)\n",
            "Requirement already satisfied: pyyaml>=5.3 in /usr/local/lib/python3.7/dist-packages (from surfboard) (6.0)\n",
            "Requirement already satisfied: Cython>=0.29.15 in /usr/local/lib/python3.7/dist-packages (from surfboard) (0.29.32)\n",
            "Collecting pytest>=5.4.1\n",
            "  Downloading pytest-7.2.0-py3-none-any.whl (316 kB)\n",
            "\u001b[K     |████████████████████████████████| 316 kB 64.1 MB/s \n",
            "\u001b[?25hRequirement already satisfied: SoundFile>=0.10.3.post1 in /usr/local/lib/python3.7/dist-packages (from surfboard) (0.11.0)\n",
            "Collecting llvmlite<0.32.0,>=0.31.0dev0\n",
            "  Downloading llvmlite-0.31.0-cp37-cp37m-manylinux1_x86_64.whl (20.2 MB)\n",
            "\u001b[K     |████████████████████████████████| 20.2 MB 1.4 MB/s \n",
            "\u001b[?25hRequirement already satisfied: numpy>=1.15 in /usr/local/lib/python3.7/dist-packages (from numba==0.48.0->surfboard) (1.21.6)\n",
            "Requirement already satisfied: setuptools in /usr/local/lib/python3.7/dist-packages (from numba==0.48.0->surfboard) (57.4.0)\n",
            "Requirement already satisfied: scipy>=1.0.1 in /usr/local/lib/python3.7/dist-packages (from pyloudnorm==0.1.0->surfboard) (1.7.3)\n",
            "Requirement already satisfied: future>=0.16.0 in /usr/local/lib/python3.7/dist-packages (from pyloudnorm==0.1.0->surfboard) (0.16.0)\n",
            "Requirement already satisfied: audioread>=2.0.0 in /usr/local/lib/python3.7/dist-packages (from librosa>=0.7.2->surfboard) (3.0.0)\n",
            "Requirement already satisfied: resampy>=0.2.2 in /usr/local/lib/python3.7/dist-packages (from librosa>=0.7.2->surfboard) (0.4.2)\n",
            "Requirement already satisfied: scikit-learn!=0.19.0,>=0.14.0 in /usr/local/lib/python3.7/dist-packages (from librosa>=0.7.2->surfboard) (1.0.2)\n",
            "Requirement already satisfied: pooch>=1.0 in /usr/local/lib/python3.7/dist-packages (from librosa>=0.7.2->surfboard) (1.6.0)\n",
            "Requirement already satisfied: decorator>=3.0.0 in /usr/local/lib/python3.7/dist-packages (from librosa>=0.7.2->surfboard) (4.4.2)\n",
            "Requirement already satisfied: packaging>=20.0 in /usr/local/lib/python3.7/dist-packages (from librosa>=0.7.2->surfboard) (21.3)\n",
            "Requirement already satisfied: joblib>=0.14 in /usr/local/lib/python3.7/dist-packages (from librosa>=0.7.2->surfboard) (1.2.0)\n",
            "Requirement already satisfied: pyparsing!=3.0.5,>=2.0.2 in /usr/local/lib/python3.7/dist-packages (from packaging>=20.0->librosa>=0.7.2->surfboard) (3.0.9)\n",
            "Requirement already satisfied: python-dateutil>=2.7.3 in /usr/local/lib/python3.7/dist-packages (from pandas>=1.0.1->surfboard) (2.8.2)\n",
            "Requirement already satisfied: pytz>=2017.3 in /usr/local/lib/python3.7/dist-packages (from pandas>=1.0.1->surfboard) (2022.6)\n",
            "Requirement already satisfied: appdirs>=1.3.0 in /usr/local/lib/python3.7/dist-packages (from pooch>=1.0->librosa>=0.7.2->surfboard) (1.4.4)\n",
            "Requirement already satisfied: requests>=2.19.0 in /usr/local/lib/python3.7/dist-packages (from pooch>=1.0->librosa>=0.7.2->surfboard) (2.23.0)\n",
            "Collecting pluggy<2.0,>=0.12\n",
            "  Downloading pluggy-1.0.0-py2.py3-none-any.whl (13 kB)\n",
            "Requirement already satisfied: importlib-metadata>=0.12 in /usr/local/lib/python3.7/dist-packages (from pytest>=5.4.1->surfboard) (4.13.0)\n",
            "Collecting exceptiongroup>=1.0.0rc8\n",
            "  Downloading exceptiongroup-1.0.4-py3-none-any.whl (14 kB)\n",
            "Requirement already satisfied: attrs>=19.2.0 in /usr/local/lib/python3.7/dist-packages (from pytest>=5.4.1->surfboard) (22.1.0)\n",
            "Collecting iniconfig\n",
            "  Downloading iniconfig-1.1.1-py2.py3-none-any.whl (5.0 kB)\n",
            "Requirement already satisfied: tomli>=1.0.0 in /usr/local/lib/python3.7/dist-packages (from pytest>=5.4.1->surfboard) (2.0.1)\n",
            "Requirement already satisfied: typing-extensions>=3.6.4 in /usr/local/lib/python3.7/dist-packages (from importlib-metadata>=0.12->pytest>=5.4.1->surfboard) (4.1.1)\n",
            "Requirement already satisfied: zipp>=0.5 in /usr/local/lib/python3.7/dist-packages (from importlib-metadata>=0.12->pytest>=5.4.1->surfboard) (3.10.0)\n",
            "Requirement already satisfied: six>=1.5 in /usr/local/lib/python3.7/dist-packages (from python-dateutil>=2.7.3->pandas>=1.0.1->surfboard) (1.15.0)\n",
            "Requirement already satisfied: idna<3,>=2.5 in /usr/local/lib/python3.7/dist-packages (from requests>=2.19.0->pooch>=1.0->librosa>=0.7.2->surfboard) (2.10)\n",
            "Requirement already satisfied: urllib3!=1.25.0,!=1.25.1,<1.26,>=1.21.1 in /usr/local/lib/python3.7/dist-packages (from requests>=2.19.0->pooch>=1.0->librosa>=0.7.2->surfboard) (1.24.3)\n",
            "Requirement already satisfied: certifi>=2017.4.17 in /usr/local/lib/python3.7/dist-packages (from requests>=2.19.0->pooch>=1.0->librosa>=0.7.2->surfboard) (2022.9.24)\n",
            "Requirement already satisfied: chardet<4,>=3.0.2 in /usr/local/lib/python3.7/dist-packages (from requests>=2.19.0->pooch>=1.0->librosa>=0.7.2->surfboard) (3.0.4)\n",
            "Collecting resampy>=0.2.2\n",
            "  Downloading resampy-0.4.1-py3-none-any.whl (3.1 MB)\n",
            "\u001b[K     |████████████████████████████████| 3.1 MB 51.5 MB/s \n",
            "\u001b[?25h  Downloading resampy-0.4.0-py3-none-any.whl (3.1 MB)\n",
            "\u001b[K     |████████████████████████████████| 3.1 MB 55.0 MB/s \n",
            "\u001b[?25h  Downloading resampy-0.3.1-py3-none-any.whl (3.1 MB)\n",
            "\u001b[K     |████████████████████████████████| 3.1 MB 52.2 MB/s \n",
            "\u001b[?25hRequirement already satisfied: threadpoolctl>=2.0.0 in /usr/local/lib/python3.7/dist-packages (from scikit-learn!=0.19.0,>=0.14.0->librosa>=0.7.2->surfboard) (3.1.0)\n",
            "Requirement already satisfied: cffi>=1.0 in /usr/local/lib/python3.7/dist-packages (from SoundFile>=0.10.3.post1->surfboard) (1.15.1)\n",
            "Requirement already satisfied: pycparser in /usr/local/lib/python3.7/dist-packages (from cffi>=1.0->SoundFile>=0.10.3.post1->surfboard) (2.21)\n",
            "Building wheels for collected packages: surfboard, pysptk\n",
            "  Building wheel for surfboard (setup.py) ... \u001b[?25l\u001b[?25hdone\n",
            "  Created wheel for surfboard: filename=surfboard-0.2.0-py3-none-any.whl size=33226 sha256=399415609317b83aa8e145eee36686a675d7a2c056834e9f461280a37c6174b4\n",
            "  Stored in directory: /root/.cache/pip/wheels/37/db/5a/a8f11a953c502f394293aaaf872d831be5cf971ef8ef9e95ee\n",
            "  Building wheel for pysptk (PEP 517) ... \u001b[?25l\u001b[?25hdone\n",
            "  Created wheel for pysptk: filename=pysptk-0.2.0-cp37-cp37m-linux_x86_64.whl size=931359 sha256=6fd88f4bf875853bf7d5c8bdbeb0d190824f64935a03782cbea5b97303d9380d\n",
            "  Stored in directory: /root/.cache/pip/wheels/9a/70/a1/757bd6c0017f384831e6260a784f10ff6d7998a805719f9a2d\n",
            "Successfully built surfboard pysptk\n",
            "Installing collected packages: llvmlite, numba, resampy, pluggy, iniconfig, exceptiongroup, pytest, pysptk, pyloudnorm, PeakUtils, surfboard\n",
            "  Attempting uninstall: llvmlite\n",
            "    Found existing installation: llvmlite 0.39.1\n",
            "    Uninstalling llvmlite-0.39.1:\n",
            "      Successfully uninstalled llvmlite-0.39.1\n",
            "  Attempting uninstall: numba\n",
            "    Found existing installation: numba 0.56.4\n",
            "    Uninstalling numba-0.56.4:\n",
            "      Successfully uninstalled numba-0.56.4\n",
            "  Attempting uninstall: resampy\n",
            "    Found existing installation: resampy 0.4.2\n",
            "    Uninstalling resampy-0.4.2:\n",
            "      Successfully uninstalled resampy-0.4.2\n",
            "  Attempting uninstall: pluggy\n",
            "    Found existing installation: pluggy 0.7.1\n",
            "    Uninstalling pluggy-0.7.1:\n",
            "      Successfully uninstalled pluggy-0.7.1\n",
            "  Attempting uninstall: pytest\n",
            "    Found existing installation: pytest 3.6.4\n",
            "    Uninstalling pytest-3.6.4:\n",
            "      Successfully uninstalled pytest-3.6.4\n",
            "Successfully installed PeakUtils-1.3.4 exceptiongroup-1.0.4 iniconfig-1.1.1 llvmlite-0.31.0 numba-0.48.0 pluggy-1.0.0 pyloudnorm-0.1.0 pysptk-0.2.0 pytest-7.2.0 resampy-0.3.1 surfboard-0.2.0\n"
          ]
        }
      ],
      "source": [
        "pip install surfboard"
      ]
    },
    {
      "cell_type": "code",
      "execution_count": null,
      "metadata": {
        "colab": {
          "base_uri": "https://localhost:8080/"
        },
        "id": "br68aMvhmw8z",
        "outputId": "8322e7cb-0787-4ee1-b2ac-f76cf95b2613"
      },
      "outputs": [
        {
          "name": "stdout",
          "output_type": "stream",
          "text": [
            "Looking in indexes: https://pypi.org/simple, https://us-python.pkg.dev/colab-wheels/public/simple/\n",
            "Collecting numba==0.53.0\n",
            "  Downloading numba-0.53.0-cp37-cp37m-manylinux2014_x86_64.whl (3.4 MB)\n",
            "\u001b[K     |████████████████████████████████| 3.4 MB 15.0 MB/s \n",
            "\u001b[?25hRequirement already satisfied: setuptools in /usr/local/lib/python3.7/dist-packages (from numba==0.53.0) (57.4.0)\n",
            "Collecting llvmlite<0.37,>=0.36.0rc1\n",
            "  Downloading llvmlite-0.36.0-cp37-cp37m-manylinux2010_x86_64.whl (25.3 MB)\n",
            "\u001b[K     |████████████████████████████████| 25.3 MB 1.3 MB/s \n",
            "\u001b[?25hRequirement already satisfied: numpy>=1.15 in /usr/local/lib/python3.7/dist-packages (from numba==0.53.0) (1.21.6)\n",
            "Installing collected packages: llvmlite, numba\n",
            "  Attempting uninstall: llvmlite\n",
            "    Found existing installation: llvmlite 0.31.0\n",
            "    Uninstalling llvmlite-0.31.0:\n",
            "      Successfully uninstalled llvmlite-0.31.0\n",
            "  Attempting uninstall: numba\n",
            "    Found existing installation: numba 0.48.0\n",
            "    Uninstalling numba-0.48.0:\n",
            "      Successfully uninstalled numba-0.48.0\n",
            "\u001b[31mERROR: pip's dependency resolver does not currently take into account all the packages that are installed. This behaviour is the source of the following dependency conflicts.\n",
            "surfboard 0.2.0 requires numba==0.48.0, but you have numba 0.53.0 which is incompatible.\u001b[0m\n",
            "Successfully installed llvmlite-0.36.0 numba-0.53.0\n"
          ]
        }
      ],
      "source": [
        "pip install numba==0.53.0"
      ]
    },
    {
      "cell_type": "code",
      "execution_count": null,
      "metadata": {
        "colab": {
          "base_uri": "https://localhost:8080/"
        },
        "id": "tSjFsMIwm1DX",
        "outputId": "0deee31b-0d2c-48c6-c729-6d2d2603c41d"
      },
      "outputs": [
        {
          "name": "stdout",
          "output_type": "stream",
          "text": [
            "Looking in indexes: https://pypi.org/simple, https://us-python.pkg.dev/colab-wheels/public/simple/\n",
            "Collecting llvmlite\n",
            "  Downloading llvmlite-0.39.1-cp37-cp37m-manylinux_2_17_x86_64.manylinux2014_x86_64.whl (34.6 MB)\n",
            "\u001b[K     |████████████████████████████████| 34.6 MB 129 kB/s \n",
            "\u001b[?25hInstalling collected packages: llvmlite\n",
            "\u001b[31mERROR: pip's dependency resolver does not currently take into account all the packages that are installed. This behaviour is the source of the following dependency conflicts.\n",
            "numba 0.53.0 requires llvmlite<0.37,>=0.36.0rc1, but you have llvmlite 0.39.1 which is incompatible.\u001b[0m\n",
            "Successfully installed llvmlite-0.39.1\n"
          ]
        }
      ],
      "source": [
        "pip install --ignore-installed llvmlite"
      ]
    },
    {
      "cell_type": "code",
      "execution_count": null,
      "metadata": {
        "colab": {
          "base_uri": "https://localhost:8080/"
        },
        "id": "jFSDrZ5dDBu5",
        "outputId": "74127beb-0e91-4500-d55d-2ae48ac114e2"
      },
      "outputs": [
        {
          "name": "stdout",
          "output_type": "stream",
          "text": [
            "Looking in indexes: https://pypi.org/simple, https://us-python.pkg.dev/colab-wheels/public/simple/\n",
            "Collecting pyrpde\n",
            "  Downloading pyrpde-0.1.3-py3-none-any.whl (9.9 kB)\n",
            "Requirement already satisfied: scipy>=1.4.1 in /usr/local/lib/python3.7/dist-packages (from pyrpde) (1.7.3)\n",
            "Requirement already satisfied: numba>=0.49.1 in /usr/local/lib/python3.7/dist-packages (from pyrpde) (0.53.0)\n",
            "Requirement already satisfied: numpy>=1.18.4 in /usr/local/lib/python3.7/dist-packages (from pyrpde) (1.21.6)\n",
            "Collecting llvmlite<0.37,>=0.36.0rc1\n",
            "  Using cached llvmlite-0.36.0-cp37-cp37m-manylinux2010_x86_64.whl (25.3 MB)\n",
            "Requirement already satisfied: setuptools in /usr/local/lib/python3.7/dist-packages (from numba>=0.49.1->pyrpde) (57.4.0)\n",
            "Installing collected packages: llvmlite, pyrpde\n",
            "  Attempting uninstall: llvmlite\n",
            "    Found existing installation: llvmlite 0.39.1\n",
            "    Uninstalling llvmlite-0.39.1:\n",
            "      Successfully uninstalled llvmlite-0.39.1\n",
            "Successfully installed llvmlite-0.36.0 pyrpde-0.1.3\n"
          ]
        }
      ],
      "source": [
        "pip install pyrpde"
      ]
    },
    {
      "cell_type": "code",
      "execution_count": null,
      "metadata": {
        "colab": {
          "base_uri": "https://localhost:8080/"
        },
        "id": "ooR-zTFMFwmY",
        "outputId": "50caff34-34aa-48e0-8fae-2ae3f51cded2"
      },
      "outputs": [
        {
          "name": "stdout",
          "output_type": "stream",
          "text": [
            "Looking in indexes: https://pypi.org/simple, https://us-python.pkg.dev/colab-wheels/public/simple/\n",
            "Collecting praat-parselmouth\n",
            "  Downloading praat_parselmouth-0.4.2-cp37-cp37m-manylinux_2_12_x86_64.manylinux2010_x86_64.whl (10.7 MB)\n",
            "\u001b[K     |████████████████████████████████| 10.7 MB 16.6 MB/s \n",
            "\u001b[?25hRequirement already satisfied: numpy>=1.7.0 in /usr/local/lib/python3.7/dist-packages (from praat-parselmouth) (1.21.6)\n",
            "Installing collected packages: praat-parselmouth\n",
            "Successfully installed praat-parselmouth-0.4.2\n"
          ]
        }
      ],
      "source": [
        "pip install praat-parselmouth"
      ]
    },
    {
      "attachments": {},
      "cell_type": "markdown",
      "metadata": {
        "id": "7Np2mk8si6QP"
      },
      "source": [
        "# **Imports**"
      ]
    },
    {
      "cell_type": "code",
      "execution_count": null,
      "metadata": {
        "colab": {
          "base_uri": "https://localhost:8080/"
        },
        "id": "AvtS7JNsjSvP",
        "outputId": "6f2ee2d4-6ea3-4c9d-ec51-0bce6638dfb7"
      },
      "outputs": [
        {
          "name": "stderr",
          "output_type": "stream",
          "text": [
            "/usr/local/lib/python3.7/dist-packages/resampy/interpn.py:114: NumbaWarning: The TBB threading layer requires TBB version 2019.5 or later i.e., TBB_INTERFACE_VERSION >= 11005. Found TBB_INTERFACE_VERSION = 9107. The TBB threading layer is disabled.\n",
            "  _resample_loop_p(x, t_out, interp_win, interp_delta, num_table, scale, y)\n"
          ]
        }
      ],
      "source": [
        "from surfboard.sound import Waveform\n",
        "from surfboard.feature_extraction import extract_features\n",
        "from pyrpde import  rpde\n",
        "import parselmouth \n",
        "from parselmouth.praat import call\n",
        "import numpy as np\n",
        "import pandas as pd\n",
        "import librosa\n",
        "import librosa.display\n",
        "import IPython.display as ipd\n",
        "import matplotlib.pyplot as plt\n",
        "import sklearn\n",
        "import pathlib\n",
        "import csv\n",
        "import os\n",
        "import math\n",
        "from PIL import Image\n",
        "import warnings\n",
        "warnings.filterwarnings('ignore')\n",
        "from scipy.optimize import curve_fit\n",
        "\n",
        "\n",
        "\n",
        "\n",
        "from sklearn.model_selection import train_test_split"
      ]
    },
    {
      "attachments": {},
      "cell_type": "markdown",
      "metadata": {
        "id": "QKI7l0STM5e2"
      },
      "source": [
        "Importing libraries for FSM (Relief)."
      ]
    },
    {
      "cell_type": "code",
      "execution_count": null,
      "metadata": {
        "id": "D7WIx7vQs8vS"
      },
      "outputs": [],
      "source": [
        "import sys\n",
        "sys.path.append('/content/drive/MyDrive/python scripts/FSM-main')\n",
        "sys.path.append('/content/drive/MyDrive/python scripts/mifs-master')\n",
        "sys.path.append('/content/drive/MyDrive/python scripts/RRCT-main')\n",
        "import sklearn.feature_selection._base\n",
        "sys.modules['sklearn.feature_selection.base'] = sklearn.feature_selection._base\n"
      ]
    },
    {
      "cell_type": "code",
      "execution_count": null,
      "metadata": {
        "id": "xIGIl1a2tFZ5"
      },
      "outputs": [],
      "source": [
        "from mrmr import mrmr_classif\n",
        "from datetime import datetime\n",
        "from multiprocessing import cpu_count\n",
        "import mifs\n",
        "from utils import *\n",
        "import FSM"
      ]
    },
    {
      "attachments": {},
      "cell_type": "markdown",
      "metadata": {
        "id": "gC8eJHaBnrme"
      },
      "source": [
        "# **Data loading and feature extraction**\n",
        "\n",
        "> Loaded file names, label names and the waveforms in dictionaries. The dictionary has keys for each vowel, and each key has a list which will have, for example in the case of waveforms, lists containing all the audio samples.\n",
        "\n",
        "\n"
      ]
    },
    {
      "cell_type": "code",
      "execution_count": null,
      "metadata": {
        "id": "M17PoV4qnxNe"
      },
      "outputs": [],
      "source": [
        "vowels = \"A E I O U\".split()\n",
        "controls = \"Control Patologicas\".split()"
      ]
    },
    {
      "cell_type": "code",
      "execution_count": null,
      "metadata": {
        "id": "9NbMIqSisqC7"
      },
      "outputs": [],
      "source": [
        "file_names = {\"A\":[], \"E\":[], \"I\":[], \"O\":[], \"U\":[]}\n",
        "waveforms = {\"A\":[], \"E\":[], \"I\":[], \"O\":[], \"U\":[]}\n",
        "label_names = {\"A\":[], \"E\":[], \"I\":[], \"O\":[], \"U\":[]}"
      ]
    },
    {
      "cell_type": "code",
      "execution_count": null,
      "metadata": {
        "id": "rnwJEq-gnxPt"
      },
      "outputs": [],
      "source": [
        "for v in vowels:\n",
        "  for c in controls:\n",
        "    for filename in os.listdir(f\"/content/drive/MyDrive/Audio Data/Vowels/{c}/{v}\"):\n",
        "      file_names[v].append(filename) \n",
        "      label_names[v].append(c) \n",
        "      waveforms[v].append(Waveform(path=os.path.join(f\"/content/drive/MyDrive/Audio Data/Vowels/{c}/{v}/{filename}\")))\n"
      ]
    },
    {
      "cell_type": "code",
      "execution_count": null,
      "metadata": {
        "colab": {
          "base_uri": "https://localhost:8080/"
        },
        "id": "TT3IbaksnxRu",
        "outputId": "c8e94392-e73f-43dd-9318-734c0908b60d"
      },
      "outputs": [
        {
          "name": "stdout",
          "output_type": "stream",
          "text": [
            "True\n",
            "True\n",
            "True\n",
            "True\n"
          ]
        }
      ],
      "source": [
        "print(label_names[\"A\"] == label_names[\"E\"])\n",
        "print(label_names[\"A\"] == label_names[\"I\"])\n",
        "print(label_names[\"A\"] == label_names[\"O\"])\n",
        "print(label_names[\"A\"] == label_names[\"U\"])"
      ]
    },
    {
      "cell_type": "code",
      "execution_count": null,
      "metadata": {
        "id": "6bAQiVa4EARK"
      },
      "outputs": [],
      "source": [
        "features = pd.DataFrame({'filename': file_names[\"A\"]})"
      ]
    },
    {
      "cell_type": "code",
      "execution_count": null,
      "metadata": {
        "colab": {
          "base_uri": "https://localhost:8080/",
          "height": 206
        },
        "id": "xQ0qmunMEY3a",
        "outputId": "aff5ae28-a04b-427c-f2e0-01dc083b9ea0"
      },
      "outputs": [
        {
          "data": {
            "text/html": [
              "\n",
              "  <div id=\"df-84c1f1a0-ecde-4a82-a269-ac6f10bca2be\">\n",
              "    <div class=\"colab-df-container\">\n",
              "      <div>\n",
              "<style scoped>\n",
              "    .dataframe tbody tr th:only-of-type {\n",
              "        vertical-align: middle;\n",
              "    }\n",
              "\n",
              "    .dataframe tbody tr th {\n",
              "        vertical-align: top;\n",
              "    }\n",
              "\n",
              "    .dataframe thead th {\n",
              "        text-align: right;\n",
              "    }\n",
              "</style>\n",
              "<table border=\"1\" class=\"dataframe\">\n",
              "  <thead>\n",
              "    <tr style=\"text-align: right;\">\n",
              "      <th></th>\n",
              "      <th>filename</th>\n",
              "    </tr>\n",
              "  </thead>\n",
              "  <tbody>\n",
              "    <tr>\n",
              "      <th>0</th>\n",
              "      <td>AVPEPUDEAC0001a1.wav</td>\n",
              "    </tr>\n",
              "    <tr>\n",
              "      <th>1</th>\n",
              "      <td>AVPEPUDEAC0001a2.wav</td>\n",
              "    </tr>\n",
              "    <tr>\n",
              "      <th>2</th>\n",
              "      <td>AVPEPUDEAC0001a3.wav</td>\n",
              "    </tr>\n",
              "    <tr>\n",
              "      <th>3</th>\n",
              "      <td>AVPEPUDEAC0003a1.wav</td>\n",
              "    </tr>\n",
              "    <tr>\n",
              "      <th>4</th>\n",
              "      <td>AVPEPUDEAC0003a3.wav</td>\n",
              "    </tr>\n",
              "  </tbody>\n",
              "</table>\n",
              "</div>\n",
              "      <button class=\"colab-df-convert\" onclick=\"convertToInteractive('df-84c1f1a0-ecde-4a82-a269-ac6f10bca2be')\"\n",
              "              title=\"Convert this dataframe to an interactive table.\"\n",
              "              style=\"display:none;\">\n",
              "        \n",
              "  <svg xmlns=\"http://www.w3.org/2000/svg\" height=\"24px\"viewBox=\"0 0 24 24\"\n",
              "       width=\"24px\">\n",
              "    <path d=\"M0 0h24v24H0V0z\" fill=\"none\"/>\n",
              "    <path d=\"M18.56 5.44l.94 2.06.94-2.06 2.06-.94-2.06-.94-.94-2.06-.94 2.06-2.06.94zm-11 1L8.5 8.5l.94-2.06 2.06-.94-2.06-.94L8.5 2.5l-.94 2.06-2.06.94zm10 10l.94 2.06.94-2.06 2.06-.94-2.06-.94-.94-2.06-.94 2.06-2.06.94z\"/><path d=\"M17.41 7.96l-1.37-1.37c-.4-.4-.92-.59-1.43-.59-.52 0-1.04.2-1.43.59L10.3 9.45l-7.72 7.72c-.78.78-.78 2.05 0 2.83L4 21.41c.39.39.9.59 1.41.59.51 0 1.02-.2 1.41-.59l7.78-7.78 2.81-2.81c.8-.78.8-2.07 0-2.86zM5.41 20L4 18.59l7.72-7.72 1.47 1.35L5.41 20z\"/>\n",
              "  </svg>\n",
              "      </button>\n",
              "      \n",
              "  <style>\n",
              "    .colab-df-container {\n",
              "      display:flex;\n",
              "      flex-wrap:wrap;\n",
              "      gap: 12px;\n",
              "    }\n",
              "\n",
              "    .colab-df-convert {\n",
              "      background-color: #E8F0FE;\n",
              "      border: none;\n",
              "      border-radius: 50%;\n",
              "      cursor: pointer;\n",
              "      display: none;\n",
              "      fill: #1967D2;\n",
              "      height: 32px;\n",
              "      padding: 0 0 0 0;\n",
              "      width: 32px;\n",
              "    }\n",
              "\n",
              "    .colab-df-convert:hover {\n",
              "      background-color: #E2EBFA;\n",
              "      box-shadow: 0px 1px 2px rgba(60, 64, 67, 0.3), 0px 1px 3px 1px rgba(60, 64, 67, 0.15);\n",
              "      fill: #174EA6;\n",
              "    }\n",
              "\n",
              "    [theme=dark] .colab-df-convert {\n",
              "      background-color: #3B4455;\n",
              "      fill: #D2E3FC;\n",
              "    }\n",
              "\n",
              "    [theme=dark] .colab-df-convert:hover {\n",
              "      background-color: #434B5C;\n",
              "      box-shadow: 0px 1px 3px 1px rgba(0, 0, 0, 0.15);\n",
              "      filter: drop-shadow(0px 1px 2px rgba(0, 0, 0, 0.3));\n",
              "      fill: #FFFFFF;\n",
              "    }\n",
              "  </style>\n",
              "\n",
              "      <script>\n",
              "        const buttonEl =\n",
              "          document.querySelector('#df-84c1f1a0-ecde-4a82-a269-ac6f10bca2be button.colab-df-convert');\n",
              "        buttonEl.style.display =\n",
              "          google.colab.kernel.accessAllowed ? 'block' : 'none';\n",
              "\n",
              "        async function convertToInteractive(key) {\n",
              "          const element = document.querySelector('#df-84c1f1a0-ecde-4a82-a269-ac6f10bca2be');\n",
              "          const dataTable =\n",
              "            await google.colab.kernel.invokeFunction('convertToInteractive',\n",
              "                                                     [key], {});\n",
              "          if (!dataTable) return;\n",
              "\n",
              "          const docLinkHtml = 'Like what you see? Visit the ' +\n",
              "            '<a target=\"_blank\" href=https://colab.research.google.com/notebooks/data_table.ipynb>data table notebook</a>'\n",
              "            + ' to learn more about interactive tables.';\n",
              "          element.innerHTML = '';\n",
              "          dataTable['output_type'] = 'display_data';\n",
              "          await google.colab.output.renderOutput(dataTable, element);\n",
              "          const docLink = document.createElement('div');\n",
              "          docLink.innerHTML = docLinkHtml;\n",
              "          element.appendChild(docLink);\n",
              "        }\n",
              "      </script>\n",
              "    </div>\n",
              "  </div>\n",
              "  "
            ],
            "text/plain": [
              "               filename\n",
              "0  AVPEPUDEAC0001a1.wav\n",
              "1  AVPEPUDEAC0001a2.wav\n",
              "2  AVPEPUDEAC0001a3.wav\n",
              "3  AVPEPUDEAC0003a1.wav\n",
              "4  AVPEPUDEAC0003a3.wav"
            ]
          },
          "execution_count": 20,
          "metadata": {},
          "output_type": "execute_result"
        }
      ],
      "source": [
        "features.head()"
      ]
    },
    {
      "cell_type": "code",
      "execution_count": null,
      "metadata": {
        "colab": {
          "base_uri": "https://localhost:8080/"
        },
        "id": "BV81xbtGnxWG",
        "outputId": "3b2e64d9-9b3b-46ce-dc22-7666d9500571"
      },
      "outputs": [
        {
          "name": "stderr",
          "output_type": "stream",
          "text": [
            "Extracting features...: 100%|██████████| 300/300 [05:37<00:00,  1.12s/it]\n",
            "Extracting features...: 100%|██████████| 300/300 [05:18<00:00,  1.06s/it]\n",
            "Extracting features...: 100%|██████████| 300/300 [05:21<00:00,  1.07s/it]\n",
            "Extracting features...: 100%|██████████| 300/300 [04:50<00:00,  1.03it/s]\n",
            "Extracting features...: 100%|██████████| 300/300 [04:43<00:00,  1.06it/s]\n"
          ]
        }
      ],
      "source": [
        "for v in vowels:\n",
        "  # Note that we only pick components for which statistics are defined (i.e. time series) to make\n",
        "  # the code neater. \n",
        "  components_list = [\n",
        "      'mfcc', 'f0_contour', 'f0_statistics', 'intensity', 'rms',\n",
        "      'log_energy', 'loudness_slidingwindow', 'ppe', 'jitters', 'shimmers',\n",
        "      'dfa','formants','hnr','lpc']\n",
        "\n",
        "  statistics_list = ['mean']\n",
        "\n",
        "  # Extract dataframe...\n",
        "  feature_df = extract_features(\n",
        "      waveforms=waveforms[v], components_list=components_list, statistics_list = statistics_list\n",
        "  )\n",
        "  feature_df = feature_df.add_suffix(f'_{v}')\n",
        "  features = pd.concat([features, feature_df], axis=1, join='inner')\n"
      ]
    },
    {
      "attachments": {},
      "cell_type": "markdown",
      "metadata": {
        "id": "zb6cyDByOf9-"
      },
      "source": [
        "For some odd reason, a column called lpc_U is added containing only NaNs values. We must remove it if that is the case. (Sometimes it would not be there ??) IDK :)"
      ]
    },
    {
      "cell_type": "code",
      "execution_count": null,
      "metadata": {
        "colab": {
          "base_uri": "https://localhost:8080/"
        },
        "id": "8OyevU44bteN",
        "outputId": "072b7761-7171-4676-f8f6-9f1b91cc8af4"
      },
      "outputs": [
        {
          "name": "stdout",
          "output_type": "stream",
          "text": [
            "Deleted.\n"
          ]
        }
      ],
      "source": [
        "if 'lpc_U' in features.columns:\n",
        "  print(\"Deleted.\")\n",
        "  features = features.drop('lpc_U', axis = 1)"
      ]
    },
    {
      "cell_type": "code",
      "execution_count": null,
      "metadata": {
        "colab": {
          "base_uri": "https://localhost:8080/",
          "height": 300
        },
        "id": "xTb_gHuDz_Ko",
        "outputId": "2fb23f3a-7e9b-4227-9014-5fe3639f9652"
      },
      "outputs": [
        {
          "data": {
            "text/html": [
              "\n",
              "  <div id=\"df-cdd480e9-9707-4487-a858-b34a7bad8b9e\">\n",
              "    <div class=\"colab-df-container\">\n",
              "      <div>\n",
              "<style scoped>\n",
              "    .dataframe tbody tr th:only-of-type {\n",
              "        vertical-align: middle;\n",
              "    }\n",
              "\n",
              "    .dataframe tbody tr th {\n",
              "        vertical-align: top;\n",
              "    }\n",
              "\n",
              "    .dataframe thead th {\n",
              "        text-align: right;\n",
              "    }\n",
              "</style>\n",
              "<table border=\"1\" class=\"dataframe\">\n",
              "  <thead>\n",
              "    <tr style=\"text-align: right;\">\n",
              "      <th></th>\n",
              "      <th>filename</th>\n",
              "      <th>mfcc_mean_1_A</th>\n",
              "      <th>mfcc_mean_2_A</th>\n",
              "      <th>mfcc_mean_3_A</th>\n",
              "      <th>mfcc_mean_4_A</th>\n",
              "      <th>mfcc_mean_5_A</th>\n",
              "      <th>mfcc_mean_6_A</th>\n",
              "      <th>mfcc_mean_7_A</th>\n",
              "      <th>mfcc_mean_8_A</th>\n",
              "      <th>mfcc_mean_9_A</th>\n",
              "      <th>...</th>\n",
              "      <th>f1_U</th>\n",
              "      <th>f2_U</th>\n",
              "      <th>f3_U</th>\n",
              "      <th>f4_U</th>\n",
              "      <th>hnr_U</th>\n",
              "      <th>LPC_0_U</th>\n",
              "      <th>LPC_1_U</th>\n",
              "      <th>LPC_2_U</th>\n",
              "      <th>LPC_3_U</th>\n",
              "      <th>LPC_4_U</th>\n",
              "    </tr>\n",
              "  </thead>\n",
              "  <tbody>\n",
              "    <tr>\n",
              "      <th>0</th>\n",
              "      <td>AVPEPUDEAC0001a1.wav</td>\n",
              "      <td>-372.618958</td>\n",
              "      <td>170.538239</td>\n",
              "      <td>-40.583622</td>\n",
              "      <td>-27.997536</td>\n",
              "      <td>-6.114872</td>\n",
              "      <td>-22.517136</td>\n",
              "      <td>-21.645016</td>\n",
              "      <td>27.295513</td>\n",
              "      <td>-2.757798</td>\n",
              "      <td>...</td>\n",
              "      <td>413.608885</td>\n",
              "      <td>855.923600</td>\n",
              "      <td>2691.467349</td>\n",
              "      <td>3799.771303</td>\n",
              "      <td>25.690630</td>\n",
              "      <td>1.0</td>\n",
              "      <td>-1.621395</td>\n",
              "      <td>0.552271</td>\n",
              "      <td>-0.207879</td>\n",
              "      <td>0.282346</td>\n",
              "    </tr>\n",
              "    <tr>\n",
              "      <th>1</th>\n",
              "      <td>AVPEPUDEAC0001a2.wav</td>\n",
              "      <td>-394.388885</td>\n",
              "      <td>165.665054</td>\n",
              "      <td>-24.276449</td>\n",
              "      <td>-20.874956</td>\n",
              "      <td>-9.255936</td>\n",
              "      <td>-18.817190</td>\n",
              "      <td>-20.143118</td>\n",
              "      <td>31.363369</td>\n",
              "      <td>1.716501</td>\n",
              "      <td>...</td>\n",
              "      <td>366.778626</td>\n",
              "      <td>773.168390</td>\n",
              "      <td>2650.082362</td>\n",
              "      <td>3589.815036</td>\n",
              "      <td>23.842138</td>\n",
              "      <td>1.0</td>\n",
              "      <td>-1.545521</td>\n",
              "      <td>0.431359</td>\n",
              "      <td>-0.192440</td>\n",
              "      <td>0.311552</td>\n",
              "    </tr>\n",
              "    <tr>\n",
              "      <th>2</th>\n",
              "      <td>AVPEPUDEAC0001a3.wav</td>\n",
              "      <td>-399.759064</td>\n",
              "      <td>167.531250</td>\n",
              "      <td>-16.934942</td>\n",
              "      <td>-22.071875</td>\n",
              "      <td>-12.731897</td>\n",
              "      <td>-21.504839</td>\n",
              "      <td>-21.769806</td>\n",
              "      <td>33.275459</td>\n",
              "      <td>10.703189</td>\n",
              "      <td>...</td>\n",
              "      <td>730.356398</td>\n",
              "      <td>2802.277666</td>\n",
              "      <td>3767.566577</td>\n",
              "      <td>5145.967325</td>\n",
              "      <td>31.139092</td>\n",
              "      <td>1.0</td>\n",
              "      <td>-2.009604</td>\n",
              "      <td>1.339565</td>\n",
              "      <td>-0.627501</td>\n",
              "      <td>0.301435</td>\n",
              "    </tr>\n",
              "    <tr>\n",
              "      <th>3</th>\n",
              "      <td>AVPEPUDEAC0003a1.wav</td>\n",
              "      <td>-319.919128</td>\n",
              "      <td>231.111572</td>\n",
              "      <td>8.292277</td>\n",
              "      <td>-21.140722</td>\n",
              "      <td>-22.711266</td>\n",
              "      <td>6.493412</td>\n",
              "      <td>-16.656136</td>\n",
              "      <td>-24.516327</td>\n",
              "      <td>11.200557</td>\n",
              "      <td>...</td>\n",
              "      <td>671.522902</td>\n",
              "      <td>2192.993042</td>\n",
              "      <td>3346.745084</td>\n",
              "      <td>5069.993537</td>\n",
              "      <td>16.921561</td>\n",
              "      <td>1.0</td>\n",
              "      <td>-1.657522</td>\n",
              "      <td>0.385750</td>\n",
              "      <td>0.235394</td>\n",
              "      <td>0.039457</td>\n",
              "    </tr>\n",
              "    <tr>\n",
              "      <th>4</th>\n",
              "      <td>AVPEPUDEAC0003a3.wav</td>\n",
              "      <td>-335.425964</td>\n",
              "      <td>244.656143</td>\n",
              "      <td>25.953175</td>\n",
              "      <td>-16.412966</td>\n",
              "      <td>-16.085485</td>\n",
              "      <td>-6.240764</td>\n",
              "      <td>-16.837030</td>\n",
              "      <td>-16.603432</td>\n",
              "      <td>-5.774248</td>\n",
              "      <td>...</td>\n",
              "      <td>594.500902</td>\n",
              "      <td>2181.058987</td>\n",
              "      <td>3110.540368</td>\n",
              "      <td>5115.181137</td>\n",
              "      <td>9.182765</td>\n",
              "      <td>1.0</td>\n",
              "      <td>-1.827665</td>\n",
              "      <td>0.620723</td>\n",
              "      <td>0.272772</td>\n",
              "      <td>-0.063501</td>\n",
              "    </tr>\n",
              "  </tbody>\n",
              "</table>\n",
              "<p>5 rows × 211 columns</p>\n",
              "</div>\n",
              "      <button class=\"colab-df-convert\" onclick=\"convertToInteractive('df-cdd480e9-9707-4487-a858-b34a7bad8b9e')\"\n",
              "              title=\"Convert this dataframe to an interactive table.\"\n",
              "              style=\"display:none;\">\n",
              "        \n",
              "  <svg xmlns=\"http://www.w3.org/2000/svg\" height=\"24px\"viewBox=\"0 0 24 24\"\n",
              "       width=\"24px\">\n",
              "    <path d=\"M0 0h24v24H0V0z\" fill=\"none\"/>\n",
              "    <path d=\"M18.56 5.44l.94 2.06.94-2.06 2.06-.94-2.06-.94-.94-2.06-.94 2.06-2.06.94zm-11 1L8.5 8.5l.94-2.06 2.06-.94-2.06-.94L8.5 2.5l-.94 2.06-2.06.94zm10 10l.94 2.06.94-2.06 2.06-.94-2.06-.94-.94-2.06-.94 2.06-2.06.94z\"/><path d=\"M17.41 7.96l-1.37-1.37c-.4-.4-.92-.59-1.43-.59-.52 0-1.04.2-1.43.59L10.3 9.45l-7.72 7.72c-.78.78-.78 2.05 0 2.83L4 21.41c.39.39.9.59 1.41.59.51 0 1.02-.2 1.41-.59l7.78-7.78 2.81-2.81c.8-.78.8-2.07 0-2.86zM5.41 20L4 18.59l7.72-7.72 1.47 1.35L5.41 20z\"/>\n",
              "  </svg>\n",
              "      </button>\n",
              "      \n",
              "  <style>\n",
              "    .colab-df-container {\n",
              "      display:flex;\n",
              "      flex-wrap:wrap;\n",
              "      gap: 12px;\n",
              "    }\n",
              "\n",
              "    .colab-df-convert {\n",
              "      background-color: #E8F0FE;\n",
              "      border: none;\n",
              "      border-radius: 50%;\n",
              "      cursor: pointer;\n",
              "      display: none;\n",
              "      fill: #1967D2;\n",
              "      height: 32px;\n",
              "      padding: 0 0 0 0;\n",
              "      width: 32px;\n",
              "    }\n",
              "\n",
              "    .colab-df-convert:hover {\n",
              "      background-color: #E2EBFA;\n",
              "      box-shadow: 0px 1px 2px rgba(60, 64, 67, 0.3), 0px 1px 3px 1px rgba(60, 64, 67, 0.15);\n",
              "      fill: #174EA6;\n",
              "    }\n",
              "\n",
              "    [theme=dark] .colab-df-convert {\n",
              "      background-color: #3B4455;\n",
              "      fill: #D2E3FC;\n",
              "    }\n",
              "\n",
              "    [theme=dark] .colab-df-convert:hover {\n",
              "      background-color: #434B5C;\n",
              "      box-shadow: 0px 1px 3px 1px rgba(0, 0, 0, 0.15);\n",
              "      filter: drop-shadow(0px 1px 2px rgba(0, 0, 0, 0.3));\n",
              "      fill: #FFFFFF;\n",
              "    }\n",
              "  </style>\n",
              "\n",
              "      <script>\n",
              "        const buttonEl =\n",
              "          document.querySelector('#df-cdd480e9-9707-4487-a858-b34a7bad8b9e button.colab-df-convert');\n",
              "        buttonEl.style.display =\n",
              "          google.colab.kernel.accessAllowed ? 'block' : 'none';\n",
              "\n",
              "        async function convertToInteractive(key) {\n",
              "          const element = document.querySelector('#df-cdd480e9-9707-4487-a858-b34a7bad8b9e');\n",
              "          const dataTable =\n",
              "            await google.colab.kernel.invokeFunction('convertToInteractive',\n",
              "                                                     [key], {});\n",
              "          if (!dataTable) return;\n",
              "\n",
              "          const docLinkHtml = 'Like what you see? Visit the ' +\n",
              "            '<a target=\"_blank\" href=https://colab.research.google.com/notebooks/data_table.ipynb>data table notebook</a>'\n",
              "            + ' to learn more about interactive tables.';\n",
              "          element.innerHTML = '';\n",
              "          dataTable['output_type'] = 'display_data';\n",
              "          await google.colab.output.renderOutput(dataTable, element);\n",
              "          const docLink = document.createElement('div');\n",
              "          docLink.innerHTML = docLinkHtml;\n",
              "          element.appendChild(docLink);\n",
              "        }\n",
              "      </script>\n",
              "    </div>\n",
              "  </div>\n",
              "  "
            ],
            "text/plain": [
              "               filename  mfcc_mean_1_A  mfcc_mean_2_A  mfcc_mean_3_A  \\\n",
              "0  AVPEPUDEAC0001a1.wav    -372.618958     170.538239     -40.583622   \n",
              "1  AVPEPUDEAC0001a2.wav    -394.388885     165.665054     -24.276449   \n",
              "2  AVPEPUDEAC0001a3.wav    -399.759064     167.531250     -16.934942   \n",
              "3  AVPEPUDEAC0003a1.wav    -319.919128     231.111572       8.292277   \n",
              "4  AVPEPUDEAC0003a3.wav    -335.425964     244.656143      25.953175   \n",
              "\n",
              "   mfcc_mean_4_A  mfcc_mean_5_A  mfcc_mean_6_A  mfcc_mean_7_A  mfcc_mean_8_A  \\\n",
              "0     -27.997536      -6.114872     -22.517136     -21.645016      27.295513   \n",
              "1     -20.874956      -9.255936     -18.817190     -20.143118      31.363369   \n",
              "2     -22.071875     -12.731897     -21.504839     -21.769806      33.275459   \n",
              "3     -21.140722     -22.711266       6.493412     -16.656136     -24.516327   \n",
              "4     -16.412966     -16.085485      -6.240764     -16.837030     -16.603432   \n",
              "\n",
              "   mfcc_mean_9_A  ...        f1_U         f2_U         f3_U         f4_U  \\\n",
              "0      -2.757798  ...  413.608885   855.923600  2691.467349  3799.771303   \n",
              "1       1.716501  ...  366.778626   773.168390  2650.082362  3589.815036   \n",
              "2      10.703189  ...  730.356398  2802.277666  3767.566577  5145.967325   \n",
              "3      11.200557  ...  671.522902  2192.993042  3346.745084  5069.993537   \n",
              "4      -5.774248  ...  594.500902  2181.058987  3110.540368  5115.181137   \n",
              "\n",
              "       hnr_U  LPC_0_U   LPC_1_U   LPC_2_U   LPC_3_U   LPC_4_U  \n",
              "0  25.690630      1.0 -1.621395  0.552271 -0.207879  0.282346  \n",
              "1  23.842138      1.0 -1.545521  0.431359 -0.192440  0.311552  \n",
              "2  31.139092      1.0 -2.009604  1.339565 -0.627501  0.301435  \n",
              "3  16.921561      1.0 -1.657522  0.385750  0.235394  0.039457  \n",
              "4   9.182765      1.0 -1.827665  0.620723  0.272772 -0.063501  \n",
              "\n",
              "[5 rows x 211 columns]"
            ]
          },
          "execution_count": 23,
          "metadata": {},
          "output_type": "execute_result"
        }
      ],
      "source": [
        "features.head()"
      ]
    },
    {
      "cell_type": "code",
      "execution_count": null,
      "metadata": {
        "colab": {
          "base_uri": "https://localhost:8080/",
          "height": 394
        },
        "id": "3hfmfFP9zNIv",
        "outputId": "517ec5e6-2649-413a-a2b0-98e46ce5f719"
      },
      "outputs": [
        {
          "data": {
            "text/html": [
              "\n",
              "  <div id=\"df-b7be68e5-56a3-42d7-adde-065010e2fa1e\">\n",
              "    <div class=\"colab-df-container\">\n",
              "      <div>\n",
              "<style scoped>\n",
              "    .dataframe tbody tr th:only-of-type {\n",
              "        vertical-align: middle;\n",
              "    }\n",
              "\n",
              "    .dataframe tbody tr th {\n",
              "        vertical-align: top;\n",
              "    }\n",
              "\n",
              "    .dataframe thead th {\n",
              "        text-align: right;\n",
              "    }\n",
              "</style>\n",
              "<table border=\"1\" class=\"dataframe\">\n",
              "  <thead>\n",
              "    <tr style=\"text-align: right;\">\n",
              "      <th></th>\n",
              "      <th>mfcc_mean_1_A</th>\n",
              "      <th>mfcc_mean_2_A</th>\n",
              "      <th>mfcc_mean_3_A</th>\n",
              "      <th>mfcc_mean_4_A</th>\n",
              "      <th>mfcc_mean_5_A</th>\n",
              "      <th>mfcc_mean_6_A</th>\n",
              "      <th>mfcc_mean_7_A</th>\n",
              "      <th>mfcc_mean_8_A</th>\n",
              "      <th>mfcc_mean_9_A</th>\n",
              "      <th>mfcc_mean_10_A</th>\n",
              "      <th>...</th>\n",
              "      <th>f1_U</th>\n",
              "      <th>f2_U</th>\n",
              "      <th>f3_U</th>\n",
              "      <th>f4_U</th>\n",
              "      <th>hnr_U</th>\n",
              "      <th>LPC_0_U</th>\n",
              "      <th>LPC_1_U</th>\n",
              "      <th>LPC_2_U</th>\n",
              "      <th>LPC_3_U</th>\n",
              "      <th>LPC_4_U</th>\n",
              "    </tr>\n",
              "  </thead>\n",
              "  <tbody>\n",
              "    <tr>\n",
              "      <th>count</th>\n",
              "      <td>300.000000</td>\n",
              "      <td>300.000000</td>\n",
              "      <td>300.000000</td>\n",
              "      <td>300.000000</td>\n",
              "      <td>300.000000</td>\n",
              "      <td>300.000000</td>\n",
              "      <td>300.000000</td>\n",
              "      <td>300.000000</td>\n",
              "      <td>300.000000</td>\n",
              "      <td>300.000000</td>\n",
              "      <td>...</td>\n",
              "      <td>300.000000</td>\n",
              "      <td>300.000000</td>\n",
              "      <td>300.000000</td>\n",
              "      <td>300.000000</td>\n",
              "      <td>300.000000</td>\n",
              "      <td>297.0</td>\n",
              "      <td>297.000000</td>\n",
              "      <td>297.000000</td>\n",
              "      <td>297.000000</td>\n",
              "      <td>297.000000</td>\n",
              "    </tr>\n",
              "    <tr>\n",
              "      <th>mean</th>\n",
              "      <td>-437.714264</td>\n",
              "      <td>175.511826</td>\n",
              "      <td>-31.414551</td>\n",
              "      <td>-10.483651</td>\n",
              "      <td>-10.941003</td>\n",
              "      <td>-10.821373</td>\n",
              "      <td>-14.955368</td>\n",
              "      <td>6.218000</td>\n",
              "      <td>3.436314</td>\n",
              "      <td>-6.803450</td>\n",
              "      <td>...</td>\n",
              "      <td>820.027997</td>\n",
              "      <td>2213.383335</td>\n",
              "      <td>3364.068262</td>\n",
              "      <td>4350.549023</td>\n",
              "      <td>24.267637</td>\n",
              "      <td>1.0</td>\n",
              "      <td>-1.856773</td>\n",
              "      <td>1.055407</td>\n",
              "      <td>-0.478051</td>\n",
              "      <td>0.283577</td>\n",
              "    </tr>\n",
              "    <tr>\n",
              "      <th>std</th>\n",
              "      <td>100.672134</td>\n",
              "      <td>27.984709</td>\n",
              "      <td>30.641394</td>\n",
              "      <td>17.251799</td>\n",
              "      <td>15.568634</td>\n",
              "      <td>16.115271</td>\n",
              "      <td>14.948940</td>\n",
              "      <td>13.434528</td>\n",
              "      <td>11.929414</td>\n",
              "      <td>13.559862</td>\n",
              "      <td>...</td>\n",
              "      <td>510.081558</td>\n",
              "      <td>798.614968</td>\n",
              "      <td>538.785086</td>\n",
              "      <td>537.391857</td>\n",
              "      <td>5.016546</td>\n",
              "      <td>0.0</td>\n",
              "      <td>0.438827</td>\n",
              "      <td>0.910800</td>\n",
              "      <td>0.636961</td>\n",
              "      <td>0.227815</td>\n",
              "    </tr>\n",
              "    <tr>\n",
              "      <th>min</th>\n",
              "      <td>-658.721619</td>\n",
              "      <td>97.566772</td>\n",
              "      <td>-102.889404</td>\n",
              "      <td>-53.884502</td>\n",
              "      <td>-56.471882</td>\n",
              "      <td>-58.870739</td>\n",
              "      <td>-69.824051</td>\n",
              "      <td>-27.736683</td>\n",
              "      <td>-28.769768</td>\n",
              "      <td>-39.651806</td>\n",
              "      <td>...</td>\n",
              "      <td>0.000000</td>\n",
              "      <td>340.917697</td>\n",
              "      <td>835.252970</td>\n",
              "      <td>2588.085080</td>\n",
              "      <td>8.552106</td>\n",
              "      <td>1.0</td>\n",
              "      <td>-2.930491</td>\n",
              "      <td>-1.330728</td>\n",
              "      <td>-2.345076</td>\n",
              "      <td>-0.365529</td>\n",
              "    </tr>\n",
              "    <tr>\n",
              "      <th>25%</th>\n",
              "      <td>-511.938850</td>\n",
              "      <td>157.176464</td>\n",
              "      <td>-50.867230</td>\n",
              "      <td>-23.296435</td>\n",
              "      <td>-20.825163</td>\n",
              "      <td>-21.212431</td>\n",
              "      <td>-23.530068</td>\n",
              "      <td>-2.290796</td>\n",
              "      <td>-4.086260</td>\n",
              "      <td>-17.120261</td>\n",
              "      <td>...</td>\n",
              "      <td>555.197783</td>\n",
              "      <td>2047.361451</td>\n",
              "      <td>2982.396001</td>\n",
              "      <td>3907.612482</td>\n",
              "      <td>21.546299</td>\n",
              "      <td>1.0</td>\n",
              "      <td>-2.129176</td>\n",
              "      <td>0.363102</td>\n",
              "      <td>-0.903674</td>\n",
              "      <td>0.149877</td>\n",
              "    </tr>\n",
              "    <tr>\n",
              "      <th>50%</th>\n",
              "      <td>-425.032639</td>\n",
              "      <td>174.915962</td>\n",
              "      <td>-29.988818</td>\n",
              "      <td>-11.191508</td>\n",
              "      <td>-11.218589</td>\n",
              "      <td>-10.486663</td>\n",
              "      <td>-14.967675</td>\n",
              "      <td>4.974529</td>\n",
              "      <td>2.606673</td>\n",
              "      <td>-6.756209</td>\n",
              "      <td>...</td>\n",
              "      <td>701.596544</td>\n",
              "      <td>2510.263888</td>\n",
              "      <td>3349.601574</td>\n",
              "      <td>4363.799198</td>\n",
              "      <td>24.626921</td>\n",
              "      <td>1.0</td>\n",
              "      <td>-1.897823</td>\n",
              "      <td>1.029345</td>\n",
              "      <td>-0.405992</td>\n",
              "      <td>0.304236</td>\n",
              "    </tr>\n",
              "    <tr>\n",
              "      <th>75%</th>\n",
              "      <td>-363.708725</td>\n",
              "      <td>195.269703</td>\n",
              "      <td>-10.633758</td>\n",
              "      <td>0.327717</td>\n",
              "      <td>-0.200184</td>\n",
              "      <td>-1.045763</td>\n",
              "      <td>-4.282366</td>\n",
              "      <td>15.446043</td>\n",
              "      <td>11.708369</td>\n",
              "      <td>1.373135</td>\n",
              "      <td>...</td>\n",
              "      <td>805.371438</td>\n",
              "      <td>2736.175942</td>\n",
              "      <td>3743.208708</td>\n",
              "      <td>4741.863145</td>\n",
              "      <td>27.503237</td>\n",
              "      <td>1.0</td>\n",
              "      <td>-1.559437</td>\n",
              "      <td>1.656162</td>\n",
              "      <td>0.031068</td>\n",
              "      <td>0.434822</td>\n",
              "    </tr>\n",
              "    <tr>\n",
              "      <th>max</th>\n",
              "      <td>-185.233582</td>\n",
              "      <td>244.656143</td>\n",
              "      <td>46.693943</td>\n",
              "      <td>35.753822</td>\n",
              "      <td>36.509712</td>\n",
              "      <td>32.163692</td>\n",
              "      <td>15.464055</td>\n",
              "      <td>41.855518</td>\n",
              "      <td>37.520035</td>\n",
              "      <td>32.878864</td>\n",
              "      <td>...</td>\n",
              "      <td>2503.577008</td>\n",
              "      <td>4172.477511</td>\n",
              "      <td>4582.823503</td>\n",
              "      <td>5810.900016</td>\n",
              "      <td>35.495991</td>\n",
              "      <td>1.0</td>\n",
              "      <td>-0.397971</td>\n",
              "      <td>3.424443</td>\n",
              "      <td>1.160434</td>\n",
              "      <td>0.861644</td>\n",
              "    </tr>\n",
              "  </tbody>\n",
              "</table>\n",
              "<p>8 rows × 210 columns</p>\n",
              "</div>\n",
              "      <button class=\"colab-df-convert\" onclick=\"convertToInteractive('df-b7be68e5-56a3-42d7-adde-065010e2fa1e')\"\n",
              "              title=\"Convert this dataframe to an interactive table.\"\n",
              "              style=\"display:none;\">\n",
              "        \n",
              "  <svg xmlns=\"http://www.w3.org/2000/svg\" height=\"24px\"viewBox=\"0 0 24 24\"\n",
              "       width=\"24px\">\n",
              "    <path d=\"M0 0h24v24H0V0z\" fill=\"none\"/>\n",
              "    <path d=\"M18.56 5.44l.94 2.06.94-2.06 2.06-.94-2.06-.94-.94-2.06-.94 2.06-2.06.94zm-11 1L8.5 8.5l.94-2.06 2.06-.94-2.06-.94L8.5 2.5l-.94 2.06-2.06.94zm10 10l.94 2.06.94-2.06 2.06-.94-2.06-.94-.94-2.06-.94 2.06-2.06.94z\"/><path d=\"M17.41 7.96l-1.37-1.37c-.4-.4-.92-.59-1.43-.59-.52 0-1.04.2-1.43.59L10.3 9.45l-7.72 7.72c-.78.78-.78 2.05 0 2.83L4 21.41c.39.39.9.59 1.41.59.51 0 1.02-.2 1.41-.59l7.78-7.78 2.81-2.81c.8-.78.8-2.07 0-2.86zM5.41 20L4 18.59l7.72-7.72 1.47 1.35L5.41 20z\"/>\n",
              "  </svg>\n",
              "      </button>\n",
              "      \n",
              "  <style>\n",
              "    .colab-df-container {\n",
              "      display:flex;\n",
              "      flex-wrap:wrap;\n",
              "      gap: 12px;\n",
              "    }\n",
              "\n",
              "    .colab-df-convert {\n",
              "      background-color: #E8F0FE;\n",
              "      border: none;\n",
              "      border-radius: 50%;\n",
              "      cursor: pointer;\n",
              "      display: none;\n",
              "      fill: #1967D2;\n",
              "      height: 32px;\n",
              "      padding: 0 0 0 0;\n",
              "      width: 32px;\n",
              "    }\n",
              "\n",
              "    .colab-df-convert:hover {\n",
              "      background-color: #E2EBFA;\n",
              "      box-shadow: 0px 1px 2px rgba(60, 64, 67, 0.3), 0px 1px 3px 1px rgba(60, 64, 67, 0.15);\n",
              "      fill: #174EA6;\n",
              "    }\n",
              "\n",
              "    [theme=dark] .colab-df-convert {\n",
              "      background-color: #3B4455;\n",
              "      fill: #D2E3FC;\n",
              "    }\n",
              "\n",
              "    [theme=dark] .colab-df-convert:hover {\n",
              "      background-color: #434B5C;\n",
              "      box-shadow: 0px 1px 3px 1px rgba(0, 0, 0, 0.15);\n",
              "      filter: drop-shadow(0px 1px 2px rgba(0, 0, 0, 0.3));\n",
              "      fill: #FFFFFF;\n",
              "    }\n",
              "  </style>\n",
              "\n",
              "      <script>\n",
              "        const buttonEl =\n",
              "          document.querySelector('#df-b7be68e5-56a3-42d7-adde-065010e2fa1e button.colab-df-convert');\n",
              "        buttonEl.style.display =\n",
              "          google.colab.kernel.accessAllowed ? 'block' : 'none';\n",
              "\n",
              "        async function convertToInteractive(key) {\n",
              "          const element = document.querySelector('#df-b7be68e5-56a3-42d7-adde-065010e2fa1e');\n",
              "          const dataTable =\n",
              "            await google.colab.kernel.invokeFunction('convertToInteractive',\n",
              "                                                     [key], {});\n",
              "          if (!dataTable) return;\n",
              "\n",
              "          const docLinkHtml = 'Like what you see? Visit the ' +\n",
              "            '<a target=\"_blank\" href=https://colab.research.google.com/notebooks/data_table.ipynb>data table notebook</a>'\n",
              "            + ' to learn more about interactive tables.';\n",
              "          element.innerHTML = '';\n",
              "          dataTable['output_type'] = 'display_data';\n",
              "          await google.colab.output.renderOutput(dataTable, element);\n",
              "          const docLink = document.createElement('div');\n",
              "          docLink.innerHTML = docLinkHtml;\n",
              "          element.appendChild(docLink);\n",
              "        }\n",
              "      </script>\n",
              "    </div>\n",
              "  </div>\n",
              "  "
            ],
            "text/plain": [
              "       mfcc_mean_1_A  mfcc_mean_2_A  mfcc_mean_3_A  mfcc_mean_4_A  \\\n",
              "count     300.000000     300.000000     300.000000     300.000000   \n",
              "mean     -437.714264     175.511826     -31.414551     -10.483651   \n",
              "std       100.672134      27.984709      30.641394      17.251799   \n",
              "min      -658.721619      97.566772    -102.889404     -53.884502   \n",
              "25%      -511.938850     157.176464     -50.867230     -23.296435   \n",
              "50%      -425.032639     174.915962     -29.988818     -11.191508   \n",
              "75%      -363.708725     195.269703     -10.633758       0.327717   \n",
              "max      -185.233582     244.656143      46.693943      35.753822   \n",
              "\n",
              "       mfcc_mean_5_A  mfcc_mean_6_A  mfcc_mean_7_A  mfcc_mean_8_A  \\\n",
              "count     300.000000     300.000000     300.000000     300.000000   \n",
              "mean      -10.941003     -10.821373     -14.955368       6.218000   \n",
              "std        15.568634      16.115271      14.948940      13.434528   \n",
              "min       -56.471882     -58.870739     -69.824051     -27.736683   \n",
              "25%       -20.825163     -21.212431     -23.530068      -2.290796   \n",
              "50%       -11.218589     -10.486663     -14.967675       4.974529   \n",
              "75%        -0.200184      -1.045763      -4.282366      15.446043   \n",
              "max        36.509712      32.163692      15.464055      41.855518   \n",
              "\n",
              "       mfcc_mean_9_A  mfcc_mean_10_A  ...         f1_U         f2_U  \\\n",
              "count     300.000000      300.000000  ...   300.000000   300.000000   \n",
              "mean        3.436314       -6.803450  ...   820.027997  2213.383335   \n",
              "std        11.929414       13.559862  ...   510.081558   798.614968   \n",
              "min       -28.769768      -39.651806  ...     0.000000   340.917697   \n",
              "25%        -4.086260      -17.120261  ...   555.197783  2047.361451   \n",
              "50%         2.606673       -6.756209  ...   701.596544  2510.263888   \n",
              "75%        11.708369        1.373135  ...   805.371438  2736.175942   \n",
              "max        37.520035       32.878864  ...  2503.577008  4172.477511   \n",
              "\n",
              "              f3_U         f4_U       hnr_U  LPC_0_U     LPC_1_U     LPC_2_U  \\\n",
              "count   300.000000   300.000000  300.000000    297.0  297.000000  297.000000   \n",
              "mean   3364.068262  4350.549023   24.267637      1.0   -1.856773    1.055407   \n",
              "std     538.785086   537.391857    5.016546      0.0    0.438827    0.910800   \n",
              "min     835.252970  2588.085080    8.552106      1.0   -2.930491   -1.330728   \n",
              "25%    2982.396001  3907.612482   21.546299      1.0   -2.129176    0.363102   \n",
              "50%    3349.601574  4363.799198   24.626921      1.0   -1.897823    1.029345   \n",
              "75%    3743.208708  4741.863145   27.503237      1.0   -1.559437    1.656162   \n",
              "max    4582.823503  5810.900016   35.495991      1.0   -0.397971    3.424443   \n",
              "\n",
              "          LPC_3_U     LPC_4_U  \n",
              "count  297.000000  297.000000  \n",
              "mean    -0.478051    0.283577  \n",
              "std      0.636961    0.227815  \n",
              "min     -2.345076   -0.365529  \n",
              "25%     -0.903674    0.149877  \n",
              "50%     -0.405992    0.304236  \n",
              "75%      0.031068    0.434822  \n",
              "max      1.160434    0.861644  \n",
              "\n",
              "[8 rows x 210 columns]"
            ]
          },
          "execution_count": 24,
          "metadata": {},
          "output_type": "execute_result"
        }
      ],
      "source": [
        "features.describe()"
      ]
    },
    {
      "attachments": {},
      "cell_type": "markdown",
      "metadata": {
        "id": "cd3rK3wHUb6e"
      },
      "source": [
        "Let's see how many NaNs we have in each column."
      ]
    },
    {
      "cell_type": "code",
      "execution_count": null,
      "metadata": {
        "colab": {
          "base_uri": "https://localhost:8080/"
        },
        "id": "EbtXWd_hzjxv",
        "outputId": "bc8121f5-0688-4ee7-9a2c-7bb625278182"
      },
      "outputs": [
        {
          "name": "stdout",
          "output_type": "stream",
          "text": [
            "['mfcc_mean_1_A', 'mfcc_mean_2_A', 'mfcc_mean_3_A', 'mfcc_mean_4_A', 'mfcc_mean_5_A', 'mfcc_mean_6_A', 'mfcc_mean_7_A', 'mfcc_mean_8_A', 'mfcc_mean_9_A', 'mfcc_mean_10_A', 'mfcc_mean_11_A', 'mfcc_mean_12_A', 'mfcc_mean_13_A', 'f0_contour_mean_A', 'f0_mean_A', 'f0_std_A', 'intensity_mean_A', 'rms_mean_A', 'log_energy_A', 'loudness_slidingwindow_mean_A', 'ppe_A', 'localJitter_A', 'localabsoluteJitter_A', 'rapJitter_A', 'ppq5Jitter_A', 'ddpJitter_A', 'localShimmer_A', 'localdbShimmer_A', 'apq3Shimmer_A', 'apq5Shimmer_A', 'apq11Shimmer_A', 'dfa_A', 'f1_A', 'f2_A', 'f3_A', 'f4_A', 'hnr_A', 'LPC_0_A', 'LPC_1_A', 'LPC_2_A', 'LPC_3_A', 'LPC_4_A', 'mfcc_mean_1_E', 'mfcc_mean_2_E', 'mfcc_mean_3_E', 'mfcc_mean_4_E', 'mfcc_mean_5_E', 'mfcc_mean_6_E', 'mfcc_mean_7_E', 'mfcc_mean_8_E', 'mfcc_mean_9_E', 'mfcc_mean_10_E', 'mfcc_mean_11_E', 'mfcc_mean_12_E', 'mfcc_mean_13_E', 'f0_contour_mean_E', 'f0_mean_E', 'f0_std_E', 'intensity_mean_E', 'rms_mean_E', 'log_energy_E', 'loudness_slidingwindow_mean_E', 'ppe_E', 'localJitter_E', 'localabsoluteJitter_E', 'rapJitter_E', 'ppq5Jitter_E', 'ddpJitter_E', 'localShimmer_E', 'localdbShimmer_E', 'apq3Shimmer_E', 'apq5Shimmer_E', 'apq11Shimmer_E', 'dfa_E', 'f1_E', 'f2_E', 'f3_E', 'f4_E', 'hnr_E', 'LPC_0_E', 'LPC_1_E', 'LPC_2_E', 'LPC_3_E', 'LPC_4_E', 'mfcc_mean_1_I', 'mfcc_mean_2_I', 'mfcc_mean_3_I', 'mfcc_mean_4_I', 'mfcc_mean_5_I', 'mfcc_mean_6_I', 'mfcc_mean_7_I', 'mfcc_mean_8_I', 'mfcc_mean_9_I', 'mfcc_mean_10_I', 'mfcc_mean_11_I', 'mfcc_mean_12_I', 'mfcc_mean_13_I', 'f0_contour_mean_I', 'f0_mean_I', 'f0_std_I', 'intensity_mean_I', 'rms_mean_I', 'log_energy_I', 'loudness_slidingwindow_mean_I', 'ppe_I', 'localJitter_I', 'localabsoluteJitter_I', 'rapJitter_I', 'ppq5Jitter_I', 'ddpJitter_I', 'localShimmer_I', 'localdbShimmer_I', 'apq3Shimmer_I', 'apq5Shimmer_I', 'apq11Shimmer_I', 'dfa_I', 'f1_I', 'f2_I', 'f3_I', 'f4_I', 'hnr_I', 'LPC_0_I', 'LPC_1_I', 'LPC_2_I', 'LPC_3_I', 'LPC_4_I', 'mfcc_mean_1_O', 'mfcc_mean_2_O', 'mfcc_mean_3_O', 'mfcc_mean_4_O', 'mfcc_mean_5_O', 'mfcc_mean_6_O', 'mfcc_mean_7_O', 'mfcc_mean_8_O', 'mfcc_mean_9_O', 'mfcc_mean_10_O', 'mfcc_mean_11_O', 'mfcc_mean_12_O', 'mfcc_mean_13_O', 'f0_contour_mean_O', 'f0_mean_O', 'f0_std_O', 'intensity_mean_O', 'rms_mean_O', 'log_energy_O', 'loudness_slidingwindow_mean_O', 'ppe_O', 'localJitter_O', 'localabsoluteJitter_O', 'rapJitter_O', 'ppq5Jitter_O', 'ddpJitter_O', 'localShimmer_O', 'localdbShimmer_O', 'apq3Shimmer_O', 'apq5Shimmer_O', 'apq11Shimmer_O', 'dfa_O', 'f1_O', 'f2_O', 'f3_O', 'f4_O', 'hnr_O', 'LPC_0_O', 'LPC_1_O', 'LPC_2_O', 'LPC_3_O', 'LPC_4_O', 'mfcc_mean_1_U', 'mfcc_mean_2_U', 'mfcc_mean_3_U', 'mfcc_mean_4_U', 'mfcc_mean_5_U', 'mfcc_mean_6_U', 'mfcc_mean_7_U', 'mfcc_mean_8_U', 'mfcc_mean_9_U', 'mfcc_mean_10_U', 'mfcc_mean_11_U', 'mfcc_mean_12_U', 'mfcc_mean_13_U', 'f0_contour_mean_U', 'f0_mean_U', 'f0_std_U', 'intensity_mean_U', 'rms_mean_U', 'log_energy_U', 'loudness_slidingwindow_mean_U', 'ppe_U', 'localJitter_U', 'localabsoluteJitter_U', 'rapJitter_U', 'ppq5Jitter_U', 'ddpJitter_U', 'localShimmer_U', 'localdbShimmer_U', 'apq3Shimmer_U', 'apq5Shimmer_U', 'apq11Shimmer_U', 'dfa_U', 'f1_U', 'f2_U', 'f3_U', 'f4_U', 'hnr_U', 'LPC_0_U', 'LPC_1_U', 'LPC_2_U', 'LPC_3_U', 'LPC_4_U']\n",
            "0 0 0 0 0 0 0 0 0 0 0 0 0 0 8 8 0 0 0 3 8 8 8 8 8 8 8 8 8 8 10 0 0 0 0 0 0 0 0 0 0 0 0 0 0 0 0 0 0 0 0 0 0 0 0 0 5 5 0 0 0 4 6 6 6 6 7 6 6 6 6 7 11 0 0 0 0 0 0 0 0 0 0 0 0 0 0 0 0 0 0 0 0 0 0 0 0 0 1 1 0 0 0 4 1 1 1 1 1 1 1 1 1 1 4 0 0 0 0 0 0 0 0 0 0 0 0 0 0 0 0 0 0 0 0 0 0 0 0 0 4 4 0 0 0 8 6 6 6 6 6 6 6 6 6 6 10 0 0 0 0 0 0 0 0 0 0 0 0 0 0 0 0 0 0 0 0 0 0 0 0 0 0 0 0 0 0 21 0 0 0 1 1 1 0 0 1 1 5 0 0 0 0 0 0 3 3 3 3 3 "
          ]
        }
      ],
      "source": [
        "columns_list = list(features)\n",
        "columns_list = columns_list[1:]\n",
        "print(columns_list)\n",
        "for c in columns_list:\n",
        "  print(features[c].isna().sum(), end = ' ')"
      ]
    },
    {
      "attachments": {},
      "cell_type": "markdown",
      "metadata": {
        "id": "GbGvuoX-UgsJ"
      },
      "source": [
        "Eliminating NaNs by replacing with mean of columns."
      ]
    },
    {
      "cell_type": "code",
      "execution_count": null,
      "metadata": {
        "id": "V2lVN_4zOQBL"
      },
      "outputs": [],
      "source": [
        "for c in columns_list:\n",
        "  features[c].fillna((features[c].mean()), inplace=True)\n"
      ]
    },
    {
      "cell_type": "code",
      "execution_count": null,
      "metadata": {
        "colab": {
          "base_uri": "https://localhost:8080/"
        },
        "id": "O7bdX-XP1jaw",
        "outputId": "ea1e8eaf-6785-4629-f39e-52881d33764a"
      },
      "outputs": [
        {
          "name": "stdout",
          "output_type": "stream",
          "text": [
            "0 0 0 0 0 0 0 0 0 0 0 0 0 0 0 0 0 0 0 0 0 0 0 0 0 0 0 0 0 0 0 0 0 0 0 0 0 0 0 0 0 0 0 0 0 0 0 0 0 0 0 0 0 0 0 0 0 0 0 0 0 0 0 0 0 0 0 0 0 0 0 0 0 0 0 0 0 0 0 0 0 0 0 0 0 0 0 0 0 0 0 0 0 0 0 0 0 0 0 0 0 0 0 0 0 0 0 0 0 0 0 0 0 0 0 0 0 0 0 0 0 0 0 0 0 0 0 0 0 0 0 0 0 0 0 0 0 0 0 0 0 0 0 0 0 0 0 0 0 0 0 0 0 0 0 0 0 0 0 0 0 0 0 0 0 0 0 0 0 0 0 0 0 0 0 0 0 0 0 0 0 0 0 0 0 0 0 0 0 0 0 0 0 0 0 0 0 0 0 0 0 0 0 0 0 0 0 0 0 0 "
          ]
        }
      ],
      "source": [
        "for c in columns_list:\n",
        "  print(features[c].isna().sum(), end = ' ')"
      ]
    },
    {
      "cell_type": "code",
      "execution_count": null,
      "metadata": {
        "colab": {
          "base_uri": "https://localhost:8080/"
        },
        "id": "WwhAhpi-32Wk",
        "outputId": "21188092-4dff-4f9e-8bcb-63637a286de8"
      },
      "outputs": [
        {
          "name": "stdout",
          "output_type": "stream",
          "text": [
            "Index(['filename', 'mfcc_mean_1_A', 'mfcc_mean_2_A', 'mfcc_mean_3_A',\n",
            "       'mfcc_mean_4_A', 'mfcc_mean_5_A', 'mfcc_mean_6_A', 'mfcc_mean_7_A',\n",
            "       'mfcc_mean_8_A', 'mfcc_mean_9_A',\n",
            "       ...\n",
            "       'f1_U', 'f2_U', 'f3_U', 'f4_U', 'hnr_U', 'LPC_0_U', 'LPC_1_U',\n",
            "       'LPC_2_U', 'LPC_3_U', 'LPC_4_U'],\n",
            "      dtype='object', length=211)\n",
            "[0, 0, 0, 0, 0, 0, 0, 0, 0, 0, 0, 0, 0, 0, 0, 0, 0, 0, 0, 0, 0, 0, 0, 0, 0, 0, 0, 0, 0, 0, 0, 0, 0, 0, 0, 0, 0, 0, 0, 0, 0, 0, 0, 0, 0, 0, 0, 0, 0, 0, 0, 0, 0, 0, 0, 0, 0, 0, 0, 0, 0, 0, 0, 0, 0, 0, 0, 0, 0, 0, 0, 0, 0, 0, 0, 0, 0, 0, 0, 0, 0, 0, 0, 0, 0, 0, 0, 0, 0, 0, 0, 0, 0, 0, 0, 0, 0, 0, 0, 0, 0, 0, 0, 0, 0, 0, 0, 0, 0, 0, 0, 0, 0, 0, 0, 0, 0, 0, 0, 0, 0, 0, 0, 0, 0, 0, 0, 0, 0, 0, 0, 0, 0, 0, 0, 0, 0, 0, 0, 0, 0, 0, 0, 0, 0, 0, 0, 0, 0, 0, 1, 1, 1, 1, 1, 1, 1, 1, 1, 1, 1, 1, 1, 1, 1, 1, 1, 1, 1, 1, 1, 1, 1, 1, 1, 1, 1, 1, 1, 1, 1, 1, 1, 1, 1, 1, 1, 1, 1, 1, 1, 1, 1, 1, 1, 1, 1, 1, 1, 1, 1, 1, 1, 1, 1, 1, 1, 1, 1, 1, 1, 1, 1, 1, 1, 1, 1, 1, 1, 1, 1, 1, 1, 1, 1, 1, 1, 1, 1, 1, 1, 1, 1, 1, 1, 1, 1, 1, 1, 1, 1, 1, 1, 1, 1, 1, 1, 1, 1, 1, 1, 1, 1, 1, 1, 1, 1, 1, 1, 1, 1, 1, 1, 1, 1, 1, 1, 1, 1, 1, 1, 1, 1, 1, 1, 1, 1, 1, 1, 1, 1, 1, 1, 1, 1, 1, 1, 1, 1, 1, 1, 1, 1, 1, 1, 1, 1, 1, 1, 1]\n",
            "   label\n",
            "0      0\n",
            "1      0\n",
            "2      0\n",
            "3      0\n",
            "4      0\n"
          ]
        }
      ],
      "source": [
        "print(features.columns)\n",
        "labels = []\n",
        "for e in label_names[\"A\"]:\n",
        "  if e == \"Control\":\n",
        "    labels.append(0)\n",
        "  else:\n",
        "    labels.append(1)\n",
        "print(labels)\n",
        "labels_df = pd.DataFrame({'label': labels})\n",
        "print(labels_df.head())"
      ]
    },
    {
      "cell_type": "code",
      "execution_count": null,
      "metadata": {
        "id": "b8kobphLEaiy"
      },
      "outputs": [],
      "source": [
        "features_with_labels = pd.concat([features, labels_df], axis=1, join='inner')\n"
      ]
    },
    {
      "cell_type": "code",
      "execution_count": null,
      "metadata": {
        "id": "kFGMvoVmUMcb"
      },
      "outputs": [],
      "source": [
        "with open('/content/drive/MyDrive/Parkinson CSV files/features.csv', 'w') as csv_file:\n",
        "    features_with_labels.to_csv(path_or_buf=csv_file)"
      ]
    }
  ],
  "metadata": {
    "colab": {
      "collapsed_sections": [
        "dTOp2wFdhi8j",
        "7Np2mk8si6QP"
      ],
      "provenance": []
    },
    "kernelspec": {
      "display_name": "Python 3",
      "name": "python3"
    },
    "language_info": {
      "name": "python"
    }
  },
  "nbformat": 4,
  "nbformat_minor": 0
}
