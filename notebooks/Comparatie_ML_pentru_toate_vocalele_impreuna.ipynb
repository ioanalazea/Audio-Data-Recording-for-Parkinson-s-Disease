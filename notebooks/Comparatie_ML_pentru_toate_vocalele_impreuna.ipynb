{
  "nbformat": 4,
  "nbformat_minor": 0,
  "metadata": {
    "colab": {
      "provenance": []
    },
    "kernelspec": {
      "name": "python3",
      "display_name": "Python 3"
    },
    "language_info": {
      "name": "python"
    }
  },
  "cells": [
    {
      "cell_type": "markdown",
      "source": [
        "În acest notebook se aplică modelele Random Forest și XGBoost pe datele de intrare ce conțin atributele extrase de la toate vocalele împreună. (Se consideră doar atributele rezultate dupa selecție și/sau MFDFA)\n",
        "\n"
      ],
      "metadata": {
        "id": "86lZzhtoL355"
      }
    },
    {
      "cell_type": "markdown",
      "source": [
        "# Importurile necesare"
      ],
      "metadata": {
        "id": "JXBzVNjMajls"
      }
    },
    {
      "cell_type": "code",
      "source": [
        "import pandas as pd\n",
        "import numpy as np\n",
        "from sklearn.model_selection import train_test_split\n",
        "\n",
        "from sklearn.model_selection import cross_val_score\n",
        "from sklearn.pipeline import make_pipeline\n",
        "from sklearn.preprocessing import StandardScaler\n",
        "from sklearn.svm import SVC\n",
        "from sklearn.ensemble import RandomForestClassifier\n",
        "from sklearn.model_selection import StratifiedKFold\n",
        "\n",
        "import xgboost as xgb\n",
        "from sklearn.model_selection import train_test_split\n",
        "from sklearn.metrics import accuracy_score, roc_auc_score\n"
      ],
      "metadata": {
        "id": "MF21UK9IamcE"
      },
      "execution_count": 1,
      "outputs": []
    },
    {
      "cell_type": "markdown",
      "source": [
        "# Data"
      ],
      "metadata": {
        "id": "MUQQArDCOSb1"
      }
    },
    {
      "cell_type": "markdown",
      "source": [
        "Aici se vor încărca datele dintr-un fișier csv și se vor considera doar atributele selectate."
      ],
      "metadata": {
        "id": "47TLgVVtQDEn"
      }
    },
    {
      "cell_type": "code",
      "source": [
        "names_of_features_selected = [\n",
        "    'a_A',\t'b_A',\t'c_A',\t'd_A',\t'g_A',\n",
        "    'a_E',\t'b_E',\t'c_E',\t'd_E',\t'g_E',\n",
        "    'a_I',\t'b_I',\t'c_I',\t'd_I',\t'g_I',\n",
        "    'a_O',\t'b_O',\t'c_O',\t'd_O',\t'g_O',\n",
        "    'a_U',\t'b_U',\t'c_U',\t'd_U',\t'g_U',\n",
        " 'mfcc_mean_1_A', 'mfcc_mean_2_A', 'mfcc_mean_4_A', 'mfcc_mean_9_A',\n",
        "       'mfcc_mean_10_A', 'mfcc_mean_12_A', 'mfcc_mean_13_A',\n",
        "       'loudness_slidingwindow_mean_A', 'hnr_A', 'LPC_2_A', 'LPC_3_A',\n",
        "       'mfcc_mean_1_E', 'mfcc_mean_3_E', 'mfcc_mean_5_E', 'mfcc_mean_6_E',\n",
        "       'mfcc_mean_7_E', 'mfcc_mean_10_E', 'mfcc_mean_11_E', 'mfcc_mean_12_E',\n",
        "       'mfcc_mean_13_E', 'f0_contour_mean_E', 'f0_mean_E', 'hnr_E', 'LPC_2_E',\n",
        "       'LPC_3_E', 'mfcc_mean_1_I', 'mfcc_mean_3_I', 'mfcc_mean_5_I',\n",
        "       'mfcc_mean_6_I', 'mfcc_mean_7_I', 'mfcc_mean_9_I', 'mfcc_mean_11_I',\n",
        "       'mfcc_mean_12_I', 'mfcc_mean_13_I', 'f0_contour_mean_I', 'hnr_I',\n",
        "       'LPC_2_I', 'LPC_3_I', 'LPC_4_I', 'mfcc_mean_3_O', 'mfcc_mean_4_O',\n",
        "       'mfcc_mean_6_O', 'mfcc_mean_8_O', 'mfcc_mean_9_O', 'mfcc_mean_13_O',\n",
        "       'f0_contour_mean_O', 'f0_std_O', 'log_energy_O',\n",
        "       'loudness_slidingwindow_mean_O', 'mfcc_mean_2_U', 'mfcc_mean_3_U',\n",
        "       'mfcc_mean_5_U', 'mfcc_mean_6_U', 'mfcc_mean_7_U', 'mfcc_mean_8_U',\n",
        "       'mfcc_mean_10_U', 'mfcc_mean_11_U', 'hnr_U'\n",
        "]"
      ],
      "metadata": {
        "id": "B2uyjrS-Pcm1"
      },
      "execution_count": 2,
      "outputs": []
    },
    {
      "cell_type": "code",
      "source": [
        "from google.colab import drive\n",
        "drive.mount('/content/drive')"
      ],
      "metadata": {
        "colab": {
          "base_uri": "https://localhost:8080/"
        },
        "id": "5DlAHzvc3bp4",
        "outputId": "c541a7d8-15ed-4199-b04c-73e1378649f4"
      },
      "execution_count": 3,
      "outputs": [
        {
          "output_type": "stream",
          "name": "stdout",
          "text": [
            "Mounted at /content/drive\n"
          ]
        }
      ]
    },
    {
      "cell_type": "code",
      "source": [
        "# Read in data and display first 5 rows\n",
        "features = pd.read_csv('/content/drive/MyDrive/Parkinson CSV files/features_mfdfa_and_surfboard.csv', index_col = 0)\n",
        "features.head(5)"
      ],
      "metadata": {
        "colab": {
          "base_uri": "https://localhost:8080/",
          "height": 236
        },
        "id": "MXxN619XOVjF",
        "outputId": "76674dd1-5b60-48b4-acf1-8ef14e533b3d"
      },
      "execution_count": 4,
      "outputs": [
        {
          "output_type": "execute_result",
          "data": {
            "text/plain": [
              "               filename       a_A       b_A        c_A       d_A       g_A  \\\n",
              "0  AVPEPUDEAC0001a1.wav  0.005134  2.773804  14.464413  0.239951  0.438907   \n",
              "1  AVPEPUDEAC0001a2.wav  0.004287  2.786766  12.529315  0.228076  0.363295   \n",
              "2  AVPEPUDEAC0001a3.wav  0.003158  2.556353  14.310374  0.237569  0.358898   \n",
              "3  AVPEPUDEAC0003a1.wav -0.023849  1.425489  40.734144  0.501434  1.056339   \n",
              "4  AVPEPUDEAC0003a3.wav -0.005259  1.808647  44.468063  0.677819  1.073030   \n",
              "\n",
              "        a_E       b_E        c_E       d_E  ...         f2_U         f3_U  \\\n",
              "0  0.008326  2.786644  37.006651  0.358826  ...   855.923600  2691.467349   \n",
              "1  0.008697  2.842495  33.157190  0.324737  ...   773.168390  2650.082362   \n",
              "2  0.009720  3.256971  27.910551  0.321402  ...  2802.277666  3767.566577   \n",
              "3  0.002281  2.183830  37.554326  0.604607  ...  2192.993042  3346.745084   \n",
              "4  0.002380  2.212522  40.705040  0.588844  ...  2181.058987  3110.540368   \n",
              "\n",
              "          f4_U      hnr_U  LPC_0_U   LPC_1_U   LPC_2_U   LPC_3_U   LPC_4_U  \\\n",
              "0  3799.771303  25.690630      1.0 -1.621395  0.552271 -0.207879  0.282346   \n",
              "1  3589.815036  23.842138      1.0 -1.545521  0.431359 -0.192440  0.311552   \n",
              "2  5145.967325  31.139092      1.0 -2.009604  1.339565 -0.627501  0.301435   \n",
              "3  5069.993537  16.921561      1.0 -1.657522  0.385750  0.235394  0.039457   \n",
              "4  5115.181137   9.182765      1.0 -1.827665  0.620723  0.272772 -0.063501   \n",
              "\n",
              "   label  \n",
              "0      0  \n",
              "1      0  \n",
              "2      0  \n",
              "3      0  \n",
              "4      0  \n",
              "\n",
              "[5 rows x 237 columns]"
            ],
            "text/html": [
              "\n",
              "  <div id=\"df-7971fe25-32a1-42f6-8ce2-4022dc108888\">\n",
              "    <div class=\"colab-df-container\">\n",
              "      <div>\n",
              "<style scoped>\n",
              "    .dataframe tbody tr th:only-of-type {\n",
              "        vertical-align: middle;\n",
              "    }\n",
              "\n",
              "    .dataframe tbody tr th {\n",
              "        vertical-align: top;\n",
              "    }\n",
              "\n",
              "    .dataframe thead th {\n",
              "        text-align: right;\n",
              "    }\n",
              "</style>\n",
              "<table border=\"1\" class=\"dataframe\">\n",
              "  <thead>\n",
              "    <tr style=\"text-align: right;\">\n",
              "      <th></th>\n",
              "      <th>filename</th>\n",
              "      <th>a_A</th>\n",
              "      <th>b_A</th>\n",
              "      <th>c_A</th>\n",
              "      <th>d_A</th>\n",
              "      <th>g_A</th>\n",
              "      <th>a_E</th>\n",
              "      <th>b_E</th>\n",
              "      <th>c_E</th>\n",
              "      <th>d_E</th>\n",
              "      <th>...</th>\n",
              "      <th>f2_U</th>\n",
              "      <th>f3_U</th>\n",
              "      <th>f4_U</th>\n",
              "      <th>hnr_U</th>\n",
              "      <th>LPC_0_U</th>\n",
              "      <th>LPC_1_U</th>\n",
              "      <th>LPC_2_U</th>\n",
              "      <th>LPC_3_U</th>\n",
              "      <th>LPC_4_U</th>\n",
              "      <th>label</th>\n",
              "    </tr>\n",
              "  </thead>\n",
              "  <tbody>\n",
              "    <tr>\n",
              "      <th>0</th>\n",
              "      <td>AVPEPUDEAC0001a1.wav</td>\n",
              "      <td>0.005134</td>\n",
              "      <td>2.773804</td>\n",
              "      <td>14.464413</td>\n",
              "      <td>0.239951</td>\n",
              "      <td>0.438907</td>\n",
              "      <td>0.008326</td>\n",
              "      <td>2.786644</td>\n",
              "      <td>37.006651</td>\n",
              "      <td>0.358826</td>\n",
              "      <td>...</td>\n",
              "      <td>855.923600</td>\n",
              "      <td>2691.467349</td>\n",
              "      <td>3799.771303</td>\n",
              "      <td>25.690630</td>\n",
              "      <td>1.0</td>\n",
              "      <td>-1.621395</td>\n",
              "      <td>0.552271</td>\n",
              "      <td>-0.207879</td>\n",
              "      <td>0.282346</td>\n",
              "      <td>0</td>\n",
              "    </tr>\n",
              "    <tr>\n",
              "      <th>1</th>\n",
              "      <td>AVPEPUDEAC0001a2.wav</td>\n",
              "      <td>0.004287</td>\n",
              "      <td>2.786766</td>\n",
              "      <td>12.529315</td>\n",
              "      <td>0.228076</td>\n",
              "      <td>0.363295</td>\n",
              "      <td>0.008697</td>\n",
              "      <td>2.842495</td>\n",
              "      <td>33.157190</td>\n",
              "      <td>0.324737</td>\n",
              "      <td>...</td>\n",
              "      <td>773.168390</td>\n",
              "      <td>2650.082362</td>\n",
              "      <td>3589.815036</td>\n",
              "      <td>23.842138</td>\n",
              "      <td>1.0</td>\n",
              "      <td>-1.545521</td>\n",
              "      <td>0.431359</td>\n",
              "      <td>-0.192440</td>\n",
              "      <td>0.311552</td>\n",
              "      <td>0</td>\n",
              "    </tr>\n",
              "    <tr>\n",
              "      <th>2</th>\n",
              "      <td>AVPEPUDEAC0001a3.wav</td>\n",
              "      <td>0.003158</td>\n",
              "      <td>2.556353</td>\n",
              "      <td>14.310374</td>\n",
              "      <td>0.237569</td>\n",
              "      <td>0.358898</td>\n",
              "      <td>0.009720</td>\n",
              "      <td>3.256971</td>\n",
              "      <td>27.910551</td>\n",
              "      <td>0.321402</td>\n",
              "      <td>...</td>\n",
              "      <td>2802.277666</td>\n",
              "      <td>3767.566577</td>\n",
              "      <td>5145.967325</td>\n",
              "      <td>31.139092</td>\n",
              "      <td>1.0</td>\n",
              "      <td>-2.009604</td>\n",
              "      <td>1.339565</td>\n",
              "      <td>-0.627501</td>\n",
              "      <td>0.301435</td>\n",
              "      <td>0</td>\n",
              "    </tr>\n",
              "    <tr>\n",
              "      <th>3</th>\n",
              "      <td>AVPEPUDEAC0003a1.wav</td>\n",
              "      <td>-0.023849</td>\n",
              "      <td>1.425489</td>\n",
              "      <td>40.734144</td>\n",
              "      <td>0.501434</td>\n",
              "      <td>1.056339</td>\n",
              "      <td>0.002281</td>\n",
              "      <td>2.183830</td>\n",
              "      <td>37.554326</td>\n",
              "      <td>0.604607</td>\n",
              "      <td>...</td>\n",
              "      <td>2192.993042</td>\n",
              "      <td>3346.745084</td>\n",
              "      <td>5069.993537</td>\n",
              "      <td>16.921561</td>\n",
              "      <td>1.0</td>\n",
              "      <td>-1.657522</td>\n",
              "      <td>0.385750</td>\n",
              "      <td>0.235394</td>\n",
              "      <td>0.039457</td>\n",
              "      <td>0</td>\n",
              "    </tr>\n",
              "    <tr>\n",
              "      <th>4</th>\n",
              "      <td>AVPEPUDEAC0003a3.wav</td>\n",
              "      <td>-0.005259</td>\n",
              "      <td>1.808647</td>\n",
              "      <td>44.468063</td>\n",
              "      <td>0.677819</td>\n",
              "      <td>1.073030</td>\n",
              "      <td>0.002380</td>\n",
              "      <td>2.212522</td>\n",
              "      <td>40.705040</td>\n",
              "      <td>0.588844</td>\n",
              "      <td>...</td>\n",
              "      <td>2181.058987</td>\n",
              "      <td>3110.540368</td>\n",
              "      <td>5115.181137</td>\n",
              "      <td>9.182765</td>\n",
              "      <td>1.0</td>\n",
              "      <td>-1.827665</td>\n",
              "      <td>0.620723</td>\n",
              "      <td>0.272772</td>\n",
              "      <td>-0.063501</td>\n",
              "      <td>0</td>\n",
              "    </tr>\n",
              "  </tbody>\n",
              "</table>\n",
              "<p>5 rows × 237 columns</p>\n",
              "</div>\n",
              "      <button class=\"colab-df-convert\" onclick=\"convertToInteractive('df-7971fe25-32a1-42f6-8ce2-4022dc108888')\"\n",
              "              title=\"Convert this dataframe to an interactive table.\"\n",
              "              style=\"display:none;\">\n",
              "        \n",
              "  <svg xmlns=\"http://www.w3.org/2000/svg\" height=\"24px\"viewBox=\"0 0 24 24\"\n",
              "       width=\"24px\">\n",
              "    <path d=\"M0 0h24v24H0V0z\" fill=\"none\"/>\n",
              "    <path d=\"M18.56 5.44l.94 2.06.94-2.06 2.06-.94-2.06-.94-.94-2.06-.94 2.06-2.06.94zm-11 1L8.5 8.5l.94-2.06 2.06-.94-2.06-.94L8.5 2.5l-.94 2.06-2.06.94zm10 10l.94 2.06.94-2.06 2.06-.94-2.06-.94-.94-2.06-.94 2.06-2.06.94z\"/><path d=\"M17.41 7.96l-1.37-1.37c-.4-.4-.92-.59-1.43-.59-.52 0-1.04.2-1.43.59L10.3 9.45l-7.72 7.72c-.78.78-.78 2.05 0 2.83L4 21.41c.39.39.9.59 1.41.59.51 0 1.02-.2 1.41-.59l7.78-7.78 2.81-2.81c.8-.78.8-2.07 0-2.86zM5.41 20L4 18.59l7.72-7.72 1.47 1.35L5.41 20z\"/>\n",
              "  </svg>\n",
              "      </button>\n",
              "      \n",
              "  <style>\n",
              "    .colab-df-container {\n",
              "      display:flex;\n",
              "      flex-wrap:wrap;\n",
              "      gap: 12px;\n",
              "    }\n",
              "\n",
              "    .colab-df-convert {\n",
              "      background-color: #E8F0FE;\n",
              "      border: none;\n",
              "      border-radius: 50%;\n",
              "      cursor: pointer;\n",
              "      display: none;\n",
              "      fill: #1967D2;\n",
              "      height: 32px;\n",
              "      padding: 0 0 0 0;\n",
              "      width: 32px;\n",
              "    }\n",
              "\n",
              "    .colab-df-convert:hover {\n",
              "      background-color: #E2EBFA;\n",
              "      box-shadow: 0px 1px 2px rgba(60, 64, 67, 0.3), 0px 1px 3px 1px rgba(60, 64, 67, 0.15);\n",
              "      fill: #174EA6;\n",
              "    }\n",
              "\n",
              "    [theme=dark] .colab-df-convert {\n",
              "      background-color: #3B4455;\n",
              "      fill: #D2E3FC;\n",
              "    }\n",
              "\n",
              "    [theme=dark] .colab-df-convert:hover {\n",
              "      background-color: #434B5C;\n",
              "      box-shadow: 0px 1px 3px 1px rgba(0, 0, 0, 0.15);\n",
              "      filter: drop-shadow(0px 1px 2px rgba(0, 0, 0, 0.3));\n",
              "      fill: #FFFFFF;\n",
              "    }\n",
              "  </style>\n",
              "\n",
              "      <script>\n",
              "        const buttonEl =\n",
              "          document.querySelector('#df-7971fe25-32a1-42f6-8ce2-4022dc108888 button.colab-df-convert');\n",
              "        buttonEl.style.display =\n",
              "          google.colab.kernel.accessAllowed ? 'block' : 'none';\n",
              "\n",
              "        async function convertToInteractive(key) {\n",
              "          const element = document.querySelector('#df-7971fe25-32a1-42f6-8ce2-4022dc108888');\n",
              "          const dataTable =\n",
              "            await google.colab.kernel.invokeFunction('convertToInteractive',\n",
              "                                                     [key], {});\n",
              "          if (!dataTable) return;\n",
              "\n",
              "          const docLinkHtml = 'Like what you see? Visit the ' +\n",
              "            '<a target=\"_blank\" href=https://colab.research.google.com/notebooks/data_table.ipynb>data table notebook</a>'\n",
              "            + ' to learn more about interactive tables.';\n",
              "          element.innerHTML = '';\n",
              "          dataTable['output_type'] = 'display_data';\n",
              "          await google.colab.output.renderOutput(dataTable, element);\n",
              "          const docLink = document.createElement('div');\n",
              "          docLink.innerHTML = docLinkHtml;\n",
              "          element.appendChild(docLink);\n",
              "        }\n",
              "      </script>\n",
              "    </div>\n",
              "  </div>\n",
              "  "
            ]
          },
          "metadata": {},
          "execution_count": 4
        }
      ]
    },
    {
      "cell_type": "code",
      "source": [
        "features.shape"
      ],
      "metadata": {
        "colab": {
          "base_uri": "https://localhost:8080/"
        },
        "id": "I5uCWRB4Oa31",
        "outputId": "136d678b-0b9e-4d1d-d7aa-68a0946c0055"
      },
      "execution_count": 5,
      "outputs": [
        {
          "output_type": "execute_result",
          "data": {
            "text/plain": [
              "(300, 237)"
            ]
          },
          "metadata": {},
          "execution_count": 5
        }
      ]
    },
    {
      "cell_type": "code",
      "source": [
        "features.describe()"
      ],
      "metadata": {
        "colab": {
          "base_uri": "https://localhost:8080/",
          "height": 330
        },
        "id": "aeAvCeh_Ocm9",
        "outputId": "c6afeaa9-46ff-4215-ea0e-ee4a830fc0f9"
      },
      "execution_count": 6,
      "outputs": [
        {
          "output_type": "execute_result",
          "data": {
            "text/plain": [
              "              a_A         b_A           c_A         d_A          g_A  \\\n",
              "count  300.000000  300.000000  3.000000e+02  300.000000   300.000000   \n",
              "mean    -0.008734    1.853691  2.284436e+08    0.238086  1625.087691   \n",
              "std      0.036419    1.473201  3.592656e+09    0.296372  2245.329537   \n",
              "min     -0.322316    0.370999  6.294143e+00    0.014113     0.025000   \n",
              "25%     -0.006294    1.057812  2.164679e+01    0.081891     0.585237   \n",
              "50%     -0.000740    1.415724  1.533366e+02    0.179801     3.373377   \n",
              "75%      0.003055    2.088369  7.577553e+04    0.304539  3442.761824   \n",
              "max      0.079384   15.458712  6.193825e+10    2.607913  7681.101526   \n",
              "\n",
              "              a_E         b_E           c_E         d_E          g_E  ...  \\\n",
              "count  300.000000  300.000000  3.000000e+02  300.000000   300.000000  ...   \n",
              "mean     0.005324    2.246910  8.694759e+04    0.299265   661.894578  ...   \n",
              "std      0.009121    0.686928  1.298174e+06    0.348969  1686.983173  ...   \n",
              "min     -0.016647    0.820592  1.681373e+01    0.019524     0.114321  ...   \n",
              "25%      0.000457    1.691353  3.296069e+01    0.097478     0.723567  ...   \n",
              "50%      0.002529    2.221574  4.861453e+01    0.223551     1.075740  ...   \n",
              "75%      0.007125    2.714854  1.342097e+02    0.360959     3.062028  ...   \n",
              "max      0.040510    5.054322  2.246164e+07    3.005611  8565.258561  ...   \n",
              "\n",
              "              f2_U         f3_U         f4_U       hnr_U  LPC_0_U     LPC_1_U  \\\n",
              "count   300.000000   300.000000   300.000000  300.000000    300.0  300.000000   \n",
              "mean   2213.383335  3364.068262  4350.549023   24.267637      1.0   -1.856773   \n",
              "std     798.614968   538.785086   537.391857    5.016546      0.0    0.436620   \n",
              "min     340.917697   835.252970  2588.085080    8.552106      1.0   -2.930491   \n",
              "25%    2047.361451  2982.396001  3907.612482   21.546299      1.0   -2.128041   \n",
              "50%    2510.263888  3349.601574  4363.799198   24.626921      1.0   -1.889966   \n",
              "75%    2736.175942  3743.208708  4741.863145   27.503237      1.0   -1.560929   \n",
              "max    4172.477511  4582.823503  5810.900016   35.495991      1.0   -0.397971   \n",
              "\n",
              "          LPC_2_U     LPC_3_U     LPC_4_U       label  \n",
              "count  300.000000  300.000000  300.000000  300.000000  \n",
              "mean     1.055407   -0.478051    0.283577    0.500000  \n",
              "std      0.906219    0.633758    0.226669    0.500835  \n",
              "min     -1.330728   -2.345076   -0.365529    0.000000  \n",
              "25%      0.374789   -0.903242    0.153280    0.000000  \n",
              "50%      1.038269   -0.414444    0.303052    0.500000  \n",
              "75%      1.651819    0.029660    0.433558    1.000000  \n",
              "max      3.424443    1.160434    0.861644    1.000000  \n",
              "\n",
              "[8 rows x 236 columns]"
            ],
            "text/html": [
              "\n",
              "  <div id=\"df-210fcde8-f3f2-436e-9072-1a20dcc2b6cb\">\n",
              "    <div class=\"colab-df-container\">\n",
              "      <div>\n",
              "<style scoped>\n",
              "    .dataframe tbody tr th:only-of-type {\n",
              "        vertical-align: middle;\n",
              "    }\n",
              "\n",
              "    .dataframe tbody tr th {\n",
              "        vertical-align: top;\n",
              "    }\n",
              "\n",
              "    .dataframe thead th {\n",
              "        text-align: right;\n",
              "    }\n",
              "</style>\n",
              "<table border=\"1\" class=\"dataframe\">\n",
              "  <thead>\n",
              "    <tr style=\"text-align: right;\">\n",
              "      <th></th>\n",
              "      <th>a_A</th>\n",
              "      <th>b_A</th>\n",
              "      <th>c_A</th>\n",
              "      <th>d_A</th>\n",
              "      <th>g_A</th>\n",
              "      <th>a_E</th>\n",
              "      <th>b_E</th>\n",
              "      <th>c_E</th>\n",
              "      <th>d_E</th>\n",
              "      <th>g_E</th>\n",
              "      <th>...</th>\n",
              "      <th>f2_U</th>\n",
              "      <th>f3_U</th>\n",
              "      <th>f4_U</th>\n",
              "      <th>hnr_U</th>\n",
              "      <th>LPC_0_U</th>\n",
              "      <th>LPC_1_U</th>\n",
              "      <th>LPC_2_U</th>\n",
              "      <th>LPC_3_U</th>\n",
              "      <th>LPC_4_U</th>\n",
              "      <th>label</th>\n",
              "    </tr>\n",
              "  </thead>\n",
              "  <tbody>\n",
              "    <tr>\n",
              "      <th>count</th>\n",
              "      <td>300.000000</td>\n",
              "      <td>300.000000</td>\n",
              "      <td>3.000000e+02</td>\n",
              "      <td>300.000000</td>\n",
              "      <td>300.000000</td>\n",
              "      <td>300.000000</td>\n",
              "      <td>300.000000</td>\n",
              "      <td>3.000000e+02</td>\n",
              "      <td>300.000000</td>\n",
              "      <td>300.000000</td>\n",
              "      <td>...</td>\n",
              "      <td>300.000000</td>\n",
              "      <td>300.000000</td>\n",
              "      <td>300.000000</td>\n",
              "      <td>300.000000</td>\n",
              "      <td>300.0</td>\n",
              "      <td>300.000000</td>\n",
              "      <td>300.000000</td>\n",
              "      <td>300.000000</td>\n",
              "      <td>300.000000</td>\n",
              "      <td>300.000000</td>\n",
              "    </tr>\n",
              "    <tr>\n",
              "      <th>mean</th>\n",
              "      <td>-0.008734</td>\n",
              "      <td>1.853691</td>\n",
              "      <td>2.284436e+08</td>\n",
              "      <td>0.238086</td>\n",
              "      <td>1625.087691</td>\n",
              "      <td>0.005324</td>\n",
              "      <td>2.246910</td>\n",
              "      <td>8.694759e+04</td>\n",
              "      <td>0.299265</td>\n",
              "      <td>661.894578</td>\n",
              "      <td>...</td>\n",
              "      <td>2213.383335</td>\n",
              "      <td>3364.068262</td>\n",
              "      <td>4350.549023</td>\n",
              "      <td>24.267637</td>\n",
              "      <td>1.0</td>\n",
              "      <td>-1.856773</td>\n",
              "      <td>1.055407</td>\n",
              "      <td>-0.478051</td>\n",
              "      <td>0.283577</td>\n",
              "      <td>0.500000</td>\n",
              "    </tr>\n",
              "    <tr>\n",
              "      <th>std</th>\n",
              "      <td>0.036419</td>\n",
              "      <td>1.473201</td>\n",
              "      <td>3.592656e+09</td>\n",
              "      <td>0.296372</td>\n",
              "      <td>2245.329537</td>\n",
              "      <td>0.009121</td>\n",
              "      <td>0.686928</td>\n",
              "      <td>1.298174e+06</td>\n",
              "      <td>0.348969</td>\n",
              "      <td>1686.983173</td>\n",
              "      <td>...</td>\n",
              "      <td>798.614968</td>\n",
              "      <td>538.785086</td>\n",
              "      <td>537.391857</td>\n",
              "      <td>5.016546</td>\n",
              "      <td>0.0</td>\n",
              "      <td>0.436620</td>\n",
              "      <td>0.906219</td>\n",
              "      <td>0.633758</td>\n",
              "      <td>0.226669</td>\n",
              "      <td>0.500835</td>\n",
              "    </tr>\n",
              "    <tr>\n",
              "      <th>min</th>\n",
              "      <td>-0.322316</td>\n",
              "      <td>0.370999</td>\n",
              "      <td>6.294143e+00</td>\n",
              "      <td>0.014113</td>\n",
              "      <td>0.025000</td>\n",
              "      <td>-0.016647</td>\n",
              "      <td>0.820592</td>\n",
              "      <td>1.681373e+01</td>\n",
              "      <td>0.019524</td>\n",
              "      <td>0.114321</td>\n",
              "      <td>...</td>\n",
              "      <td>340.917697</td>\n",
              "      <td>835.252970</td>\n",
              "      <td>2588.085080</td>\n",
              "      <td>8.552106</td>\n",
              "      <td>1.0</td>\n",
              "      <td>-2.930491</td>\n",
              "      <td>-1.330728</td>\n",
              "      <td>-2.345076</td>\n",
              "      <td>-0.365529</td>\n",
              "      <td>0.000000</td>\n",
              "    </tr>\n",
              "    <tr>\n",
              "      <th>25%</th>\n",
              "      <td>-0.006294</td>\n",
              "      <td>1.057812</td>\n",
              "      <td>2.164679e+01</td>\n",
              "      <td>0.081891</td>\n",
              "      <td>0.585237</td>\n",
              "      <td>0.000457</td>\n",
              "      <td>1.691353</td>\n",
              "      <td>3.296069e+01</td>\n",
              "      <td>0.097478</td>\n",
              "      <td>0.723567</td>\n",
              "      <td>...</td>\n",
              "      <td>2047.361451</td>\n",
              "      <td>2982.396001</td>\n",
              "      <td>3907.612482</td>\n",
              "      <td>21.546299</td>\n",
              "      <td>1.0</td>\n",
              "      <td>-2.128041</td>\n",
              "      <td>0.374789</td>\n",
              "      <td>-0.903242</td>\n",
              "      <td>0.153280</td>\n",
              "      <td>0.000000</td>\n",
              "    </tr>\n",
              "    <tr>\n",
              "      <th>50%</th>\n",
              "      <td>-0.000740</td>\n",
              "      <td>1.415724</td>\n",
              "      <td>1.533366e+02</td>\n",
              "      <td>0.179801</td>\n",
              "      <td>3.373377</td>\n",
              "      <td>0.002529</td>\n",
              "      <td>2.221574</td>\n",
              "      <td>4.861453e+01</td>\n",
              "      <td>0.223551</td>\n",
              "      <td>1.075740</td>\n",
              "      <td>...</td>\n",
              "      <td>2510.263888</td>\n",
              "      <td>3349.601574</td>\n",
              "      <td>4363.799198</td>\n",
              "      <td>24.626921</td>\n",
              "      <td>1.0</td>\n",
              "      <td>-1.889966</td>\n",
              "      <td>1.038269</td>\n",
              "      <td>-0.414444</td>\n",
              "      <td>0.303052</td>\n",
              "      <td>0.500000</td>\n",
              "    </tr>\n",
              "    <tr>\n",
              "      <th>75%</th>\n",
              "      <td>0.003055</td>\n",
              "      <td>2.088369</td>\n",
              "      <td>7.577553e+04</td>\n",
              "      <td>0.304539</td>\n",
              "      <td>3442.761824</td>\n",
              "      <td>0.007125</td>\n",
              "      <td>2.714854</td>\n",
              "      <td>1.342097e+02</td>\n",
              "      <td>0.360959</td>\n",
              "      <td>3.062028</td>\n",
              "      <td>...</td>\n",
              "      <td>2736.175942</td>\n",
              "      <td>3743.208708</td>\n",
              "      <td>4741.863145</td>\n",
              "      <td>27.503237</td>\n",
              "      <td>1.0</td>\n",
              "      <td>-1.560929</td>\n",
              "      <td>1.651819</td>\n",
              "      <td>0.029660</td>\n",
              "      <td>0.433558</td>\n",
              "      <td>1.000000</td>\n",
              "    </tr>\n",
              "    <tr>\n",
              "      <th>max</th>\n",
              "      <td>0.079384</td>\n",
              "      <td>15.458712</td>\n",
              "      <td>6.193825e+10</td>\n",
              "      <td>2.607913</td>\n",
              "      <td>7681.101526</td>\n",
              "      <td>0.040510</td>\n",
              "      <td>5.054322</td>\n",
              "      <td>2.246164e+07</td>\n",
              "      <td>3.005611</td>\n",
              "      <td>8565.258561</td>\n",
              "      <td>...</td>\n",
              "      <td>4172.477511</td>\n",
              "      <td>4582.823503</td>\n",
              "      <td>5810.900016</td>\n",
              "      <td>35.495991</td>\n",
              "      <td>1.0</td>\n",
              "      <td>-0.397971</td>\n",
              "      <td>3.424443</td>\n",
              "      <td>1.160434</td>\n",
              "      <td>0.861644</td>\n",
              "      <td>1.000000</td>\n",
              "    </tr>\n",
              "  </tbody>\n",
              "</table>\n",
              "<p>8 rows × 236 columns</p>\n",
              "</div>\n",
              "      <button class=\"colab-df-convert\" onclick=\"convertToInteractive('df-210fcde8-f3f2-436e-9072-1a20dcc2b6cb')\"\n",
              "              title=\"Convert this dataframe to an interactive table.\"\n",
              "              style=\"display:none;\">\n",
              "        \n",
              "  <svg xmlns=\"http://www.w3.org/2000/svg\" height=\"24px\"viewBox=\"0 0 24 24\"\n",
              "       width=\"24px\">\n",
              "    <path d=\"M0 0h24v24H0V0z\" fill=\"none\"/>\n",
              "    <path d=\"M18.56 5.44l.94 2.06.94-2.06 2.06-.94-2.06-.94-.94-2.06-.94 2.06-2.06.94zm-11 1L8.5 8.5l.94-2.06 2.06-.94-2.06-.94L8.5 2.5l-.94 2.06-2.06.94zm10 10l.94 2.06.94-2.06 2.06-.94-2.06-.94-.94-2.06-.94 2.06-2.06.94z\"/><path d=\"M17.41 7.96l-1.37-1.37c-.4-.4-.92-.59-1.43-.59-.52 0-1.04.2-1.43.59L10.3 9.45l-7.72 7.72c-.78.78-.78 2.05 0 2.83L4 21.41c.39.39.9.59 1.41.59.51 0 1.02-.2 1.41-.59l7.78-7.78 2.81-2.81c.8-.78.8-2.07 0-2.86zM5.41 20L4 18.59l7.72-7.72 1.47 1.35L5.41 20z\"/>\n",
              "  </svg>\n",
              "      </button>\n",
              "      \n",
              "  <style>\n",
              "    .colab-df-container {\n",
              "      display:flex;\n",
              "      flex-wrap:wrap;\n",
              "      gap: 12px;\n",
              "    }\n",
              "\n",
              "    .colab-df-convert {\n",
              "      background-color: #E8F0FE;\n",
              "      border: none;\n",
              "      border-radius: 50%;\n",
              "      cursor: pointer;\n",
              "      display: none;\n",
              "      fill: #1967D2;\n",
              "      height: 32px;\n",
              "      padding: 0 0 0 0;\n",
              "      width: 32px;\n",
              "    }\n",
              "\n",
              "    .colab-df-convert:hover {\n",
              "      background-color: #E2EBFA;\n",
              "      box-shadow: 0px 1px 2px rgba(60, 64, 67, 0.3), 0px 1px 3px 1px rgba(60, 64, 67, 0.15);\n",
              "      fill: #174EA6;\n",
              "    }\n",
              "\n",
              "    [theme=dark] .colab-df-convert {\n",
              "      background-color: #3B4455;\n",
              "      fill: #D2E3FC;\n",
              "    }\n",
              "\n",
              "    [theme=dark] .colab-df-convert:hover {\n",
              "      background-color: #434B5C;\n",
              "      box-shadow: 0px 1px 3px 1px rgba(0, 0, 0, 0.15);\n",
              "      filter: drop-shadow(0px 1px 2px rgba(0, 0, 0, 0.3));\n",
              "      fill: #FFFFFF;\n",
              "    }\n",
              "  </style>\n",
              "\n",
              "      <script>\n",
              "        const buttonEl =\n",
              "          document.querySelector('#df-210fcde8-f3f2-436e-9072-1a20dcc2b6cb button.colab-df-convert');\n",
              "        buttonEl.style.display =\n",
              "          google.colab.kernel.accessAllowed ? 'block' : 'none';\n",
              "\n",
              "        async function convertToInteractive(key) {\n",
              "          const element = document.querySelector('#df-210fcde8-f3f2-436e-9072-1a20dcc2b6cb');\n",
              "          const dataTable =\n",
              "            await google.colab.kernel.invokeFunction('convertToInteractive',\n",
              "                                                     [key], {});\n",
              "          if (!dataTable) return;\n",
              "\n",
              "          const docLinkHtml = 'Like what you see? Visit the ' +\n",
              "            '<a target=\"_blank\" href=https://colab.research.google.com/notebooks/data_table.ipynb>data table notebook</a>'\n",
              "            + ' to learn more about interactive tables.';\n",
              "          element.innerHTML = '';\n",
              "          dataTable['output_type'] = 'display_data';\n",
              "          await google.colab.output.renderOutput(dataTable, element);\n",
              "          const docLink = document.createElement('div');\n",
              "          docLink.innerHTML = docLinkHtml;\n",
              "          element.appendChild(docLink);\n",
              "        }\n",
              "      </script>\n",
              "    </div>\n",
              "  </div>\n",
              "  "
            ]
          },
          "metadata": {},
          "execution_count": 6
        }
      ]
    },
    {
      "cell_type": "code",
      "source": [
        "features['label']"
      ],
      "metadata": {
        "colab": {
          "base_uri": "https://localhost:8080/"
        },
        "id": "c1AXeFimOeVd",
        "outputId": "b7c9efdd-ffb6-410c-b630-93929b965606"
      },
      "execution_count": 7,
      "outputs": [
        {
          "output_type": "execute_result",
          "data": {
            "text/plain": [
              "0      0\n",
              "1      0\n",
              "2      0\n",
              "3      0\n",
              "4      0\n",
              "      ..\n",
              "295    1\n",
              "296    1\n",
              "297    1\n",
              "298    1\n",
              "299    1\n",
              "Name: label, Length: 300, dtype: int64"
            ]
          },
          "metadata": {},
          "execution_count": 7
        }
      ]
    },
    {
      "cell_type": "code",
      "source": [
        "features.groupby('label').count()"
      ],
      "metadata": {
        "colab": {
          "base_uri": "https://localhost:8080/",
          "height": 173
        },
        "id": "ZEEKvpAWOf_W",
        "outputId": "8f4c9177-ec67-4c6f-b288-4687d2076a00"
      },
      "execution_count": 8,
      "outputs": [
        {
          "output_type": "execute_result",
          "data": {
            "text/plain": [
              "       filename  a_A  b_A  c_A  d_A  g_A  a_E  b_E  c_E  d_E  ...  f1_U  f2_U  \\\n",
              "label                                                         ...               \n",
              "0           150  150  150  150  150  150  150  150  150  150  ...   150   150   \n",
              "1           150  150  150  150  150  150  150  150  150  150  ...   150   150   \n",
              "\n",
              "       f3_U  f4_U  hnr_U  LPC_0_U  LPC_1_U  LPC_2_U  LPC_3_U  LPC_4_U  \n",
              "label                                                                  \n",
              "0       150   150    150      150      150      150      150      150  \n",
              "1       150   150    150      150      150      150      150      150  \n",
              "\n",
              "[2 rows x 236 columns]"
            ],
            "text/html": [
              "\n",
              "  <div id=\"df-3f570eb0-9368-40c1-b69e-4cf7bf895175\">\n",
              "    <div class=\"colab-df-container\">\n",
              "      <div>\n",
              "<style scoped>\n",
              "    .dataframe tbody tr th:only-of-type {\n",
              "        vertical-align: middle;\n",
              "    }\n",
              "\n",
              "    .dataframe tbody tr th {\n",
              "        vertical-align: top;\n",
              "    }\n",
              "\n",
              "    .dataframe thead th {\n",
              "        text-align: right;\n",
              "    }\n",
              "</style>\n",
              "<table border=\"1\" class=\"dataframe\">\n",
              "  <thead>\n",
              "    <tr style=\"text-align: right;\">\n",
              "      <th></th>\n",
              "      <th>filename</th>\n",
              "      <th>a_A</th>\n",
              "      <th>b_A</th>\n",
              "      <th>c_A</th>\n",
              "      <th>d_A</th>\n",
              "      <th>g_A</th>\n",
              "      <th>a_E</th>\n",
              "      <th>b_E</th>\n",
              "      <th>c_E</th>\n",
              "      <th>d_E</th>\n",
              "      <th>...</th>\n",
              "      <th>f1_U</th>\n",
              "      <th>f2_U</th>\n",
              "      <th>f3_U</th>\n",
              "      <th>f4_U</th>\n",
              "      <th>hnr_U</th>\n",
              "      <th>LPC_0_U</th>\n",
              "      <th>LPC_1_U</th>\n",
              "      <th>LPC_2_U</th>\n",
              "      <th>LPC_3_U</th>\n",
              "      <th>LPC_4_U</th>\n",
              "    </tr>\n",
              "    <tr>\n",
              "      <th>label</th>\n",
              "      <th></th>\n",
              "      <th></th>\n",
              "      <th></th>\n",
              "      <th></th>\n",
              "      <th></th>\n",
              "      <th></th>\n",
              "      <th></th>\n",
              "      <th></th>\n",
              "      <th></th>\n",
              "      <th></th>\n",
              "      <th></th>\n",
              "      <th></th>\n",
              "      <th></th>\n",
              "      <th></th>\n",
              "      <th></th>\n",
              "      <th></th>\n",
              "      <th></th>\n",
              "      <th></th>\n",
              "      <th></th>\n",
              "      <th></th>\n",
              "      <th></th>\n",
              "    </tr>\n",
              "  </thead>\n",
              "  <tbody>\n",
              "    <tr>\n",
              "      <th>0</th>\n",
              "      <td>150</td>\n",
              "      <td>150</td>\n",
              "      <td>150</td>\n",
              "      <td>150</td>\n",
              "      <td>150</td>\n",
              "      <td>150</td>\n",
              "      <td>150</td>\n",
              "      <td>150</td>\n",
              "      <td>150</td>\n",
              "      <td>150</td>\n",
              "      <td>...</td>\n",
              "      <td>150</td>\n",
              "      <td>150</td>\n",
              "      <td>150</td>\n",
              "      <td>150</td>\n",
              "      <td>150</td>\n",
              "      <td>150</td>\n",
              "      <td>150</td>\n",
              "      <td>150</td>\n",
              "      <td>150</td>\n",
              "      <td>150</td>\n",
              "    </tr>\n",
              "    <tr>\n",
              "      <th>1</th>\n",
              "      <td>150</td>\n",
              "      <td>150</td>\n",
              "      <td>150</td>\n",
              "      <td>150</td>\n",
              "      <td>150</td>\n",
              "      <td>150</td>\n",
              "      <td>150</td>\n",
              "      <td>150</td>\n",
              "      <td>150</td>\n",
              "      <td>150</td>\n",
              "      <td>...</td>\n",
              "      <td>150</td>\n",
              "      <td>150</td>\n",
              "      <td>150</td>\n",
              "      <td>150</td>\n",
              "      <td>150</td>\n",
              "      <td>150</td>\n",
              "      <td>150</td>\n",
              "      <td>150</td>\n",
              "      <td>150</td>\n",
              "      <td>150</td>\n",
              "    </tr>\n",
              "  </tbody>\n",
              "</table>\n",
              "<p>2 rows × 236 columns</p>\n",
              "</div>\n",
              "      <button class=\"colab-df-convert\" onclick=\"convertToInteractive('df-3f570eb0-9368-40c1-b69e-4cf7bf895175')\"\n",
              "              title=\"Convert this dataframe to an interactive table.\"\n",
              "              style=\"display:none;\">\n",
              "        \n",
              "  <svg xmlns=\"http://www.w3.org/2000/svg\" height=\"24px\"viewBox=\"0 0 24 24\"\n",
              "       width=\"24px\">\n",
              "    <path d=\"M0 0h24v24H0V0z\" fill=\"none\"/>\n",
              "    <path d=\"M18.56 5.44l.94 2.06.94-2.06 2.06-.94-2.06-.94-.94-2.06-.94 2.06-2.06.94zm-11 1L8.5 8.5l.94-2.06 2.06-.94-2.06-.94L8.5 2.5l-.94 2.06-2.06.94zm10 10l.94 2.06.94-2.06 2.06-.94-2.06-.94-.94-2.06-.94 2.06-2.06.94z\"/><path d=\"M17.41 7.96l-1.37-1.37c-.4-.4-.92-.59-1.43-.59-.52 0-1.04.2-1.43.59L10.3 9.45l-7.72 7.72c-.78.78-.78 2.05 0 2.83L4 21.41c.39.39.9.59 1.41.59.51 0 1.02-.2 1.41-.59l7.78-7.78 2.81-2.81c.8-.78.8-2.07 0-2.86zM5.41 20L4 18.59l7.72-7.72 1.47 1.35L5.41 20z\"/>\n",
              "  </svg>\n",
              "      </button>\n",
              "      \n",
              "  <style>\n",
              "    .colab-df-container {\n",
              "      display:flex;\n",
              "      flex-wrap:wrap;\n",
              "      gap: 12px;\n",
              "    }\n",
              "\n",
              "    .colab-df-convert {\n",
              "      background-color: #E8F0FE;\n",
              "      border: none;\n",
              "      border-radius: 50%;\n",
              "      cursor: pointer;\n",
              "      display: none;\n",
              "      fill: #1967D2;\n",
              "      height: 32px;\n",
              "      padding: 0 0 0 0;\n",
              "      width: 32px;\n",
              "    }\n",
              "\n",
              "    .colab-df-convert:hover {\n",
              "      background-color: #E2EBFA;\n",
              "      box-shadow: 0px 1px 2px rgba(60, 64, 67, 0.3), 0px 1px 3px 1px rgba(60, 64, 67, 0.15);\n",
              "      fill: #174EA6;\n",
              "    }\n",
              "\n",
              "    [theme=dark] .colab-df-convert {\n",
              "      background-color: #3B4455;\n",
              "      fill: #D2E3FC;\n",
              "    }\n",
              "\n",
              "    [theme=dark] .colab-df-convert:hover {\n",
              "      background-color: #434B5C;\n",
              "      box-shadow: 0px 1px 3px 1px rgba(0, 0, 0, 0.15);\n",
              "      filter: drop-shadow(0px 1px 2px rgba(0, 0, 0, 0.3));\n",
              "      fill: #FFFFFF;\n",
              "    }\n",
              "  </style>\n",
              "\n",
              "      <script>\n",
              "        const buttonEl =\n",
              "          document.querySelector('#df-3f570eb0-9368-40c1-b69e-4cf7bf895175 button.colab-df-convert');\n",
              "        buttonEl.style.display =\n",
              "          google.colab.kernel.accessAllowed ? 'block' : 'none';\n",
              "\n",
              "        async function convertToInteractive(key) {\n",
              "          const element = document.querySelector('#df-3f570eb0-9368-40c1-b69e-4cf7bf895175');\n",
              "          const dataTable =\n",
              "            await google.colab.kernel.invokeFunction('convertToInteractive',\n",
              "                                                     [key], {});\n",
              "          if (!dataTable) return;\n",
              "\n",
              "          const docLinkHtml = 'Like what you see? Visit the ' +\n",
              "            '<a target=\"_blank\" href=https://colab.research.google.com/notebooks/data_table.ipynb>data table notebook</a>'\n",
              "            + ' to learn more about interactive tables.';\n",
              "          element.innerHTML = '';\n",
              "          dataTable['output_type'] = 'display_data';\n",
              "          await google.colab.output.renderOutput(dataTable, element);\n",
              "          const docLink = document.createElement('div');\n",
              "          docLink.innerHTML = docLinkHtml;\n",
              "          element.appendChild(docLink);\n",
              "        }\n",
              "      </script>\n",
              "    </div>\n",
              "  </div>\n",
              "  "
            ]
          },
          "metadata": {},
          "execution_count": 8
        }
      ]
    },
    {
      "cell_type": "code",
      "source": [
        "labels = np.array(features['label'])\n",
        "# Remove the labels from the features\n",
        "# axis 1 refers to the columns\n",
        "features = features[np.intersect1d(features.columns, names_of_features_selected)]\n",
        "\n"
      ],
      "metadata": {
        "id": "ik_leXSVOgBl"
      },
      "execution_count": 9,
      "outputs": []
    },
    {
      "cell_type": "code",
      "source": [
        "names_mfdfa = [\n",
        "    'a_A',\t'b_A',\t'c_A',\t'd_A',\t'g_A',\n",
        "    'a_E',\t'b_E',\t'c_E',\t'd_E',\t'g_E',\n",
        "    'a_I',\t'b_I',\t'c_I',\t'd_I',\t'g_I',\n",
        "    'a_O',\t'b_O',\t'c_O',\t'd_O',\t'g_O',\n",
        "    'a_U',\t'b_U',\t'c_U',\t'd_U',\t'g_U'\n",
        "]\n",
        "features_mfdfa = features[np.intersect1d(features.columns, names_mfdfa)]\n"
      ],
      "metadata": {
        "id": "iCSj2_E4OgD7"
      },
      "execution_count": 10,
      "outputs": []
    },
    {
      "cell_type": "code",
      "source": [
        "names_surfboard = [\n",
        "   'mfcc_mean_1_A', 'mfcc_mean_2_A', 'mfcc_mean_4_A', 'mfcc_mean_9_A',\n",
        "       'mfcc_mean_10_A', 'mfcc_mean_12_A', 'mfcc_mean_13_A',\n",
        "       'loudness_slidingwindow_mean_A', 'hnr_A', 'LPC_2_A', 'LPC_3_A',\n",
        "       'mfcc_mean_1_E', 'mfcc_mean_3_E', 'mfcc_mean_5_E', 'mfcc_mean_6_E',\n",
        "       'mfcc_mean_7_E', 'mfcc_mean_10_E', 'mfcc_mean_11_E', 'mfcc_mean_12_E',\n",
        "       'mfcc_mean_13_E', 'f0_contour_mean_E', 'f0_mean_E', 'hnr_E', 'LPC_2_E',\n",
        "       'LPC_3_E', 'mfcc_mean_1_I', 'mfcc_mean_3_I', 'mfcc_mean_5_I',\n",
        "       'mfcc_mean_6_I', 'mfcc_mean_7_I', 'mfcc_mean_9_I', 'mfcc_mean_11_I',\n",
        "       'mfcc_mean_12_I', 'mfcc_mean_13_I', 'f0_contour_mean_I', 'hnr_I',\n",
        "       'LPC_2_I', 'LPC_3_I', 'LPC_4_I', 'mfcc_mean_3_O', 'mfcc_mean_4_O',\n",
        "       'mfcc_mean_6_O', 'mfcc_mean_8_O', 'mfcc_mean_9_O', 'mfcc_mean_13_O',\n",
        "       'f0_contour_mean_O', 'f0_std_O', 'log_energy_O',\n",
        "       'loudness_slidingwindow_mean_O', 'mfcc_mean_2_U', 'mfcc_mean_3_U',\n",
        "       'mfcc_mean_5_U', 'mfcc_mean_6_U', 'mfcc_mean_7_U', 'mfcc_mean_8_U',\n",
        "       'mfcc_mean_10_U', 'mfcc_mean_11_U', 'hnr_U'\n",
        "]\n",
        "features_surfboard = features[np.intersect1d(features.columns, names_surfboard)]\n"
      ],
      "metadata": {
        "id": "LdtDoldtOgHN"
      },
      "execution_count": 11,
      "outputs": []
    },
    {
      "cell_type": "code",
      "source": [
        "# Saving feature names for later use\n",
        "feature_list = list(features.columns)\n",
        "\n",
        "# Convert to numpy array\n",
        "features = np.array(features)\n",
        "features_mfdfa = np.array(features_mfdfa)\n",
        "features_surfboard = np.array(features_surfboard)"
      ],
      "metadata": {
        "id": "5mQfEwWDSlxL"
      },
      "execution_count": 12,
      "outputs": []
    },
    {
      "cell_type": "markdown",
      "source": [
        "# Random Forest"
      ],
      "metadata": {
        "id": "H_xe_IM6OET-"
      }
    },
    {
      "cell_type": "markdown",
      "source": [
        "Se aplică Random Forest pentru 3 tipuri de date de intrare: separat doar separat MFDFA, doar Surfboard și ambele împreună. Se analizează acuratețea."
      ],
      "metadata": {
        "id": "0Q5L1wniQXNo"
      }
    },
    {
      "cell_type": "markdown",
      "source": [
        "## MFDFA"
      ],
      "metadata": {
        "id": "7-3Ae1dgQzPe"
      }
    },
    {
      "cell_type": "code",
      "source": [
        "X = features_mfdfa\n",
        "y = labels"
      ],
      "metadata": {
        "id": "oAkDtZgxRTQL"
      },
      "execution_count": 31,
      "outputs": []
    },
    {
      "cell_type": "code",
      "source": [
        "X_train, X_test, y_train, y_test = train_test_split(X, y, test_size=0.2, random_state=42)"
      ],
      "metadata": {
        "id": "NsEX4pTRRUzs"
      },
      "execution_count": 32,
      "outputs": []
    },
    {
      "cell_type": "code",
      "source": [
        " np.unique(y_train, return_counts=True)\n",
        " np.unique(y_test, return_counts=True)"
      ],
      "metadata": {
        "colab": {
          "base_uri": "https://localhost:8080/"
        },
        "id": "t9eaT3S1RVZE",
        "outputId": "61d2c0e8-dcec-401e-d0e4-f800f29e78d4"
      },
      "execution_count": 33,
      "outputs": [
        {
          "output_type": "execute_result",
          "data": {
            "text/plain": [
              "(array([0, 1]), array([29, 31]))"
            ]
          },
          "metadata": {},
          "execution_count": 33
        }
      ]
    },
    {
      "cell_type": "code",
      "source": [
        "pipeline = make_pipeline(StandardScaler(), RandomForestClassifier(n_estimators=100, max_leaf_nodes=10))\n",
        "strtfdKFold = StratifiedKFold(n_splits=10)\n",
        "kfold = strtfdKFold.split(X_train, y_train)\n",
        "scores = []\n",
        "\n",
        "for k, (train, test) in enumerate(kfold):\n",
        "    pipeline.fit(X_train[train, :], y_train[train])\n",
        "    score = pipeline.score(X_train[test, :], y_train[test])\n",
        "    scores.append(score)\n",
        "    print('Fold: %2d, Training/Test Split Distribution: %s, Accuracy: %.3f' % (k+1, np.bincount(y_train[train]), score))\n",
        "\n",
        "print('\\n\\nCross-Validation accuracy: %.3f +/- %.3f' %(np.mean(scores), np.std(scores)))"
      ],
      "metadata": {
        "colab": {
          "base_uri": "https://localhost:8080/"
        },
        "id": "BuHbCM__RVhL",
        "outputId": "33504f3d-a05e-4fdd-ec2f-4263a7bab29e"
      },
      "execution_count": 34,
      "outputs": [
        {
          "output_type": "stream",
          "name": "stdout",
          "text": [
            "Fold:  1, Training/Test Split Distribution: [109 107], Accuracy: 0.708\n",
            "Fold:  2, Training/Test Split Distribution: [109 107], Accuracy: 0.792\n",
            "Fold:  3, Training/Test Split Distribution: [109 107], Accuracy: 0.958\n",
            "Fold:  4, Training/Test Split Distribution: [109 107], Accuracy: 0.708\n",
            "Fold:  5, Training/Test Split Distribution: [109 107], Accuracy: 0.833\n",
            "Fold:  6, Training/Test Split Distribution: [109 107], Accuracy: 0.875\n",
            "Fold:  7, Training/Test Split Distribution: [109 107], Accuracy: 0.667\n",
            "Fold:  8, Training/Test Split Distribution: [109 107], Accuracy: 0.833\n",
            "Fold:  9, Training/Test Split Distribution: [109 107], Accuracy: 0.750\n",
            "Fold: 10, Training/Test Split Distribution: [108 108], Accuracy: 0.792\n",
            "\n",
            "\n",
            "Cross-Validation accuracy: 0.792 +/- 0.083\n"
          ]
        }
      ]
    },
    {
      "cell_type": "markdown",
      "source": [
        "## Surfboard"
      ],
      "metadata": {
        "id": "Uf0Ur4XjQ23N"
      }
    },
    {
      "cell_type": "code",
      "source": [
        "X = features_surfboard\n",
        "y = labels"
      ],
      "metadata": {
        "id": "6A5W05MORl8f"
      },
      "execution_count": 39,
      "outputs": []
    },
    {
      "cell_type": "code",
      "source": [
        "X_train, X_test, y_train, y_test = train_test_split(X, y, test_size=0.2, random_state=42)"
      ],
      "metadata": {
        "id": "rIXForhMRl-s"
      },
      "execution_count": 40,
      "outputs": []
    },
    {
      "cell_type": "code",
      "source": [
        " np.unique(y_train, return_counts=True)\n",
        " np.unique(y_test, return_counts=True)"
      ],
      "metadata": {
        "colab": {
          "base_uri": "https://localhost:8080/"
        },
        "id": "axGgtFKCRmAf",
        "outputId": "a2158613-c557-44b0-fc83-44f97d7eaa09"
      },
      "execution_count": 41,
      "outputs": [
        {
          "output_type": "execute_result",
          "data": {
            "text/plain": [
              "(array([0, 1]), array([29, 31]))"
            ]
          },
          "metadata": {},
          "execution_count": 41
        }
      ]
    },
    {
      "cell_type": "code",
      "source": [
        "pipeline = make_pipeline(StandardScaler(), RandomForestClassifier(n_estimators=100, max_leaf_nodes=10))\n",
        "strtfdKFold = StratifiedKFold(n_splits=10)\n",
        "kfold = strtfdKFold.split(X_train, y_train)\n",
        "scores = []\n",
        "\n",
        "for k, (train, test) in enumerate(kfold):\n",
        "    pipeline.fit(X_train[train, :], y_train[train])\n",
        "    score = pipeline.score(X_train[test, :], y_train[test])\n",
        "    scores.append(score)\n",
        "    print('Fold: %2d, Training/Test Split Distribution: %s, Accuracy: %.3f' % (k+1, np.bincount(y_train[train]), score))\n",
        "\n",
        "print('\\n\\nCross-Validation accuracy: %.3f +/- %.3f' %(np.mean(scores), np.std(scores)))"
      ],
      "metadata": {
        "colab": {
          "base_uri": "https://localhost:8080/"
        },
        "id": "N6pSTfIPRmC0",
        "outputId": "fff7d03a-3964-43fb-ae94-3be37f10022c"
      },
      "execution_count": 42,
      "outputs": [
        {
          "output_type": "stream",
          "name": "stdout",
          "text": [
            "Fold:  1, Training/Test Split Distribution: [109 107], Accuracy: 0.917\n",
            "Fold:  2, Training/Test Split Distribution: [109 107], Accuracy: 0.875\n",
            "Fold:  3, Training/Test Split Distribution: [109 107], Accuracy: 0.875\n",
            "Fold:  4, Training/Test Split Distribution: [109 107], Accuracy: 0.708\n",
            "Fold:  5, Training/Test Split Distribution: [109 107], Accuracy: 0.917\n",
            "Fold:  6, Training/Test Split Distribution: [109 107], Accuracy: 0.875\n",
            "Fold:  7, Training/Test Split Distribution: [109 107], Accuracy: 0.875\n",
            "Fold:  8, Training/Test Split Distribution: [109 107], Accuracy: 0.792\n",
            "Fold:  9, Training/Test Split Distribution: [109 107], Accuracy: 0.875\n",
            "Fold: 10, Training/Test Split Distribution: [108 108], Accuracy: 0.792\n",
            "\n",
            "\n",
            "Cross-Validation accuracy: 0.850 +/- 0.062\n"
          ]
        }
      ]
    },
    {
      "cell_type": "markdown",
      "source": [
        "## MFDFA + SURFBOARD"
      ],
      "metadata": {
        "id": "lo8iVB5WY8vm"
      }
    },
    {
      "cell_type": "code",
      "source": [
        "X = features\n",
        "y = labels"
      ],
      "metadata": {
        "id": "JgvFWwjJOpWk"
      },
      "execution_count": 43,
      "outputs": []
    },
    {
      "cell_type": "code",
      "source": [
        "X_train, X_test, y_train, y_test = train_test_split(X, y, test_size=0.2, random_state=42)"
      ],
      "metadata": {
        "id": "QCmL1i41Oqkz"
      },
      "execution_count": 44,
      "outputs": []
    },
    {
      "cell_type": "code",
      "source": [
        " np.unique(y_train, return_counts=True)\n",
        " np.unique(y_test, return_counts=True)"
      ],
      "metadata": {
        "colab": {
          "base_uri": "https://localhost:8080/"
        },
        "id": "rdsNMlFsOrl0",
        "outputId": "959f1ac9-091b-4daa-e441-367e63c52af2"
      },
      "execution_count": 45,
      "outputs": [
        {
          "output_type": "execute_result",
          "data": {
            "text/plain": [
              "(array([0, 1]), array([29, 31]))"
            ]
          },
          "metadata": {},
          "execution_count": 45
        }
      ]
    },
    {
      "cell_type": "code",
      "source": [
        "\n",
        "pipeline = make_pipeline(StandardScaler(), RandomForestClassifier(n_estimators=100, max_leaf_nodes=10))\n",
        "strtfdKFold = StratifiedKFold(n_splits=10)\n",
        "kfold = strtfdKFold.split(X_train, y_train)\n",
        "scores = []\n",
        "\n",
        "for k, (train, test) in enumerate(kfold):\n",
        "    pipeline.fit(X_train[train, :], y_train[train])\n",
        "    score = pipeline.score(X_train[test, :], y_train[test])\n",
        "    scores.append(score)\n",
        "    print('Fold: %2d, Training/Test Split Distribution: %s, Accuracy: %.3f' % (k+1, np.bincount(y_train[train]), score))\n",
        "\n",
        "print('\\n\\nCross-Validation accuracy: %.3f +/- %.3f' %(np.mean(scores), np.std(scores)))"
      ],
      "metadata": {
        "colab": {
          "base_uri": "https://localhost:8080/"
        },
        "id": "nf8kU8DjOu2V",
        "outputId": "370b4168-bfa1-4af6-faf9-1367698e0115"
      },
      "execution_count": 46,
      "outputs": [
        {
          "output_type": "stream",
          "name": "stdout",
          "text": [
            "Fold:  1, Training/Test Split Distribution: [109 107], Accuracy: 0.917\n",
            "Fold:  2, Training/Test Split Distribution: [109 107], Accuracy: 0.833\n",
            "Fold:  3, Training/Test Split Distribution: [109 107], Accuracy: 0.875\n",
            "Fold:  4, Training/Test Split Distribution: [109 107], Accuracy: 0.792\n",
            "Fold:  5, Training/Test Split Distribution: [109 107], Accuracy: 0.792\n",
            "Fold:  6, Training/Test Split Distribution: [109 107], Accuracy: 0.917\n",
            "Fold:  7, Training/Test Split Distribution: [109 107], Accuracy: 0.750\n",
            "Fold:  8, Training/Test Split Distribution: [109 107], Accuracy: 0.833\n",
            "Fold:  9, Training/Test Split Distribution: [109 107], Accuracy: 0.833\n",
            "Fold: 10, Training/Test Split Distribution: [108 108], Accuracy: 0.875\n",
            "\n",
            "\n",
            "Cross-Validation accuracy: 0.842 +/- 0.052\n"
          ]
        }
      ]
    },
    {
      "cell_type": "markdown",
      "source": [
        "# XGBoost"
      ],
      "metadata": {
        "id": "Txv44ILwOI2V"
      }
    },
    {
      "cell_type": "markdown",
      "source": [
        "Se aplică XGBoost pentru 3 tipuri de date de intrare: separat doar separat MFDFA, doar Surfboard și ambele împreună. Se analizează acuratețea."
      ],
      "metadata": {
        "id": "y1_7D0wlQlc_"
      }
    },
    {
      "cell_type": "markdown",
      "source": [
        "## MFDFA"
      ],
      "metadata": {
        "id": "VLNvwqaoTfDy"
      }
    },
    {
      "cell_type": "code",
      "source": [
        "X = features_mfdfa\n",
        "y = labels"
      ],
      "metadata": {
        "id": "vccjrTH0TvLp"
      },
      "execution_count": 25,
      "outputs": []
    },
    {
      "cell_type": "code",
      "source": [
        "# Split the dataset into training and testing sets\n",
        "X_train, X_test, y_train, y_test = train_test_split(X, y, test_size=0.2, random_state=42)\n",
        "\n",
        "# Convert your data into DMatrix format (optimized data structure for XGBoost)\n",
        "dtrain = xgb.DMatrix(X_train, label=y_train)\n",
        "dtest = xgb.DMatrix(X_test, label=y_test)\n",
        "\n",
        "# Set the parameters for XGBoost\n",
        "params = {\n",
        "    'max_depth': 3,  # maximum depth of a tree\n",
        "    'objective': 'binary:logistic',  # objective function for binary classification\n",
        "    'eval_metric': 'logloss',  # evaluation metric\n",
        "    'eta': 0.1,  # learning rate\n",
        "    'gamma': 0.1  # regularization parameter\n",
        "}\n",
        "\n",
        "# Train the model\n",
        "num_rounds = 100  # number of boosting rounds\n",
        "model = xgb.train(params, dtrain, num_rounds)\n",
        "\n",
        "# Make predictions on the test set\n",
        "preds = model.predict(dtest)\n",
        "preds_binary = [1 if p >= 0.5 else 0 for p in preds]  # convert probabilities to binary labels (0 or 1)\n",
        "\n",
        "# Evaluate the model\n",
        "accuracy = accuracy_score(y_test, preds_binary)\n",
        "auc = roc_auc_score(y_test, preds)\n",
        "print(\"Accuracy: %.2f%%\" % (accuracy * 100.0))\n",
        "print(\"AUC: %.4f\" % auc)"
      ],
      "metadata": {
        "colab": {
          "base_uri": "https://localhost:8080/"
        },
        "id": "kdWA5SQPTvNy",
        "outputId": "eec48778-e30d-4179-abce-5dae486f6fca"
      },
      "execution_count": 26,
      "outputs": [
        {
          "output_type": "stream",
          "name": "stdout",
          "text": [
            "Accuracy: 76.67%\n",
            "AUC: 0.8231\n"
          ]
        }
      ]
    },
    {
      "cell_type": "markdown",
      "source": [
        "## Surfboard"
      ],
      "metadata": {
        "id": "TkZuDuheTiHq"
      }
    },
    {
      "cell_type": "code",
      "source": [
        "X = features_surfboard\n",
        "y = labels"
      ],
      "metadata": {
        "id": "tFw6n66ITlvC"
      },
      "execution_count": 27,
      "outputs": []
    },
    {
      "cell_type": "code",
      "source": [
        "# Split the dataset into training and testing sets\n",
        "X_train, X_test, y_train, y_test = train_test_split(X, y, test_size=0.2, random_state=42)\n",
        "\n",
        "# Convert your data into DMatrix format (optimized data structure for XGBoost)\n",
        "dtrain = xgb.DMatrix(X_train, label=y_train)\n",
        "dtest = xgb.DMatrix(X_test, label=y_test)\n",
        "\n",
        "# Set the parameters for XGBoost\n",
        "params = {\n",
        "    'max_depth': 4,  # maximum depth of a tree\n",
        "    'objective': 'binary:logistic',  # objective function for binary classification\n",
        "    'eval_metric': 'logloss',  # evaluation metric\n",
        "    'eta': 0.1,  # learning rate\n",
        "    'gamma': 0.1  # regularization parameter\n",
        "}\n",
        "\n",
        "# Train the model\n",
        "num_rounds = 100  # number of boosting rounds\n",
        "model = xgb.train(params, dtrain, num_rounds)\n",
        "\n",
        "# Make predictions on the test set\n",
        "preds = model.predict(dtest)\n",
        "preds_binary = [1 if p >= 0.5 else 0 for p in preds]  # convert probabilities to binary labels (0 or 1)\n",
        "\n",
        "# Evaluate the model\n",
        "accuracy = accuracy_score(y_test, preds_binary)\n",
        "auc = roc_auc_score(y_test, preds)\n",
        "print(\"Accuracy: %.2f%%\" % (accuracy * 100.0))\n",
        "print(\"AUC: %.4f\" % auc)"
      ],
      "metadata": {
        "colab": {
          "base_uri": "https://localhost:8080/"
        },
        "id": "UpqO3-drOIYE",
        "outputId": "34912ad1-7209-4be1-d559-f912cddd145c"
      },
      "execution_count": 28,
      "outputs": [
        {
          "output_type": "stream",
          "name": "stdout",
          "text": [
            "Accuracy: 85.00%\n",
            "AUC: 0.9488\n"
          ]
        }
      ]
    },
    {
      "cell_type": "markdown",
      "source": [
        "## MFDFA + Surfboard"
      ],
      "metadata": {
        "id": "XWZmBO98Tn5i"
      }
    },
    {
      "cell_type": "code",
      "source": [
        "X = features\n",
        "y = labels"
      ],
      "metadata": {
        "id": "YIIX29_RTtG4"
      },
      "execution_count": 29,
      "outputs": []
    },
    {
      "cell_type": "code",
      "source": [
        "# Split the dataset into training and testing sets\n",
        "X_train, X_test, y_train, y_test = train_test_split(X, y, test_size=0.2, random_state=42)\n",
        "\n",
        "# Convert your data into DMatrix format (optimized data structure for XGBoost)\n",
        "dtrain = xgb.DMatrix(X_train, label=y_train)\n",
        "dtest = xgb.DMatrix(X_test, label=y_test)\n",
        "\n",
        "# Set the parameters for XGBoost\n",
        "params = {\n",
        "    'max_depth': 4,  # maximum depth of a tree\n",
        "    'objective': 'binary:logistic',  # objective function for binary classification\n",
        "    'eval_metric': 'logloss',  # evaluation metric\n",
        "    'eta': 0.1,  # learning rate\n",
        "    'gamma': 0.1  # regularization parameter\n",
        "}\n",
        "\n",
        "# Train the model\n",
        "num_rounds = 100  # number of boosting rounds\n",
        "model = xgb.train(params, dtrain, num_rounds)\n",
        "\n",
        "# Make predictions on the test set\n",
        "preds = model.predict(dtest)\n",
        "preds_binary = [1 if p >= 0.5 else 0 for p in preds]  # convert probabilities to binary labels (0 or 1)\n",
        "\n",
        "# Evaluate the model\n",
        "accuracy = accuracy_score(y_test, preds_binary)\n",
        "auc = roc_auc_score(y_test, preds)\n",
        "print(\"Accuracy: %.2f%%\" % (accuracy * 100.0))\n",
        "print(\"AUC: %.4f\" % auc)"
      ],
      "metadata": {
        "colab": {
          "base_uri": "https://localhost:8080/"
        },
        "id": "GCpEmIycTthC",
        "outputId": "ad406129-ded9-4580-d827-005bb79553ef"
      },
      "execution_count": 30,
      "outputs": [
        {
          "output_type": "stream",
          "name": "stdout",
          "text": [
            "Accuracy: 86.67%\n",
            "AUC: 0.9722\n"
          ]
        }
      ]
    }
  ]
}