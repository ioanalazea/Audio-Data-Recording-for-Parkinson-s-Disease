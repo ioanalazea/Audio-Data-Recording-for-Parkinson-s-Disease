{
  "nbformat": 4,
  "nbformat_minor": 0,
  "metadata": {
    "colab": {
      "provenance": [],
      "collapsed_sections": [
        "dTOp2wFdhi8j",
        "7Np2mk8si6QP",
        "hfgpb7M0B8Uu",
        "EwT9_YXTGDKa",
        "QAeiJ4fNEttC",
        "QhUiTJHVORwp",
        "OYs-glDDSYg_",
        "U5n9bc4xVQoq",
        "iic73Gy8XMs7",
        "nD1Oao-qY0FH"
      ]
    },
    "kernelspec": {
      "name": "python3",
      "display_name": "Python 3"
    },
    "language_info": {
      "name": "python"
    },
    "accelerator": "GPU",
    "gpuClass": "standard"
  },
  "cells": [
    {
      "cell_type": "markdown",
      "source": [
        "**DESPRE**: ML (Tabel) pentru TOATE VOCALELE din Evaluation.docx... Practic, încărcarea unui fișier csv (caracteristici MFDFA și Surfboard pentru audio în funcție de lungime: <2, >=2 și orice durata) Apoi creând 3 dataframes: unul cu doar MDFFA, unul numai Surfboard și unul combinat => Precizie, ROC"
      ],
      "metadata": {
        "id": "733IbNybHSJ2"
      }
    },
    {
      "cell_type": "markdown",
      "metadata": {
        "id": "dTOp2wFdhi8j"
      },
      "source": [
        "# **Installs**"
      ]
    },
    {
      "cell_type": "code",
      "source": [
        "pip install pingouin"
      ],
      "metadata": {
        "colab": {
          "base_uri": "https://localhost:8080/"
        },
        "id": "5aHg-mdp5_TB",
        "outputId": "e49b67bf-a245-43fe-ea47-3d10214022e7"
      },
      "execution_count": null,
      "outputs": [
        {
          "output_type": "stream",
          "name": "stdout",
          "text": [
            "Looking in indexes: https://pypi.org/simple, https://us-python.pkg.dev/colab-wheels/public/simple/\n",
            "Requirement already satisfied: pingouin in /usr/local/lib/python3.8/dist-packages (0.5.3)\n",
            "Requirement already satisfied: scikit-learn in /usr/local/lib/python3.8/dist-packages (from pingouin) (1.0.2)\n",
            "Requirement already satisfied: pandas-flavor>=0.2.0 in /usr/local/lib/python3.8/dist-packages (from pingouin) (0.5.0)\n",
            "Requirement already satisfied: matplotlib>=3.0.2 in /usr/local/lib/python3.8/dist-packages (from pingouin) (3.2.2)\n",
            "Requirement already satisfied: tabulate in /usr/local/lib/python3.8/dist-packages (from pingouin) (0.8.10)\n",
            "Requirement already satisfied: scipy>=1.7 in /usr/local/lib/python3.8/dist-packages (from pingouin) (1.7.3)\n",
            "Requirement already satisfied: pandas>=1.0 in /usr/local/lib/python3.8/dist-packages (from pingouin) (1.3.5)\n",
            "Requirement already satisfied: statsmodels>=0.13 in /usr/local/lib/python3.8/dist-packages (from pingouin) (0.13.5)\n",
            "Requirement already satisfied: outdated in /usr/local/lib/python3.8/dist-packages (from pingouin) (0.2.2)\n",
            "Requirement already satisfied: numpy>=1.19 in /usr/local/lib/python3.8/dist-packages (from pingouin) (1.21.6)\n",
            "Requirement already satisfied: seaborn>=0.11 in /usr/local/lib/python3.8/dist-packages (from pingouin) (0.11.2)\n",
            "Requirement already satisfied: kiwisolver>=1.0.1 in /usr/local/lib/python3.8/dist-packages (from matplotlib>=3.0.2->pingouin) (1.4.4)\n",
            "Requirement already satisfied: pyparsing!=2.0.4,!=2.1.2,!=2.1.6,>=2.0.1 in /usr/local/lib/python3.8/dist-packages (from matplotlib>=3.0.2->pingouin) (3.0.9)\n",
            "Requirement already satisfied: python-dateutil>=2.1 in /usr/local/lib/python3.8/dist-packages (from matplotlib>=3.0.2->pingouin) (2.8.2)\n",
            "Requirement already satisfied: cycler>=0.10 in /usr/local/lib/python3.8/dist-packages (from matplotlib>=3.0.2->pingouin) (0.11.0)\n",
            "Requirement already satisfied: pytz>=2017.3 in /usr/local/lib/python3.8/dist-packages (from pandas>=1.0->pingouin) (2022.7.1)\n",
            "Requirement already satisfied: lazy-loader>=0.1 in /usr/local/lib/python3.8/dist-packages (from pandas-flavor>=0.2.0->pingouin) (0.1)\n",
            "Requirement already satisfied: xarray in /usr/local/lib/python3.8/dist-packages (from pandas-flavor>=0.2.0->pingouin) (2022.12.0)\n",
            "Requirement already satisfied: patsy>=0.5.2 in /usr/local/lib/python3.8/dist-packages (from statsmodels>=0.13->pingouin) (0.5.3)\n",
            "Requirement already satisfied: packaging>=21.3 in /usr/local/lib/python3.8/dist-packages (from statsmodels>=0.13->pingouin) (23.0)\n",
            "Requirement already satisfied: setuptools>=44 in /usr/local/lib/python3.8/dist-packages (from outdated->pingouin) (57.4.0)\n",
            "Requirement already satisfied: littleutils in /usr/local/lib/python3.8/dist-packages (from outdated->pingouin) (0.2.2)\n",
            "Requirement already satisfied: requests in /usr/local/lib/python3.8/dist-packages (from outdated->pingouin) (2.25.1)\n",
            "Requirement already satisfied: joblib>=0.11 in /usr/local/lib/python3.8/dist-packages (from scikit-learn->pingouin) (1.2.0)\n",
            "Requirement already satisfied: threadpoolctl>=2.0.0 in /usr/local/lib/python3.8/dist-packages (from scikit-learn->pingouin) (3.1.0)\n",
            "Requirement already satisfied: six in /usr/local/lib/python3.8/dist-packages (from patsy>=0.5.2->statsmodels>=0.13->pingouin) (1.15.0)\n",
            "Requirement already satisfied: chardet<5,>=3.0.2 in /usr/local/lib/python3.8/dist-packages (from requests->outdated->pingouin) (4.0.0)\n",
            "Requirement already satisfied: certifi>=2017.4.17 in /usr/local/lib/python3.8/dist-packages (from requests->outdated->pingouin) (2022.12.7)\n",
            "Requirement already satisfied: idna<3,>=2.5 in /usr/local/lib/python3.8/dist-packages (from requests->outdated->pingouin) (2.10)\n",
            "Requirement already satisfied: urllib3<1.27,>=1.21.1 in /usr/local/lib/python3.8/dist-packages (from requests->outdated->pingouin) (1.24.3)\n"
          ]
        }
      ]
    },
    {
      "cell_type": "markdown",
      "source": [
        "----Installs for FSM used for Relief feature selection.---------"
      ],
      "metadata": {
        "id": "3NVR_83yMfDG"
      }
    },
    {
      "cell_type": "code",
      "source": [
        "pip install skrebate"
      ],
      "metadata": {
        "id": "CSax5acZ7-Ju",
        "colab": {
          "base_uri": "https://localhost:8080/"
        },
        "outputId": "4bc736a8-165b-4618-c1da-f7e96981ea31"
      },
      "execution_count": null,
      "outputs": [
        {
          "output_type": "stream",
          "name": "stdout",
          "text": [
            "Looking in indexes: https://pypi.org/simple, https://us-python.pkg.dev/colab-wheels/public/simple/\n",
            "Requirement already satisfied: skrebate in /usr/local/lib/python3.8/dist-packages (0.62)\n",
            "Requirement already satisfied: numpy in /usr/local/lib/python3.8/dist-packages (from skrebate) (1.21.6)\n",
            "Requirement already satisfied: scikit-learn in /usr/local/lib/python3.8/dist-packages (from skrebate) (1.0.2)\n",
            "Requirement already satisfied: scipy in /usr/local/lib/python3.8/dist-packages (from skrebate) (1.7.3)\n",
            "Requirement already satisfied: joblib>=0.11 in /usr/local/lib/python3.8/dist-packages (from scikit-learn->skrebate) (1.2.0)\n",
            "Requirement already satisfied: threadpoolctl>=2.0.0 in /usr/local/lib/python3.8/dist-packages (from scikit-learn->skrebate) (3.1.0)\n"
          ]
        }
      ]
    },
    {
      "cell_type": "code",
      "source": [
        "pip install mrmr_selection"
      ],
      "metadata": {
        "id": "nmdZEQCitY-R",
        "colab": {
          "base_uri": "https://localhost:8080/"
        },
        "outputId": "434e08ba-6b1c-4238-cc0c-9feb6f428c18"
      },
      "execution_count": null,
      "outputs": [
        {
          "output_type": "stream",
          "name": "stdout",
          "text": [
            "Looking in indexes: https://pypi.org/simple, https://us-python.pkg.dev/colab-wheels/public/simple/\n",
            "Requirement already satisfied: mrmr_selection in /usr/local/lib/python3.8/dist-packages (0.2.5)\n",
            "Requirement already satisfied: tqdm in /usr/local/lib/python3.8/dist-packages (from mrmr_selection) (4.64.1)\n",
            "Requirement already satisfied: pandas>=1.0.3 in /usr/local/lib/python3.8/dist-packages (from mrmr_selection) (1.3.5)\n",
            "Requirement already satisfied: joblib in /usr/local/lib/python3.8/dist-packages (from mrmr_selection) (1.2.0)\n",
            "Requirement already satisfied: scipy in /usr/local/lib/python3.8/dist-packages (from mrmr_selection) (1.7.3)\n",
            "Requirement already satisfied: category-encoders in /usr/local/lib/python3.8/dist-packages (from mrmr_selection) (2.6.0)\n",
            "Requirement already satisfied: sklearn in /usr/local/lib/python3.8/dist-packages (from mrmr_selection) (0.0.post1)\n",
            "Requirement already satisfied: jinja2 in /usr/local/lib/python3.8/dist-packages (from mrmr_selection) (2.11.3)\n",
            "Requirement already satisfied: numpy>=1.18.1 in /usr/local/lib/python3.8/dist-packages (from mrmr_selection) (1.21.6)\n",
            "Requirement already satisfied: pytz>=2017.3 in /usr/local/lib/python3.8/dist-packages (from pandas>=1.0.3->mrmr_selection) (2022.7.1)\n",
            "Requirement already satisfied: python-dateutil>=2.7.3 in /usr/local/lib/python3.8/dist-packages (from pandas>=1.0.3->mrmr_selection) (2.8.2)\n",
            "Requirement already satisfied: patsy>=0.5.1 in /usr/local/lib/python3.8/dist-packages (from category-encoders->mrmr_selection) (0.5.3)\n",
            "Requirement already satisfied: statsmodels>=0.9.0 in /usr/local/lib/python3.8/dist-packages (from category-encoders->mrmr_selection) (0.13.5)\n",
            "Requirement already satisfied: scikit-learn>=0.20.0 in /usr/local/lib/python3.8/dist-packages (from category-encoders->mrmr_selection) (1.0.2)\n",
            "Requirement already satisfied: MarkupSafe>=0.23 in /usr/local/lib/python3.8/dist-packages (from jinja2->mrmr_selection) (2.0.1)\n",
            "Requirement already satisfied: six in /usr/local/lib/python3.8/dist-packages (from patsy>=0.5.1->category-encoders->mrmr_selection) (1.15.0)\n",
            "Requirement already satisfied: threadpoolctl>=2.0.0 in /usr/local/lib/python3.8/dist-packages (from scikit-learn>=0.20.0->category-encoders->mrmr_selection) (3.1.0)\n",
            "Requirement already satisfied: packaging>=21.3 in /usr/local/lib/python3.8/dist-packages (from statsmodels>=0.9.0->category-encoders->mrmr_selection) (23.0)\n"
          ]
        }
      ]
    },
    {
      "cell_type": "code",
      "source": [
        "pip install bottleneck"
      ],
      "metadata": {
        "id": "wgDPHoXi74uT",
        "colab": {
          "base_uri": "https://localhost:8080/"
        },
        "outputId": "1c1b894e-45bc-4ac3-afb0-e9a5fbf78d9b"
      },
      "execution_count": null,
      "outputs": [
        {
          "output_type": "stream",
          "name": "stdout",
          "text": [
            "Looking in indexes: https://pypi.org/simple, https://us-python.pkg.dev/colab-wheels/public/simple/\n",
            "Requirement already satisfied: bottleneck in /usr/local/lib/python3.8/dist-packages (1.3.6)\n",
            "Requirement already satisfied: numpy in /usr/local/lib/python3.8/dist-packages (from bottleneck) (1.21.6)\n"
          ]
        }
      ]
    },
    {
      "cell_type": "code",
      "source": [
        "pip install sklearn\n"
      ],
      "metadata": {
        "id": "lcsQDbx-7IfJ",
        "colab": {
          "base_uri": "https://localhost:8080/"
        },
        "outputId": "8e63a1a9-f379-4e8a-ad59-c6f0a287c9c3"
      },
      "execution_count": null,
      "outputs": [
        {
          "output_type": "stream",
          "name": "stdout",
          "text": [
            "Looking in indexes: https://pypi.org/simple, https://us-python.pkg.dev/colab-wheels/public/simple/\n",
            "Requirement already satisfied: sklearn in /usr/local/lib/python3.8/dist-packages (0.0.post1)\n"
          ]
        }
      ]
    },
    {
      "cell_type": "code",
      "source": [
        "pip install mifs"
      ],
      "metadata": {
        "id": "ZeoM07kCuxpo",
        "colab": {
          "base_uri": "https://localhost:8080/"
        },
        "outputId": "72ccf5c6-17e9-4592-8e3f-0ea9376514fb"
      },
      "execution_count": null,
      "outputs": [
        {
          "output_type": "stream",
          "name": "stdout",
          "text": [
            "Looking in indexes: https://pypi.org/simple, https://us-python.pkg.dev/colab-wheels/public/simple/\n",
            "\u001b[31mERROR: Could not find a version that satisfies the requirement mifs (from versions: none)\u001b[0m\u001b[31m\n",
            "\u001b[0m\u001b[31mERROR: No matching distribution found for mifs\u001b[0m\u001b[31m\n",
            "\u001b[0m"
          ]
        }
      ]
    },
    {
      "cell_type": "code",
      "source": [],
      "metadata": {
        "id": "CcsPVm0hMuMM"
      },
      "execution_count": null,
      "outputs": []
    },
    {
      "cell_type": "markdown",
      "source": [
        "^^^^----------------------Installs for FSM used for Relief feature selection.----------------------^^^^"
      ],
      "metadata": {
        "id": "smBN_WtoMpi9"
      }
    },
    {
      "cell_type": "markdown",
      "metadata": {
        "id": "fmleCF8Vbv0x"
      },
      "source": [
        "Installing surfboard...more info: https://surfboard.readthedocs.io/en/latest/installation.html"
      ]
    },
    {
      "cell_type": "code",
      "execution_count": null,
      "metadata": {
        "id": "xdoFeR78bpLy",
        "colab": {
          "base_uri": "https://localhost:8080/"
        },
        "outputId": "e7e95366-7750-496b-87e8-403ea7887f51"
      },
      "outputs": [
        {
          "output_type": "stream",
          "name": "stdout",
          "text": [
            "Looking in indexes: https://pypi.org/simple, https://us-python.pkg.dev/colab-wheels/public/simple/\n",
            "Requirement already satisfied: surfboard in /usr/local/lib/python3.8/dist-packages (0.2.0)\n",
            "Requirement already satisfied: librosa>=0.7.2 in /usr/local/lib/python3.8/dist-packages (from surfboard) (0.8.1)\n",
            "Requirement already satisfied: SoundFile>=0.10.3.post1 in /usr/local/lib/python3.8/dist-packages (from surfboard) (0.11.0)\n",
            "Requirement already satisfied: PeakUtils>=1.3.3 in /usr/local/lib/python3.8/dist-packages (from surfboard) (1.3.4)\n",
            "Collecting numba==0.48.0\n",
            "  Using cached numba-0.48.0-1-cp38-cp38-manylinux2014_x86_64.whl (3.6 MB)\n",
            "Requirement already satisfied: tqdm>=4.42.1 in /usr/local/lib/python3.8/dist-packages (from surfboard) (4.64.1)\n",
            "Requirement already satisfied: pandas>=1.0.1 in /usr/local/lib/python3.8/dist-packages (from surfboard) (1.3.5)\n",
            "Requirement already satisfied: Cython>=0.29.15 in /usr/local/lib/python3.8/dist-packages (from surfboard) (0.29.33)\n",
            "Requirement already satisfied: pytest>=5.4.1 in /usr/local/lib/python3.8/dist-packages (from surfboard) (7.2.1)\n",
            "Requirement already satisfied: pyloudnorm==0.1.0 in /usr/local/lib/python3.8/dist-packages (from surfboard) (0.1.0)\n",
            "Requirement already satisfied: pyyaml>=5.3 in /usr/local/lib/python3.8/dist-packages (from surfboard) (6.0)\n",
            "Requirement already satisfied: pysptk>=0.1.18 in /usr/local/lib/python3.8/dist-packages (from surfboard) (0.2.0)\n",
            "Requirement already satisfied: numpy>=1.15 in /usr/local/lib/python3.8/dist-packages (from numba==0.48.0->surfboard) (1.21.6)\n",
            "Requirement already satisfied: setuptools in /usr/local/lib/python3.8/dist-packages (from numba==0.48.0->surfboard) (57.4.0)\n",
            "Collecting llvmlite<0.32.0,>=0.31.0dev0\n",
            "  Using cached llvmlite-0.31.0-cp38-cp38-manylinux1_x86_64.whl (20.2 MB)\n",
            "Requirement already satisfied: scipy>=1.0.1 in /usr/local/lib/python3.8/dist-packages (from pyloudnorm==0.1.0->surfboard) (1.7.3)\n",
            "Requirement already satisfied: future>=0.16.0 in /usr/local/lib/python3.8/dist-packages (from pyloudnorm==0.1.0->surfboard) (0.16.0)\n",
            "Requirement already satisfied: audioread>=2.0.0 in /usr/local/lib/python3.8/dist-packages (from librosa>=0.7.2->surfboard) (3.0.0)\n",
            "Requirement already satisfied: resampy>=0.2.2 in /usr/local/lib/python3.8/dist-packages (from librosa>=0.7.2->surfboard) (0.3.1)\n",
            "Requirement already satisfied: pooch>=1.0 in /usr/local/lib/python3.8/dist-packages (from librosa>=0.7.2->surfboard) (1.6.0)\n",
            "Requirement already satisfied: decorator>=3.0.0 in /usr/local/lib/python3.8/dist-packages (from librosa>=0.7.2->surfboard) (4.4.2)\n",
            "Requirement already satisfied: scikit-learn!=0.19.0,>=0.14.0 in /usr/local/lib/python3.8/dist-packages (from librosa>=0.7.2->surfboard) (1.0.2)\n",
            "Requirement already satisfied: packaging>=20.0 in /usr/local/lib/python3.8/dist-packages (from librosa>=0.7.2->surfboard) (23.0)\n",
            "Requirement already satisfied: joblib>=0.14 in /usr/local/lib/python3.8/dist-packages (from librosa>=0.7.2->surfboard) (1.2.0)\n",
            "Requirement already satisfied: pytz>=2017.3 in /usr/local/lib/python3.8/dist-packages (from pandas>=1.0.1->surfboard) (2022.7.1)\n",
            "Requirement already satisfied: python-dateutil>=2.7.3 in /usr/local/lib/python3.8/dist-packages (from pandas>=1.0.1->surfboard) (2.8.2)\n",
            "Requirement already satisfied: iniconfig in /usr/local/lib/python3.8/dist-packages (from pytest>=5.4.1->surfboard) (2.0.0)\n",
            "Requirement already satisfied: attrs>=19.2.0 in /usr/local/lib/python3.8/dist-packages (from pytest>=5.4.1->surfboard) (22.2.0)\n",
            "Requirement already satisfied: exceptiongroup>=1.0.0rc8 in /usr/local/lib/python3.8/dist-packages (from pytest>=5.4.1->surfboard) (1.1.0)\n",
            "Requirement already satisfied: pluggy<2.0,>=0.12 in /usr/local/lib/python3.8/dist-packages (from pytest>=5.4.1->surfboard) (1.0.0)\n",
            "Requirement already satisfied: tomli>=1.0.0 in /usr/local/lib/python3.8/dist-packages (from pytest>=5.4.1->surfboard) (2.0.1)\n",
            "Requirement already satisfied: cffi>=1.0 in /usr/local/lib/python3.8/dist-packages (from SoundFile>=0.10.3.post1->surfboard) (1.15.1)\n",
            "Requirement already satisfied: pycparser in /usr/local/lib/python3.8/dist-packages (from cffi>=1.0->SoundFile>=0.10.3.post1->surfboard) (2.21)\n",
            "Requirement already satisfied: appdirs>=1.3.0 in /usr/local/lib/python3.8/dist-packages (from pooch>=1.0->librosa>=0.7.2->surfboard) (1.4.4)\n",
            "Requirement already satisfied: requests>=2.19.0 in /usr/local/lib/python3.8/dist-packages (from pooch>=1.0->librosa>=0.7.2->surfboard) (2.25.1)\n",
            "Requirement already satisfied: six>=1.5 in /usr/local/lib/python3.8/dist-packages (from python-dateutil>=2.7.3->pandas>=1.0.1->surfboard) (1.15.0)\n",
            "Requirement already satisfied: threadpoolctl>=2.0.0 in /usr/local/lib/python3.8/dist-packages (from scikit-learn!=0.19.0,>=0.14.0->librosa>=0.7.2->surfboard) (3.1.0)\n",
            "Requirement already satisfied: certifi>=2017.4.17 in /usr/local/lib/python3.8/dist-packages (from requests>=2.19.0->pooch>=1.0->librosa>=0.7.2->surfboard) (2022.12.7)\n",
            "Requirement already satisfied: urllib3<1.27,>=1.21.1 in /usr/local/lib/python3.8/dist-packages (from requests>=2.19.0->pooch>=1.0->librosa>=0.7.2->surfboard) (1.24.3)\n",
            "Requirement already satisfied: chardet<5,>=3.0.2 in /usr/local/lib/python3.8/dist-packages (from requests>=2.19.0->pooch>=1.0->librosa>=0.7.2->surfboard) (4.0.0)\n",
            "Requirement already satisfied: idna<3,>=2.5 in /usr/local/lib/python3.8/dist-packages (from requests>=2.19.0->pooch>=1.0->librosa>=0.7.2->surfboard) (2.10)\n",
            "Installing collected packages: llvmlite, numba\n",
            "  Attempting uninstall: llvmlite\n",
            "    Found existing installation: llvmlite 0.36.0\n",
            "    Uninstalling llvmlite-0.36.0:\n",
            "      Successfully uninstalled llvmlite-0.36.0\n",
            "  Attempting uninstall: numba\n",
            "    Found existing installation: numba 0.53.0\n",
            "    Uninstalling numba-0.53.0:\n",
            "      Successfully uninstalled numba-0.53.0\n",
            "\u001b[31mERROR: pip's dependency resolver does not currently take into account all the packages that are installed. This behaviour is the source of the following dependency conflicts.\n",
            "pyrpde 0.1.3 requires numba>=0.49.1, but you have numba 0.48.0 which is incompatible.\u001b[0m\u001b[31m\n",
            "\u001b[0mSuccessfully installed llvmlite-0.31.0 numba-0.48.0\n"
          ]
        }
      ],
      "source": [
        "pip install surfboard"
      ]
    },
    {
      "cell_type": "code",
      "execution_count": null,
      "metadata": {
        "id": "br68aMvhmw8z",
        "colab": {
          "base_uri": "https://localhost:8080/"
        },
        "outputId": "779012ff-af39-43f7-bee8-fd604828f770"
      },
      "outputs": [
        {
          "output_type": "stream",
          "name": "stdout",
          "text": [
            "Looking in indexes: https://pypi.org/simple, https://us-python.pkg.dev/colab-wheels/public/simple/\n",
            "Collecting numba==0.53.0\n",
            "  Using cached numba-0.53.0-cp38-cp38-manylinux2014_x86_64.whl (3.4 MB)\n",
            "Requirement already satisfied: numpy>=1.15 in /usr/local/lib/python3.8/dist-packages (from numba==0.53.0) (1.21.6)\n",
            "Requirement already satisfied: setuptools in /usr/local/lib/python3.8/dist-packages (from numba==0.53.0) (57.4.0)\n",
            "Collecting llvmlite<0.37,>=0.36.0rc1\n",
            "  Using cached llvmlite-0.36.0-cp38-cp38-manylinux2010_x86_64.whl (25.3 MB)\n",
            "Installing collected packages: llvmlite, numba\n",
            "  Attempting uninstall: llvmlite\n",
            "    Found existing installation: llvmlite 0.31.0\n",
            "    Uninstalling llvmlite-0.31.0:\n",
            "      Successfully uninstalled llvmlite-0.31.0\n",
            "  Attempting uninstall: numba\n",
            "    Found existing installation: numba 0.48.0\n",
            "    Uninstalling numba-0.48.0:\n",
            "      Successfully uninstalled numba-0.48.0\n",
            "\u001b[31mERROR: pip's dependency resolver does not currently take into account all the packages that are installed. This behaviour is the source of the following dependency conflicts.\n",
            "surfboard 0.2.0 requires numba==0.48.0, but you have numba 0.53.0 which is incompatible.\u001b[0m\u001b[31m\n",
            "\u001b[0mSuccessfully installed llvmlite-0.36.0 numba-0.53.0\n"
          ]
        }
      ],
      "source": [
        "pip install numba==0.53.0"
      ]
    },
    {
      "cell_type": "code",
      "execution_count": null,
      "metadata": {
        "id": "tSjFsMIwm1DX",
        "colab": {
          "base_uri": "https://localhost:8080/"
        },
        "outputId": "811abdd3-1f77-4727-bef2-bbaeb01cda4e"
      },
      "outputs": [
        {
          "output_type": "stream",
          "name": "stdout",
          "text": [
            "Looking in indexes: https://pypi.org/simple, https://us-python.pkg.dev/colab-wheels/public/simple/\n",
            "Collecting llvmlite\n",
            "  Using cached llvmlite-0.39.1-cp38-cp38-manylinux_2_17_x86_64.manylinux2014_x86_64.whl (34.6 MB)\n",
            "Installing collected packages: llvmlite\n",
            "\u001b[31mERROR: pip's dependency resolver does not currently take into account all the packages that are installed. This behaviour is the source of the following dependency conflicts.\n",
            "numba 0.53.0 requires llvmlite<0.37,>=0.36.0rc1, but you have llvmlite 0.39.1 which is incompatible.\u001b[0m\u001b[31m\n",
            "\u001b[0mSuccessfully installed llvmlite-0.39.1\n"
          ]
        }
      ],
      "source": [
        "pip install --ignore-installed llvmlite"
      ]
    },
    {
      "cell_type": "code",
      "execution_count": null,
      "metadata": {
        "id": "jFSDrZ5dDBu5",
        "colab": {
          "base_uri": "https://localhost:8080/"
        },
        "outputId": "5aa0f66f-1e3a-4e0f-be22-8c4ca476bc56"
      },
      "outputs": [
        {
          "output_type": "stream",
          "name": "stdout",
          "text": [
            "Looking in indexes: https://pypi.org/simple, https://us-python.pkg.dev/colab-wheels/public/simple/\n",
            "Requirement already satisfied: pyrpde in /usr/local/lib/python3.8/dist-packages (0.1.3)\n",
            "Requirement already satisfied: numpy>=1.18.4 in /usr/local/lib/python3.8/dist-packages (from pyrpde) (1.21.6)\n",
            "Requirement already satisfied: scipy>=1.4.1 in /usr/local/lib/python3.8/dist-packages (from pyrpde) (1.7.3)\n",
            "Requirement already satisfied: numba>=0.49.1 in /usr/local/lib/python3.8/dist-packages (from pyrpde) (0.53.0)\n",
            "Requirement already satisfied: setuptools in /usr/local/lib/python3.8/dist-packages (from numba>=0.49.1->pyrpde) (57.4.0)\n",
            "Collecting llvmlite<0.37,>=0.36.0rc1\n",
            "  Using cached llvmlite-0.36.0-cp38-cp38-manylinux2010_x86_64.whl (25.3 MB)\n",
            "Installing collected packages: llvmlite\n",
            "  Attempting uninstall: llvmlite\n",
            "    Found existing installation: llvmlite 0.39.1\n",
            "    Uninstalling llvmlite-0.39.1:\n",
            "      Successfully uninstalled llvmlite-0.39.1\n",
            "Successfully installed llvmlite-0.36.0\n"
          ]
        },
        {
          "output_type": "display_data",
          "data": {
            "application/vnd.colab-display-data+json": {
              "pip_warning": {
                "packages": [
                  "llvmlite"
                ]
              }
            }
          },
          "metadata": {}
        }
      ],
      "source": [
        "pip install pyrpde"
      ]
    },
    {
      "cell_type": "code",
      "execution_count": null,
      "metadata": {
        "id": "ooR-zTFMFwmY",
        "colab": {
          "base_uri": "https://localhost:8080/"
        },
        "outputId": "ea831d1c-c05a-47cd-962b-93ddf0a2d9a0"
      },
      "outputs": [
        {
          "output_type": "stream",
          "name": "stdout",
          "text": [
            "Looking in indexes: https://pypi.org/simple, https://us-python.pkg.dev/colab-wheels/public/simple/\n",
            "Requirement already satisfied: praat-parselmouth in /usr/local/lib/python3.8/dist-packages (0.4.3)\n",
            "Requirement already satisfied: numpy>=1.7.0 in /usr/local/lib/python3.8/dist-packages (from praat-parselmouth) (1.21.6)\n"
          ]
        }
      ],
      "source": [
        "pip install praat-parselmouth"
      ]
    },
    {
      "cell_type": "markdown",
      "metadata": {
        "id": "7Np2mk8si6QP"
      },
      "source": [
        "# **Imports**"
      ]
    },
    {
      "cell_type": "code",
      "execution_count": null,
      "metadata": {
        "id": "AvtS7JNsjSvP"
      },
      "outputs": [],
      "source": [
        "from surfboard.sound import Waveform\n",
        "from surfboard.feature_extraction import extract_features\n",
        "import parselmouth\n",
        "from parselmouth.praat import call\n",
        "import numpy as np\n",
        "import pandas as pd\n",
        "import librosa\n",
        "import librosa.display\n",
        "import IPython.display as ipd\n",
        "import matplotlib.pyplot as plt\n",
        "import sklearn\n",
        "import pathlib\n",
        "import csv\n",
        "import os\n",
        "import math\n",
        "from PIL import Image\n",
        "import warnings\n",
        "warnings.filterwarnings('ignore')\n",
        "from scipy.optimize import curve_fit\n",
        "\n",
        "\n",
        "\n",
        "\n",
        "from sklearn.model_selection import train_test_split"
      ]
    },
    {
      "cell_type": "markdown",
      "source": [
        "Importing libraries for FSM (Relief)."
      ],
      "metadata": {
        "id": "QKI7l0STM5e2"
      }
    },
    {
      "cell_type": "code",
      "source": [
        "import sys\n",
        "sys.path.append('/content/drive/MyDrive/python scripts/FSM-main')\n",
        "sys.path.append('/content/drive/MyDrive/python scripts/mifs-master')\n",
        "sys.path.append('/content/drive/MyDrive/python scripts/RRCT-main')\n",
        "import sklearn.feature_selection._base\n",
        "sys.modules['sklearn.feature_selection.base'] = sklearn.feature_selection._base\n"
      ],
      "metadata": {
        "id": "D7WIx7vQs8vS"
      },
      "execution_count": null,
      "outputs": []
    },
    {
      "cell_type": "code",
      "source": [
        "from mrmr import mrmr_classif\n",
        "from datetime import datetime\n",
        "from multiprocessing import cpu_count\n",
        "\n"
      ],
      "metadata": {
        "id": "xIGIl1a2tFZ5"
      },
      "execution_count": null,
      "outputs": []
    },
    {
      "cell_type": "markdown",
      "source": [
        "# CSV"
      ],
      "metadata": {
        "id": "5oU-5-6YeJWF"
      }
    },
    {
      "cell_type": "markdown",
      "source": [
        "First, mfdfa + surfboard but we need to perform feature selection bc there are too many. (I have 3 csv that I need to import: one for any length, one for <2 and one for >=2.)"
      ],
      "metadata": {
        "id": "FTWZYtDig1df"
      }
    },
    {
      "cell_type": "code",
      "source": [
        "#audios of no condition\n",
        "csv_file_test = 'features_mfdfa_and_surfboard.csv'\n",
        "csv_file_train = 'features_more_2seconds_mfdfa_and_surfboard.csv'\n"
      ],
      "metadata": {
        "id": "LXrWLcSveLfG"
      },
      "execution_count": null,
      "outputs": []
    },
    {
      "cell_type": "markdown",
      "source": [
        "# Creating the dataframes"
      ],
      "metadata": {
        "id": "vYYTOs6bhjTM"
      }
    },
    {
      "cell_type": "markdown",
      "source": [
        "Here I will create 3 separate dataframes from the csv file: one containing only MFDFA, one with Surfboard features and one with MFDFA + Surfboard."
      ],
      "metadata": {
        "id": "xc528D-sjHOW"
      }
    },
    {
      "cell_type": "code",
      "source": [
        "# Read in data and display first 5 rows\n",
        "features_train = pd.read_csv(f'/content/drive/MyDrive/Parkinson CSV files/{csv_file_train}', index_col = 0)\n",
        "features_train.head(5)\n",
        "# Read in data and display first 5 rows\n",
        "features_test = pd.read_csv(f'/content/drive/MyDrive/Parkinson CSV files/{csv_file_test}', index_col = 0)\n",
        "features_test.head(5)"
      ],
      "metadata": {
        "colab": {
          "base_uri": "https://localhost:8080/",
          "height": 300
        },
        "id": "7JqdRGYLDcIa",
        "outputId": "81e723a6-59d5-4d16-d3e5-016d1c640783"
      },
      "execution_count": null,
      "outputs": [
        {
          "output_type": "execute_result",
          "data": {
            "text/plain": [
              "               filename       a_A       b_A        c_A       d_A       g_A  \\\n",
              "0  AVPEPUDEAC0001a1.wav  0.005134  2.773804  14.464413  0.239951  0.438907   \n",
              "1  AVPEPUDEAC0001a2.wav  0.004287  2.786766  12.529315  0.228076  0.363295   \n",
              "2  AVPEPUDEAC0001a3.wav  0.003158  2.556353  14.310374  0.237569  0.358898   \n",
              "3  AVPEPUDEAC0003a1.wav -0.023849  1.425489  40.734144  0.501434  1.056339   \n",
              "4  AVPEPUDEAC0003a3.wav -0.005259  1.808647  44.468063  0.677819  1.073030   \n",
              "\n",
              "        a_E       b_E        c_E       d_E  ...         f2_U         f3_U  \\\n",
              "0  0.008326  2.786644  37.006651  0.358826  ...   855.923600  2691.467349   \n",
              "1  0.008697  2.842495  33.157190  0.324737  ...   773.168390  2650.082362   \n",
              "2  0.009720  3.256971  27.910551  0.321402  ...  2802.277666  3767.566577   \n",
              "3  0.002281  2.183830  37.554326  0.604607  ...  2192.993042  3346.745084   \n",
              "4  0.002380  2.212522  40.705040  0.588844  ...  2181.058987  3110.540368   \n",
              "\n",
              "          f4_U      hnr_U  LPC_0_U   LPC_1_U   LPC_2_U   LPC_3_U   LPC_4_U  \\\n",
              "0  3799.771303  25.690630      1.0 -1.621395  0.552271 -0.207879  0.282346   \n",
              "1  3589.815036  23.842138      1.0 -1.545521  0.431359 -0.192440  0.311552   \n",
              "2  5145.967325  31.139092      1.0 -2.009604  1.339565 -0.627501  0.301435   \n",
              "3  5069.993537  16.921561      1.0 -1.657522  0.385750  0.235394  0.039457   \n",
              "4  5115.181137   9.182765      1.0 -1.827665  0.620723  0.272772 -0.063501   \n",
              "\n",
              "   label  \n",
              "0      0  \n",
              "1      0  \n",
              "2      0  \n",
              "3      0  \n",
              "4      0  \n",
              "\n",
              "[5 rows x 237 columns]"
            ],
            "text/html": [
              "\n",
              "  <div id=\"df-d41952df-0510-48ab-b49f-f2c783c6856c\">\n",
              "    <div class=\"colab-df-container\">\n",
              "      <div>\n",
              "<style scoped>\n",
              "    .dataframe tbody tr th:only-of-type {\n",
              "        vertical-align: middle;\n",
              "    }\n",
              "\n",
              "    .dataframe tbody tr th {\n",
              "        vertical-align: top;\n",
              "    }\n",
              "\n",
              "    .dataframe thead th {\n",
              "        text-align: right;\n",
              "    }\n",
              "</style>\n",
              "<table border=\"1\" class=\"dataframe\">\n",
              "  <thead>\n",
              "    <tr style=\"text-align: right;\">\n",
              "      <th></th>\n",
              "      <th>filename</th>\n",
              "      <th>a_A</th>\n",
              "      <th>b_A</th>\n",
              "      <th>c_A</th>\n",
              "      <th>d_A</th>\n",
              "      <th>g_A</th>\n",
              "      <th>a_E</th>\n",
              "      <th>b_E</th>\n",
              "      <th>c_E</th>\n",
              "      <th>d_E</th>\n",
              "      <th>...</th>\n",
              "      <th>f2_U</th>\n",
              "      <th>f3_U</th>\n",
              "      <th>f4_U</th>\n",
              "      <th>hnr_U</th>\n",
              "      <th>LPC_0_U</th>\n",
              "      <th>LPC_1_U</th>\n",
              "      <th>LPC_2_U</th>\n",
              "      <th>LPC_3_U</th>\n",
              "      <th>LPC_4_U</th>\n",
              "      <th>label</th>\n",
              "    </tr>\n",
              "  </thead>\n",
              "  <tbody>\n",
              "    <tr>\n",
              "      <th>0</th>\n",
              "      <td>AVPEPUDEAC0001a1.wav</td>\n",
              "      <td>0.005134</td>\n",
              "      <td>2.773804</td>\n",
              "      <td>14.464413</td>\n",
              "      <td>0.239951</td>\n",
              "      <td>0.438907</td>\n",
              "      <td>0.008326</td>\n",
              "      <td>2.786644</td>\n",
              "      <td>37.006651</td>\n",
              "      <td>0.358826</td>\n",
              "      <td>...</td>\n",
              "      <td>855.923600</td>\n",
              "      <td>2691.467349</td>\n",
              "      <td>3799.771303</td>\n",
              "      <td>25.690630</td>\n",
              "      <td>1.0</td>\n",
              "      <td>-1.621395</td>\n",
              "      <td>0.552271</td>\n",
              "      <td>-0.207879</td>\n",
              "      <td>0.282346</td>\n",
              "      <td>0</td>\n",
              "    </tr>\n",
              "    <tr>\n",
              "      <th>1</th>\n",
              "      <td>AVPEPUDEAC0001a2.wav</td>\n",
              "      <td>0.004287</td>\n",
              "      <td>2.786766</td>\n",
              "      <td>12.529315</td>\n",
              "      <td>0.228076</td>\n",
              "      <td>0.363295</td>\n",
              "      <td>0.008697</td>\n",
              "      <td>2.842495</td>\n",
              "      <td>33.157190</td>\n",
              "      <td>0.324737</td>\n",
              "      <td>...</td>\n",
              "      <td>773.168390</td>\n",
              "      <td>2650.082362</td>\n",
              "      <td>3589.815036</td>\n",
              "      <td>23.842138</td>\n",
              "      <td>1.0</td>\n",
              "      <td>-1.545521</td>\n",
              "      <td>0.431359</td>\n",
              "      <td>-0.192440</td>\n",
              "      <td>0.311552</td>\n",
              "      <td>0</td>\n",
              "    </tr>\n",
              "    <tr>\n",
              "      <th>2</th>\n",
              "      <td>AVPEPUDEAC0001a3.wav</td>\n",
              "      <td>0.003158</td>\n",
              "      <td>2.556353</td>\n",
              "      <td>14.310374</td>\n",
              "      <td>0.237569</td>\n",
              "      <td>0.358898</td>\n",
              "      <td>0.009720</td>\n",
              "      <td>3.256971</td>\n",
              "      <td>27.910551</td>\n",
              "      <td>0.321402</td>\n",
              "      <td>...</td>\n",
              "      <td>2802.277666</td>\n",
              "      <td>3767.566577</td>\n",
              "      <td>5145.967325</td>\n",
              "      <td>31.139092</td>\n",
              "      <td>1.0</td>\n",
              "      <td>-2.009604</td>\n",
              "      <td>1.339565</td>\n",
              "      <td>-0.627501</td>\n",
              "      <td>0.301435</td>\n",
              "      <td>0</td>\n",
              "    </tr>\n",
              "    <tr>\n",
              "      <th>3</th>\n",
              "      <td>AVPEPUDEAC0003a1.wav</td>\n",
              "      <td>-0.023849</td>\n",
              "      <td>1.425489</td>\n",
              "      <td>40.734144</td>\n",
              "      <td>0.501434</td>\n",
              "      <td>1.056339</td>\n",
              "      <td>0.002281</td>\n",
              "      <td>2.183830</td>\n",
              "      <td>37.554326</td>\n",
              "      <td>0.604607</td>\n",
              "      <td>...</td>\n",
              "      <td>2192.993042</td>\n",
              "      <td>3346.745084</td>\n",
              "      <td>5069.993537</td>\n",
              "      <td>16.921561</td>\n",
              "      <td>1.0</td>\n",
              "      <td>-1.657522</td>\n",
              "      <td>0.385750</td>\n",
              "      <td>0.235394</td>\n",
              "      <td>0.039457</td>\n",
              "      <td>0</td>\n",
              "    </tr>\n",
              "    <tr>\n",
              "      <th>4</th>\n",
              "      <td>AVPEPUDEAC0003a3.wav</td>\n",
              "      <td>-0.005259</td>\n",
              "      <td>1.808647</td>\n",
              "      <td>44.468063</td>\n",
              "      <td>0.677819</td>\n",
              "      <td>1.073030</td>\n",
              "      <td>0.002380</td>\n",
              "      <td>2.212522</td>\n",
              "      <td>40.705040</td>\n",
              "      <td>0.588844</td>\n",
              "      <td>...</td>\n",
              "      <td>2181.058987</td>\n",
              "      <td>3110.540368</td>\n",
              "      <td>5115.181137</td>\n",
              "      <td>9.182765</td>\n",
              "      <td>1.0</td>\n",
              "      <td>-1.827665</td>\n",
              "      <td>0.620723</td>\n",
              "      <td>0.272772</td>\n",
              "      <td>-0.063501</td>\n",
              "      <td>0</td>\n",
              "    </tr>\n",
              "  </tbody>\n",
              "</table>\n",
              "<p>5 rows × 237 columns</p>\n",
              "</div>\n",
              "      <button class=\"colab-df-convert\" onclick=\"convertToInteractive('df-d41952df-0510-48ab-b49f-f2c783c6856c')\"\n",
              "              title=\"Convert this dataframe to an interactive table.\"\n",
              "              style=\"display:none;\">\n",
              "        \n",
              "  <svg xmlns=\"http://www.w3.org/2000/svg\" height=\"24px\"viewBox=\"0 0 24 24\"\n",
              "       width=\"24px\">\n",
              "    <path d=\"M0 0h24v24H0V0z\" fill=\"none\"/>\n",
              "    <path d=\"M18.56 5.44l.94 2.06.94-2.06 2.06-.94-2.06-.94-.94-2.06-.94 2.06-2.06.94zm-11 1L8.5 8.5l.94-2.06 2.06-.94-2.06-.94L8.5 2.5l-.94 2.06-2.06.94zm10 10l.94 2.06.94-2.06 2.06-.94-2.06-.94-.94-2.06-.94 2.06-2.06.94z\"/><path d=\"M17.41 7.96l-1.37-1.37c-.4-.4-.92-.59-1.43-.59-.52 0-1.04.2-1.43.59L10.3 9.45l-7.72 7.72c-.78.78-.78 2.05 0 2.83L4 21.41c.39.39.9.59 1.41.59.51 0 1.02-.2 1.41-.59l7.78-7.78 2.81-2.81c.8-.78.8-2.07 0-2.86zM5.41 20L4 18.59l7.72-7.72 1.47 1.35L5.41 20z\"/>\n",
              "  </svg>\n",
              "      </button>\n",
              "      \n",
              "  <style>\n",
              "    .colab-df-container {\n",
              "      display:flex;\n",
              "      flex-wrap:wrap;\n",
              "      gap: 12px;\n",
              "    }\n",
              "\n",
              "    .colab-df-convert {\n",
              "      background-color: #E8F0FE;\n",
              "      border: none;\n",
              "      border-radius: 50%;\n",
              "      cursor: pointer;\n",
              "      display: none;\n",
              "      fill: #1967D2;\n",
              "      height: 32px;\n",
              "      padding: 0 0 0 0;\n",
              "      width: 32px;\n",
              "    }\n",
              "\n",
              "    .colab-df-convert:hover {\n",
              "      background-color: #E2EBFA;\n",
              "      box-shadow: 0px 1px 2px rgba(60, 64, 67, 0.3), 0px 1px 3px 1px rgba(60, 64, 67, 0.15);\n",
              "      fill: #174EA6;\n",
              "    }\n",
              "\n",
              "    [theme=dark] .colab-df-convert {\n",
              "      background-color: #3B4455;\n",
              "      fill: #D2E3FC;\n",
              "    }\n",
              "\n",
              "    [theme=dark] .colab-df-convert:hover {\n",
              "      background-color: #434B5C;\n",
              "      box-shadow: 0px 1px 3px 1px rgba(0, 0, 0, 0.15);\n",
              "      filter: drop-shadow(0px 1px 2px rgba(0, 0, 0, 0.3));\n",
              "      fill: #FFFFFF;\n",
              "    }\n",
              "  </style>\n",
              "\n",
              "      <script>\n",
              "        const buttonEl =\n",
              "          document.querySelector('#df-d41952df-0510-48ab-b49f-f2c783c6856c button.colab-df-convert');\n",
              "        buttonEl.style.display =\n",
              "          google.colab.kernel.accessAllowed ? 'block' : 'none';\n",
              "\n",
              "        async function convertToInteractive(key) {\n",
              "          const element = document.querySelector('#df-d41952df-0510-48ab-b49f-f2c783c6856c');\n",
              "          const dataTable =\n",
              "            await google.colab.kernel.invokeFunction('convertToInteractive',\n",
              "                                                     [key], {});\n",
              "          if (!dataTable) return;\n",
              "\n",
              "          const docLinkHtml = 'Like what you see? Visit the ' +\n",
              "            '<a target=\"_blank\" href=https://colab.research.google.com/notebooks/data_table.ipynb>data table notebook</a>'\n",
              "            + ' to learn more about interactive tables.';\n",
              "          element.innerHTML = '';\n",
              "          dataTable['output_type'] = 'display_data';\n",
              "          await google.colab.output.renderOutput(dataTable, element);\n",
              "          const docLink = document.createElement('div');\n",
              "          docLink.innerHTML = docLinkHtml;\n",
              "          element.appendChild(docLink);\n",
              "        }\n",
              "      </script>\n",
              "    </div>\n",
              "  </div>\n",
              "  "
            ]
          },
          "metadata": {},
          "execution_count": 73
        }
      ]
    },
    {
      "cell_type": "code",
      "source": [
        "features_train.shape"
      ],
      "metadata": {
        "colab": {
          "base_uri": "https://localhost:8080/"
        },
        "id": "5PXUv8oMDns1",
        "outputId": "340d33ab-38a0-45b7-ef87-1e4d5126da00"
      },
      "execution_count": null,
      "outputs": [
        {
          "output_type": "execute_result",
          "data": {
            "text/plain": [
              "(115, 237)"
            ]
          },
          "metadata": {},
          "execution_count": 74
        }
      ]
    },
    {
      "cell_type": "code",
      "source": [
        "features_test.shape"
      ],
      "metadata": {
        "colab": {
          "base_uri": "https://localhost:8080/"
        },
        "id": "aMvkNDYTX2Bn",
        "outputId": "8e94f686-9aa4-4c68-ce1f-5e6741fdcf9a"
      },
      "execution_count": null,
      "outputs": [
        {
          "output_type": "execute_result",
          "data": {
            "text/plain": [
              "(300, 237)"
            ]
          },
          "metadata": {},
          "execution_count": 75
        }
      ]
    },
    {
      "cell_type": "code",
      "source": [
        "labels_train = np.array(features_train['label'])\n",
        "labels_test = np.array(features_test['label'])"
      ],
      "metadata": {
        "id": "hab33Pc3FMr3"
      },
      "execution_count": null,
      "outputs": []
    },
    {
      "cell_type": "markdown",
      "source": [
        "## MFDFA only dataframe"
      ],
      "metadata": {
        "id": "hfgpb7M0B8Uu"
      }
    },
    {
      "cell_type": "code",
      "source": [
        "features_mfdfa_train = features_train[['a_A','b_A','c_A','d_A','g_A','a_E','b_E','c_E','d_E','g_E','a_I','b_I','c_I','d_I','g_I','a_O','b_O','c_O','d_O','g_O','a_U','b_U','c_U','d_U','g_U']]\n",
        "features_mfdfa_test = features_test[['a_A','b_A','c_A','d_A','g_A','a_E','b_E','c_E','d_E','g_E','a_I','b_I','c_I','d_I','g_I','a_O','b_O','c_O','d_O','g_O','a_U','b_U','c_U','d_U','g_U']]\n"
      ],
      "metadata": {
        "id": "5gRHoollCCbW"
      },
      "execution_count": null,
      "outputs": []
    },
    {
      "cell_type": "code",
      "source": [
        "features_mfdfa_train.shape"
      ],
      "metadata": {
        "colab": {
          "base_uri": "https://localhost:8080/"
        },
        "id": "ewoyeACxCCkn",
        "outputId": "52a86196-1c32-47fb-cd42-79f3c3368ebf"
      },
      "execution_count": null,
      "outputs": [
        {
          "output_type": "execute_result",
          "data": {
            "text/plain": [
              "(115, 25)"
            ]
          },
          "metadata": {},
          "execution_count": 78
        }
      ]
    },
    {
      "cell_type": "code",
      "source": [
        "features_mfdfa_test.shape"
      ],
      "metadata": {
        "colab": {
          "base_uri": "https://localhost:8080/"
        },
        "id": "3ldT6D71bej-",
        "outputId": "6cb39469-a801-419f-9d1e-2db7e1a6303e"
      },
      "execution_count": null,
      "outputs": [
        {
          "output_type": "execute_result",
          "data": {
            "text/plain": [
              "(300, 25)"
            ]
          },
          "metadata": {},
          "execution_count": 79
        }
      ]
    },
    {
      "cell_type": "code",
      "source": [
        "# Convert to numpy array\n",
        "features_mfdfa_train = np.array(features_mfdfa_train)\n",
        "features_mfdfa_test = np.array(features_mfdfa_test)"
      ],
      "metadata": {
        "id": "Fr-Yw40aCCmk"
      },
      "execution_count": null,
      "outputs": []
    },
    {
      "cell_type": "markdown",
      "source": [
        "## Surfboard only dataframe"
      ],
      "metadata": {
        "id": "EwT9_YXTGDKa"
      }
    },
    {
      "cell_type": "markdown",
      "source": [
        "### Feature ranking"
      ],
      "metadata": {
        "id": "QAeiJ4fNEttC"
      }
    },
    {
      "cell_type": "code",
      "source": [
        "#import libraries\n",
        "from sklearn.svm import SVC\n",
        "from sklearn.model_selection import StratifiedKFold\n",
        "from sklearn.feature_selection import RFECV\n",
        "import matplotlib.pyplot as plt"
      ],
      "metadata": {
        "id": "H9xTihm1OQDJ"
      },
      "execution_count": null,
      "outputs": []
    },
    {
      "cell_type": "code",
      "source": [
        "# Load Data\n",
        "data = pd.read_csv(f'/content/drive/MyDrive/Parkinson CSV files/{csv_file}',index_col=0)\n",
        "X = data.drop(['filename','label','a_A','b_A','c_A','d_A','g_A','a_E','b_E','c_E','d_E','g_E','a_I','b_I','c_I','d_I','g_I','a_O','b_O','c_O','d_O','g_O','a_U','b_U','c_U','d_U','g_U'], axis = 1)\n",
        "columns_list = list(X)\n",
        "y = data['label']"
      ],
      "metadata": {
        "id": "ABa4PP6rpgXR",
        "colab": {
          "base_uri": "https://localhost:8080/",
          "height": 252
        },
        "outputId": "953a3e33-edbd-4f47-a5ee-0ab4aab362d7"
      },
      "execution_count": null,
      "outputs": [
        {
          "output_type": "error",
          "ename": "NameError",
          "evalue": "ignored",
          "traceback": [
            "\u001b[0;31m---------------------------------------------------------------------------\u001b[0m",
            "\u001b[0;31mNameError\u001b[0m                                 Traceback (most recent call last)",
            "\u001b[0;32m<ipython-input-42-8c48377b6b8a>\u001b[0m in \u001b[0;36m<module>\u001b[0;34m\u001b[0m\n\u001b[1;32m      1\u001b[0m \u001b[0;31m# Load Data\u001b[0m\u001b[0;34m\u001b[0m\u001b[0;34m\u001b[0m\u001b[0;34m\u001b[0m\u001b[0m\n\u001b[0;32m----> 2\u001b[0;31m \u001b[0mdata\u001b[0m \u001b[0;34m=\u001b[0m \u001b[0mpd\u001b[0m\u001b[0;34m.\u001b[0m\u001b[0mread_csv\u001b[0m\u001b[0;34m(\u001b[0m\u001b[0;34mf'/content/drive/MyDrive/Parkinson CSV files/{csv_file}'\u001b[0m\u001b[0;34m,\u001b[0m\u001b[0mindex_col\u001b[0m\u001b[0;34m=\u001b[0m\u001b[0;36m0\u001b[0m\u001b[0;34m)\u001b[0m\u001b[0;34m\u001b[0m\u001b[0;34m\u001b[0m\u001b[0m\n\u001b[0m\u001b[1;32m      3\u001b[0m \u001b[0mX\u001b[0m \u001b[0;34m=\u001b[0m \u001b[0mdata\u001b[0m\u001b[0;34m.\u001b[0m\u001b[0mdrop\u001b[0m\u001b[0;34m(\u001b[0m\u001b[0;34m[\u001b[0m\u001b[0;34m'filename'\u001b[0m\u001b[0;34m,\u001b[0m\u001b[0;34m'label'\u001b[0m\u001b[0;34m,\u001b[0m\u001b[0;34m'a_A'\u001b[0m\u001b[0;34m,\u001b[0m\u001b[0;34m'b_A'\u001b[0m\u001b[0;34m,\u001b[0m\u001b[0;34m'c_A'\u001b[0m\u001b[0;34m,\u001b[0m\u001b[0;34m'd_A'\u001b[0m\u001b[0;34m,\u001b[0m\u001b[0;34m'g_A'\u001b[0m\u001b[0;34m,\u001b[0m\u001b[0;34m'a_E'\u001b[0m\u001b[0;34m,\u001b[0m\u001b[0;34m'b_E'\u001b[0m\u001b[0;34m,\u001b[0m\u001b[0;34m'c_E'\u001b[0m\u001b[0;34m,\u001b[0m\u001b[0;34m'd_E'\u001b[0m\u001b[0;34m,\u001b[0m\u001b[0;34m'g_E'\u001b[0m\u001b[0;34m,\u001b[0m\u001b[0;34m'a_I'\u001b[0m\u001b[0;34m,\u001b[0m\u001b[0;34m'b_I'\u001b[0m\u001b[0;34m,\u001b[0m\u001b[0;34m'c_I'\u001b[0m\u001b[0;34m,\u001b[0m\u001b[0;34m'd_I'\u001b[0m\u001b[0;34m,\u001b[0m\u001b[0;34m'g_I'\u001b[0m\u001b[0;34m,\u001b[0m\u001b[0;34m'a_O'\u001b[0m\u001b[0;34m,\u001b[0m\u001b[0;34m'b_O'\u001b[0m\u001b[0;34m,\u001b[0m\u001b[0;34m'c_O'\u001b[0m\u001b[0;34m,\u001b[0m\u001b[0;34m'd_O'\u001b[0m\u001b[0;34m,\u001b[0m\u001b[0;34m'g_O'\u001b[0m\u001b[0;34m,\u001b[0m\u001b[0;34m'a_U'\u001b[0m\u001b[0;34m,\u001b[0m\u001b[0;34m'b_U'\u001b[0m\u001b[0;34m,\u001b[0m\u001b[0;34m'c_U'\u001b[0m\u001b[0;34m,\u001b[0m\u001b[0;34m'd_U'\u001b[0m\u001b[0;34m,\u001b[0m\u001b[0;34m'g_U'\u001b[0m\u001b[0;34m]\u001b[0m\u001b[0;34m,\u001b[0m \u001b[0maxis\u001b[0m \u001b[0;34m=\u001b[0m \u001b[0;36m1\u001b[0m\u001b[0;34m)\u001b[0m\u001b[0;34m\u001b[0m\u001b[0;34m\u001b[0m\u001b[0m\n\u001b[1;32m      4\u001b[0m \u001b[0mcolumns_list\u001b[0m \u001b[0;34m=\u001b[0m \u001b[0mlist\u001b[0m\u001b[0;34m(\u001b[0m\u001b[0mX\u001b[0m\u001b[0;34m)\u001b[0m\u001b[0;34m\u001b[0m\u001b[0;34m\u001b[0m\u001b[0m\n\u001b[1;32m      5\u001b[0m \u001b[0my\u001b[0m \u001b[0;34m=\u001b[0m \u001b[0mdata\u001b[0m\u001b[0;34m[\u001b[0m\u001b[0;34m'label'\u001b[0m\u001b[0;34m]\u001b[0m\u001b[0;34m\u001b[0m\u001b[0;34m\u001b[0m\u001b[0m\n",
            "\u001b[0;31mNameError\u001b[0m: name 'csv_file' is not defined"
          ]
        }
      ]
    },
    {
      "cell_type": "code",
      "source": [
        "X_train, X_test, y_train, y_test = train_test_split(X, y, test_size=0.1)\n",
        "\n",
        "#Fit the model\n",
        "svc = SVC(kernel=\"linear\")\n",
        "rfecv = RFECV(estimator=svc, step=1, cv=StratifiedKFold(2), scoring='accuracy')\n",
        "rfecv.fit(X_train, y_train)\n",
        "\n",
        "  #Selected features\n",
        "selected_features = X.columns[rfecv.get_support()]\n"
      ],
      "metadata": {
        "id": "wMyPXXytOQFP"
      },
      "execution_count": null,
      "outputs": []
    },
    {
      "cell_type": "markdown",
      "source": [
        "### Surfboard Features"
      ],
      "metadata": {
        "id": "QhUiTJHVORwp"
      }
    },
    {
      "cell_type": "code",
      "source": [
        "features_surfboard_train = features_train[['mfcc_mean_1_A', 'mfcc_mean_2_A', 'mfcc_mean_4_A', 'mfcc_mean_9_A',\n",
        "       'mfcc_mean_10_A', 'mfcc_mean_12_A', 'mfcc_mean_13_A',\n",
        "       'loudness_slidingwindow_mean_A', 'hnr_A', 'LPC_2_A', 'LPC_3_A',\n",
        "       'mfcc_mean_1_E', 'mfcc_mean_3_E', 'mfcc_mean_5_E', 'mfcc_mean_6_E',\n",
        "       'mfcc_mean_7_E', 'mfcc_mean_10_E', 'mfcc_mean_11_E', 'mfcc_mean_12_E',\n",
        "       'mfcc_mean_13_E', 'f0_contour_mean_E', 'f0_mean_E', 'hnr_E', 'LPC_2_E',\n",
        "       'LPC_3_E', 'mfcc_mean_1_I', 'mfcc_mean_3_I', 'mfcc_mean_5_I',\n",
        "       'mfcc_mean_6_I', 'mfcc_mean_7_I', 'mfcc_mean_9_I', 'mfcc_mean_11_I',\n",
        "       'mfcc_mean_12_I', 'mfcc_mean_13_I', 'f0_contour_mean_I', 'hnr_I',\n",
        "       'LPC_2_I', 'LPC_3_I', 'LPC_4_I', 'mfcc_mean_3_O', 'mfcc_mean_4_O',\n",
        "       'mfcc_mean_6_O', 'mfcc_mean_8_O', 'mfcc_mean_9_O', 'mfcc_mean_13_O',\n",
        "       'f0_contour_mean_O', 'f0_std_O', 'log_energy_O',\n",
        "       'loudness_slidingwindow_mean_O', 'mfcc_mean_2_U', 'mfcc_mean_3_U',\n",
        "       'mfcc_mean_5_U', 'mfcc_mean_6_U', 'mfcc_mean_7_U', 'mfcc_mean_8_U',\n",
        "       'mfcc_mean_10_U', 'mfcc_mean_11_U', 'hnr_U']]\n",
        "\n",
        "\n",
        "features_surfboard_test = features_test[['mfcc_mean_1_A', 'mfcc_mean_2_A', 'mfcc_mean_4_A', 'mfcc_mean_9_A',\n",
        "       'mfcc_mean_10_A', 'mfcc_mean_12_A', 'mfcc_mean_13_A',\n",
        "       'loudness_slidingwindow_mean_A', 'hnr_A', 'LPC_2_A', 'LPC_3_A',\n",
        "       'mfcc_mean_1_E', 'mfcc_mean_3_E', 'mfcc_mean_5_E', 'mfcc_mean_6_E',\n",
        "       'mfcc_mean_7_E', 'mfcc_mean_10_E', 'mfcc_mean_11_E', 'mfcc_mean_12_E',\n",
        "       'mfcc_mean_13_E', 'f0_contour_mean_E', 'f0_mean_E', 'hnr_E', 'LPC_2_E',\n",
        "       'LPC_3_E', 'mfcc_mean_1_I', 'mfcc_mean_3_I', 'mfcc_mean_5_I',\n",
        "       'mfcc_mean_6_I', 'mfcc_mean_7_I', 'mfcc_mean_9_I', 'mfcc_mean_11_I',\n",
        "       'mfcc_mean_12_I', 'mfcc_mean_13_I', 'f0_contour_mean_I', 'hnr_I',\n",
        "       'LPC_2_I', 'LPC_3_I', 'LPC_4_I', 'mfcc_mean_3_O', 'mfcc_mean_4_O',\n",
        "       'mfcc_mean_6_O', 'mfcc_mean_8_O', 'mfcc_mean_9_O', 'mfcc_mean_13_O',\n",
        "       'f0_contour_mean_O', 'f0_std_O', 'log_energy_O',\n",
        "       'loudness_slidingwindow_mean_O', 'mfcc_mean_2_U', 'mfcc_mean_3_U',\n",
        "       'mfcc_mean_5_U', 'mfcc_mean_6_U', 'mfcc_mean_7_U', 'mfcc_mean_8_U',\n",
        "       'mfcc_mean_10_U', 'mfcc_mean_11_U', 'hnr_U']]\n"
      ],
      "metadata": {
        "id": "V0jMPFtmOVAK"
      },
      "execution_count": null,
      "outputs": []
    },
    {
      "cell_type": "code",
      "source": [
        "features_surfboard_train.shape"
      ],
      "metadata": {
        "colab": {
          "base_uri": "https://localhost:8080/"
        },
        "id": "vxIsdyy_OVCS",
        "outputId": "2c3d6a68-70a9-4d4e-8baf-7f845c5d0d4c"
      },
      "execution_count": null,
      "outputs": [
        {
          "output_type": "execute_result",
          "data": {
            "text/plain": [
              "(115, 58)"
            ]
          },
          "metadata": {},
          "execution_count": 82
        }
      ]
    },
    {
      "cell_type": "code",
      "source": [
        "features_surfboard_test.shape"
      ],
      "metadata": {
        "colab": {
          "base_uri": "https://localhost:8080/"
        },
        "id": "8g3OT8qbclU7",
        "outputId": "41f1f4fc-3784-43d9-e350-3502ab56baf1"
      },
      "execution_count": null,
      "outputs": [
        {
          "output_type": "execute_result",
          "data": {
            "text/plain": [
              "(300, 58)"
            ]
          },
          "metadata": {},
          "execution_count": 83
        }
      ]
    },
    {
      "cell_type": "code",
      "source": [
        "# Convert to numpy array\n",
        "features_surfboard_train = np.array(features_surfboard_train)\n",
        "features_surfboard_test = np.array(features_surfboard_test)"
      ],
      "metadata": {
        "id": "QpDwMi1XOVFX"
      },
      "execution_count": null,
      "outputs": []
    },
    {
      "cell_type": "markdown",
      "source": [
        "## MFDFA + Surfboard dataframe"
      ],
      "metadata": {
        "id": "OYs-glDDSYg_"
      }
    },
    {
      "cell_type": "code",
      "source": [
        "features_mfdfa_surfboard_train = features_train[['a_A','b_A','c_A','d_A','g_A','a_E','b_E','c_E','d_E','g_E','a_I','b_I','c_I','d_I','g_I','a_O','b_O','c_O','d_O','g_O','a_U','b_U','c_U','d_U','g_U',\n",
        "                                     'mfcc_mean_1_A', 'mfcc_mean_2_A', 'mfcc_mean_4_A', 'mfcc_mean_9_A',\n",
        "       'mfcc_mean_10_A', 'mfcc_mean_12_A', 'mfcc_mean_13_A',\n",
        "       'loudness_slidingwindow_mean_A', 'hnr_A', 'LPC_2_A', 'LPC_3_A',\n",
        "       'mfcc_mean_1_E', 'mfcc_mean_3_E', 'mfcc_mean_5_E', 'mfcc_mean_6_E',\n",
        "       'mfcc_mean_7_E', 'mfcc_mean_10_E', 'mfcc_mean_11_E', 'mfcc_mean_12_E',\n",
        "       'mfcc_mean_13_E', 'f0_contour_mean_E', 'f0_mean_E', 'hnr_E', 'LPC_2_E',\n",
        "       'LPC_3_E', 'mfcc_mean_1_I', 'mfcc_mean_3_I', 'mfcc_mean_5_I',\n",
        "       'mfcc_mean_6_I', 'mfcc_mean_7_I', 'mfcc_mean_9_I', 'mfcc_mean_11_I',\n",
        "       'mfcc_mean_12_I', 'mfcc_mean_13_I', 'f0_contour_mean_I', 'hnr_I',\n",
        "       'LPC_2_I', 'LPC_3_I', 'LPC_4_I', 'mfcc_mean_3_O', 'mfcc_mean_4_O',\n",
        "       'mfcc_mean_6_O', 'mfcc_mean_8_O', 'mfcc_mean_9_O', 'mfcc_mean_13_O',\n",
        "       'f0_contour_mean_O', 'f0_std_O', 'log_energy_O',\n",
        "       'loudness_slidingwindow_mean_O', 'mfcc_mean_2_U', 'mfcc_mean_3_U',\n",
        "       'mfcc_mean_5_U', 'mfcc_mean_6_U', 'mfcc_mean_7_U', 'mfcc_mean_8_U',\n",
        "       'mfcc_mean_10_U', 'mfcc_mean_11_U', 'hnr_U']]\n",
        "\n",
        "\n",
        "features_mfdfa_surfboard_test = features_test[['a_A','b_A','c_A','d_A','g_A','a_E','b_E','c_E','d_E','g_E','a_I','b_I','c_I','d_I','g_I','a_O','b_O','c_O','d_O','g_O','a_U','b_U','c_U','d_U','g_U',\n",
        "                                     'mfcc_mean_1_A', 'mfcc_mean_2_A', 'mfcc_mean_4_A', 'mfcc_mean_9_A',\n",
        "       'mfcc_mean_10_A', 'mfcc_mean_12_A', 'mfcc_mean_13_A',\n",
        "       'loudness_slidingwindow_mean_A', 'hnr_A', 'LPC_2_A', 'LPC_3_A',\n",
        "       'mfcc_mean_1_E', 'mfcc_mean_3_E', 'mfcc_mean_5_E', 'mfcc_mean_6_E',\n",
        "       'mfcc_mean_7_E', 'mfcc_mean_10_E', 'mfcc_mean_11_E', 'mfcc_mean_12_E',\n",
        "       'mfcc_mean_13_E', 'f0_contour_mean_E', 'f0_mean_E', 'hnr_E', 'LPC_2_E',\n",
        "       'LPC_3_E', 'mfcc_mean_1_I', 'mfcc_mean_3_I', 'mfcc_mean_5_I',\n",
        "       'mfcc_mean_6_I', 'mfcc_mean_7_I', 'mfcc_mean_9_I', 'mfcc_mean_11_I',\n",
        "       'mfcc_mean_12_I', 'mfcc_mean_13_I', 'f0_contour_mean_I', 'hnr_I',\n",
        "       'LPC_2_I', 'LPC_3_I', 'LPC_4_I', 'mfcc_mean_3_O', 'mfcc_mean_4_O',\n",
        "       'mfcc_mean_6_O', 'mfcc_mean_8_O', 'mfcc_mean_9_O', 'mfcc_mean_13_O',\n",
        "       'f0_contour_mean_O', 'f0_std_O', 'log_energy_O',\n",
        "       'loudness_slidingwindow_mean_O', 'mfcc_mean_2_U', 'mfcc_mean_3_U',\n",
        "       'mfcc_mean_5_U', 'mfcc_mean_6_U', 'mfcc_mean_7_U', 'mfcc_mean_8_U',\n",
        "       'mfcc_mean_10_U', 'mfcc_mean_11_U', 'hnr_U']]\n"
      ],
      "metadata": {
        "id": "P3YrQdZYSaUc"
      },
      "execution_count": null,
      "outputs": []
    },
    {
      "cell_type": "code",
      "source": [
        "features_mfdfa_surfboard_train.shape"
      ],
      "metadata": {
        "colab": {
          "base_uri": "https://localhost:8080/"
        },
        "id": "2TZmPaIYSd5t",
        "outputId": "73f0545a-a6f2-4dbb-8bd2-615d31141575"
      },
      "execution_count": null,
      "outputs": [
        {
          "output_type": "execute_result",
          "data": {
            "text/plain": [
              "(115, 83)"
            ]
          },
          "metadata": {},
          "execution_count": 86
        }
      ]
    },
    {
      "cell_type": "code",
      "source": [
        "features_mfdfa_surfboard_test.shape"
      ],
      "metadata": {
        "colab": {
          "base_uri": "https://localhost:8080/"
        },
        "id": "bcElFrK1cyIN",
        "outputId": "96cc585a-df4f-443f-f6bb-e37f19b4c982"
      },
      "execution_count": null,
      "outputs": [
        {
          "output_type": "execute_result",
          "data": {
            "text/plain": [
              "(300, 83)"
            ]
          },
          "metadata": {},
          "execution_count": 87
        }
      ]
    },
    {
      "cell_type": "code",
      "source": [
        "# Convert to numpy array\n",
        "features_mfdfa_surfboard_train = np.array(features_mfdfa_surfboard_train)\n",
        "features_mfdfa_surfboard_test = np.array(features_mfdfa_surfboard_test)"
      ],
      "metadata": {
        "id": "lS2GC1vuSd71"
      },
      "execution_count": null,
      "outputs": []
    },
    {
      "cell_type": "markdown",
      "source": [
        "# TabPFN"
      ],
      "metadata": {
        "id": "43Q1AbygisY6"
      }
    },
    {
      "cell_type": "markdown",
      "source": [
        "## Install and imports"
      ],
      "metadata": {
        "id": "U5n9bc4xVQoq"
      }
    },
    {
      "cell_type": "markdown",
      "source": [
        "**In order to get the fastest predictions you need to enable GPUs for the notebook:**\n",
        "* Navigate to Edit→Notebook Settings\n",
        "* select GPU from the Hardware Accelerator drop-down\n",
        "(https://colab.research.google.com/notebooks/gpu.ipynb#scrollTo=oM_8ELnJq_wd)"
      ],
      "metadata": {
        "id": "x1ScIqM1yzoK"
      }
    },
    {
      "cell_type": "code",
      "source": [
        "!pip install tabpfn"
      ],
      "metadata": {
        "colab": {
          "base_uri": "https://localhost:8080/"
        },
        "id": "mw_4F4RRTfrG",
        "outputId": "af2931ce-89c7-424a-ca52-d6603e5cfb12"
      },
      "execution_count": null,
      "outputs": [
        {
          "output_type": "stream",
          "name": "stdout",
          "text": [
            "Looking in indexes: https://pypi.org/simple, https://us-python.pkg.dev/colab-wheels/public/simple/\n",
            "Requirement already satisfied: tabpfn in /usr/local/lib/python3.8/dist-packages (0.1.8)\n",
            "Requirement already satisfied: requests>=2.23.0 in /usr/local/lib/python3.8/dist-packages (from tabpfn) (2.25.1)\n",
            "Requirement already satisfied: torch>=1.9.0 in /usr/local/lib/python3.8/dist-packages (from tabpfn) (1.13.1+cu116)\n",
            "Requirement already satisfied: pyyaml>=5.4.1 in /usr/local/lib/python3.8/dist-packages (from tabpfn) (6.0)\n",
            "Requirement already satisfied: scikit-learn>=0.24.2 in /usr/local/lib/python3.8/dist-packages (from tabpfn) (1.0.2)\n",
            "Requirement already satisfied: numpy>=1.21.2 in /usr/local/lib/python3.8/dist-packages (from tabpfn) (1.21.6)\n",
            "Requirement already satisfied: certifi>=2017.4.17 in /usr/local/lib/python3.8/dist-packages (from requests>=2.23.0->tabpfn) (2022.12.7)\n",
            "Requirement already satisfied: chardet<5,>=3.0.2 in /usr/local/lib/python3.8/dist-packages (from requests>=2.23.0->tabpfn) (4.0.0)\n",
            "Requirement already satisfied: idna<3,>=2.5 in /usr/local/lib/python3.8/dist-packages (from requests>=2.23.0->tabpfn) (2.10)\n",
            "Requirement already satisfied: urllib3<1.27,>=1.21.1 in /usr/local/lib/python3.8/dist-packages (from requests>=2.23.0->tabpfn) (1.24.3)\n",
            "Requirement already satisfied: scipy>=1.1.0 in /usr/local/lib/python3.8/dist-packages (from scikit-learn>=0.24.2->tabpfn) (1.7.3)\n",
            "Requirement already satisfied: joblib>=0.11 in /usr/local/lib/python3.8/dist-packages (from scikit-learn>=0.24.2->tabpfn) (1.2.0)\n",
            "Requirement already satisfied: threadpoolctl>=2.0.0 in /usr/local/lib/python3.8/dist-packages (from scikit-learn>=0.24.2->tabpfn) (3.1.0)\n",
            "Requirement already satisfied: typing-extensions in /usr/local/lib/python3.8/dist-packages (from torch>=1.9.0->tabpfn) (4.4.0)\n"
          ]
        }
      ]
    },
    {
      "cell_type": "code",
      "source": [
        "import sys\n",
        "from pathlib import Path\n",
        "import numpy as np\n",
        "import seaborn as sns\n",
        "import pandas as pd\n",
        "import torch\n",
        "import os\n",
        "import time\n",
        "import matplotlib.pyplot as plt\n",
        "from matplotlib.colors import ListedColormap\n",
        "from pathlib import Path\n",
        "\n",
        "from sklearn.metrics import accuracy_score\n",
        "from sklearn.metrics import confusion_matrix\n",
        "from sklearn.metrics import classification_report\n",
        "from sklearn.model_selection import train_test_split\n",
        "from sklearn.model_selection import StratifiedShuffleSplit\n",
        "from sklearn import metrics\n",
        "\n",
        "\n",
        "from tabpfn.scripts.transformer_prediction_interface import TabPFNClassifier\n",
        "from tabpfn.scripts.decision_boundary import DecisionBoundaryDisplay\n"
      ],
      "metadata": {
        "id": "iHX-lreLTfwb"
      },
      "execution_count": null,
      "outputs": []
    },
    {
      "cell_type": "markdown",
      "source": [
        "## Model - MFDFA"
      ],
      "metadata": {
        "id": "iic73Gy8XMs7"
      }
    },
    {
      "cell_type": "code",
      "source": [
        "X_train = features_mfdfa_train\n",
        "y_train = labels_train\n",
        "\n",
        "X_test = features_mfdfa_test\n",
        "y_test = labels_test"
      ],
      "metadata": {
        "id": "FskLdTiZV3tE"
      },
      "execution_count": null,
      "outputs": []
    },
    {
      "cell_type": "code",
      "source": [
        "# N_ensemble_configurations defines how many estimators are averaged, it is bounded by #features * #classes\n",
        "# more ensemble members are slower, but more accurate\n",
        "classifier = TabPFNClassifier(device='cuda', N_ensemble_configurations=4)"
      ],
      "metadata": {
        "colab": {
          "base_uri": "https://localhost:8080/"
        },
        "id": "bkiz21heWXCC",
        "outputId": "e6b1e939-906b-4b16-a1f0-d1152ec4cfcc"
      },
      "execution_count": null,
      "outputs": [
        {
          "output_type": "stream",
          "name": "stdout",
          "text": [
            "Loading model that can be used for inference only\n",
            "Using a Transformer with 25.82 M parameters\n"
          ]
        }
      ]
    },
    {
      "cell_type": "code",
      "source": [
        "start = time.time()\n",
        "classifier.fit(X_train, y_train)\n",
        "y_eval, p_eval = classifier.predict(X_test, return_winning_probability=True)\n",
        "print('Prediction time: ', time.time() - start, 'Accuracy', accuracy_score(y_test, y_eval))"
      ],
      "metadata": {
        "colab": {
          "base_uri": "https://localhost:8080/"
        },
        "id": "PD5N3pAPWaoK",
        "outputId": "fb0a0b9d-0595-4c66-cce3-4232bd4e19d7"
      },
      "execution_count": null,
      "outputs": [
        {
          "output_type": "stream",
          "name": "stdout",
          "text": [
            "Prediction time:  0.14830517768859863 Accuracy 0.7866666666666666\n"
          ]
        }
      ]
    },
    {
      "cell_type": "code",
      "source": [
        "# print(file, type(file))\n",
        "out_table = pd.DataFrame(X_test.copy().astype(str))\n",
        "out_table['prediction'] = [f\"{y_e} (p={p_e:.2f})\" for y_e, p_e in zip(y_eval, p_eval)]\n",
        "out_table"
      ],
      "metadata": {
        "colab": {
          "base_uri": "https://localhost:8080/",
          "height": 488
        },
        "id": "D5XO-oCUWaqj",
        "outputId": "14d97dbd-4de3-4edc-c132-9561c91d9f3a"
      },
      "execution_count": null,
      "outputs": [
        {
          "output_type": "execute_result",
          "data": {
            "text/plain": [
              "                       0                   1                   2  \\\n",
              "0     0.0051339063182085  2.7738037206208315  14.464413420127338   \n",
              "1     0.0042865757355585   2.786765988541607  12.529315421786071   \n",
              "2     0.0031579277459704   2.556352956590609   14.31037386446546   \n",
              "3    -0.0238486321365433  1.4254890800702087   40.73414359955652   \n",
              "4    -0.0052588526981833   1.808646560829982   44.46806305491359   \n",
              "..                   ...                 ...                 ...   \n",
              "295  -0.0029182776900182  1.3111637899124913   48384.99862708844   \n",
              "296  -0.0158261110808473  1.0348272457362402   158740.6742416085   \n",
              "297   0.0028029016579502   2.433086662739628   37.87305476506516   \n",
              "298   0.0003623591024375  1.6353354253876269   426.6298879774566   \n",
              "299   0.0009506288151619   1.869241263506084    73.6557079965424   \n",
              "\n",
              "                      3                   4                    5  \\\n",
              "0    0.2399512015481245  0.4389066457275611    0.008326330680683   \n",
              "1    0.2280757652208558  0.3632952362760365   0.0086973233243499   \n",
              "2    0.2375687305027609  0.3588977022172109   0.0097200433468615   \n",
              "3    0.5014338228891176  1.0563394486235165   0.0022808094627887   \n",
              "4    0.6778194164535868   1.073029812928206   0.0023802789797951   \n",
              "..                  ...                 ...                  ...   \n",
              "295  0.2760008641473552   3880.280787451253  -0.0037171109020383   \n",
              "296  0.3059594480259727  2476.3215919937315   0.0106789514189235   \n",
              "297  0.0896654921860025  0.4385585033339665   0.0016964830908982   \n",
              "298  0.1186579161569794  13.395817767513162   0.0004099466245648   \n",
              "299  0.0749971035107018  1.2272901914820933    0.000884957342647   \n",
              "\n",
              "                      6                   7                   8  \\\n",
              "0     2.786644264752733  37.006651090859854  0.3588256119855666   \n",
              "1     2.842494586749147   33.15719032292519  0.3247367458901946   \n",
              "2     3.256970977240187  27.910551383721195  0.3214022254659098   \n",
              "3     2.183829607158228   37.55432589245017  0.6046065114841584   \n",
              "4      2.21252239656022   40.70503972277128   0.588844166304823   \n",
              "..                  ...                 ...                 ...   \n",
              "295   1.725846031413468   41.72048616340959  0.3149352974361368   \n",
              "296  2.6154918529332223  30.762971631202596  0.4293026083875133   \n",
              "297   2.468749088961022  47.364169114455855  0.0927837375101495   \n",
              "298    1.95650451943331    96.4850042965493  0.1261032274494163   \n",
              "299  2.4264881924626645  47.027702130068015  0.0780328045366178   \n",
              "\n",
              "                      9  ...                  16                  17  \\\n",
              "0    1.1736816512787034  ...  2.5940776478881014  40.986575432093744   \n",
              "1    0.7249268580668224  ...   2.989899239348805    26.7580614020025   \n",
              "2    0.5666550565317904  ...  2.8490947649803933  29.995854717969404   \n",
              "3    0.7545688881613525  ...  2.0277784930721365   41.42219866050016   \n",
              "4    0.7603422249057855  ...   1.972105934048677   45.42687709240139   \n",
              "..                  ...  ...                 ...                 ...   \n",
              "295   0.988546825178337  ...  3.1285904684551493  22.981169835203257   \n",
              "296  0.6987544736283141  ...  3.1601948926223207  22.913558470691036   \n",
              "297  0.7323325995479325  ...    1.81739174307702   79.29522998387779   \n",
              "298  1.8457962012307816  ...   2.678408436793479   29.03109509474429   \n",
              "299  0.6772314534381715  ...   2.637035126960322   42.17149404947644   \n",
              "\n",
              "                     18                  19                  20  \\\n",
              "0     0.403692298977819   1.548062832263803  0.0010323674941697   \n",
              "1    0.3602786825884123  0.6154485266486779  0.0018732171103747   \n",
              "2    0.4191361585730248  0.8038912594018431  0.0019170457397734   \n",
              "3    0.4466406317013816  0.8300249983850402  0.0010051675139213   \n",
              "4    0.6041036771946583  0.8996400679672838  0.0045524064862288   \n",
              "..                  ...                 ...                 ...   \n",
              "295  0.4658920341555708  0.5239357426673756  0.0097137782312078   \n",
              "296  0.4732132900484105  0.5244918354529156  0.0095497880585586   \n",
              "297  0.1190115100990014   1.597768696141041  0.0004561887759339   \n",
              "298  0.0740921766999159  0.5339213376869947  0.0011210907307358   \n",
              "299  0.1842197835098389  0.4463754013880629  0.0021414400748074   \n",
              "\n",
              "                     21                  22                  23  \\\n",
              "0    2.1694254158734734   55.56837139940712  0.3304438742925414   \n",
              "1    2.2488211139095555   53.70978836198696   0.321121098950478   \n",
              "2     1.870073560496076    5973.67050385211  0.7454539976272172   \n",
              "3     2.140443856450412  63.683380490029045  0.4365364572791953   \n",
              "4     2.416168464194468     52.686013256186  0.6316567182598537   \n",
              "..                  ...                 ...                 ...   \n",
              "295   2.750495850981083   37.52523775024937  0.5510337097742756   \n",
              "296  2.6590030167192475   42.74075428573993  0.5838464391498801   \n",
              "297  2.1942680515648454   58.06183247926765  0.1166997741564144   \n",
              "298  2.6678117288347183   36.74677829242956  0.0871639389762495   \n",
              "299  2.6674762568229826   44.89404448325314  0.1949156353537818   \n",
              "\n",
              "                     24  prediction  \n",
              "0     1.378343593417244  0 (p=0.64)  \n",
              "1     1.117390283076111  0 (p=0.55)  \n",
              "2     4891.938249474916  1 (p=0.68)  \n",
              "3    1.0861341625728662  0 (p=0.94)  \n",
              "4    0.8538186272502247  0 (p=0.88)  \n",
              "..                  ...         ...  \n",
              "295  1.1023256833601764  1 (p=0.95)  \n",
              "296  1.4363698146729242  1 (p=0.75)  \n",
              "297  1.0338641150870294  1 (p=0.88)  \n",
              "298  0.6457397309874021  1 (p=0.93)  \n",
              "299  0.4927571560417763  1 (p=0.97)  \n",
              "\n",
              "[300 rows x 26 columns]"
            ],
            "text/html": [
              "\n",
              "  <div id=\"df-8efd9e39-7854-4dd7-a087-bc94bfd8c12f\">\n",
              "    <div class=\"colab-df-container\">\n",
              "      <div>\n",
              "<style scoped>\n",
              "    .dataframe tbody tr th:only-of-type {\n",
              "        vertical-align: middle;\n",
              "    }\n",
              "\n",
              "    .dataframe tbody tr th {\n",
              "        vertical-align: top;\n",
              "    }\n",
              "\n",
              "    .dataframe thead th {\n",
              "        text-align: right;\n",
              "    }\n",
              "</style>\n",
              "<table border=\"1\" class=\"dataframe\">\n",
              "  <thead>\n",
              "    <tr style=\"text-align: right;\">\n",
              "      <th></th>\n",
              "      <th>0</th>\n",
              "      <th>1</th>\n",
              "      <th>2</th>\n",
              "      <th>3</th>\n",
              "      <th>4</th>\n",
              "      <th>5</th>\n",
              "      <th>6</th>\n",
              "      <th>7</th>\n",
              "      <th>8</th>\n",
              "      <th>9</th>\n",
              "      <th>...</th>\n",
              "      <th>16</th>\n",
              "      <th>17</th>\n",
              "      <th>18</th>\n",
              "      <th>19</th>\n",
              "      <th>20</th>\n",
              "      <th>21</th>\n",
              "      <th>22</th>\n",
              "      <th>23</th>\n",
              "      <th>24</th>\n",
              "      <th>prediction</th>\n",
              "    </tr>\n",
              "  </thead>\n",
              "  <tbody>\n",
              "    <tr>\n",
              "      <th>0</th>\n",
              "      <td>0.0051339063182085</td>\n",
              "      <td>2.7738037206208315</td>\n",
              "      <td>14.464413420127338</td>\n",
              "      <td>0.2399512015481245</td>\n",
              "      <td>0.4389066457275611</td>\n",
              "      <td>0.008326330680683</td>\n",
              "      <td>2.786644264752733</td>\n",
              "      <td>37.006651090859854</td>\n",
              "      <td>0.3588256119855666</td>\n",
              "      <td>1.1736816512787034</td>\n",
              "      <td>...</td>\n",
              "      <td>2.5940776478881014</td>\n",
              "      <td>40.986575432093744</td>\n",
              "      <td>0.403692298977819</td>\n",
              "      <td>1.548062832263803</td>\n",
              "      <td>0.0010323674941697</td>\n",
              "      <td>2.1694254158734734</td>\n",
              "      <td>55.56837139940712</td>\n",
              "      <td>0.3304438742925414</td>\n",
              "      <td>1.378343593417244</td>\n",
              "      <td>0 (p=0.64)</td>\n",
              "    </tr>\n",
              "    <tr>\n",
              "      <th>1</th>\n",
              "      <td>0.0042865757355585</td>\n",
              "      <td>2.786765988541607</td>\n",
              "      <td>12.529315421786071</td>\n",
              "      <td>0.2280757652208558</td>\n",
              "      <td>0.3632952362760365</td>\n",
              "      <td>0.0086973233243499</td>\n",
              "      <td>2.842494586749147</td>\n",
              "      <td>33.15719032292519</td>\n",
              "      <td>0.3247367458901946</td>\n",
              "      <td>0.7249268580668224</td>\n",
              "      <td>...</td>\n",
              "      <td>2.989899239348805</td>\n",
              "      <td>26.7580614020025</td>\n",
              "      <td>0.3602786825884123</td>\n",
              "      <td>0.6154485266486779</td>\n",
              "      <td>0.0018732171103747</td>\n",
              "      <td>2.2488211139095555</td>\n",
              "      <td>53.70978836198696</td>\n",
              "      <td>0.321121098950478</td>\n",
              "      <td>1.117390283076111</td>\n",
              "      <td>0 (p=0.55)</td>\n",
              "    </tr>\n",
              "    <tr>\n",
              "      <th>2</th>\n",
              "      <td>0.0031579277459704</td>\n",
              "      <td>2.556352956590609</td>\n",
              "      <td>14.31037386446546</td>\n",
              "      <td>0.2375687305027609</td>\n",
              "      <td>0.3588977022172109</td>\n",
              "      <td>0.0097200433468615</td>\n",
              "      <td>3.256970977240187</td>\n",
              "      <td>27.910551383721195</td>\n",
              "      <td>0.3214022254659098</td>\n",
              "      <td>0.5666550565317904</td>\n",
              "      <td>...</td>\n",
              "      <td>2.8490947649803933</td>\n",
              "      <td>29.995854717969404</td>\n",
              "      <td>0.4191361585730248</td>\n",
              "      <td>0.8038912594018431</td>\n",
              "      <td>0.0019170457397734</td>\n",
              "      <td>1.870073560496076</td>\n",
              "      <td>5973.67050385211</td>\n",
              "      <td>0.7454539976272172</td>\n",
              "      <td>4891.938249474916</td>\n",
              "      <td>1 (p=0.68)</td>\n",
              "    </tr>\n",
              "    <tr>\n",
              "      <th>3</th>\n",
              "      <td>-0.0238486321365433</td>\n",
              "      <td>1.4254890800702087</td>\n",
              "      <td>40.73414359955652</td>\n",
              "      <td>0.5014338228891176</td>\n",
              "      <td>1.0563394486235165</td>\n",
              "      <td>0.0022808094627887</td>\n",
              "      <td>2.183829607158228</td>\n",
              "      <td>37.55432589245017</td>\n",
              "      <td>0.6046065114841584</td>\n",
              "      <td>0.7545688881613525</td>\n",
              "      <td>...</td>\n",
              "      <td>2.0277784930721365</td>\n",
              "      <td>41.42219866050016</td>\n",
              "      <td>0.4466406317013816</td>\n",
              "      <td>0.8300249983850402</td>\n",
              "      <td>0.0010051675139213</td>\n",
              "      <td>2.140443856450412</td>\n",
              "      <td>63.683380490029045</td>\n",
              "      <td>0.4365364572791953</td>\n",
              "      <td>1.0861341625728662</td>\n",
              "      <td>0 (p=0.94)</td>\n",
              "    </tr>\n",
              "    <tr>\n",
              "      <th>4</th>\n",
              "      <td>-0.0052588526981833</td>\n",
              "      <td>1.808646560829982</td>\n",
              "      <td>44.46806305491359</td>\n",
              "      <td>0.6778194164535868</td>\n",
              "      <td>1.073029812928206</td>\n",
              "      <td>0.0023802789797951</td>\n",
              "      <td>2.21252239656022</td>\n",
              "      <td>40.70503972277128</td>\n",
              "      <td>0.588844166304823</td>\n",
              "      <td>0.7603422249057855</td>\n",
              "      <td>...</td>\n",
              "      <td>1.972105934048677</td>\n",
              "      <td>45.42687709240139</td>\n",
              "      <td>0.6041036771946583</td>\n",
              "      <td>0.8996400679672838</td>\n",
              "      <td>0.0045524064862288</td>\n",
              "      <td>2.416168464194468</td>\n",
              "      <td>52.686013256186</td>\n",
              "      <td>0.6316567182598537</td>\n",
              "      <td>0.8538186272502247</td>\n",
              "      <td>0 (p=0.88)</td>\n",
              "    </tr>\n",
              "    <tr>\n",
              "      <th>...</th>\n",
              "      <td>...</td>\n",
              "      <td>...</td>\n",
              "      <td>...</td>\n",
              "      <td>...</td>\n",
              "      <td>...</td>\n",
              "      <td>...</td>\n",
              "      <td>...</td>\n",
              "      <td>...</td>\n",
              "      <td>...</td>\n",
              "      <td>...</td>\n",
              "      <td>...</td>\n",
              "      <td>...</td>\n",
              "      <td>...</td>\n",
              "      <td>...</td>\n",
              "      <td>...</td>\n",
              "      <td>...</td>\n",
              "      <td>...</td>\n",
              "      <td>...</td>\n",
              "      <td>...</td>\n",
              "      <td>...</td>\n",
              "      <td>...</td>\n",
              "    </tr>\n",
              "    <tr>\n",
              "      <th>295</th>\n",
              "      <td>-0.0029182776900182</td>\n",
              "      <td>1.3111637899124913</td>\n",
              "      <td>48384.99862708844</td>\n",
              "      <td>0.2760008641473552</td>\n",
              "      <td>3880.280787451253</td>\n",
              "      <td>-0.0037171109020383</td>\n",
              "      <td>1.725846031413468</td>\n",
              "      <td>41.72048616340959</td>\n",
              "      <td>0.3149352974361368</td>\n",
              "      <td>0.988546825178337</td>\n",
              "      <td>...</td>\n",
              "      <td>3.1285904684551493</td>\n",
              "      <td>22.981169835203257</td>\n",
              "      <td>0.4658920341555708</td>\n",
              "      <td>0.5239357426673756</td>\n",
              "      <td>0.0097137782312078</td>\n",
              "      <td>2.750495850981083</td>\n",
              "      <td>37.52523775024937</td>\n",
              "      <td>0.5510337097742756</td>\n",
              "      <td>1.1023256833601764</td>\n",
              "      <td>1 (p=0.95)</td>\n",
              "    </tr>\n",
              "    <tr>\n",
              "      <th>296</th>\n",
              "      <td>-0.0158261110808473</td>\n",
              "      <td>1.0348272457362402</td>\n",
              "      <td>158740.6742416085</td>\n",
              "      <td>0.3059594480259727</td>\n",
              "      <td>2476.3215919937315</td>\n",
              "      <td>0.0106789514189235</td>\n",
              "      <td>2.6154918529332223</td>\n",
              "      <td>30.762971631202596</td>\n",
              "      <td>0.4293026083875133</td>\n",
              "      <td>0.6987544736283141</td>\n",
              "      <td>...</td>\n",
              "      <td>3.1601948926223207</td>\n",
              "      <td>22.913558470691036</td>\n",
              "      <td>0.4732132900484105</td>\n",
              "      <td>0.5244918354529156</td>\n",
              "      <td>0.0095497880585586</td>\n",
              "      <td>2.6590030167192475</td>\n",
              "      <td>42.74075428573993</td>\n",
              "      <td>0.5838464391498801</td>\n",
              "      <td>1.4363698146729242</td>\n",
              "      <td>1 (p=0.75)</td>\n",
              "    </tr>\n",
              "    <tr>\n",
              "      <th>297</th>\n",
              "      <td>0.0028029016579502</td>\n",
              "      <td>2.433086662739628</td>\n",
              "      <td>37.87305476506516</td>\n",
              "      <td>0.0896654921860025</td>\n",
              "      <td>0.4385585033339665</td>\n",
              "      <td>0.0016964830908982</td>\n",
              "      <td>2.468749088961022</td>\n",
              "      <td>47.364169114455855</td>\n",
              "      <td>0.0927837375101495</td>\n",
              "      <td>0.7323325995479325</td>\n",
              "      <td>...</td>\n",
              "      <td>1.81739174307702</td>\n",
              "      <td>79.29522998387779</td>\n",
              "      <td>0.1190115100990014</td>\n",
              "      <td>1.597768696141041</td>\n",
              "      <td>0.0004561887759339</td>\n",
              "      <td>2.1942680515648454</td>\n",
              "      <td>58.06183247926765</td>\n",
              "      <td>0.1166997741564144</td>\n",
              "      <td>1.0338641150870294</td>\n",
              "      <td>1 (p=0.88)</td>\n",
              "    </tr>\n",
              "    <tr>\n",
              "      <th>298</th>\n",
              "      <td>0.0003623591024375</td>\n",
              "      <td>1.6353354253876269</td>\n",
              "      <td>426.6298879774566</td>\n",
              "      <td>0.1186579161569794</td>\n",
              "      <td>13.395817767513162</td>\n",
              "      <td>0.0004099466245648</td>\n",
              "      <td>1.95650451943331</td>\n",
              "      <td>96.4850042965493</td>\n",
              "      <td>0.1261032274494163</td>\n",
              "      <td>1.8457962012307816</td>\n",
              "      <td>...</td>\n",
              "      <td>2.678408436793479</td>\n",
              "      <td>29.03109509474429</td>\n",
              "      <td>0.0740921766999159</td>\n",
              "      <td>0.5339213376869947</td>\n",
              "      <td>0.0011210907307358</td>\n",
              "      <td>2.6678117288347183</td>\n",
              "      <td>36.74677829242956</td>\n",
              "      <td>0.0871639389762495</td>\n",
              "      <td>0.6457397309874021</td>\n",
              "      <td>1 (p=0.93)</td>\n",
              "    </tr>\n",
              "    <tr>\n",
              "      <th>299</th>\n",
              "      <td>0.0009506288151619</td>\n",
              "      <td>1.869241263506084</td>\n",
              "      <td>73.6557079965424</td>\n",
              "      <td>0.0749971035107018</td>\n",
              "      <td>1.2272901914820933</td>\n",
              "      <td>0.000884957342647</td>\n",
              "      <td>2.4264881924626645</td>\n",
              "      <td>47.027702130068015</td>\n",
              "      <td>0.0780328045366178</td>\n",
              "      <td>0.6772314534381715</td>\n",
              "      <td>...</td>\n",
              "      <td>2.637035126960322</td>\n",
              "      <td>42.17149404947644</td>\n",
              "      <td>0.1842197835098389</td>\n",
              "      <td>0.4463754013880629</td>\n",
              "      <td>0.0021414400748074</td>\n",
              "      <td>2.6674762568229826</td>\n",
              "      <td>44.89404448325314</td>\n",
              "      <td>0.1949156353537818</td>\n",
              "      <td>0.4927571560417763</td>\n",
              "      <td>1 (p=0.97)</td>\n",
              "    </tr>\n",
              "  </tbody>\n",
              "</table>\n",
              "<p>300 rows × 26 columns</p>\n",
              "</div>\n",
              "      <button class=\"colab-df-convert\" onclick=\"convertToInteractive('df-8efd9e39-7854-4dd7-a087-bc94bfd8c12f')\"\n",
              "              title=\"Convert this dataframe to an interactive table.\"\n",
              "              style=\"display:none;\">\n",
              "        \n",
              "  <svg xmlns=\"http://www.w3.org/2000/svg\" height=\"24px\"viewBox=\"0 0 24 24\"\n",
              "       width=\"24px\">\n",
              "    <path d=\"M0 0h24v24H0V0z\" fill=\"none\"/>\n",
              "    <path d=\"M18.56 5.44l.94 2.06.94-2.06 2.06-.94-2.06-.94-.94-2.06-.94 2.06-2.06.94zm-11 1L8.5 8.5l.94-2.06 2.06-.94-2.06-.94L8.5 2.5l-.94 2.06-2.06.94zm10 10l.94 2.06.94-2.06 2.06-.94-2.06-.94-.94-2.06-.94 2.06-2.06.94z\"/><path d=\"M17.41 7.96l-1.37-1.37c-.4-.4-.92-.59-1.43-.59-.52 0-1.04.2-1.43.59L10.3 9.45l-7.72 7.72c-.78.78-.78 2.05 0 2.83L4 21.41c.39.39.9.59 1.41.59.51 0 1.02-.2 1.41-.59l7.78-7.78 2.81-2.81c.8-.78.8-2.07 0-2.86zM5.41 20L4 18.59l7.72-7.72 1.47 1.35L5.41 20z\"/>\n",
              "  </svg>\n",
              "      </button>\n",
              "      \n",
              "  <style>\n",
              "    .colab-df-container {\n",
              "      display:flex;\n",
              "      flex-wrap:wrap;\n",
              "      gap: 12px;\n",
              "    }\n",
              "\n",
              "    .colab-df-convert {\n",
              "      background-color: #E8F0FE;\n",
              "      border: none;\n",
              "      border-radius: 50%;\n",
              "      cursor: pointer;\n",
              "      display: none;\n",
              "      fill: #1967D2;\n",
              "      height: 32px;\n",
              "      padding: 0 0 0 0;\n",
              "      width: 32px;\n",
              "    }\n",
              "\n",
              "    .colab-df-convert:hover {\n",
              "      background-color: #E2EBFA;\n",
              "      box-shadow: 0px 1px 2px rgba(60, 64, 67, 0.3), 0px 1px 3px 1px rgba(60, 64, 67, 0.15);\n",
              "      fill: #174EA6;\n",
              "    }\n",
              "\n",
              "    [theme=dark] .colab-df-convert {\n",
              "      background-color: #3B4455;\n",
              "      fill: #D2E3FC;\n",
              "    }\n",
              "\n",
              "    [theme=dark] .colab-df-convert:hover {\n",
              "      background-color: #434B5C;\n",
              "      box-shadow: 0px 1px 3px 1px rgba(0, 0, 0, 0.15);\n",
              "      filter: drop-shadow(0px 1px 2px rgba(0, 0, 0, 0.3));\n",
              "      fill: #FFFFFF;\n",
              "    }\n",
              "  </style>\n",
              "\n",
              "      <script>\n",
              "        const buttonEl =\n",
              "          document.querySelector('#df-8efd9e39-7854-4dd7-a087-bc94bfd8c12f button.colab-df-convert');\n",
              "        buttonEl.style.display =\n",
              "          google.colab.kernel.accessAllowed ? 'block' : 'none';\n",
              "\n",
              "        async function convertToInteractive(key) {\n",
              "          const element = document.querySelector('#df-8efd9e39-7854-4dd7-a087-bc94bfd8c12f');\n",
              "          const dataTable =\n",
              "            await google.colab.kernel.invokeFunction('convertToInteractive',\n",
              "                                                     [key], {});\n",
              "          if (!dataTable) return;\n",
              "\n",
              "          const docLinkHtml = 'Like what you see? Visit the ' +\n",
              "            '<a target=\"_blank\" href=https://colab.research.google.com/notebooks/data_table.ipynb>data table notebook</a>'\n",
              "            + ' to learn more about interactive tables.';\n",
              "          element.innerHTML = '';\n",
              "          dataTable['output_type'] = 'display_data';\n",
              "          await google.colab.output.renderOutput(dataTable, element);\n",
              "          const docLink = document.createElement('div');\n",
              "          docLink.innerHTML = docLinkHtml;\n",
              "          element.appendChild(docLink);\n",
              "        }\n",
              "      </script>\n",
              "    </div>\n",
              "  </div>\n",
              "  "
            ]
          },
          "metadata": {},
          "execution_count": 94
        }
      ]
    },
    {
      "cell_type": "code",
      "source": [
        "# PLOTTING\n",
        "fig = plt.figure(figsize=(10,10))\n",
        "ax = fig.add_subplot(111)\n",
        "cm = plt.cm.RdBu\n",
        "cm_bright = ListedColormap([\"#FF0000\", \"#0000FF\"])\n",
        "\n",
        "# Plot the training points\n",
        "vfunc = np.vectorize(lambda x : np.where(classifier.classes_ == x)[0])\n",
        "y_train_index = vfunc(y_train)\n",
        "y_train_index = y_train_index == 0\n",
        "\n",
        "ax.scatter(X_train[:, 0], X_train[:, 1], c=y_train_index, cmap=cm_bright)\n",
        "\n",
        "classifier.fit(X_train[:, 0:2], y_train_index)\n",
        "\n",
        "DecisionBoundaryDisplay.from_estimator(\n",
        "    classifier, X_train[:, 0:2], alpha=0.6, ax=ax, eps=2.0, grid_resolution=25, response_method=\"predict_proba\"\n",
        ")"
      ],
      "metadata": {
        "colab": {
          "base_uri": "https://localhost:8080/",
          "height": 609
        },
        "id": "C4JFs87dWatJ",
        "outputId": "0f8cd683-8b57-433c-8f60-6fc869997a57"
      },
      "execution_count": null,
      "outputs": [
        {
          "output_type": "execute_result",
          "data": {
            "text/plain": [
              "<tabpfn.scripts.decision_boundary.DecisionBoundaryDisplay at 0x7ff531c1afa0>"
            ]
          },
          "metadata": {},
          "execution_count": 95
        },
        {
          "output_type": "display_data",
          "data": {
            "text/plain": [
              "<Figure size 720x720 with 1 Axes>"
            ],
            "image/png": "[encoded data removed]"
          },
          "metadata": {
            "needs_background": "light"
          }
        }
      ]
    },
    {
      "cell_type": "markdown",
      "source": [
        "ROC Curve"
      ],
      "metadata": {
        "id": "38DDT5bX6cno"
      }
    },
    {
      "cell_type": "code",
      "source": [
        "fpr_mfdfa, tpr_mfdfa, _ = metrics.roc_curve(y_eval,  p_eval)\n",
        "\n",
        "\n"
      ],
      "metadata": {
        "id": "0boBWL13IIPE"
      },
      "execution_count": null,
      "outputs": []
    },
    {
      "cell_type": "code",
      "source": [],
      "metadata": {
        "id": "7g3cnAnqIIW7"
      },
      "execution_count": null,
      "outputs": []
    },
    {
      "cell_type": "code",
      "source": [],
      "metadata": {
        "id": "10CKDFYDIIZa"
      },
      "execution_count": null,
      "outputs": []
    },
    {
      "cell_type": "code",
      "source": [],
      "metadata": {
        "id": "_XIRAQYxIIbq"
      },
      "execution_count": null,
      "outputs": []
    },
    {
      "cell_type": "code",
      "source": [],
      "metadata": {
        "id": "EoruhR3cIIeI"
      },
      "execution_count": null,
      "outputs": []
    },
    {
      "cell_type": "markdown",
      "source": [
        "## Model - SURFBOARD"
      ],
      "metadata": {
        "id": "Vz7r5qkTYy5w"
      }
    },
    {
      "cell_type": "code",
      "source": [
        "X_train = features_surfboard_train\n",
        "y_train = labels_train\n",
        "\n",
        "X_test = features_surfboard_test\n",
        "y_test = labels_test"
      ],
      "metadata": {
        "id": "_0cGeHHHYy5w"
      },
      "execution_count": null,
      "outputs": []
    },
    {
      "cell_type": "code",
      "source": [
        "# N_ensemble_configurations defines how many estimators are averaged, it is bounded by #features * #classes\n",
        "# more ensemble members are slower, but more accurate\n",
        "classifier = TabPFNClassifier(device='cuda', N_ensemble_configurations=4)"
      ],
      "metadata": {
        "colab": {
          "base_uri": "https://localhost:8080/"
        },
        "outputId": "8c4c03dd-58c8-4d0e-aab5-14daa0e8805f",
        "id": "d4cspyFBYy5x"
      },
      "execution_count": null,
      "outputs": [
        {
          "output_type": "stream",
          "name": "stdout",
          "text": [
            "Loading model that can be used for inference only\n",
            "Using a Transformer with 25.82 M parameters\n"
          ]
        }
      ]
    },
    {
      "cell_type": "code",
      "source": [
        "start = time.time()\n",
        "classifier.fit(X_train, y_train)\n",
        "y_eval, p_eval = classifier.predict(X_test, return_winning_probability=True)\n",
        "print('Prediction time: ', time.time() - start, 'Accuracy', accuracy_score(y_test, y_eval))"
      ],
      "metadata": {
        "colab": {
          "base_uri": "https://localhost:8080/"
        },
        "outputId": "556f1df5-6751-455b-c8c1-bba52642dfc8",
        "id": "-Co_hTRaYy5x"
      },
      "execution_count": null,
      "outputs": [
        {
          "output_type": "stream",
          "name": "stdout",
          "text": [
            "Prediction time:  0.3167729377746582 Accuracy 0.8433333333333334\n"
          ]
        }
      ]
    },
    {
      "cell_type": "code",
      "source": [
        "# print(file, type(file))\n",
        "out_table = pd.DataFrame(X_test.copy().astype(str))\n",
        "out_table['prediction'] = [f\"{y_e} (p={p_e:.2f})\" for y_e, p_e in zip(y_eval, p_eval)]\n",
        "out_table"
      ],
      "metadata": {
        "colab": {
          "base_uri": "https://localhost:8080/",
          "height": 488
        },
        "outputId": "5ad54436-04b3-46eb-9fbb-0b4fc7e211fa",
        "id": "H9xlFIJqYy5x"
      },
      "execution_count": null,
      "outputs": [
        {
          "output_type": "execute_result",
          "data": {
            "text/plain": [
              "              0          1            2           3           4           5  \\\n",
              "0    -372.61896  170.53824   -27.997536  -2.7577977  -17.110922    7.694843   \n",
              "1     -394.3889  165.66505   -20.874956   1.7165015  -14.758257   5.7976418   \n",
              "2    -399.75906  167.53125   -22.071875   10.703189  -22.815685   10.695197   \n",
              "3    -319.91913  231.11157   -21.140722   11.200557   7.5587273   6.5151987   \n",
              "4    -335.42596  244.65614   -16.412966  -5.7742476    9.249897  -10.460424   \n",
              "..          ...        ...          ...         ...         ...         ...   \n",
              "295   -405.6846  176.21242   -14.332948   -9.258759  -10.400782   12.971344   \n",
              "296  -399.94348  185.92459  -14.4737625  -4.9578276  -15.723853     6.05538   \n",
              "297  -493.19394   160.3716   -26.158154   12.035554  -7.5494676   15.630843   \n",
              "298  -502.59683  151.51036    -7.863246    9.201672     8.20284  -0.2853807   \n",
              "299  -522.57654  148.52583   -12.170433   16.271574    5.858049   4.1857586   \n",
              "\n",
              "                6                    7                   8           9  ...  \\\n",
              "0      -2.5611436   -26.97075265934598  22.314400093855983   1.4725984  ...   \n",
              "1      -1.4570341   -26.52623791686028  19.567726129265388   1.4143746  ...   \n",
              "2      -6.3392406   -27.59173374979032   19.65015138632784   1.2628361  ...   \n",
              "3       -9.809328   -27.02354333670032  13.708716428039386    1.373818  ...   \n",
              "4       -14.33936  -24.288309257374195  13.456280266271072   1.2222118  ...   \n",
              "..            ...                  ...                 ...         ...  ...   \n",
              "295   -0.27288505  -34.897389386536595  12.888005055731108   0.7262257  ...   \n",
              "296    -0.2889898   -32.20949138725986  16.560675209000472  0.81717867  ...   \n",
              "297    -14.410075   -43.97928041384559  15.174332433738009   1.0446548  ...   \n",
              "298  0.0011345921  -42.938126543107366   17.28111398641738   1.0176905  ...   \n",
              "299     -7.458937  -46.095296198189615  15.778838438969858   0.9718597  ...   \n",
              "\n",
              "            49         50         51           52          53           54  \\\n",
              "0    138.99689  63.262894  1.0161364    -12.90854  -28.236895   -1.9515796   \n",
              "1     145.3029   63.81268  4.0167556   -13.247813  -28.876928  -0.37581357   \n",
              "2    152.82129  61.418854  3.2919927   -11.224258  -40.076305   -12.155783   \n",
              "3    197.65031   68.04728  22.730877      1.68572  -12.850858   -25.414022   \n",
              "4    210.28244   62.47197  25.717434  -0.11636922  -9.6103115    -31.44106   \n",
              "..         ...        ...        ...          ...         ...          ...   \n",
              "295  165.45892   23.40767   6.546531  -0.40073064  -23.561184   -10.592421   \n",
              "296  164.59648  25.796793   5.922304  -0.25786418   -25.64801   -11.110993   \n",
              "297   138.0894  43.482773  19.198608    -6.339644  -25.324394    -8.972882   \n",
              "298  135.70375  41.050583   18.42277    -7.425008  -30.389822   -15.904258   \n",
              "299  144.80267  58.092834  15.530421   -2.5734544  -18.875525   -10.159262   \n",
              "\n",
              "             55          56                  57  prediction  \n",
              "0    -8.7532625  -5.9020214   25.69062954071532  1 (p=0.62)  \n",
              "1    -13.794442   -9.085274   23.84213834844807  1 (p=0.88)  \n",
              "2    -22.643847   -7.754123  31.139092350242336  1 (p=0.61)  \n",
              "3     14.432078   -5.155231  16.921560641452782  0 (p=0.92)  \n",
              "4     16.505722  -13.440844   9.182764743242757  0 (p=0.97)  \n",
              "..          ...         ...                 ...         ...  \n",
              "295  -30.542982  -19.785353    23.3672211679808  1 (p=0.97)  \n",
              "296  -31.377438  -20.265713  24.069607268674417  0 (p=0.56)  \n",
              "297   -5.006924  -2.3719783   24.66133988433528  1 (p=0.97)  \n",
              "298  -7.9958553    -7.97734   23.17954273364443  1 (p=0.96)  \n",
              "299   -4.148975  -3.5894225  24.411325180428303  1 (p=0.98)  \n",
              "\n",
              "[300 rows x 59 columns]"
            ],
            "text/html": [
              "\n",
              "  <div id=\"df-c3150751-3077-41a5-ba0b-1da669cae542\">\n",
              "    <div class=\"colab-df-container\">\n",
              "      <div>\n",
              "<style scoped>\n",
              "    .dataframe tbody tr th:only-of-type {\n",
              "        vertical-align: middle;\n",
              "    }\n",
              "\n",
              "    .dataframe tbody tr th {\n",
              "        vertical-align: top;\n",
              "    }\n",
              "\n",
              "    .dataframe thead th {\n",
              "        text-align: right;\n",
              "    }\n",
              "</style>\n",
              "<table border=\"1\" class=\"dataframe\">\n",
              "  <thead>\n",
              "    <tr style=\"text-align: right;\">\n",
              "      <th></th>\n",
              "      <th>0</th>\n",
              "      <th>1</th>\n",
              "      <th>2</th>\n",
              "      <th>3</th>\n",
              "      <th>4</th>\n",
              "      <th>5</th>\n",
              "      <th>6</th>\n",
              "      <th>7</th>\n",
              "      <th>8</th>\n",
              "      <th>9</th>\n",
              "      <th>...</th>\n",
              "      <th>49</th>\n",
              "      <th>50</th>\n",
              "      <th>51</th>\n",
              "      <th>52</th>\n",
              "      <th>53</th>\n",
              "      <th>54</th>\n",
              "      <th>55</th>\n",
              "      <th>56</th>\n",
              "      <th>57</th>\n",
              "      <th>prediction</th>\n",
              "    </tr>\n",
              "  </thead>\n",
              "  <tbody>\n",
              "    <tr>\n",
              "      <th>0</th>\n",
              "      <td>-372.61896</td>\n",
              "      <td>170.53824</td>\n",
              "      <td>-27.997536</td>\n",
              "      <td>-2.7577977</td>\n",
              "      <td>-17.110922</td>\n",
              "      <td>7.694843</td>\n",
              "      <td>-2.5611436</td>\n",
              "      <td>-26.97075265934598</td>\n",
              "      <td>22.314400093855983</td>\n",
              "      <td>1.4725984</td>\n",
              "      <td>...</td>\n",
              "      <td>138.99689</td>\n",
              "      <td>63.262894</td>\n",
              "      <td>1.0161364</td>\n",
              "      <td>-12.90854</td>\n",
              "      <td>-28.236895</td>\n",
              "      <td>-1.9515796</td>\n",
              "      <td>-8.7532625</td>\n",
              "      <td>-5.9020214</td>\n",
              "      <td>25.69062954071532</td>\n",
              "      <td>1 (p=0.62)</td>\n",
              "    </tr>\n",
              "    <tr>\n",
              "      <th>1</th>\n",
              "      <td>-394.3889</td>\n",
              "      <td>165.66505</td>\n",
              "      <td>-20.874956</td>\n",
              "      <td>1.7165015</td>\n",
              "      <td>-14.758257</td>\n",
              "      <td>5.7976418</td>\n",
              "      <td>-1.4570341</td>\n",
              "      <td>-26.52623791686028</td>\n",
              "      <td>19.567726129265388</td>\n",
              "      <td>1.4143746</td>\n",
              "      <td>...</td>\n",
              "      <td>145.3029</td>\n",
              "      <td>63.81268</td>\n",
              "      <td>4.0167556</td>\n",
              "      <td>-13.247813</td>\n",
              "      <td>-28.876928</td>\n",
              "      <td>-0.37581357</td>\n",
              "      <td>-13.794442</td>\n",
              "      <td>-9.085274</td>\n",
              "      <td>23.84213834844807</td>\n",
              "      <td>1 (p=0.88)</td>\n",
              "    </tr>\n",
              "    <tr>\n",
              "      <th>2</th>\n",
              "      <td>-399.75906</td>\n",
              "      <td>167.53125</td>\n",
              "      <td>-22.071875</td>\n",
              "      <td>10.703189</td>\n",
              "      <td>-22.815685</td>\n",
              "      <td>10.695197</td>\n",
              "      <td>-6.3392406</td>\n",
              "      <td>-27.59173374979032</td>\n",
              "      <td>19.65015138632784</td>\n",
              "      <td>1.2628361</td>\n",
              "      <td>...</td>\n",
              "      <td>152.82129</td>\n",
              "      <td>61.418854</td>\n",
              "      <td>3.2919927</td>\n",
              "      <td>-11.224258</td>\n",
              "      <td>-40.076305</td>\n",
              "      <td>-12.155783</td>\n",
              "      <td>-22.643847</td>\n",
              "      <td>-7.754123</td>\n",
              "      <td>31.139092350242336</td>\n",
              "      <td>1 (p=0.61)</td>\n",
              "    </tr>\n",
              "    <tr>\n",
              "      <th>3</th>\n",
              "      <td>-319.91913</td>\n",
              "      <td>231.11157</td>\n",
              "      <td>-21.140722</td>\n",
              "      <td>11.200557</td>\n",
              "      <td>7.5587273</td>\n",
              "      <td>6.5151987</td>\n",
              "      <td>-9.809328</td>\n",
              "      <td>-27.02354333670032</td>\n",
              "      <td>13.708716428039386</td>\n",
              "      <td>1.373818</td>\n",
              "      <td>...</td>\n",
              "      <td>197.65031</td>\n",
              "      <td>68.04728</td>\n",
              "      <td>22.730877</td>\n",
              "      <td>1.68572</td>\n",
              "      <td>-12.850858</td>\n",
              "      <td>-25.414022</td>\n",
              "      <td>14.432078</td>\n",
              "      <td>-5.155231</td>\n",
              "      <td>16.921560641452782</td>\n",
              "      <td>0 (p=0.92)</td>\n",
              "    </tr>\n",
              "    <tr>\n",
              "      <th>4</th>\n",
              "      <td>-335.42596</td>\n",
              "      <td>244.65614</td>\n",
              "      <td>-16.412966</td>\n",
              "      <td>-5.7742476</td>\n",
              "      <td>9.249897</td>\n",
              "      <td>-10.460424</td>\n",
              "      <td>-14.33936</td>\n",
              "      <td>-24.288309257374195</td>\n",
              "      <td>13.456280266271072</td>\n",
              "      <td>1.2222118</td>\n",
              "      <td>...</td>\n",
              "      <td>210.28244</td>\n",
              "      <td>62.47197</td>\n",
              "      <td>25.717434</td>\n",
              "      <td>-0.11636922</td>\n",
              "      <td>-9.6103115</td>\n",
              "      <td>-31.44106</td>\n",
              "      <td>16.505722</td>\n",
              "      <td>-13.440844</td>\n",
              "      <td>9.182764743242757</td>\n",
              "      <td>0 (p=0.97)</td>\n",
              "    </tr>\n",
              "    <tr>\n",
              "      <th>...</th>\n",
              "      <td>...</td>\n",
              "      <td>...</td>\n",
              "      <td>...</td>\n",
              "      <td>...</td>\n",
              "      <td>...</td>\n",
              "      <td>...</td>\n",
              "      <td>...</td>\n",
              "      <td>...</td>\n",
              "      <td>...</td>\n",
              "      <td>...</td>\n",
              "      <td>...</td>\n",
              "      <td>...</td>\n",
              "      <td>...</td>\n",
              "      <td>...</td>\n",
              "      <td>...</td>\n",
              "      <td>...</td>\n",
              "      <td>...</td>\n",
              "      <td>...</td>\n",
              "      <td>...</td>\n",
              "      <td>...</td>\n",
              "      <td>...</td>\n",
              "    </tr>\n",
              "    <tr>\n",
              "      <th>295</th>\n",
              "      <td>-405.6846</td>\n",
              "      <td>176.21242</td>\n",
              "      <td>-14.332948</td>\n",
              "      <td>-9.258759</td>\n",
              "      <td>-10.400782</td>\n",
              "      <td>12.971344</td>\n",
              "      <td>-0.27288505</td>\n",
              "      <td>-34.897389386536595</td>\n",
              "      <td>12.888005055731108</td>\n",
              "      <td>0.7262257</td>\n",
              "      <td>...</td>\n",
              "      <td>165.45892</td>\n",
              "      <td>23.40767</td>\n",
              "      <td>6.546531</td>\n",
              "      <td>-0.40073064</td>\n",
              "      <td>-23.561184</td>\n",
              "      <td>-10.592421</td>\n",
              "      <td>-30.542982</td>\n",
              "      <td>-19.785353</td>\n",
              "      <td>23.3672211679808</td>\n",
              "      <td>1 (p=0.97)</td>\n",
              "    </tr>\n",
              "    <tr>\n",
              "      <th>296</th>\n",
              "      <td>-399.94348</td>\n",
              "      <td>185.92459</td>\n",
              "      <td>-14.4737625</td>\n",
              "      <td>-4.9578276</td>\n",
              "      <td>-15.723853</td>\n",
              "      <td>6.05538</td>\n",
              "      <td>-0.2889898</td>\n",
              "      <td>-32.20949138725986</td>\n",
              "      <td>16.560675209000472</td>\n",
              "      <td>0.81717867</td>\n",
              "      <td>...</td>\n",
              "      <td>164.59648</td>\n",
              "      <td>25.796793</td>\n",
              "      <td>5.922304</td>\n",
              "      <td>-0.25786418</td>\n",
              "      <td>-25.64801</td>\n",
              "      <td>-11.110993</td>\n",
              "      <td>-31.377438</td>\n",
              "      <td>-20.265713</td>\n",
              "      <td>24.069607268674417</td>\n",
              "      <td>0 (p=0.56)</td>\n",
              "    </tr>\n",
              "    <tr>\n",
              "      <th>297</th>\n",
              "      <td>-493.19394</td>\n",
              "      <td>160.3716</td>\n",
              "      <td>-26.158154</td>\n",
              "      <td>12.035554</td>\n",
              "      <td>-7.5494676</td>\n",
              "      <td>15.630843</td>\n",
              "      <td>-14.410075</td>\n",
              "      <td>-43.97928041384559</td>\n",
              "      <td>15.174332433738009</td>\n",
              "      <td>1.0446548</td>\n",
              "      <td>...</td>\n",
              "      <td>138.0894</td>\n",
              "      <td>43.482773</td>\n",
              "      <td>19.198608</td>\n",
              "      <td>-6.339644</td>\n",
              "      <td>-25.324394</td>\n",
              "      <td>-8.972882</td>\n",
              "      <td>-5.006924</td>\n",
              "      <td>-2.3719783</td>\n",
              "      <td>24.66133988433528</td>\n",
              "      <td>1 (p=0.97)</td>\n",
              "    </tr>\n",
              "    <tr>\n",
              "      <th>298</th>\n",
              "      <td>-502.59683</td>\n",
              "      <td>151.51036</td>\n",
              "      <td>-7.863246</td>\n",
              "      <td>9.201672</td>\n",
              "      <td>8.20284</td>\n",
              "      <td>-0.2853807</td>\n",
              "      <td>0.0011345921</td>\n",
              "      <td>-42.938126543107366</td>\n",
              "      <td>17.28111398641738</td>\n",
              "      <td>1.0176905</td>\n",
              "      <td>...</td>\n",
              "      <td>135.70375</td>\n",
              "      <td>41.050583</td>\n",
              "      <td>18.42277</td>\n",
              "      <td>-7.425008</td>\n",
              "      <td>-30.389822</td>\n",
              "      <td>-15.904258</td>\n",
              "      <td>-7.9958553</td>\n",
              "      <td>-7.97734</td>\n",
              "      <td>23.17954273364443</td>\n",
              "      <td>1 (p=0.96)</td>\n",
              "    </tr>\n",
              "    <tr>\n",
              "      <th>299</th>\n",
              "      <td>-522.57654</td>\n",
              "      <td>148.52583</td>\n",
              "      <td>-12.170433</td>\n",
              "      <td>16.271574</td>\n",
              "      <td>5.858049</td>\n",
              "      <td>4.1857586</td>\n",
              "      <td>-7.458937</td>\n",
              "      <td>-46.095296198189615</td>\n",
              "      <td>15.778838438969858</td>\n",
              "      <td>0.9718597</td>\n",
              "      <td>...</td>\n",
              "      <td>144.80267</td>\n",
              "      <td>58.092834</td>\n",
              "      <td>15.530421</td>\n",
              "      <td>-2.5734544</td>\n",
              "      <td>-18.875525</td>\n",
              "      <td>-10.159262</td>\n",
              "      <td>-4.148975</td>\n",
              "      <td>-3.5894225</td>\n",
              "      <td>24.411325180428303</td>\n",
              "      <td>1 (p=0.98)</td>\n",
              "    </tr>\n",
              "  </tbody>\n",
              "</table>\n",
              "<p>300 rows × 59 columns</p>\n",
              "</div>\n",
              "      <button class=\"colab-df-convert\" onclick=\"convertToInteractive('df-c3150751-3077-41a5-ba0b-1da669cae542')\"\n",
              "              title=\"Convert this dataframe to an interactive table.\"\n",
              "              style=\"display:none;\">\n",
              "        \n",
              "  <svg xmlns=\"http://www.w3.org/2000/svg\" height=\"24px\"viewBox=\"0 0 24 24\"\n",
              "       width=\"24px\">\n",
              "    <path d=\"M0 0h24v24H0V0z\" fill=\"none\"/>\n",
              "    <path d=\"M18.56 5.44l.94 2.06.94-2.06 2.06-.94-2.06-.94-.94-2.06-.94 2.06-2.06.94zm-11 1L8.5 8.5l.94-2.06 2.06-.94-2.06-.94L8.5 2.5l-.94 2.06-2.06.94zm10 10l.94 2.06.94-2.06 2.06-.94-2.06-.94-.94-2.06-.94 2.06-2.06.94z\"/><path d=\"M17.41 7.96l-1.37-1.37c-.4-.4-.92-.59-1.43-.59-.52 0-1.04.2-1.43.59L10.3 9.45l-7.72 7.72c-.78.78-.78 2.05 0 2.83L4 21.41c.39.39.9.59 1.41.59.51 0 1.02-.2 1.41-.59l7.78-7.78 2.81-2.81c.8-.78.8-2.07 0-2.86zM5.41 20L4 18.59l7.72-7.72 1.47 1.35L5.41 20z\"/>\n",
              "  </svg>\n",
              "      </button>\n",
              "      \n",
              "  <style>\n",
              "    .colab-df-container {\n",
              "      display:flex;\n",
              "      flex-wrap:wrap;\n",
              "      gap: 12px;\n",
              "    }\n",
              "\n",
              "    .colab-df-convert {\n",
              "      background-color: #E8F0FE;\n",
              "      border: none;\n",
              "      border-radius: 50%;\n",
              "      cursor: pointer;\n",
              "      display: none;\n",
              "      fill: #1967D2;\n",
              "      height: 32px;\n",
              "      padding: 0 0 0 0;\n",
              "      width: 32px;\n",
              "    }\n",
              "\n",
              "    .colab-df-convert:hover {\n",
              "      background-color: #E2EBFA;\n",
              "      box-shadow: 0px 1px 2px rgba(60, 64, 67, 0.3), 0px 1px 3px 1px rgba(60, 64, 67, 0.15);\n",
              "      fill: #174EA6;\n",
              "    }\n",
              "\n",
              "    [theme=dark] .colab-df-convert {\n",
              "      background-color: #3B4455;\n",
              "      fill: #D2E3FC;\n",
              "    }\n",
              "\n",
              "    [theme=dark] .colab-df-convert:hover {\n",
              "      background-color: #434B5C;\n",
              "      box-shadow: 0px 1px 3px 1px rgba(0, 0, 0, 0.15);\n",
              "      filter: drop-shadow(0px 1px 2px rgba(0, 0, 0, 0.3));\n",
              "      fill: #FFFFFF;\n",
              "    }\n",
              "  </style>\n",
              "\n",
              "      <script>\n",
              "        const buttonEl =\n",
              "          document.querySelector('#df-c3150751-3077-41a5-ba0b-1da669cae542 button.colab-df-convert');\n",
              "        buttonEl.style.display =\n",
              "          google.colab.kernel.accessAllowed ? 'block' : 'none';\n",
              "\n",
              "        async function convertToInteractive(key) {\n",
              "          const element = document.querySelector('#df-c3150751-3077-41a5-ba0b-1da669cae542');\n",
              "          const dataTable =\n",
              "            await google.colab.kernel.invokeFunction('convertToInteractive',\n",
              "                                                     [key], {});\n",
              "          if (!dataTable) return;\n",
              "\n",
              "          const docLinkHtml = 'Like what you see? Visit the ' +\n",
              "            '<a target=\"_blank\" href=https://colab.research.google.com/notebooks/data_table.ipynb>data table notebook</a>'\n",
              "            + ' to learn more about interactive tables.';\n",
              "          element.innerHTML = '';\n",
              "          dataTable['output_type'] = 'display_data';\n",
              "          await google.colab.output.renderOutput(dataTable, element);\n",
              "          const docLink = document.createElement('div');\n",
              "          docLink.innerHTML = docLinkHtml;\n",
              "          element.appendChild(docLink);\n",
              "        }\n",
              "      </script>\n",
              "    </div>\n",
              "  </div>\n",
              "  "
            ]
          },
          "metadata": {},
          "execution_count": 100
        }
      ]
    },
    {
      "cell_type": "code",
      "source": [
        "# PLOTTING\n",
        "fig = plt.figure(figsize=(10,10))\n",
        "ax = fig.add_subplot(111)\n",
        "cm = plt.cm.RdBu\n",
        "cm_bright = ListedColormap([\"#FF0000\", \"#0000FF\"])\n",
        "\n",
        "# Plot the training points\n",
        "vfunc = np.vectorize(lambda x : np.where(classifier.classes_ == x)[0])\n",
        "y_train_index = vfunc(y_train)\n",
        "y_train_index = y_train_index == 0\n",
        "\n",
        "ax.scatter(X_train[:, 0], X_train[:, 1], c=y_train_index, cmap=cm_bright)\n",
        "\n",
        "classifier.fit(X_train[:, 0:2], y_train_index)\n",
        "\n",
        "DecisionBoundaryDisplay.from_estimator(\n",
        "    classifier, X_train[:, 0:2], alpha=0.6, ax=ax, eps=2.0, grid_resolution=25, response_method=\"predict_proba\"\n",
        ")"
      ],
      "metadata": {
        "colab": {
          "base_uri": "https://localhost:8080/",
          "height": 609
        },
        "outputId": "cb5c6130-d6f8-406d-a571-0bb3c8cdabc3",
        "id": "MbVtYn5oYy5x"
      },
      "execution_count": null,
      "outputs": [
        {
          "output_type": "execute_result",
          "data": {
            "text/plain": [
              "<tabpfn.scripts.decision_boundary.DecisionBoundaryDisplay at 0x7ff531bd4ac0>"
            ]
          },
          "metadata": {},
          "execution_count": 101
        },
        {
          "output_type": "display_data",
          "data": {
            "text/plain": [
              "<Figure size 720x720 with 1 Axes>"
            ],
            "image/png": "[encoded data removed]"
          },
          "metadata": {
            "needs_background": "light"
          }
        }
      ]
    },
    {
      "cell_type": "markdown",
      "source": [
        "ROC Curve"
      ],
      "metadata": {
        "id": "DO3JNZBGYy5y"
      }
    },
    {
      "cell_type": "code",
      "source": [
        "fpr_surfboard, tpr_surfboard, _ = metrics.roc_curve(y_eval,  p_eval)\n",
        "\n"
      ],
      "metadata": {
        "id": "uV4KM7EOYy5y"
      },
      "execution_count": null,
      "outputs": []
    },
    {
      "cell_type": "markdown",
      "source": [
        "## Model - MFDFA + SURFBOARD"
      ],
      "metadata": {
        "id": "nD1Oao-qY0FH"
      }
    },
    {
      "cell_type": "code",
      "source": [
        "X_train = features_mfdfa_surfboard_train\n",
        "y_train = labels_train\n",
        "\n",
        "X_test = features_mfdfa_surfboard_test\n",
        "y_test = labels_test"
      ],
      "metadata": {
        "id": "22ZqeEDPY0FH"
      },
      "execution_count": null,
      "outputs": []
    },
    {
      "cell_type": "code",
      "source": [
        "# N_ensemble_configurations defines how many estimators are averaged, it is bounded by #features * #classes\n",
        "# more ensemble members are slower, but more accurate\n",
        "classifier = TabPFNClassifier(device='cuda', N_ensemble_configurations=4)"
      ],
      "metadata": {
        "colab": {
          "base_uri": "https://localhost:8080/"
        },
        "outputId": "96705148-9088-4f82-87dd-2ae29be3497f",
        "id": "z2EhenV1Y0FI"
      },
      "execution_count": null,
      "outputs": [
        {
          "output_type": "stream",
          "name": "stdout",
          "text": [
            "Loading model that can be used for inference only\n",
            "Using a Transformer with 25.82 M parameters\n"
          ]
        }
      ]
    },
    {
      "cell_type": "code",
      "source": [
        "start = time.time()\n",
        "classifier.fit(X_train, y_train)\n",
        "y_eval, p_eval = classifier.predict(X_test, return_winning_probability=True)\n",
        "print('Prediction time: ', time.time() - start, 'Accuracy', accuracy_score(y_test, y_eval))"
      ],
      "metadata": {
        "colab": {
          "base_uri": "https://localhost:8080/"
        },
        "outputId": "75713470-e3cf-4b5a-abeb-66e178d4729b",
        "id": "Y-F4YnYLY0FI"
      },
      "execution_count": null,
      "outputs": [
        {
          "output_type": "stream",
          "name": "stdout",
          "text": [
            "Prediction time:  0.5134532451629639 Accuracy 0.84\n"
          ]
        }
      ]
    },
    {
      "cell_type": "code",
      "source": [
        "# print(file, type(file))\n",
        "out_table = pd.DataFrame(X_test.copy().astype(str))\n",
        "out_table['prediction'] = [f\"{y_e} (p={p_e:.2f})\" for y_e, p_e in zip(y_eval, p_eval)]\n",
        "out_table"
      ],
      "metadata": {
        "colab": {
          "base_uri": "https://localhost:8080/"
        },
        "outputId": "97142932-8b34-4329-8d94-fcbf8a3f4c27",
        "id": "Ou64Xu5fY0FI"
      },
      "execution_count": null,
      "outputs": [
        {
          "output_type": "execute_result",
          "data": {
            "text/plain": [
              "                       0                   1                   2  \\\n",
              "0     0.0051339063182085  2.7738037206208315  14.464413420127338   \n",
              "1     0.0042865757355585   2.786765988541607  12.529315421786071   \n",
              "2     0.0031579277459704   2.556352956590609   14.31037386446546   \n",
              "3    -0.0238486321365433  1.4254890800702087   40.73414359955652   \n",
              "4    -0.0052588526981833   1.808646560829982   44.46806305491359   \n",
              "..                   ...                 ...                 ...   \n",
              "295  -0.0029182776900182  1.3111637899124913   48384.99862708844   \n",
              "296  -0.0158261110808473  1.0348272457362402   158740.6742416085   \n",
              "297   0.0028029016579502   2.433086662739628   37.87305476506516   \n",
              "298   0.0003623591024375  1.6353354253876269   426.6298879774566   \n",
              "299   0.0009506288151619   1.869241263506084    73.6557079965424   \n",
              "\n",
              "                      3                   4                    5  \\\n",
              "0    0.2399512015481245  0.4389066457275611    0.008326330680683   \n",
              "1    0.2280757652208558  0.3632952362760365   0.0086973233243499   \n",
              "2    0.2375687305027609  0.3588977022172109   0.0097200433468615   \n",
              "3    0.5014338228891176  1.0563394486235165   0.0022808094627887   \n",
              "4    0.6778194164535868   1.073029812928206   0.0023802789797951   \n",
              "..                  ...                 ...                  ...   \n",
              "295  0.2760008641473552   3880.280787451253  -0.0037171109020383   \n",
              "296  0.3059594480259727  2476.3215919937315   0.0106789514189235   \n",
              "297  0.0896654921860025  0.4385585033339665   0.0016964830908982   \n",
              "298  0.1186579161569794  13.395817767513162   0.0004099466245648   \n",
              "299  0.0749971035107018  1.2272901914820933    0.000884957342647   \n",
              "\n",
              "                      6                   7                   8  \\\n",
              "0     2.786644264752733  37.006651090859854  0.3588256119855666   \n",
              "1     2.842494586749147   33.15719032292519  0.3247367458901946   \n",
              "2     3.256970977240187  27.910551383721195  0.3214022254659098   \n",
              "3     2.183829607158228   37.55432589245017  0.6046065114841584   \n",
              "4      2.21252239656022   40.70503972277128   0.588844166304823   \n",
              "..                  ...                 ...                 ...   \n",
              "295   1.725846031413468   41.72048616340959  0.3149352974361368   \n",
              "296  2.6154918529332223  30.762971631202596  0.4293026083875133   \n",
              "297   2.468749088961022  47.364169114455855  0.0927837375101495   \n",
              "298    1.95650451943331    96.4850042965493  0.1261032274494163   \n",
              "299  2.4264881924626645  47.027702130068015  0.0780328045366178   \n",
              "\n",
              "                      9  ...         74         75         76           77  \\\n",
              "0    1.1736816512787034  ...  138.99689  63.262894  1.0161364    -12.90854   \n",
              "1    0.7249268580668224  ...   145.3029   63.81268  4.0167556   -13.247813   \n",
              "2    0.5666550565317904  ...  152.82129  61.418854  3.2919927   -11.224258   \n",
              "3    0.7545688881613525  ...  197.65031   68.04728  22.730877      1.68572   \n",
              "4    0.7603422249057855  ...  210.28244   62.47197  25.717434  -0.11636922   \n",
              "..                  ...  ...        ...        ...        ...          ...   \n",
              "295   0.988546825178337  ...  165.45892   23.40767   6.546531  -0.40073064   \n",
              "296  0.6987544736283141  ...  164.59648  25.796793   5.922304  -0.25786418   \n",
              "297  0.7323325995479325  ...   138.0894  43.482773  19.198608    -6.339644   \n",
              "298  1.8457962012307816  ...  135.70375  41.050583   18.42277    -7.425008   \n",
              "299  0.6772314534381715  ...  144.80267  58.092834  15.530421   -2.5734544   \n",
              "\n",
              "             78           79          80          81                  82  \\\n",
              "0    -28.236895   -1.9515796  -8.7532625  -5.9020214   25.69062954071532   \n",
              "1    -28.876928  -0.37581357  -13.794442   -9.085274   23.84213834844807   \n",
              "2    -40.076305   -12.155783  -22.643847   -7.754123  31.139092350242336   \n",
              "3    -12.850858   -25.414022   14.432078   -5.155231  16.921560641452782   \n",
              "4    -9.6103115    -31.44106   16.505722  -13.440844   9.182764743242757   \n",
              "..          ...          ...         ...         ...                 ...   \n",
              "295  -23.561184   -10.592421  -30.542982  -19.785353    23.3672211679808   \n",
              "296   -25.64801   -11.110993  -31.377438  -20.265713  24.069607268674417   \n",
              "297  -25.324394    -8.972882   -5.006924  -2.3719783   24.66133988433528   \n",
              "298  -30.389822   -15.904258  -7.9958553    -7.97734   23.17954273364443   \n",
              "299  -18.875525   -10.159262   -4.148975  -3.5894225  24.411325180428303   \n",
              "\n",
              "     prediction  \n",
              "0    1 (p=0.51)  \n",
              "1    1 (p=0.84)  \n",
              "2    1 (p=0.65)  \n",
              "3    0 (p=0.94)  \n",
              "4    0 (p=0.98)  \n",
              "..          ...  \n",
              "295  1 (p=0.96)  \n",
              "296  0 (p=0.64)  \n",
              "297  1 (p=0.97)  \n",
              "298  1 (p=0.94)  \n",
              "299  1 (p=0.99)  \n",
              "\n",
              "[300 rows x 84 columns]"
            ],
            "text/html": [
              "\n",
              "  <div id=\"df-ec4a690b-5cd9-4987-bb05-3da5b0eb9066\">\n",
              "    <div class=\"colab-df-container\">\n",
              "      <div>\n",
              "<style scoped>\n",
              "    .dataframe tbody tr th:only-of-type {\n",
              "        vertical-align: middle;\n",
              "    }\n",
              "\n",
              "    .dataframe tbody tr th {\n",
              "        vertical-align: top;\n",
              "    }\n",
              "\n",
              "    .dataframe thead th {\n",
              "        text-align: right;\n",
              "    }\n",
              "</style>\n",
              "<table border=\"1\" class=\"dataframe\">\n",
              "  <thead>\n",
              "    <tr style=\"text-align: right;\">\n",
              "      <th></th>\n",
              "      <th>0</th>\n",
              "      <th>1</th>\n",
              "      <th>2</th>\n",
              "      <th>3</th>\n",
              "      <th>4</th>\n",
              "      <th>5</th>\n",
              "      <th>6</th>\n",
              "      <th>7</th>\n",
              "      <th>8</th>\n",
              "      <th>9</th>\n",
              "      <th>...</th>\n",
              "      <th>74</th>\n",
              "      <th>75</th>\n",
              "      <th>76</th>\n",
              "      <th>77</th>\n",
              "      <th>78</th>\n",
              "      <th>79</th>\n",
              "      <th>80</th>\n",
              "      <th>81</th>\n",
              "      <th>82</th>\n",
              "      <th>prediction</th>\n",
              "    </tr>\n",
              "  </thead>\n",
              "  <tbody>\n",
              "    <tr>\n",
              "      <th>0</th>\n",
              "      <td>0.0051339063182085</td>\n",
              "      <td>2.7738037206208315</td>\n",
              "      <td>14.464413420127338</td>\n",
              "      <td>0.2399512015481245</td>\n",
              "      <td>0.4389066457275611</td>\n",
              "      <td>0.008326330680683</td>\n",
              "      <td>2.786644264752733</td>\n",
              "      <td>37.006651090859854</td>\n",
              "      <td>0.3588256119855666</td>\n",
              "      <td>1.1736816512787034</td>\n",
              "      <td>...</td>\n",
              "      <td>138.99689</td>\n",
              "      <td>63.262894</td>\n",
              "      <td>1.0161364</td>\n",
              "      <td>-12.90854</td>\n",
              "      <td>-28.236895</td>\n",
              "      <td>-1.9515796</td>\n",
              "      <td>-8.7532625</td>\n",
              "      <td>-5.9020214</td>\n",
              "      <td>25.69062954071532</td>\n",
              "      <td>1 (p=0.51)</td>\n",
              "    </tr>\n",
              "    <tr>\n",
              "      <th>1</th>\n",
              "      <td>0.0042865757355585</td>\n",
              "      <td>2.786765988541607</td>\n",
              "      <td>12.529315421786071</td>\n",
              "      <td>0.2280757652208558</td>\n",
              "      <td>0.3632952362760365</td>\n",
              "      <td>0.0086973233243499</td>\n",
              "      <td>2.842494586749147</td>\n",
              "      <td>33.15719032292519</td>\n",
              "      <td>0.3247367458901946</td>\n",
              "      <td>0.7249268580668224</td>\n",
              "      <td>...</td>\n",
              "      <td>145.3029</td>\n",
              "      <td>63.81268</td>\n",
              "      <td>4.0167556</td>\n",
              "      <td>-13.247813</td>\n",
              "      <td>-28.876928</td>\n",
              "      <td>-0.37581357</td>\n",
              "      <td>-13.794442</td>\n",
              "      <td>-9.085274</td>\n",
              "      <td>23.84213834844807</td>\n",
              "      <td>1 (p=0.84)</td>\n",
              "    </tr>\n",
              "    <tr>\n",
              "      <th>2</th>\n",
              "      <td>0.0031579277459704</td>\n",
              "      <td>2.556352956590609</td>\n",
              "      <td>14.31037386446546</td>\n",
              "      <td>0.2375687305027609</td>\n",
              "      <td>0.3588977022172109</td>\n",
              "      <td>0.0097200433468615</td>\n",
              "      <td>3.256970977240187</td>\n",
              "      <td>27.910551383721195</td>\n",
              "      <td>0.3214022254659098</td>\n",
              "      <td>0.5666550565317904</td>\n",
              "      <td>...</td>\n",
              "      <td>152.82129</td>\n",
              "      <td>61.418854</td>\n",
              "      <td>3.2919927</td>\n",
              "      <td>-11.224258</td>\n",
              "      <td>-40.076305</td>\n",
              "      <td>-12.155783</td>\n",
              "      <td>-22.643847</td>\n",
              "      <td>-7.754123</td>\n",
              "      <td>31.139092350242336</td>\n",
              "      <td>1 (p=0.65)</td>\n",
              "    </tr>\n",
              "    <tr>\n",
              "      <th>3</th>\n",
              "      <td>-0.0238486321365433</td>\n",
              "      <td>1.4254890800702087</td>\n",
              "      <td>40.73414359955652</td>\n",
              "      <td>0.5014338228891176</td>\n",
              "      <td>1.0563394486235165</td>\n",
              "      <td>0.0022808094627887</td>\n",
              "      <td>2.183829607158228</td>\n",
              "      <td>37.55432589245017</td>\n",
              "      <td>0.6046065114841584</td>\n",
              "      <td>0.7545688881613525</td>\n",
              "      <td>...</td>\n",
              "      <td>197.65031</td>\n",
              "      <td>68.04728</td>\n",
              "      <td>22.730877</td>\n",
              "      <td>1.68572</td>\n",
              "      <td>-12.850858</td>\n",
              "      <td>-25.414022</td>\n",
              "      <td>14.432078</td>\n",
              "      <td>-5.155231</td>\n",
              "      <td>16.921560641452782</td>\n",
              "      <td>0 (p=0.94)</td>\n",
              "    </tr>\n",
              "    <tr>\n",
              "      <th>4</th>\n",
              "      <td>-0.0052588526981833</td>\n",
              "      <td>1.808646560829982</td>\n",
              "      <td>44.46806305491359</td>\n",
              "      <td>0.6778194164535868</td>\n",
              "      <td>1.073029812928206</td>\n",
              "      <td>0.0023802789797951</td>\n",
              "      <td>2.21252239656022</td>\n",
              "      <td>40.70503972277128</td>\n",
              "      <td>0.588844166304823</td>\n",
              "      <td>0.7603422249057855</td>\n",
              "      <td>...</td>\n",
              "      <td>210.28244</td>\n",
              "      <td>62.47197</td>\n",
              "      <td>25.717434</td>\n",
              "      <td>-0.11636922</td>\n",
              "      <td>-9.6103115</td>\n",
              "      <td>-31.44106</td>\n",
              "      <td>16.505722</td>\n",
              "      <td>-13.440844</td>\n",
              "      <td>9.182764743242757</td>\n",
              "      <td>0 (p=0.98)</td>\n",
              "    </tr>\n",
              "    <tr>\n",
              "      <th>...</th>\n",
              "      <td>...</td>\n",
              "      <td>...</td>\n",
              "      <td>...</td>\n",
              "      <td>...</td>\n",
              "      <td>...</td>\n",
              "      <td>...</td>\n",
              "      <td>...</td>\n",
              "      <td>...</td>\n",
              "      <td>...</td>\n",
              "      <td>...</td>\n",
              "      <td>...</td>\n",
              "      <td>...</td>\n",
              "      <td>...</td>\n",
              "      <td>...</td>\n",
              "      <td>...</td>\n",
              "      <td>...</td>\n",
              "      <td>...</td>\n",
              "      <td>...</td>\n",
              "      <td>...</td>\n",
              "      <td>...</td>\n",
              "      <td>...</td>\n",
              "    </tr>\n",
              "    <tr>\n",
              "      <th>295</th>\n",
              "      <td>-0.0029182776900182</td>\n",
              "      <td>1.3111637899124913</td>\n",
              "      <td>48384.99862708844</td>\n",
              "      <td>0.2760008641473552</td>\n",
              "      <td>3880.280787451253</td>\n",
              "      <td>-0.0037171109020383</td>\n",
              "      <td>1.725846031413468</td>\n",
              "      <td>41.72048616340959</td>\n",
              "      <td>0.3149352974361368</td>\n",
              "      <td>0.988546825178337</td>\n",
              "      <td>...</td>\n",
              "      <td>165.45892</td>\n",
              "      <td>23.40767</td>\n",
              "      <td>6.546531</td>\n",
              "      <td>-0.40073064</td>\n",
              "      <td>-23.561184</td>\n",
              "      <td>-10.592421</td>\n",
              "      <td>-30.542982</td>\n",
              "      <td>-19.785353</td>\n",
              "      <td>23.3672211679808</td>\n",
              "      <td>1 (p=0.96)</td>\n",
              "    </tr>\n",
              "    <tr>\n",
              "      <th>296</th>\n",
              "      <td>-0.0158261110808473</td>\n",
              "      <td>1.0348272457362402</td>\n",
              "      <td>158740.6742416085</td>\n",
              "      <td>0.3059594480259727</td>\n",
              "      <td>2476.3215919937315</td>\n",
              "      <td>0.0106789514189235</td>\n",
              "      <td>2.6154918529332223</td>\n",
              "      <td>30.762971631202596</td>\n",
              "      <td>0.4293026083875133</td>\n",
              "      <td>0.6987544736283141</td>\n",
              "      <td>...</td>\n",
              "      <td>164.59648</td>\n",
              "      <td>25.796793</td>\n",
              "      <td>5.922304</td>\n",
              "      <td>-0.25786418</td>\n",
              "      <td>-25.64801</td>\n",
              "      <td>-11.110993</td>\n",
              "      <td>-31.377438</td>\n",
              "      <td>-20.265713</td>\n",
              "      <td>24.069607268674417</td>\n",
              "      <td>0 (p=0.64)</td>\n",
              "    </tr>\n",
              "    <tr>\n",
              "      <th>297</th>\n",
              "      <td>0.0028029016579502</td>\n",
              "      <td>2.433086662739628</td>\n",
              "      <td>37.87305476506516</td>\n",
              "      <td>0.0896654921860025</td>\n",
              "      <td>0.4385585033339665</td>\n",
              "      <td>0.0016964830908982</td>\n",
              "      <td>2.468749088961022</td>\n",
              "      <td>47.364169114455855</td>\n",
              "      <td>0.0927837375101495</td>\n",
              "      <td>0.7323325995479325</td>\n",
              "      <td>...</td>\n",
              "      <td>138.0894</td>\n",
              "      <td>43.482773</td>\n",
              "      <td>19.198608</td>\n",
              "      <td>-6.339644</td>\n",
              "      <td>-25.324394</td>\n",
              "      <td>-8.972882</td>\n",
              "      <td>-5.006924</td>\n",
              "      <td>-2.3719783</td>\n",
              "      <td>24.66133988433528</td>\n",
              "      <td>1 (p=0.97)</td>\n",
              "    </tr>\n",
              "    <tr>\n",
              "      <th>298</th>\n",
              "      <td>0.0003623591024375</td>\n",
              "      <td>1.6353354253876269</td>\n",
              "      <td>426.6298879774566</td>\n",
              "      <td>0.1186579161569794</td>\n",
              "      <td>13.395817767513162</td>\n",
              "      <td>0.0004099466245648</td>\n",
              "      <td>1.95650451943331</td>\n",
              "      <td>96.4850042965493</td>\n",
              "      <td>0.1261032274494163</td>\n",
              "      <td>1.8457962012307816</td>\n",
              "      <td>...</td>\n",
              "      <td>135.70375</td>\n",
              "      <td>41.050583</td>\n",
              "      <td>18.42277</td>\n",
              "      <td>-7.425008</td>\n",
              "      <td>-30.389822</td>\n",
              "      <td>-15.904258</td>\n",
              "      <td>-7.9958553</td>\n",
              "      <td>-7.97734</td>\n",
              "      <td>23.17954273364443</td>\n",
              "      <td>1 (p=0.94)</td>\n",
              "    </tr>\n",
              "    <tr>\n",
              "      <th>299</th>\n",
              "      <td>0.0009506288151619</td>\n",
              "      <td>1.869241263506084</td>\n",
              "      <td>73.6557079965424</td>\n",
              "      <td>0.0749971035107018</td>\n",
              "      <td>1.2272901914820933</td>\n",
              "      <td>0.000884957342647</td>\n",
              "      <td>2.4264881924626645</td>\n",
              "      <td>47.027702130068015</td>\n",
              "      <td>0.0780328045366178</td>\n",
              "      <td>0.6772314534381715</td>\n",
              "      <td>...</td>\n",
              "      <td>144.80267</td>\n",
              "      <td>58.092834</td>\n",
              "      <td>15.530421</td>\n",
              "      <td>-2.5734544</td>\n",
              "      <td>-18.875525</td>\n",
              "      <td>-10.159262</td>\n",
              "      <td>-4.148975</td>\n",
              "      <td>-3.5894225</td>\n",
              "      <td>24.411325180428303</td>\n",
              "      <td>1 (p=0.99)</td>\n",
              "    </tr>\n",
              "  </tbody>\n",
              "</table>\n",
              "<p>300 rows × 84 columns</p>\n",
              "</div>\n",
              "      <button class=\"colab-df-convert\" onclick=\"convertToInteractive('df-ec4a690b-5cd9-4987-bb05-3da5b0eb9066')\"\n",
              "              title=\"Convert this dataframe to an interactive table.\"\n",
              "              style=\"display:none;\">\n",
              "        \n",
              "  <svg xmlns=\"http://www.w3.org/2000/svg\" height=\"24px\"viewBox=\"0 0 24 24\"\n",
              "       width=\"24px\">\n",
              "    <path d=\"M0 0h24v24H0V0z\" fill=\"none\"/>\n",
              "    <path d=\"M18.56 5.44l.94 2.06.94-2.06 2.06-.94-2.06-.94-.94-2.06-.94 2.06-2.06.94zm-11 1L8.5 8.5l.94-2.06 2.06-.94-2.06-.94L8.5 2.5l-.94 2.06-2.06.94zm10 10l.94 2.06.94-2.06 2.06-.94-2.06-.94-.94-2.06-.94 2.06-2.06.94z\"/><path d=\"M17.41 7.96l-1.37-1.37c-.4-.4-.92-.59-1.43-.59-.52 0-1.04.2-1.43.59L10.3 9.45l-7.72 7.72c-.78.78-.78 2.05 0 2.83L4 21.41c.39.39.9.59 1.41.59.51 0 1.02-.2 1.41-.59l7.78-7.78 2.81-2.81c.8-.78.8-2.07 0-2.86zM5.41 20L4 18.59l7.72-7.72 1.47 1.35L5.41 20z\"/>\n",
              "  </svg>\n",
              "      </button>\n",
              "      \n",
              "  <style>\n",
              "    .colab-df-container {\n",
              "      display:flex;\n",
              "      flex-wrap:wrap;\n",
              "      gap: 12px;\n",
              "    }\n",
              "\n",
              "    .colab-df-convert {\n",
              "      background-color: #E8F0FE;\n",
              "      border: none;\n",
              "      border-radius: 50%;\n",
              "      cursor: pointer;\n",
              "      display: none;\n",
              "      fill: #1967D2;\n",
              "      height: 32px;\n",
              "      padding: 0 0 0 0;\n",
              "      width: 32px;\n",
              "    }\n",
              "\n",
              "    .colab-df-convert:hover {\n",
              "      background-color: #E2EBFA;\n",
              "      box-shadow: 0px 1px 2px rgba(60, 64, 67, 0.3), 0px 1px 3px 1px rgba(60, 64, 67, 0.15);\n",
              "      fill: #174EA6;\n",
              "    }\n",
              "\n",
              "    [theme=dark] .colab-df-convert {\n",
              "      background-color: #3B4455;\n",
              "      fill: #D2E3FC;\n",
              "    }\n",
              "\n",
              "    [theme=dark] .colab-df-convert:hover {\n",
              "      background-color: #434B5C;\n",
              "      box-shadow: 0px 1px 3px 1px rgba(0, 0, 0, 0.15);\n",
              "      filter: drop-shadow(0px 1px 2px rgba(0, 0, 0, 0.3));\n",
              "      fill: #FFFFFF;\n",
              "    }\n",
              "  </style>\n",
              "\n",
              "      <script>\n",
              "        const buttonEl =\n",
              "          document.querySelector('#df-ec4a690b-5cd9-4987-bb05-3da5b0eb9066 button.colab-df-convert');\n",
              "        buttonEl.style.display =\n",
              "          google.colab.kernel.accessAllowed ? 'block' : 'none';\n",
              "\n",
              "        async function convertToInteractive(key) {\n",
              "          const element = document.querySelector('#df-ec4a690b-5cd9-4987-bb05-3da5b0eb9066');\n",
              "          const dataTable =\n",
              "            await google.colab.kernel.invokeFunction('convertToInteractive',\n",
              "                                                     [key], {});\n",
              "          if (!dataTable) return;\n",
              "\n",
              "          const docLinkHtml = 'Like what you see? Visit the ' +\n",
              "            '<a target=\"_blank\" href=https://colab.research.google.com/notebooks/data_table.ipynb>data table notebook</a>'\n",
              "            + ' to learn more about interactive tables.';\n",
              "          element.innerHTML = '';\n",
              "          dataTable['output_type'] = 'display_data';\n",
              "          await google.colab.output.renderOutput(dataTable, element);\n",
              "          const docLink = document.createElement('div');\n",
              "          docLink.innerHTML = docLinkHtml;\n",
              "          element.appendChild(docLink);\n",
              "        }\n",
              "      </script>\n",
              "    </div>\n",
              "  </div>\n",
              "  "
            ]
          },
          "metadata": {},
          "execution_count": 106
        }
      ]
    },
    {
      "cell_type": "code",
      "source": [
        "# PLOTTING\n",
        "fig = plt.figure(figsize=(10,10))\n",
        "ax = fig.add_subplot(111)\n",
        "cm = plt.cm.RdBu\n",
        "cm_bright = ListedColormap([\"#FF0000\", \"#0000FF\"])\n",
        "\n",
        "# Plot the training points\n",
        "vfunc = np.vectorize(lambda x : np.where(classifier.classes_ == x)[0])\n",
        "y_train_index = vfunc(y_train)\n",
        "y_train_index = y_train_index == 0\n",
        "\n",
        "ax.scatter(X_train[:, 0], X_train[:, 1], c=y_train_index, cmap=cm_bright)\n",
        "\n",
        "classifier.fit(X_train[:, 0:2], y_train_index)\n",
        "\n",
        "DecisionBoundaryDisplay.from_estimator(\n",
        "    classifier, X_train[:, 0:2], alpha=0.6, ax=ax, eps=2.0, grid_resolution=25, response_method=\"predict_proba\"\n",
        ")"
      ],
      "metadata": {
        "colab": {
          "base_uri": "https://localhost:8080/"
        },
        "outputId": "4db150b7-d4b8-47a2-95d5-cc56ad477750",
        "id": "xW5eiF-5Y0FJ"
      },
      "execution_count": null,
      "outputs": [
        {
          "output_type": "execute_result",
          "data": {
            "text/plain": [
              "<tabpfn.scripts.decision_boundary.DecisionBoundaryDisplay at 0x7ff531bd98b0>"
            ]
          },
          "metadata": {},
          "execution_count": 107
        },
        {
          "output_type": "display_data",
          "data": {
            "text/plain": [
              "<Figure size 720x720 with 1 Axes>"
            ],
            "image/png": "[encoded data removed]"
          },
          "metadata": {
            "needs_background": "light"
          }
        }
      ]
    },
    {
      "cell_type": "markdown",
      "source": [
        "ROC Curve"
      ],
      "metadata": {
        "id": "suZ8bfjkY0FJ"
      }
    },
    {
      "cell_type": "code",
      "source": [
        "fpr_both, tpr_both, _ = metrics.roc_curve(y_eval,  p_eval)\n",
        "\n"
      ],
      "metadata": {
        "id": "lk2oJXQbY0FJ"
      },
      "execution_count": null,
      "outputs": []
    },
    {
      "cell_type": "markdown",
      "source": [
        "## ROC"
      ],
      "metadata": {
        "id": "5_Ot0uXifhVa"
      }
    },
    {
      "cell_type": "code",
      "source": [
        "plt.plot(fpr_mfdfa,tpr_mfdfa, color='blue',  label = 'MFDFA')\n",
        "plt.plot(fpr_surfboard,tpr_surfboard, color='red',  label = 'SURFBOARD')\n",
        "plt.plot(fpr_both,tpr_both, color='black',  label = 'MFDFA + SURFBOARD')\n",
        "plt.ylabel('True Positive Rate')\n",
        "plt.xlabel('False Positive Rate')\n",
        "plt.title(f'ROC Curve - ALL VOWELS - No condition - TabPFN')\n",
        "plt.savefig(f'/content/drive/MyDrive/Parkinson CSV files/ALL_Vowels_roc_ml_table_no_condition.png')\n",
        "plt.legend()\n",
        "plt.show()"
      ],
      "metadata": {
        "colab": {
          "base_uri": "https://localhost:8080/",
          "height": 295
        },
        "id": "8AT00Dqifi5m",
        "outputId": "08c7f494-deee-48b9-fdbd-6a5c0cc4dbde"
      },
      "execution_count": null,
      "outputs": [
        {
          "output_type": "display_data",
          "data": {
            "text/plain": [
              "<Figure size 432x288 with 1 Axes>"
            ],
            "image/png": "[encoded data removed]"
          },
          "metadata": {
            "needs_background": "light"
          }
        }
      ]
    }
  ]
}